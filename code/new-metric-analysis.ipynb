{
 "cells": [
  {
   "cell_type": "code",
   "execution_count": 1,
   "metadata": {
    "collapsed": true
   },
   "outputs": [],
   "source": [
    "import torch\n",
    "from torch.autograd import Variable\n",
    "import numpy as np\n",
    "import torch.nn as nn\n",
    "from torchvision import datasets,transforms\n",
    "import torch.nn.functional as F\n",
    "import sys\n",
    "sys.path.append(\"../code/\")\n",
    "from dataloader import APPLIANCE_ORDER, get_train_test, ON_THRESHOLD\n",
    "from sklearn.metrics import mean_absolute_error\n",
    "import os\n",
    "import pandas as pd\n",
    "import sys\n",
    "import numpy as np\n",
    "import matplotlib.pyplot as plt\n",
    "sys.path.append('../code/')\n",
    "%matplotlib inline\n",
    "import itertools\n",
    "from pathlib import Path"
   ]
  },
  {
   "cell_type": "code",
   "execution_count": 22,
   "metadata": {
    "collapsed": true
   },
   "outputs": [],
   "source": [
    "tensor = np.load(\"../2015-5appliances.numpy.npy\")\n",
    "dr = tensor[:, 3]"
   ]
  },
  {
   "cell_type": "code",
   "execution_count": 23,
   "metadata": {
    "collapsed": true
   },
   "outputs": [],
   "source": [
    "# calculate gt\n",
    "test_gt = {}\n",
    "valid_gt = {}\n",
    "for fold_num in range(5):\n",
    "    test_gt[fold_num] = {}\n",
    "    valid_gt[fold_num] = {}\n",
    "    train, test = get_train_test(1, 5, fold_num)\n",
    "    valid = train[int(0.8*len(train)):].copy()\n",
    "    for idx, appliance in enumerate(APPLIANCE_ORDER[1:-1]):\n",
    "        test_gt[fold_num][appliance] = test[:, idx+1]\n",
    "        valid_gt[fold_num][appliance] = valid[:, idx+1]"
   ]
  },
  {
   "cell_type": "code",
   "execution_count": 24,
   "metadata": {},
   "outputs": [
    {
     "name": "stdout",
     "output_type": "stream",
     "text": [
      "hvac 1108.31654375\n",
      "fridge 88.0752343178\n",
      "dr 1232.46729397\n",
      "dw 352.193042043\n",
      "mw 64.8640824305\n"
     ]
    }
   ],
   "source": [
    "threshold = {}\n",
    "for appliance in ['hvac', 'fridge', 'dr', 'dw', 'mw']:\n",
    "    sample_list = []\n",
    "    for fold_num in range(5):\n",
    "        sample_list = np.append(sample_list, [x for x in test_gt[fold_num][appliance].reshape(1, -1).tolist()[0] if x > ON_THRESHOLD[appliance]])\n",
    "    mean = np.mean(sample_list)\n",
    "    print(appliance, mean)\n",
    "    threshold[appliance] = 0.1*mean"
   ]
  },
  {
   "cell_type": "code",
   "execution_count": 26,
   "metadata": {
    "collapsed": true
   },
   "outputs": [],
   "source": [
    "def calculate_error(pred, gt, threshold):\n",
    "    error = {}\n",
    "    overall = {}\n",
    "    num_homes = {}\n",
    "    \n",
    "    # calculte number of homes in each fold\n",
    "    for fold_num in range(5):\n",
    "        num_homes[fold_num] = gt[fold_num]['hvac'].reshape(-1, 1, 112,24).shape[0]\n",
    "    homes = pd.Series(num_homes).sum()\n",
    "    \n",
    "    for appliance in ['hvac', 'fridge', 'dr', 'dw', 'mw']:\n",
    "        error[appliance] = {}\n",
    "        overall[appliance] = 0                                                                \n",
    "        for fold_num in range(5):\n",
    "            error[appliance][fold_num] = onoff_error(pred[fold_num][appliance].reshape(-1, 24), \n",
    "                                                     gt[fold_num][appliance].reshape(-1, 24), threshold[appliance])\n",
    "            overall[appliance] += error[appliance][fold_num]*num_homes[fold_num]\n",
    "        overall[appliance] /= homes\n",
    "    \n",
    "    \n",
    "    return error, overall"
   ]
  },
  {
   "cell_type": "code",
   "execution_count": 27,
   "metadata": {
    "collapsed": true
   },
   "outputs": [],
   "source": [
    "def onoff_error(pred, gt, threshold):\n",
    "    abs_error = np.abs(pred-gt)\n",
    "    error = [x for x in abs_error.reshape(1, -1).tolist()[0] if x >= threshold]\n",
    "    \n",
    "    return np.mean(error)"
   ]
  },
  {
   "cell_type": "markdown",
   "metadata": {},
   "source": [
    "# load valid prediction"
   ]
  },
  {
   "cell_type": "code",
   "execution_count": 8,
   "metadata": {},
   "outputs": [],
   "source": [
    "dataset = 1\n",
    "stf_param = np.load(\"../code/baseline/result/stf-new-param-{}.npy\".format(dataset)).item()\n",
    "cnn_tree_param = np.load(\"../code/baseline/result/cnn-tree-new-param-{}.npy\".format(dataset)).item()\n",
    "cnn_individual_param = np.load(\"../code/baseline/result/cnn-individual-new-param-{}.npy\".format(dataset)).item()"
   ]
  },
  {
   "cell_type": "code",
   "execution_count": 16,
   "metadata": {},
   "outputs": [],
   "source": [
    "# for stf\n",
    "stf_pred = {}\n",
    "for fold_num in range(5):\n",
    "    stf_pred[fold_num] = {}\n",
    "    num_latent = stf_param[fold_num]['num_latent']\n",
    "    lr = float(stf_param[fold_num]['lr'])\n",
    "    iters = stf_param[fold_num]['iters']\n",
    "    filename = \"../code/baseline/stf/{}/test/stf-test-pred-{}-{}-{}-{}-{}.npy\".format(dataset, dataset, fold_num, num_latent, lr, iters)\n",
    "    \n",
    "    result = np.load(filename)\n",
    "    for idx, appliance in enumerate(APPLIANCE_ORDER[1:-1]): \n",
    "        stf_pred[fold_num][appliance] = result[:, idx]"
   ]
  },
  {
   "cell_type": "code",
   "execution_count": 14,
   "metadata": {
    "collapsed": true
   },
   "outputs": [],
   "source": [
    "# get prediction for cnn individual\n",
    "cnn_individual_pred = {}\n",
    "for fold_num in range(5):\n",
    "    cnn_individual_pred[fold_num] = {}\n",
    "    for appliance in ['hvac', 'fridge', 'dr', 'dw', 'mw']:\n",
    "        \n",
    "        lr = cnn_individual_param[fold_num][appliance]['lr']\n",
    "        iters = cnn_individual_param[fold_num][appliance]['iters']\n",
    "\n",
    "        directory = \"../code/baseline/cnn-tree/{}/{}/{}/200000/0.0/\".format(dataset, fold_num,lr)\n",
    "        filename = \"test-pred-[\\'{}\\'].npy\".format(appliance)\n",
    "\n",
    "        full_path = directory + filename\n",
    "        cnn_individual_pred[fold_num][appliance] = np.asarray(np.load(full_path).item()[iters]).reshape(-1, 1, 112, 24)"
   ]
  },
  {
   "cell_type": "code",
   "execution_count": 15,
   "metadata": {
    "collapsed": true
   },
   "outputs": [],
   "source": [
    "# get prediction for cnn tree\n",
    "cnn_tree_pred = {}\n",
    "for fold_num in range(5):\n",
    "    cnn_tree_pred[fold_num] = {}\n",
    "        \n",
    "    lr = cnn_tree_param[fold_num]['lr']\n",
    "    iters = cnn_tree_param[fold_num]['iters']\n",
    "    order = cnn_tree_param[fold_num]['order']\n",
    "\n",
    "    o = \"\\', \\'\".join(str(x) for x in order)\n",
    "    directory = \"../code/baseline/cnn-tree/{}/{}/{}/20000/0.0/\".format(dataset, fold_num,lr)\n",
    "    filename = \"test-pred-[\\'{}\\'].npy\".format(o)\n",
    "\n",
    "    full_path = directory + filename\n",
    "    cnn_pred = np.asarray(np.load(full_path).item()[iters])\n",
    "    \n",
    "    for idx, appliance in enumerate(order):\n",
    "        cnn_tree_pred[fold_num][appliance] = cnn_pred[idx].reshape(-1, 1, 112,24)\n",
    "    "
   ]
  },
  {
   "cell_type": "code",
   "execution_count": 58,
   "metadata": {},
   "outputs": [],
   "source": [
    "appliance = 'dr'\n",
    "fold_num = 1"
   ]
  },
  {
   "cell_type": "code",
   "execution_count": 59,
   "metadata": {},
   "outputs": [
    {
     "data": {
      "text/plain": [
       "428.16669003943485"
      ]
     },
     "execution_count": 59,
     "metadata": {},
     "output_type": "execute_result"
    }
   ],
   "source": [
    "onoff_error(stf_pred[fold_num][appliance].reshape(-1 ,24), test_gt[fold_num][appliance].reshape(-1 ,24), threshold[appliance])"
   ]
  },
  {
   "cell_type": "code",
   "execution_count": 60,
   "metadata": {},
   "outputs": [
    {
     "data": {
      "text/plain": [
       "619.15726270053256"
      ]
     },
     "execution_count": 60,
     "metadata": {},
     "output_type": "execute_result"
    }
   ],
   "source": [
    "onoff_error(cnn_individual_pred[fold_num][appliance].reshape(-1 ,24), test_gt[fold_num][appliance].reshape(-1 ,24), threshold[appliance])"
   ]
  },
  {
   "cell_type": "code",
   "execution_count": 61,
   "metadata": {},
   "outputs": [
    {
     "data": {
      "text/plain": [
       "697.10504302601657"
      ]
     },
     "execution_count": 61,
     "metadata": {},
     "output_type": "execute_result"
    }
   ],
   "source": [
    "onoff_error(cnn_tree_pred[fold_num][appliance].reshape(-1 ,24), test_gt[fold_num][appliance].reshape(-1 ,24), threshold[appliance])"
   ]
  },
  {
   "cell_type": "code",
   "execution_count": 67,
   "metadata": {},
   "outputs": [
    {
     "data": {
      "text/plain": [
       "(14, 1, 112, 24)"
      ]
     },
     "execution_count": 67,
     "metadata": {},
     "output_type": "execute_result"
    }
   ],
   "source": [
    "cnn_individual_pred[fold_num][appliance][0][0]"
   ]
  },
  {
   "cell_type": "code",
   "execution_count": 82,
   "metadata": {},
   "outputs": [],
   "source": [
    "stf_abs_error = np.abs(stf_pred[fold_num][appliance].reshape(-1 ,24) - test_gt[fold_num][appliance].reshape(-1 ,24))\n",
    "stf_error = [x for x in stf_abs_error.reshape(1, -1).tolist()[0] if x >= threshold[appliance]]"
   ]
  },
  {
   "cell_type": "code",
   "execution_count": 90,
   "metadata": {
    "collapsed": true
   },
   "outputs": [],
   "source": [
    "cnn_ind_abs_error = np.abs(cnn_individual_pred[fold_num][appliance].reshape(-1 ,24) - test_gt[fold_num][appliance].reshape(-1 ,24))\n",
    "cnn_ind_error = [x for x in cnn_ind_abs_error.reshape(1, -1).tolist()[0] if x >= threshold[appliance]]"
   ]
  },
  {
   "cell_type": "code",
   "execution_count": 83,
   "metadata": {
    "collapsed": true
   },
   "outputs": [],
   "source": [
    "cnn_tree_abs_error = np.abs(cnn_tree_pred[fold_num][appliance].reshape(-1 ,24) - test_gt[fold_num][appliance].reshape(-1 ,24))\n",
    "cnn_tree_error = [x for x in cnn_tree_abs_error.reshape(1, -1).tolist()[0] if x >= threshold[appliance]]"
   ]
  },
  {
   "cell_type": "code",
   "execution_count": 95,
   "metadata": {},
   "outputs": [
    {
     "data": {
      "text/plain": [
       "{'dr': 123.24672939681733,\n",
       " 'dw': 35.219304204253916,\n",
       " 'fridge': 8.8075234317837303,\n",
       " 'hvac': 110.8316543749247,\n",
       " 'mw': 6.4864082430525887}"
      ]
     },
     "execution_count": 95,
     "metadata": {},
     "output_type": "execute_result"
    }
   ],
   "source": [
    "threshold"
   ]
  },
  {
   "cell_type": "code",
   "execution_count": 91,
   "metadata": {},
   "outputs": [
    {
     "name": "stdout",
     "output_type": "stream",
     "text": [
      "7544 428.166690039\n",
      "3143 619.157262701\n"
     ]
    }
   ],
   "source": [
    "print(len(stf_error), np.mean(stf_error))\n",
    "print(len(cnn_ind_error), np.mean(cnn_ind_error))"
   ]
  },
  {
   "cell_type": "code",
   "execution_count": 97,
   "metadata": {},
   "outputs": [
    {
     "data": {
      "text/plain": [
       "(array([  6.11700000e+03,   4.11000000e+02,   3.33000000e+02,\n",
       "          2.63000000e+02,   2.13000000e+02,   9.40000000e+01,\n",
       "          5.70000000e+01,   3.40000000e+01,   1.90000000e+01,\n",
       "          3.00000000e+00]),\n",
       " array([  123.25065252,   526.3721295 ,   929.49360648,  1332.61508346,\n",
       "         1735.73656044,  2138.85803742,  2541.9795144 ,  2945.10099138,\n",
       "         3348.22246836,  3751.34394534,  4154.46542232]),\n",
       " <a list of 10 Patch objects>)"
      ]
     },
     "execution_count": 97,
     "metadata": {},
     "output_type": "execute_result"
    },
    {
     "data": {
      "image/png": "[encoded data removed]",
      "text/plain": [
       "<matplotlib.figure.Figure at 0x7f8cf80834a8>"
      ]
     },
     "metadata": {},
     "output_type": "display_data"
    }
   ],
   "source": [
    "plt.hist(stf_error)"
   ]
  },
  {
   "cell_type": "code",
   "execution_count": 96,
   "metadata": {},
   "outputs": [
    {
     "data": {
      "text/plain": [
       "(array([  1.45100000e+03,   8.25000000e+02,   4.58000000e+02,\n",
       "          2.29000000e+02,   1.07000000e+02,   4.30000000e+01,\n",
       "          2.00000000e+01,   6.00000000e+00,   3.00000000e+00,\n",
       "          1.00000000e+00]),\n",
       " array([  123.40607452,   456.66597977,   789.92588501,  1123.18579025,\n",
       "         1456.4456955 ,  1789.70560074,  2122.96550598,  2456.22541122,\n",
       "         2789.48531647,  3122.74522171,  3456.00512695]),\n",
       " <a list of 10 Patch objects>)"
      ]
     },
     "execution_count": 96,
     "metadata": {},
     "output_type": "execute_result"
    },
    {
     "data": {
      "image/png": "[encoded data removed]",
      "text/plain": [
       "<matplotlib.figure.Figure at 0x7f8cf86004a8>"
      ]
     },
     "metadata": {},
     "output_type": "display_data"
    }
   ],
   "source": [
    "plt.hist(cnn_ind_error)"
   ]
  },
  {
   "cell_type": "code",
   "execution_count": 123,
   "metadata": {},
   "outputs": [
    {
     "data": {
      "text/plain": [
       "<matplotlib.legend.Legend at 0x7f8ce41f7f98>"
      ]
     },
     "execution_count": 123,
     "metadata": {},
     "output_type": "execute_result"
    },
    {
     "data": {
      "image/png": "[encoded data removed]",
      "text/plain": [
       "<matplotlib.figure.Figure at 0x7f8ce429ba20>"
      ]
     },
     "metadata": {},
     "output_type": "display_data"
    }
   ],
   "source": [
    "fig, axes = plt.subplots(ncols=3, nrows = 1, figsize=(20, 5))\n",
    "ax = axes.flatten()\n",
    "\n",
    "for i, k in enumerate([5]):\n",
    "\n",
    "    for j, hid in enumerate([3, 4, 8]):\n",
    "        pd.Series(stf_pred[fold_num][appliance][k][hid]).plot(ax=ax[i*3+j])\n",
    "        pd.Series(test_gt[fold_num][appliance][k][hid]).plot(ax=ax[i*3+j])\n",
    "#         pd.Series(cnn_individual_pred[fold_num][appliance][i][0][hid]).plot(ax=ax[i*3+j])\n",
    "        pd.Series(cnn_tree_pred[fold_num][appliance][k][0][hid]).plot(ax=ax[i*3+j])\n",
    "        ax[i*3+j].set_xlabel(\"hours\")\n",
    "        ax[i*3+j].set_ylabel(\"energy consumption\")\n",
    "ax[0].set_title(\"day 3 dryer\")\n",
    "ax[1].set_title(\"day 4 dryer\")\n",
    "ax[2].set_title(\"day 5 dryer\")\n",
    "ax[i*3+j].legend(['stf', 'gt', 'cnn tree'])"
   ]
  }
 ],
 "metadata": {
  "kernelspec": {
   "display_name": "Python 3",
   "language": "python",
   "name": "python3"
  },
  "language_info": {
   "codemirror_mode": {
    "name": "ipython",
    "version": 3
   },
   "file_extension": ".py",
   "mimetype": "text/x-python",
   "name": "python",
   "nbconvert_exporter": "python",
   "pygments_lexer": "ipython3",
   "version": "3.6.3"
  }
 },
 "nbformat": 4,
 "nbformat_minor": 2
}
