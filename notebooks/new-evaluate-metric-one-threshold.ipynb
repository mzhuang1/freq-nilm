{
 "cells": [
  {
   "cell_type": "code",
   "execution_count": 1,
   "metadata": {
    "collapsed": true
   },
   "outputs": [],
   "source": [
    "import torch\n",
    "from torch.autograd import Variable\n",
    "import numpy as np\n",
    "import torch.nn as nn\n",
    "from torchvision import datasets,transforms\n",
    "import torch.nn.functional as F\n",
    "import sys\n",
    "sys.path.append(\"../code/\")\n",
    "from dataloader import APPLIANCE_ORDER, get_train_test, ON_THRESHOLD\n",
    "from sklearn.metrics import mean_absolute_error\n",
    "import os\n",
    "import pandas as pd\n",
    "import sys\n",
    "import numpy as np\n",
    "import matplotlib.pyplot as plt\n",
    "sys.path.append('../code/')\n",
    "%matplotlib inline\n",
    "import itertools\n",
    "from pathlib import Path"
   ]
  },
  {
   "cell_type": "code",
   "execution_count": 2,
   "metadata": {
    "collapsed": true
   },
   "outputs": [],
   "source": [
    "def onoff_error(pred, gt, threshold):\n",
    "    abs_error = np.abs(pred-gt)\n",
    "    error = [x for x in abs_error.reshape(1, -1).tolist()[0] if x >= threshold]\n",
    "    \n",
    "    return np.mean(error)"
   ]
  },
  {
   "cell_type": "code",
   "execution_count": 3,
   "metadata": {
    "collapsed": true
   },
   "outputs": [],
   "source": [
    "tensor = np.load(\"../2015-5appliances.numpy.npy\")\n",
    "dr = tensor[:, 3]"
   ]
  },
  {
   "cell_type": "code",
   "execution_count": 4,
   "metadata": {},
   "outputs": [],
   "source": [
    "# calculate gt\n",
    "test_gt = {}\n",
    "valid_gt = {}\n",
    "for fold_num in range(5):\n",
    "    test_gt[fold_num] = {}\n",
    "    valid_gt[fold_num] = {}\n",
    "    train, test = get_train_test(1, 5, fold_num)\n",
    "    valid = train[int(0.8*len(train)):].copy()\n",
    "    for idx, appliance in enumerate(APPLIANCE_ORDER[1:-1]):\n",
    "        test_gt[fold_num][appliance] = test[:, idx+1]\n",
    "        valid_gt[fold_num][appliance] = valid[:, idx+1]"
   ]
  },
  {
   "cell_type": "code",
   "execution_count": 5,
   "metadata": {},
   "outputs": [
    {
     "name": "stdout",
     "output_type": "stream",
     "text": [
      "hvac 1278.91522439\n",
      "fridge 90.4680514664\n",
      "dr 1411.75680957\n",
      "dw 390.600781657\n",
      "mw 86.8746588166\n"
     ]
    }
   ],
   "source": [
    "threshold = {}\n",
    "for appliance in ['hvac', 'fridge', 'dr', 'dw', 'mw']:\n",
    "    sample_list = []\n",
    "    for fold_num in range(5):\n",
    "        sample_list = np.append(sample_list, [x for x in test_gt[fold_num][appliance].reshape(1, -1).tolist()[0] if x > ON_THRESHOLD[appliance]])\n",
    "    mean = np.mean(sample_list)\n",
    "    print(appliance, mean)\n",
    "    threshold[appliance] = 0.1*mean"
   ]
  },
  {
   "cell_type": "markdown",
   "metadata": {},
   "source": [
    "### Individual RNN and TreeRNN\n",
    "#### Just use the best parameter found before as RNN always predict dryer as zero"
   ]
  },
  {
   "cell_type": "code",
   "execution_count": 6,
   "metadata": {
    "collapsed": true
   },
   "outputs": [],
   "source": [
    "def calculate_error(pred, gt, threshold):\n",
    "    error = {}\n",
    "    overall = {}\n",
    "    num_homes = {}\n",
    "    \n",
    "    # calculte number of homes in each fold\n",
    "    for fold_num in range(5):\n",
    "        num_homes[fold_num] = gt[fold_num]['hvac'].reshape(-1, 1, 112,24).shape[0]\n",
    "    homes = pd.Series(num_homes).sum()\n",
    "    \n",
    "    # for Constantly On appliances: hvac and fridge\n",
    "#     for appliance in ['hvac', 'fridge']:\n",
    "#         overall[appliance] = 0\n",
    "#         error[appliance] = {}\n",
    "#         for fold_num in range(5):\n",
    "#             error[appliance][fold_num] = mean_absolute_error(pred[fold_num][appliance].reshape(-1, 24), \n",
    "#                                                              gt[fold_num][appliance].reshape(-1, 24))\n",
    "#             overall[appliance] += error[appliance][fold_num]*num_homes[fold_num]\n",
    "#         overall[appliance] /= homes\n",
    "        \n",
    "    # for ON/OFF appliances: dryer, dishwasher and microwave\n",
    "    for appliance in ['hvac', 'fridge', 'dr', 'dw', 'mw']:\n",
    "        error[appliance] = {}\n",
    "        overall[appliance] = 0                                                                \n",
    "        for fold_num in range(5):\n",
    "            error[appliance][fold_num] = onoff_error(pred[fold_num][appliance].reshape(-1, 24), \n",
    "                                                     gt[fold_num][appliance].reshape(-1, 24), threshold[appliance])\n",
    "            overall[appliance] += error[appliance][fold_num]*num_homes[fold_num]\n",
    "        overall[appliance] /= homes\n",
    "    \n",
    "    \n",
    "    return error, overall"
   ]
  },
  {
   "cell_type": "code",
   "execution_count": 8,
   "metadata": {
    "collapsed": true
   },
   "outputs": [],
   "source": [
    "dataset = 1"
   ]
  },
  {
   "cell_type": "code",
   "execution_count": 9,
   "metadata": {
    "collapsed": true
   },
   "outputs": [],
   "source": [
    "best_rnn_individual = np.load(\"../code/baseline/result/rnn-individual-param-{}.npy\".format(dataset)).item()\n",
    "best_rnn_tree = np.load(\"../code/baseline/result/rnn-tree-param-{}.npy\".format(dataset)).item()"
   ]
  },
  {
   "cell_type": "code",
   "execution_count": 10,
   "metadata": {
    "collapsed": true
   },
   "outputs": [],
   "source": [
    "# get prediction for rnn individual\n",
    "rnn_individual_pred = {}\n",
    "rnn_individual_error = {}\n",
    "for fold_num in range(5):\n",
    "    rnn_individual_pred[fold_num] = {}\n",
    "    rnn_individual_error[fold_num] = {}\n",
    "    for appliance in ['hvac', 'fridge', 'dr', 'dw', 'mw']:\n",
    "        cell_type = best_rnn_individual[appliance][fold_num]['cell_type']\n",
    "        hidden_size = best_rnn_individual[appliance][fold_num]['hidden_size']\n",
    "        num_layers = best_rnn_individual[appliance][fold_num]['num_layers']\n",
    "        lr = best_rnn_individual[appliance][fold_num]['lr']\n",
    "        iters = best_rnn_individual[appliance][fold_num]['iters']\n",
    "        bidirectional = best_rnn_individual[appliance][fold_num]['bidirectional']\n",
    "\n",
    "        directory = \"../code/baseline/rnn-tree/{}/{}/{}/{}/{}/{}/{}/3000/0.0/\".format(dataset, fold_num, cell_type,\n",
    "                                                                                                    hidden_size,\n",
    "                                                                                                    num_layers,\n",
    "                                                                                                    bidirectional,\n",
    "                                                                                                    lr)\n",
    "        filename = \"test-pred-{}-{}-{}-{}-{}-{}-{}-3000-0.0-[\\'{}\\'].npy\".format(fold_num, dataset, cell_type, hidden_size, num_layers,\n",
    "                                                                                 bidirectional, lr, appliance)\n",
    "\n",
    "        full_path = directory + filename\n",
    "        rnn_individual_pred[fold_num][appliance] = np.asarray(np.load(full_path).item()[iters]).reshape(-1, 1, 112, 24)"
   ]
  },
  {
   "cell_type": "code",
   "execution_count": 11,
   "metadata": {
    "collapsed": true
   },
   "outputs": [],
   "source": [
    "# get prediction for rnn tree\n",
    "rnn_tree_pred = {}\n",
    "rnn_tree_error = {}\n",
    "for fold_num in range(5):\n",
    "    # get prediction for rnn tree\n",
    "    rnn_tree_pred[fold_num] = {}\n",
    "#     rnn_tree_error[fold_num] = {}\n",
    "    cell_type = best_rnn_tree[fold_num]['cell_type']\n",
    "    hidden_size = best_rnn_tree[fold_num]['hidden_size']\n",
    "    num_layers = best_rnn_tree[fold_num]['num_layers']\n",
    "    lr = best_rnn_tree[fold_num]['lr']\n",
    "    iters = best_rnn_tree[fold_num]['iters']\n",
    "    bidirectional = best_rnn_tree[fold_num]['bidirectional']\n",
    "    order = best_rnn_tree[fold_num]['order']\n",
    "    directory = \"../code/baseline/rnn-tree/{}/{}/{}/{}/{}/{}/{}/3000/0.0/\".format(dataset, fold_num, cell_type,\n",
    "                                                                                                hidden_size,\n",
    "                                                                                                num_layers,\n",
    "                                                                                                bidirectional,\n",
    "                                                                                                float(lr))\n",
    "    filename = \"test-pred-{}-{}-{}-{}-{}-{}-{}-3000-0.0-[\\'{}\\'].npy\".format(fold_num, dataset, cell_type, hidden_size, num_layers,\n",
    "                                                                             bidirectional, float(lr), str(order)[2:-2])\n",
    "\n",
    "    full_path = directory + filename\n",
    "    rnn_pred = np.asarray(np.load(full_path).item()[iters])\n",
    "    \n",
    "\n",
    "    for idx, appliance in enumerate(order):\n",
    "        rnn_tree_pred[fold_num][appliance] = rnn_pred[idx].reshape(-1, 1, 112,24)"
   ]
  },
  {
   "cell_type": "code",
   "execution_count": 12,
   "metadata": {},
   "outputs": [
    {
     "data": {
      "text/html": [
       "<div>\n",
       "<style scoped>\n",
       "    .dataframe tbody tr th:only-of-type {\n",
       "        vertical-align: middle;\n",
       "    }\n",
       "\n",
       "    .dataframe tbody tr th {\n",
       "        vertical-align: top;\n",
       "    }\n",
       "\n",
       "    .dataframe thead th {\n",
       "        text-align: right;\n",
       "    }\n",
       "</style>\n",
       "<table border=\"1\" class=\"dataframe\">\n",
       "  <thead>\n",
       "    <tr style=\"text-align: right;\">\n",
       "      <th></th>\n",
       "      <th>dr</th>\n",
       "      <th>dw</th>\n",
       "      <th>fridge</th>\n",
       "      <th>hvac</th>\n",
       "      <th>mw</th>\n",
       "    </tr>\n",
       "  </thead>\n",
       "  <tbody>\n",
       "    <tr>\n",
       "      <th>0</th>\n",
       "      <td>1196.418182</td>\n",
       "      <td>347.715720</td>\n",
       "      <td>35.165870</td>\n",
       "      <td>444.993245</td>\n",
       "      <td>59.136712</td>\n",
       "    </tr>\n",
       "    <tr>\n",
       "      <th>1</th>\n",
       "      <td>1198.236220</td>\n",
       "      <td>358.746039</td>\n",
       "      <td>43.786497</td>\n",
       "      <td>458.810986</td>\n",
       "      <td>55.312460</td>\n",
       "    </tr>\n",
       "    <tr>\n",
       "      <th>2</th>\n",
       "      <td>1190.082446</td>\n",
       "      <td>367.253368</td>\n",
       "      <td>36.294608</td>\n",
       "      <td>436.912402</td>\n",
       "      <td>47.882055</td>\n",
       "    </tr>\n",
       "    <tr>\n",
       "      <th>3</th>\n",
       "      <td>1313.365240</td>\n",
       "      <td>376.183166</td>\n",
       "      <td>41.699081</td>\n",
       "      <td>550.634354</td>\n",
       "      <td>47.906568</td>\n",
       "    </tr>\n",
       "    <tr>\n",
       "      <th>4</th>\n",
       "      <td>1243.650715</td>\n",
       "      <td>304.606769</td>\n",
       "      <td>37.210239</td>\n",
       "      <td>456.657575</td>\n",
       "      <td>70.219807</td>\n",
       "    </tr>\n",
       "  </tbody>\n",
       "</table>\n",
       "</div>"
      ],
      "text/plain": [
       "            dr          dw     fridge        hvac         mw\n",
       "0  1196.418182  347.715720  35.165870  444.993245  59.136712\n",
       "1  1198.236220  358.746039  43.786497  458.810986  55.312460\n",
       "2  1190.082446  367.253368  36.294608  436.912402  47.882055\n",
       "3  1313.365240  376.183166  41.699081  550.634354  47.906568\n",
       "4  1243.650715  304.606769  37.210239  456.657575  70.219807"
      ]
     },
     "execution_count": 12,
     "metadata": {},
     "output_type": "execute_result"
    }
   ],
   "source": [
    "pd.DataFrame(calculate_error(rnn_individual_pred, test_gt, threshold)[0])"
   ]
  },
  {
   "cell_type": "code",
   "execution_count": 13,
   "metadata": {},
   "outputs": [
    {
     "data": {
      "text/html": [
       "<div>\n",
       "<style scoped>\n",
       "    .dataframe tbody tr th:only-of-type {\n",
       "        vertical-align: middle;\n",
       "    }\n",
       "\n",
       "    .dataframe tbody tr th {\n",
       "        vertical-align: top;\n",
       "    }\n",
       "\n",
       "    .dataframe thead th {\n",
       "        text-align: right;\n",
       "    }\n",
       "</style>\n",
       "<table border=\"1\" class=\"dataframe\">\n",
       "  <thead>\n",
       "    <tr style=\"text-align: right;\">\n",
       "      <th></th>\n",
       "      <th>dr</th>\n",
       "      <th>dw</th>\n",
       "      <th>fridge</th>\n",
       "      <th>hvac</th>\n",
       "      <th>mw</th>\n",
       "    </tr>\n",
       "  </thead>\n",
       "  <tbody>\n",
       "    <tr>\n",
       "      <th>0</th>\n",
       "      <td>1144.219110</td>\n",
       "      <td>347.798758</td>\n",
       "      <td>39.609324</td>\n",
       "      <td>740.633321</td>\n",
       "      <td>53.660410</td>\n",
       "    </tr>\n",
       "    <tr>\n",
       "      <th>1</th>\n",
       "      <td>922.163193</td>\n",
       "      <td>358.737232</td>\n",
       "      <td>41.782622</td>\n",
       "      <td>591.087308</td>\n",
       "      <td>54.930873</td>\n",
       "    </tr>\n",
       "    <tr>\n",
       "      <th>2</th>\n",
       "      <td>1002.994793</td>\n",
       "      <td>367.253368</td>\n",
       "      <td>33.701705</td>\n",
       "      <td>683.364317</td>\n",
       "      <td>47.329837</td>\n",
       "    </tr>\n",
       "    <tr>\n",
       "      <th>3</th>\n",
       "      <td>984.426171</td>\n",
       "      <td>376.277118</td>\n",
       "      <td>40.517034</td>\n",
       "      <td>699.130496</td>\n",
       "      <td>47.518651</td>\n",
       "    </tr>\n",
       "    <tr>\n",
       "      <th>4</th>\n",
       "      <td>910.129156</td>\n",
       "      <td>304.606769</td>\n",
       "      <td>37.712402</td>\n",
       "      <td>643.479720</td>\n",
       "      <td>71.175344</td>\n",
       "    </tr>\n",
       "  </tbody>\n",
       "</table>\n",
       "</div>"
      ],
      "text/plain": [
       "            dr          dw     fridge        hvac         mw\n",
       "0  1144.219110  347.798758  39.609324  740.633321  53.660410\n",
       "1   922.163193  358.737232  41.782622  591.087308  54.930873\n",
       "2  1002.994793  367.253368  33.701705  683.364317  47.329837\n",
       "3   984.426171  376.277118  40.517034  699.130496  47.518651\n",
       "4   910.129156  304.606769  37.712402  643.479720  71.175344"
      ]
     },
     "execution_count": 13,
     "metadata": {},
     "output_type": "execute_result"
    }
   ],
   "source": [
    "pd.DataFrame(calculate_error(rnn_tree_pred, test_gt, threshold)[0])"
   ]
  },
  {
   "cell_type": "code",
   "execution_count": 14,
   "metadata": {},
   "outputs": [
    {
     "data": {
      "text/plain": [
       "dr        994.124979\n",
       "dw        351.243258\n",
       "fridge     38.651379\n",
       "hvac      671.545913\n",
       "mw         54.792906\n",
       "dtype: float64"
      ]
     },
     "execution_count": 14,
     "metadata": {},
     "output_type": "execute_result"
    }
   ],
   "source": [
    "pd.Series(calculate_error(rnn_tree_pred, test_gt, threshold)[1])"
   ]
  },
  {
   "cell_type": "code",
   "execution_count": 15,
   "metadata": {},
   "outputs": [
    {
     "data": {
      "text/plain": [
       "dr        1226.875342\n",
       "dw         351.210014\n",
       "fridge      38.812924\n",
       "hvac       468.600411\n",
       "mw          56.004118\n",
       "dtype: float64"
      ]
     },
     "execution_count": 15,
     "metadata": {},
     "output_type": "execute_result"
    }
   ],
   "source": [
    "pd.Series(calculate_error(rnn_individual_pred, test_gt, threshold)[1])"
   ]
  },
  {
   "cell_type": "markdown",
   "metadata": {},
   "source": [
    "## Individual CNN and TreeCNN"
   ]
  },
  {
   "cell_type": "code",
   "execution_count": 16,
   "metadata": {},
   "outputs": [
    {
     "name": "stdout",
     "output_type": "stream",
     "text": [
      "0\n"
     ]
    }
   ],
   "source": [
    "cnn_individual_valid_pred = {}\n",
    "gid = 0\n",
    "c = 0\n",
    "for fold_num in range(5):\n",
    "    cnn_individual_valid_pred[fold_num] = {}\n",
    "    for appliance in ['hvac', 'fridge', 'dr', 'dw', 'mw']:\n",
    "        cnn_individual_valid_pred[fold_num][appliance] = {}\n",
    "        for lr in [0.001, 0.01, 0.1]:\n",
    "            cnn_individual_valid_pred[fold_num][appliance][lr] = {}\n",
    "            for iters in [200000]:\n",
    "            \n",
    "                directory = \"../code/baseline/cnn-tree/{}/{}/{}/{}/0.0/\".format(dataset, fold_num, lr, iters)\n",
    "                filename = \"valid-pred-[\\'{}\\'].npy\".format(appliance)\n",
    "                \n",
    "                full_path = directory + filename\n",
    "                my_file = Path(full_path)\n",
    "                if not my_file.exists():\n",
    "                    print(\"CUDA_VISIBLE_DEVICES={} python cnn-tree.py {} {} {} 0 {} {} &\".format(gid, dataset, lr, iters, fold_num, appliance))\n",
    "                    gid += 1\n",
    "                    if gid == 4:\n",
    "                        gid = 0\n",
    "                    c += 1\n",
    "                else:\n",
    "#                     continue\n",
    "                    k = np.load(full_path).item()\n",
    "                    for it in range(1000, 200000+1, 1000):\n",
    "                        cnn_individual_valid_pred[fold_num][appliance][lr][it] = k[it][0]\n",
    "print(c)"
   ]
  },
  {
   "cell_type": "code",
   "execution_count": 37,
   "metadata": {
    "collapsed": true
   },
   "outputs": [],
   "source": [
    "# cnn_individual_best_param = {}\n",
    "# for fold_num in range(5):\n",
    "#     cnn_individual_best_param[fold_num] = {}\n",
    "#     for appliance in ['hvac', 'fridge']:\n",
    "#         cnn_individual_best_param[fold_num][appliance] = {}\n",
    "#         min_error = np.inf\n",
    "#         for lr in [0.001, 0.01, 0.1]:\n",
    "#             for it in range(1000, 200000+1, 1000):\n",
    "#                 error = mean_absolute_error(cnn_individual_valid_pred[fold_num][appliance][lr][it].reshape(-1, 24), valid_gt[fold_num][appliance].reshape(-1, 24))\n",
    "#                 if error < min_error:\n",
    "#                     cnn_individual_best_param[fold_num][appliance]['lr'] = lr\n",
    "#                     cnn_individual_best_param[fold_num][appliance]['iters'] = it\n",
    "#                     min_error = error"
   ]
  },
  {
   "cell_type": "code",
   "execution_count": 17,
   "metadata": {},
   "outputs": [],
   "source": [
    "cnn_individual_best_param = {}\n",
    "for fold_num in range(5):\n",
    "    cnn_individual_best_param[fold_num] = {}\n",
    "    for appliance in ['hvac', 'fridge', 'dr', 'dw', 'mw']:\n",
    "        cnn_individual_best_param[fold_num][appliance] = {}\n",
    "        min_error = np.inf\n",
    "        for lr in [0.001, 0.01, 0.1]:\n",
    "            for it in range(1000, 200000+1, 1000):\n",
    "                error = onoff_error(cnn_individual_valid_pred[fold_num][appliance][lr][it].reshape(-1, 24), valid_gt[fold_num][appliance].reshape(-1, 24), threshold[appliance])\n",
    "                if error < min_error:\n",
    "                    cnn_individual_best_param[fold_num][appliance]['lr'] = lr\n",
    "                    cnn_individual_best_param[fold_num][appliance]['iters'] = it\n",
    "                    min_error = error"
   ]
  },
  {
   "cell_type": "code",
   "execution_count": 18,
   "metadata": {
    "collapsed": true
   },
   "outputs": [],
   "source": [
    "np.save(\"../code/baseline/result/cnn-individual-new-param-{}.npy\".format(dataset), cnn_individual_best_param)"
   ]
  },
  {
   "cell_type": "code",
   "execution_count": 19,
   "metadata": {
    "scrolled": true
   },
   "outputs": [
    {
     "name": "stdout",
     "output_type": "stream",
     "text": [
      "0\n"
     ]
    }
   ],
   "source": [
    "gid = 0\n",
    "srv = 1\n",
    "c = 0\n",
    "cmd = {}\n",
    "cnn_tree_valid_pred = {}\n",
    "num_iterations = 20000\n",
    "lr = 0.01\n",
    "p = 0\n",
    "for fold_num in range(5):\n",
    "    cnn_tree_valid_pred[fold_num] = {}\n",
    "    for lr in [0.01]:\n",
    "        cnn_tree_valid_pred[fold_num][lr] = {}\n",
    "        for order in list(itertools.permutations(['hvac', 'fridge', 'dr', 'dw', 'mw'])):\n",
    "            \n",
    "            if order[0] == 'hvac':\n",
    "                continue\n",
    "            \n",
    "            cnn_tree_valid_pred[fold_num][lr][order] = {}\n",
    "\n",
    "\n",
    "            o = \"\\', \\'\".join(str(x) for x in order)\n",
    "            directory = \"../code/baseline/cnn-tree/{}/{}/{}/20000/0.0/\".format(dataset, fold_num, lr)\n",
    "            filename = \"valid-pred-[\\'{}\\'].npy\".format(o)\n",
    "\n",
    "            full_path = directory + filename\n",
    "            my_file = Path(full_path)\n",
    "            if not my_file.exists():\n",
    "                o = \" \".join(str(x) for x in order)\n",
    "                line = (\"CUDA_VISIBLE_DEVICES={} python cnn-tree.py 3 {} {} 0 {} {} &\".format(gid, lr, num_iterations, fold_num, o))\n",
    "                print(line)\n",
    "\n",
    "                c += 1\n",
    "                if c%1 == 0:\n",
    "                    gid+=1\n",
    "                if gid == 4:\n",
    "                    gid = 0\n",
    "                    srv += 1\n",
    "            else:\n",
    "                k = np.load(full_path).item()\n",
    "                for it in range(1000, 20001, 1000):\n",
    "                    cnn_tree_valid_pred[fold_num][lr][order][it] = {}\n",
    "                    for idx, appliance in enumerate(order):\n",
    "                        cnn_tree_valid_pred[fold_num][lr][order][it][appliance] = k[it][idx]\n",
    "\n",
    "print(c)                               "
   ]
  },
  {
   "cell_type": "code",
   "execution_count": 20,
   "metadata": {},
   "outputs": [],
   "source": [
    "cnn_tree_best_param = {}\n",
    "for fold_num in range(5):\n",
    "    cnn_tree_best_param[fold_num] = {}\n",
    "    min_error = np.inf\n",
    "    for lr in [0.01]:\n",
    "        for order in list(itertools.permutations(['hvac', 'fridge', 'dr', 'dw', 'mw'])):\n",
    "            if order[0] == 'hvac':\n",
    "                continue\n",
    "            for it in range(1000, 20001, 1000):\n",
    "                error = 0\n",
    "                for idx, appliance in enumerate(order):\n",
    "#                     if appliance in ['hvac', 'fridge']:\n",
    "#                         error += mean_absolute_error(cnn_tree_valid_pred[fold_num][lr][order][it][appliance].reshape(-1, 24),\n",
    "#                                                     valid_gt[fold_num][appliance].reshape(-1, 24))\n",
    "#                     else:\n",
    "                    error += onoff_error(cnn_tree_valid_pred[fold_num][lr][order][it][appliance].reshape(-1, 24),\n",
    "                                                valid_gt[fold_num][appliance].reshape(-1, 24), threshold[appliance])\n",
    "                if error < min_error:\n",
    "                    min_error = error\n",
    "                    cnn_tree_best_param[fold_num]['lr'] = lr\n",
    "                    cnn_tree_best_param[fold_num]['order'] = order\n",
    "                    cnn_tree_best_param[fold_num]['iters'] = it\n",
    "                \n",
    "                    "
   ]
  },
  {
   "cell_type": "code",
   "execution_count": 21,
   "metadata": {
    "collapsed": true
   },
   "outputs": [],
   "source": [
    "np.save(\"../code/baseline/result/cnn-tree-new-param-{}.npy\".format(dataset), cnn_tree_best_param)"
   ]
  },
  {
   "cell_type": "code",
   "execution_count": 22,
   "metadata": {
    "collapsed": true
   },
   "outputs": [],
   "source": [
    "# load the best for cnn model\n",
    "dataset = 1\n",
    "best_cnn_individual = np.load(\"../code/baseline/result/cnn-individual-new-param-{}.npy\".format(dataset)).item()\n",
    "best_cnn_tree = np.load(\"../code/baseline/result/cnn-tree-new-param-{}.npy\".format(dataset)).item()"
   ]
  },
  {
   "cell_type": "code",
   "execution_count": 23,
   "metadata": {
    "collapsed": true
   },
   "outputs": [],
   "source": [
    "# get prediction for cnn individual\n",
    "cnn_individual_pred = {}\n",
    "for fold_num in range(5):\n",
    "    cnn_individual_pred[fold_num] = {}\n",
    "    for appliance in ['hvac', 'fridge', 'dr', 'dw', 'mw']:\n",
    "        \n",
    "        lr = best_cnn_individual[fold_num][appliance]['lr']\n",
    "        iters = best_cnn_individual[fold_num][appliance]['iters']\n",
    "\n",
    "        directory = \"../code/baseline/cnn-tree/{}/{}/{}/200000/0.0/\".format(dataset, fold_num,lr)\n",
    "        filename = \"test-pred-[\\'{}\\'].npy\".format(appliance)\n",
    "\n",
    "        full_path = directory + filename\n",
    "        cnn_individual_pred[fold_num][appliance] = np.asarray(np.load(full_path).item()[iters]).reshape(-1, 1, 112, 24)"
   ]
  },
  {
   "cell_type": "code",
   "execution_count": 24,
   "metadata": {
    "collapsed": true
   },
   "outputs": [],
   "source": [
    "# get prediction for cnn tree\n",
    "cnn_tree_pred = {}\n",
    "for fold_num in range(5):\n",
    "    cnn_tree_pred[fold_num] = {}\n",
    "        \n",
    "    lr = best_cnn_tree[fold_num]['lr']\n",
    "    iters = best_cnn_tree[fold_num]['iters']\n",
    "    order = best_cnn_tree[fold_num]['order']\n",
    "\n",
    "    o = \"\\', \\'\".join(str(x) for x in order)\n",
    "    directory = \"../code/baseline/cnn-tree/{}/{}/{}/20000/0.0/\".format(dataset, fold_num,lr)\n",
    "    filename = \"test-pred-[\\'{}\\'].npy\".format(o)\n",
    "\n",
    "    full_path = directory + filename\n",
    "    cnn_pred = np.asarray(np.load(full_path).item()[iters])\n",
    "    \n",
    "    for idx, appliance in enumerate(order):\n",
    "        cnn_tree_pred[fold_num][appliance] = cnn_pred[idx].reshape(-1, 1, 112,24)\n",
    "    "
   ]
  },
  {
   "cell_type": "code",
   "execution_count": 25,
   "metadata": {
    "collapsed": true
   },
   "outputs": [],
   "source": [
    "new_error = {}\n",
    "new_error['Individual RNN'] = calculate_error(rnn_individual_pred, test_gt, threshold)[1]\n",
    "new_error['Tree RNN'] = calculate_error(rnn_tree_pred, test_gt, threshold)[1]\n",
    "new_error['Individual CNN'] = calculate_error(cnn_individual_pred, test_gt, threshold)[1]\n",
    "new_error['Tree CNN'] = calculate_error(cnn_tree_pred, test_gt, threshold)[1]"
   ]
  },
  {
   "cell_type": "code",
   "execution_count": 26,
   "metadata": {},
   "outputs": [
    {
     "data": {
      "text/html": [
       "<div>\n",
       "<style scoped>\n",
       "    .dataframe tbody tr th:only-of-type {\n",
       "        vertical-align: middle;\n",
       "    }\n",
       "\n",
       "    .dataframe tbody tr th {\n",
       "        vertical-align: top;\n",
       "    }\n",
       "\n",
       "    .dataframe thead th {\n",
       "        text-align: right;\n",
       "    }\n",
       "</style>\n",
       "<table border=\"1\" class=\"dataframe\">\n",
       "  <thead>\n",
       "    <tr style=\"text-align: right;\">\n",
       "      <th></th>\n",
       "      <th>Individual CNN</th>\n",
       "      <th>Individual RNN</th>\n",
       "      <th>Tree CNN</th>\n",
       "      <th>Tree RNN</th>\n",
       "    </tr>\n",
       "  </thead>\n",
       "  <tbody>\n",
       "    <tr>\n",
       "      <th>dr</th>\n",
       "      <td>594.526163</td>\n",
       "      <td>1226.875342</td>\n",
       "      <td>582.596692</td>\n",
       "      <td>994.124979</td>\n",
       "    </tr>\n",
       "    <tr>\n",
       "      <th>dw</th>\n",
       "      <td>338.347666</td>\n",
       "      <td>351.210014</td>\n",
       "      <td>326.491795</td>\n",
       "      <td>351.243258</td>\n",
       "    </tr>\n",
       "    <tr>\n",
       "      <th>fridge</th>\n",
       "      <td>38.265516</td>\n",
       "      <td>38.812924</td>\n",
       "      <td>44.650674</td>\n",
       "      <td>38.651379</td>\n",
       "    </tr>\n",
       "    <tr>\n",
       "      <th>hvac</th>\n",
       "      <td>297.020788</td>\n",
       "      <td>468.600411</td>\n",
       "      <td>299.490306</td>\n",
       "      <td>671.545913</td>\n",
       "    </tr>\n",
       "    <tr>\n",
       "      <th>mw</th>\n",
       "      <td>52.622841</td>\n",
       "      <td>56.004118</td>\n",
       "      <td>51.358356</td>\n",
       "      <td>54.792906</td>\n",
       "    </tr>\n",
       "  </tbody>\n",
       "</table>\n",
       "</div>"
      ],
      "text/plain": [
       "        Individual CNN  Individual RNN    Tree CNN    Tree RNN\n",
       "dr          594.526163     1226.875342  582.596692  994.124979\n",
       "dw          338.347666      351.210014  326.491795  351.243258\n",
       "fridge       38.265516       38.812924   44.650674   38.651379\n",
       "hvac        297.020788      468.600411  299.490306  671.545913\n",
       "mw           52.622841       56.004118   51.358356   54.792906"
      ]
     },
     "execution_count": 26,
     "metadata": {},
     "output_type": "execute_result"
    }
   ],
   "source": [
    "pd.DataFrame(new_error)"
   ]
  },
  {
   "cell_type": "code",
   "execution_count": 27,
   "metadata": {},
   "outputs": [
    {
     "data": {
      "text/html": [
       "<div>\n",
       "<style scoped>\n",
       "    .dataframe tbody tr th:only-of-type {\n",
       "        vertical-align: middle;\n",
       "    }\n",
       "\n",
       "    .dataframe tbody tr th {\n",
       "        vertical-align: top;\n",
       "    }\n",
       "\n",
       "    .dataframe thead th {\n",
       "        text-align: right;\n",
       "    }\n",
       "</style>\n",
       "<table border=\"1\" class=\"dataframe\">\n",
       "  <thead>\n",
       "    <tr style=\"text-align: right;\">\n",
       "      <th></th>\n",
       "      <th>dr</th>\n",
       "      <th>dw</th>\n",
       "      <th>fridge</th>\n",
       "      <th>hvac</th>\n",
       "      <th>mw</th>\n",
       "    </tr>\n",
       "  </thead>\n",
       "  <tbody>\n",
       "    <tr>\n",
       "      <th>0</th>\n",
       "      <td>378.656361</td>\n",
       "      <td>347.049247</td>\n",
       "      <td>37.122359</td>\n",
       "      <td>282.133492</td>\n",
       "      <td>48.220002</td>\n",
       "    </tr>\n",
       "    <tr>\n",
       "      <th>1</th>\n",
       "      <td>697.105043</td>\n",
       "      <td>316.103700</td>\n",
       "      <td>44.383654</td>\n",
       "      <td>304.747196</td>\n",
       "      <td>40.620868</td>\n",
       "    </tr>\n",
       "    <tr>\n",
       "      <th>2</th>\n",
       "      <td>865.405661</td>\n",
       "      <td>355.784971</td>\n",
       "      <td>43.684598</td>\n",
       "      <td>232.870444</td>\n",
       "      <td>33.551980</td>\n",
       "    </tr>\n",
       "    <tr>\n",
       "      <th>3</th>\n",
       "      <td>466.851354</td>\n",
       "      <td>354.733526</td>\n",
       "      <td>51.743456</td>\n",
       "      <td>265.511647</td>\n",
       "      <td>36.786395</td>\n",
       "    </tr>\n",
       "    <tr>\n",
       "      <th>4</th>\n",
       "      <td>383.554244</td>\n",
       "      <td>211.601687</td>\n",
       "      <td>45.550721</td>\n",
       "      <td>297.924211</td>\n",
       "      <td>58.964840</td>\n",
       "    </tr>\n",
       "  </tbody>\n",
       "</table>\n",
       "</div>"
      ],
      "text/plain": [
       "           dr          dw     fridge        hvac         mw\n",
       "0  378.656361  347.049247  37.122359  282.133492  48.220002\n",
       "1  697.105043  316.103700  44.383654  304.747196  40.620868\n",
       "2  865.405661  355.784971  43.684598  232.870444  33.551980\n",
       "3  466.851354  354.733526  51.743456  265.511647  36.786395\n",
       "4  383.554244  211.601687  45.550721  297.924211  58.964840"
      ]
     },
     "execution_count": 27,
     "metadata": {},
     "output_type": "execute_result"
    }
   ],
   "source": [
    "pd.DataFrame(calculate_error(cnn_tree_pred, test_gt, threshold)[0])"
   ]
  },
  {
   "cell_type": "code",
   "execution_count": 34,
   "metadata": {},
   "outputs": [
    {
     "data": {
      "text/plain": [
       "dr        1179.818965\n",
       "dw         341.548343\n",
       "fridge      37.817167\n",
       "hvac       462.937325\n",
       "mw          19.622376\n",
       "dtype: float64"
      ]
     },
     "execution_count": 34,
     "metadata": {},
     "output_type": "execute_result"
    }
   ],
   "source": [
    "pd.Series(calculate_error(rnn_individual_pred, test_gt, threshold)[1])"
   ]
  },
  {
   "cell_type": "code",
   "execution_count": 35,
   "metadata": {},
   "outputs": [
    {
     "data": {
      "text/html": [
       "<div>\n",
       "<style scoped>\n",
       "    .dataframe tbody tr th:only-of-type {\n",
       "        vertical-align: middle;\n",
       "    }\n",
       "\n",
       "    .dataframe tbody tr th {\n",
       "        vertical-align: top;\n",
       "    }\n",
       "\n",
       "    .dataframe thead th {\n",
       "        text-align: right;\n",
       "    }\n",
       "</style>\n",
       "<table border=\"1\" class=\"dataframe\">\n",
       "  <thead>\n",
       "    <tr style=\"text-align: right;\">\n",
       "      <th></th>\n",
       "      <th>dr</th>\n",
       "      <th>dw</th>\n",
       "      <th>fridge</th>\n",
       "      <th>hvac</th>\n",
       "      <th>mw</th>\n",
       "    </tr>\n",
       "  </thead>\n",
       "  <tbody>\n",
       "    <tr>\n",
       "      <th>0</th>\n",
       "      <td>1160.995494</td>\n",
       "      <td>331.630382</td>\n",
       "      <td>33.887644</td>\n",
       "      <td>413.234535</td>\n",
       "      <td>19.252954</td>\n",
       "    </tr>\n",
       "    <tr>\n",
       "      <th>1</th>\n",
       "      <td>1160.334033</td>\n",
       "      <td>350.239340</td>\n",
       "      <td>41.577924</td>\n",
       "      <td>511.260277</td>\n",
       "      <td>21.330130</td>\n",
       "    </tr>\n",
       "    <tr>\n",
       "      <th>2</th>\n",
       "      <td>1158.480403</td>\n",
       "      <td>359.846892</td>\n",
       "      <td>33.147392</td>\n",
       "      <td>447.280023</td>\n",
       "      <td>10.658043</td>\n",
       "    </tr>\n",
       "    <tr>\n",
       "      <th>3</th>\n",
       "      <td>1235.319879</td>\n",
       "      <td>367.036913</td>\n",
       "      <td>38.226928</td>\n",
       "      <td>535.849630</td>\n",
       "      <td>12.037115</td>\n",
       "    </tr>\n",
       "    <tr>\n",
       "      <th>4</th>\n",
       "      <td>1191.458905</td>\n",
       "      <td>297.748852</td>\n",
       "      <td>36.491569</td>\n",
       "      <td>428.950569</td>\n",
       "      <td>22.298461</td>\n",
       "    </tr>\n",
       "  </tbody>\n",
       "</table>\n",
       "</div>"
      ],
      "text/plain": [
       "            dr          dw     fridge        hvac         mw\n",
       "0  1160.995494  331.630382  33.887644  413.234535  19.252954\n",
       "1  1160.334033  350.239340  41.577924  511.260277  21.330130\n",
       "2  1158.480403  359.846892  33.147392  447.280023  10.658043\n",
       "3  1235.319879  367.036913  38.226928  535.849630  12.037115\n",
       "4  1191.458905  297.748852  36.491569  428.950569  22.298461"
      ]
     },
     "execution_count": 35,
     "metadata": {},
     "output_type": "execute_result"
    }
   ],
   "source": [
    "pd.DataFrame(calculate_error(rnn_tree_pred, test_gt, threshold)[0])"
   ]
  },
  {
   "cell_type": "code",
   "execution_count": 36,
   "metadata": {},
   "outputs": [
    {
     "data": {
      "text/html": [
       "<div>\n",
       "<style scoped>\n",
       "    .dataframe tbody tr th:only-of-type {\n",
       "        vertical-align: middle;\n",
       "    }\n",
       "\n",
       "    .dataframe tbody tr th {\n",
       "        vertical-align: top;\n",
       "    }\n",
       "\n",
       "    .dataframe thead th {\n",
       "        text-align: right;\n",
       "    }\n",
       "</style>\n",
       "<table border=\"1\" class=\"dataframe\">\n",
       "  <thead>\n",
       "    <tr style=\"text-align: right;\">\n",
       "      <th></th>\n",
       "      <th>dr</th>\n",
       "      <th>dw</th>\n",
       "      <th>fridge</th>\n",
       "      <th>hvac</th>\n",
       "      <th>mw</th>\n",
       "    </tr>\n",
       "  </thead>\n",
       "  <tbody>\n",
       "    <tr>\n",
       "      <th>0</th>\n",
       "      <td>808.980404</td>\n",
       "      <td>326.854814</td>\n",
       "      <td>36.265273</td>\n",
       "      <td>426.088388</td>\n",
       "      <td>17.321685</td>\n",
       "    </tr>\n",
       "    <tr>\n",
       "      <th>1</th>\n",
       "      <td>882.535487</td>\n",
       "      <td>340.169802</td>\n",
       "      <td>42.361022</td>\n",
       "      <td>409.628172</td>\n",
       "      <td>21.999674</td>\n",
       "    </tr>\n",
       "    <tr>\n",
       "      <th>2</th>\n",
       "      <td>969.598300</td>\n",
       "      <td>351.820964</td>\n",
       "      <td>35.161585</td>\n",
       "      <td>397.086011</td>\n",
       "      <td>10.038362</td>\n",
       "    </tr>\n",
       "    <tr>\n",
       "      <th>3</th>\n",
       "      <td>1103.052577</td>\n",
       "      <td>366.925923</td>\n",
       "      <td>40.590406</td>\n",
       "      <td>464.559257</td>\n",
       "      <td>10.942480</td>\n",
       "    </tr>\n",
       "    <tr>\n",
       "      <th>4</th>\n",
       "      <td>1008.846665</td>\n",
       "      <td>298.172872</td>\n",
       "      <td>36.593220</td>\n",
       "      <td>391.003630</td>\n",
       "      <td>27.689349</td>\n",
       "    </tr>\n",
       "  </tbody>\n",
       "</table>\n",
       "</div>"
      ],
      "text/plain": [
       "            dr          dw     fridge        hvac         mw\n",
       "0   808.980404  326.854814  36.265273  426.088388  17.321685\n",
       "1   882.535487  340.169802  42.361022  409.628172  21.999674\n",
       "2   969.598300  351.820964  35.161585  397.086011  10.038362\n",
       "3  1103.052577  366.925923  40.590406  464.559257  10.942480\n",
       "4  1008.846665  298.172872  36.593220  391.003630  27.689349"
      ]
     },
     "execution_count": 36,
     "metadata": {},
     "output_type": "execute_result"
    }
   ],
   "source": [
    "pd.DataFrame(calculate_error(cnn_individual_pred, test_gt, threshold)[0])"
   ]
  },
  {
   "cell_type": "code",
   "execution_count": 127,
   "metadata": {},
   "outputs": [
    {
     "data": {
      "text/html": [
       "<div>\n",
       "<style scoped>\n",
       "    .dataframe tbody tr th:only-of-type {\n",
       "        vertical-align: middle;\n",
       "    }\n",
       "\n",
       "    .dataframe tbody tr th {\n",
       "        vertical-align: top;\n",
       "    }\n",
       "\n",
       "    .dataframe thead th {\n",
       "        text-align: right;\n",
       "    }\n",
       "</style>\n",
       "<table border=\"1\" class=\"dataframe\">\n",
       "  <thead>\n",
       "    <tr style=\"text-align: right;\">\n",
       "      <th></th>\n",
       "      <th>dr</th>\n",
       "      <th>dw</th>\n",
       "      <th>fridge</th>\n",
       "      <th>hvac</th>\n",
       "      <th>mw</th>\n",
       "    </tr>\n",
       "  </thead>\n",
       "  <tbody>\n",
       "    <tr>\n",
       "      <th>0</th>\n",
       "      <td>380.361517</td>\n",
       "      <td>221.357761</td>\n",
       "      <td>40.789443</td>\n",
       "      <td>183.317879</td>\n",
       "      <td>32.954544</td>\n",
       "    </tr>\n",
       "    <tr>\n",
       "      <th>1</th>\n",
       "      <td>654.570013</td>\n",
       "      <td>308.036766</td>\n",
       "      <td>36.696303</td>\n",
       "      <td>138.862061</td>\n",
       "      <td>38.031077</td>\n",
       "    </tr>\n",
       "    <tr>\n",
       "      <th>2</th>\n",
       "      <td>832.800544</td>\n",
       "      <td>348.930867</td>\n",
       "      <td>35.966973</td>\n",
       "      <td>147.254607</td>\n",
       "      <td>29.218336</td>\n",
       "    </tr>\n",
       "    <tr>\n",
       "      <th>3</th>\n",
       "      <td>396.865739</td>\n",
       "      <td>338.646366</td>\n",
       "      <td>45.409241</td>\n",
       "      <td>176.136952</td>\n",
       "      <td>34.278379</td>\n",
       "    </tr>\n",
       "    <tr>\n",
       "      <th>4</th>\n",
       "      <td>337.580422</td>\n",
       "      <td>191.665894</td>\n",
       "      <td>39.705588</td>\n",
       "      <td>171.053769</td>\n",
       "      <td>57.125152</td>\n",
       "    </tr>\n",
       "  </tbody>\n",
       "</table>\n",
       "</div>"
      ],
      "text/plain": [
       "           dr          dw     fridge        hvac         mw\n",
       "0  380.361517  221.357761  40.789443  183.317879  32.954544\n",
       "1  654.570013  308.036766  36.696303  138.862061  38.031077\n",
       "2  832.800544  348.930867  35.966973  147.254607  29.218336\n",
       "3  396.865739  338.646366  45.409241  176.136952  34.278379\n",
       "4  337.580422  191.665894  39.705588  171.053769  57.125152"
      ]
     },
     "execution_count": 127,
     "metadata": {},
     "output_type": "execute_result"
    }
   ],
   "source": [
    "pd.DataFrame(calculate_error(cnn_tree_pred, test_gt, threshold)[0])"
   ]
  }
 ],
 "metadata": {
  "kernelspec": {
   "display_name": "Python 3",
   "language": "python",
   "name": "python3"
  },
  "language_info": {
   "codemirror_mode": {
    "name": "ipython",
    "version": 3
   },
   "file_extension": ".py",
   "mimetype": "text/x-python",
   "name": "python",
   "nbconvert_exporter": "python",
   "pygments_lexer": "ipython3",
   "version": "3.6.3"
  }
 },
 "nbformat": 4,
 "nbformat_minor": 2
}
