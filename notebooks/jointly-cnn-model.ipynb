{
 "cells": [
  {
   "cell_type": "code",
   "execution_count": 1,
   "metadata": {
    "collapsed": true
   },
   "outputs": [],
   "source": [
    "import torch\n",
    "from torch.autograd import Variable\n",
    "import numpy as np\n",
    "import torch.nn as nn\n",
    "from torchvision import datasets,transforms\n",
    "import torch.nn.functional as F\n",
    "import sys\n",
    "sys.path.append(\"../code/\")\n",
    "from dataloader import APPLIANCE_ORDER, get_train_test\n",
    "from sklearn.metrics import mean_absolute_error\n",
    "import os"
   ]
  },
  {
   "cell_type": "code",
   "execution_count": 2,
   "metadata": {
    "collapsed": true
   },
   "outputs": [],
   "source": [
    "cuda_av = False\n",
    "if torch.cuda.is_available():\n",
    "    cuda_av = True\n",
    "\n",
    "torch.manual_seed(0)\n",
    "np.random.seed(0)"
   ]
  },
  {
   "cell_type": "code",
   "execution_count": 3,
   "metadata": {
    "collapsed": true
   },
   "outputs": [],
   "source": [
    "class CustomCNN(nn.Module):\n",
    "    def __init__(self):\n",
    "        super(CustomCNN, self).__init__()\n",
    "        self.conv1 = nn.Conv2d(1, 20, kernel_size=7, stride=1, padding=2)\n",
    "        self.bn1 = nn.BatchNorm2d(20)\n",
    "\n",
    "        self.conv2 = nn.Conv2d(20, 16, kernel_size=2, stride=2, padding=1)\n",
    "        self.bn2 = nn.BatchNorm2d(16)\n",
    "\n",
    "        self.conv3 = nn.Conv2d(16, 64, kernel_size=4, stride=2, padding=1)\n",
    "        self.bn3 = nn.BatchNorm2d(64)\n",
    "\n",
    "        self.conv4 = nn.ConvTranspose2d(64, 16, kernel_size=4, stride=2, padding=1)\n",
    "        self.bn4 = nn.BatchNorm2d(16)\n",
    "\n",
    "        self.conv5 = nn.ConvTranspose2d(16, 6, kernel_size=4, stride=2, padding=1)\n",
    "        self.bn5 = nn.BatchNorm2d(6)\n",
    "\n",
    "        self.conv6 = nn.ConvTranspose2d(6, 1, kernel_size=5, stride=1, padding=2) \n",
    "        \n",
    "        self.act = nn.ReLU()\n",
    "        \n",
    "    # forward method\n",
    "    def forward(self, input):\n",
    "        \n",
    "        e1 = self.conv1(input)\n",
    "        bn1 = self.bn1(self.act(e1))\n",
    "        e2 = self.bn2(self.conv2(bn1))\n",
    "#         e3 = self.bn3(self.conv3(e2))\n",
    "        \n",
    "#         e4 = self.bn4(self.conv4(e3))\n",
    "        e5 = self.bn5(self.conv5(e2))\n",
    "        e6 = self.conv6(e5)\n",
    "\n",
    "        return e6"
   ]
  },
  {
   "cell_type": "code",
   "execution_count": 4,
   "metadata": {
    "collapsed": true
   },
   "outputs": [],
   "source": [
    "class JointlyCNN(nn.Module):\n",
    "    def __init__(self, num_appliance):\n",
    "        super(JointlyCNN, self).__init__()\n",
    "        self.num_appliance = num_appliance\n",
    "        self.preds = {}\n",
    "        self.order = ORDER\n",
    "        for appliance in range(self.num_appliance):\n",
    "            if cuda_av:\n",
    "                setattr(self, \"Appliance_\" + str(appliance), CustomCNN().cuda())\n",
    "            else:\n",
    "                setattr(self, \"Appliance_\" + str(appliance), CustomCNN())\n",
    "\n",
    "    def forward(self, *args):\n",
    "        agg_current = args[0]\n",
    "        flag = False\n",
    "        if np.random.random() > args[1]:\n",
    "            flag = True\n",
    "        else:\n",
    "            pass\n",
    "        for appliance in range(self.num_appliance):\n",
    "            self.preds[appliance] = getattr(self, \"Appliance_\" + str(appliance))(agg_current)\n",
    "#             if flag:\n",
    "#                 agg_current = agg_current - self.preds[appliance]\n",
    "#             else:\n",
    "#                 agg_current = agg_current - args[2 + appliance]\n",
    "\n",
    "        return torch.cat([self.preds[a] for a in range(self.num_appliance)])"
   ]
  },
  {
   "cell_type": "code",
   "execution_count": 5,
   "metadata": {
    "collapsed": true
   },
   "outputs": [],
   "source": [
    "def preprocess(train, valid, test):\n",
    "    out_train = [None for temp in range(len(ORDER))]\n",
    "    for a_num, appliance in enumerate(ORDER):\n",
    "        out_train[a_num] = Variable(\n",
    "            torch.Tensor(train[:, APPLIANCE_ORDER.index(appliance), :, :].reshape((train.shape[0], 1, -1, 24))))\n",
    "        if cuda_av:\n",
    "            out_train[a_num] = out_train[a_num].cuda()\n",
    "\n",
    "    out_valid = [None for temp in range(len(ORDER))]\n",
    "    for a_num, appliance in enumerate(ORDER):\n",
    "        out_valid[a_num] = Variable(\n",
    "            torch.Tensor(valid[:, APPLIANCE_ORDER.index(appliance), :, :].reshape((valid.shape[0], 1, -1, 24))))\n",
    "        if cuda_av:\n",
    "            out_valid[a_num] = out_valid[a_num].cuda()\n",
    "            \n",
    "    out_test = [None for temp in range(len(ORDER))]\n",
    "    for a_num, appliance in enumerate(ORDER):\n",
    "        out_test[a_num] = Variable(\n",
    "            torch.Tensor(test[:, APPLIANCE_ORDER.index(appliance), :, :].reshape((test.shape[0], 1, -1, 24))))\n",
    "        if cuda_av:\n",
    "            out_test[a_num] = out_test[a_num].cuda()\n",
    "\n",
    "    return out_train, out_valid, out_test"
   ]
  },
  {
   "cell_type": "code",
   "execution_count": 12,
   "metadata": {
    "collapsed": true
   },
   "outputs": [],
   "source": [
    "dataset = 1\n",
    "fold_num = 0\n",
    "num_folds = 5\n",
    "lr = 0.01\n",
    "train, test = get_train_test(dataset, num_folds=num_folds, fold_num=fold_num)\n",
    "valid = train[int(0.8*len(train)):].copy()\n",
    "train = train[:int(0.8 * len(train))].copy()\n",
    "train_aggregate = train[:, 0, :, :].reshape(train.shape[0], 1, -1, 24)\n",
    "valid_aggregate = valid[:, 0, :, :].reshape(valid.shape[0], 1, -1, 24)\n",
    "test_aggregate = test[:, 0, :, :].reshape(test.shape[0], 1, -1, 24)"
   ]
  },
  {
   "cell_type": "code",
   "execution_count": 13,
   "metadata": {
    "collapsed": true
   },
   "outputs": [],
   "source": [
    "ORDER = ['fridge', 'dr', 'hvac', 'dw', 'mw']\n",
    "out_train, out_valid, out_test = preprocess(train, valid, test)"
   ]
  },
  {
   "cell_type": "code",
   "execution_count": 14,
   "metadata": {
    "collapsed": true
   },
   "outputs": [],
   "source": [
    "inp = Variable(torch.Tensor(train_aggregate), requires_grad=False)\n",
    "valid_inp = Variable(torch.Tensor(valid_aggregate), requires_grad=False)\n",
    "test_inp = Variable(torch.Tensor(test_aggregate), requires_grad=False)\n",
    "if cuda_av:\n",
    "    inp = inp.cuda()\n",
    "    valid_inp = valid_inp.cuda()\n",
    "    test_inp = test_inp.cuda()\n",
    "valid_out = torch.cat([out_valid[appliance_num] for appliance_num, appliance in enumerate(ORDER)])\n",
    "test_out = torch.cat([out_test[appliance_num] for appliance_num, appliance in enumerate(ORDER)])\n",
    "train_out = torch.cat([out_train[appliance_num] for appliance_num, appliance in enumerate(ORDER)])"
   ]
  },
  {
   "cell_type": "code",
   "execution_count": 15,
   "metadata": {
    "collapsed": true
   },
   "outputs": [],
   "source": [
    "loss_func = nn.L1Loss()\n",
    "model = JointlyCNN(len(ORDER))\n",
    "optimizer = torch.optim.Adam(model.parameters(), lr=lr)\n",
    "\n",
    "if cuda_av:\n",
    "    model = model.cuda()\n",
    "    loss_func = loss_func.cuda()"
   ]
  },
  {
   "cell_type": "code",
   "execution_count": 17,
   "metadata": {
    "collapsed": true
   },
   "outputs": [],
   "source": [
    "valid_pred = {}\n",
    "train_pred = {}\n",
    "test_pred = {}\n",
    "test_losses = {}\n",
    "valid_losses = {}"
   ]
  },
  {
   "cell_type": "code",
   "execution_count": 18,
   "metadata": {},
   "outputs": [
    {
     "name": "stdout",
     "output_type": "stream",
     "text": [
      "Round: 500 Training Error: 44.57005310058594 Validation Error: 62.69306182861328 Test Error: 57.106239318847656\n",
      "Round: 1000 Training Error: 42.66798782348633 Validation Error: 62.00498580932617 Test Error: 57.777706146240234\n",
      "Round: 1500 Training Error: 41.58831787109375 Validation Error: 61.3079833984375 Test Error: 56.9805908203125\n",
      "Round: 2000 Training Error: 41.21788024902344 Validation Error: 61.16022872924805 Test Error: 56.5172233581543\n",
      "Round: 2500 Training Error: 41.10185623168945 Validation Error: 60.87512969970703 Test Error: 56.850929260253906\n",
      "Round: 3000 Training Error: 40.9443244934082 Validation Error: 61.16659927368164 Test Error: 56.941673278808594\n",
      "Round: 3500 Training Error: 40.459293365478516 Validation Error: 61.40805435180664 Test Error: 56.912818908691406\n",
      "Round: 4000 Training Error: 40.76059341430664 Validation Error: 60.67731475830078 Test Error: 56.082637786865234\n",
      "Round: 4500 Training Error: 40.37738800048828 Validation Error: 61.39985275268555 Test Error: 56.88930130004883\n",
      "Round: 5000 Training Error: 40.23830795288086 Validation Error: 60.98645782470703 Test Error: 56.90568542480469\n",
      "Round: 5500 Training Error: 40.07391357421875 Validation Error: 60.8114128112793 Test Error: 57.02900314331055\n",
      "Round: 6000 Training Error: 39.89332962036133 Validation Error: 60.82658767700195 Test Error: 56.81935119628906\n",
      "Round: 6500 Training Error: 39.913387298583984 Validation Error: 60.690406799316406 Test Error: 56.57878494262695\n",
      "Round: 7000 Training Error: 39.71257781982422 Validation Error: 60.6536865234375 Test Error: 56.40512466430664\n",
      "Round: 7500 Training Error: 39.869720458984375 Validation Error: 60.711551666259766 Test Error: 56.532867431640625\n",
      "Round: 8000 Training Error: 39.63877868652344 Validation Error: 60.581947326660156 Test Error: 56.49033737182617\n",
      "Round: 8500 Training Error: 39.52597427368164 Validation Error: 60.65232849121094 Test Error: 56.4182243347168\n",
      "Round: 9000 Training Error: 39.48134231567383 Validation Error: 60.24345397949219 Test Error: 56.45568084716797\n",
      "Round: 9500 Training Error: 39.32929611206055 Validation Error: 60.238304138183594 Test Error: 56.58147430419922\n",
      "Round: 10000 Training Error: 39.406715393066406 Validation Error: 60.11027526855469 Test Error: 56.5517692565918\n",
      "Round: 10500 Training Error: 39.42467498779297 Validation Error: 60.10448455810547 Test Error: 56.64220428466797\n",
      "Round: 11000 Training Error: 39.15723419189453 Validation Error: 60.457027435302734 Test Error: 56.80867004394531\n",
      "Round: 11500 Training Error: 39.184478759765625 Validation Error: 59.829681396484375 Test Error: 56.325557708740234\n",
      "Round: 12000 Training Error: 39.076717376708984 Validation Error: 60.12421417236328 Test Error: 57.04412078857422\n",
      "Round: 12500 Training Error: 39.07524108886719 Validation Error: 60.1138916015625 Test Error: 56.21749496459961\n",
      "Round: 13000 Training Error: 39.340370178222656 Validation Error: 60.38275146484375 Test Error: 56.40382766723633\n",
      "Round: 13500 Training Error: 39.07392883300781 Validation Error: 60.12934875488281 Test Error: 56.85137176513672\n",
      "Round: 14000 Training Error: 38.98099899291992 Validation Error: 60.257530212402344 Test Error: 57.003204345703125\n",
      "Round: 14500 Training Error: 38.932952880859375 Validation Error: 60.254364013671875 Test Error: 56.449459075927734\n",
      "Round: 15000 Training Error: 38.93623733520508 Validation Error: 59.8504753112793 Test Error: 56.39936828613281\n",
      "Round: 15500 Training Error: 38.8988037109375 Validation Error: 60.28363800048828 Test Error: 56.5058708190918\n",
      "Round: 16000 Training Error: 38.942359924316406 Validation Error: 60.2393684387207 Test Error: 56.364864349365234\n",
      "Round: 16500 Training Error: 38.79603958129883 Validation Error: 59.707279205322266 Test Error: 56.180999755859375\n",
      "Round: 17000 Training Error: 39.01193618774414 Validation Error: 59.920387268066406 Test Error: 56.482574462890625\n"
     ]
    },
    {
     "ename": "RuntimeError",
     "evalue": "cuda runtime error (2) : out of memory at /opt/conda/conda-bld/pytorch_1512386481460/work/torch/lib/THC/generic/THCStorage.cu:58",
     "output_type": "error",
     "traceback": [
      "\u001b[0;31m---------------------------------------------------------------------------\u001b[0m",
      "\u001b[0;31mRuntimeError\u001b[0m                              Traceback (most recent call last)",
      "\u001b[0;32m<ipython-input-18-ac8d6bd0f351>\u001b[0m in \u001b[0;36m<module>\u001b[0;34m()\u001b[0m\n\u001b[1;32m     30\u001b[0m         \u001b[0;32mfor\u001b[0m \u001b[0mi\u001b[0m \u001b[0;32min\u001b[0m \u001b[0mrange\u001b[0m\u001b[0;34m(\u001b[0m\u001b[0mlen\u001b[0m\u001b[0;34m(\u001b[0m\u001b[0mORDER\u001b[0m\u001b[0;34m)\u001b[0m\u001b[0;34m)\u001b[0m\u001b[0;34m:\u001b[0m\u001b[0;34m\u001b[0m\u001b[0m\n\u001b[1;32m     31\u001b[0m             \u001b[0mtest_params\u001b[0m\u001b[0;34m.\u001b[0m\u001b[0mappend\u001b[0m\u001b[0;34m(\u001b[0m\u001b[0;32mNone\u001b[0m\u001b[0;34m)\u001b[0m\u001b[0;34m\u001b[0m\u001b[0m\n\u001b[0;32m---> 32\u001b[0;31m         \u001b[0mtest_pr\u001b[0m \u001b[0;34m=\u001b[0m \u001b[0mmodel\u001b[0m\u001b[0;34m(\u001b[0m\u001b[0;34m*\u001b[0m\u001b[0mtest_params\u001b[0m\u001b[0;34m)\u001b[0m\u001b[0;34m\u001b[0m\u001b[0m\n\u001b[0m\u001b[1;32m     33\u001b[0m         \u001b[0mtest_loss\u001b[0m \u001b[0;34m=\u001b[0m \u001b[0mloss_func\u001b[0m\u001b[0;34m(\u001b[0m\u001b[0mtest_pr\u001b[0m\u001b[0;34m,\u001b[0m \u001b[0mtest_out\u001b[0m\u001b[0;34m)\u001b[0m\u001b[0;34m\u001b[0m\u001b[0m\n\u001b[1;32m     34\u001b[0m \u001b[0;34m\u001b[0m\u001b[0m\n",
      "\u001b[0;32m~/anaconda3/lib/python3.6/site-packages/torch/nn/modules/module.py\u001b[0m in \u001b[0;36m__call__\u001b[0;34m(self, *input, **kwargs)\u001b[0m\n\u001b[1;32m    323\u001b[0m         \u001b[0;32mfor\u001b[0m \u001b[0mhook\u001b[0m \u001b[0;32min\u001b[0m \u001b[0mself\u001b[0m\u001b[0;34m.\u001b[0m\u001b[0m_forward_pre_hooks\u001b[0m\u001b[0;34m.\u001b[0m\u001b[0mvalues\u001b[0m\u001b[0;34m(\u001b[0m\u001b[0;34m)\u001b[0m\u001b[0;34m:\u001b[0m\u001b[0;34m\u001b[0m\u001b[0m\n\u001b[1;32m    324\u001b[0m             \u001b[0mhook\u001b[0m\u001b[0;34m(\u001b[0m\u001b[0mself\u001b[0m\u001b[0;34m,\u001b[0m \u001b[0minput\u001b[0m\u001b[0;34m)\u001b[0m\u001b[0;34m\u001b[0m\u001b[0m\n\u001b[0;32m--> 325\u001b[0;31m         \u001b[0mresult\u001b[0m \u001b[0;34m=\u001b[0m \u001b[0mself\u001b[0m\u001b[0;34m.\u001b[0m\u001b[0mforward\u001b[0m\u001b[0;34m(\u001b[0m\u001b[0;34m*\u001b[0m\u001b[0minput\u001b[0m\u001b[0;34m,\u001b[0m \u001b[0;34m**\u001b[0m\u001b[0mkwargs\u001b[0m\u001b[0;34m)\u001b[0m\u001b[0;34m\u001b[0m\u001b[0m\n\u001b[0m\u001b[1;32m    326\u001b[0m         \u001b[0;32mfor\u001b[0m \u001b[0mhook\u001b[0m \u001b[0;32min\u001b[0m \u001b[0mself\u001b[0m\u001b[0;34m.\u001b[0m\u001b[0m_forward_hooks\u001b[0m\u001b[0;34m.\u001b[0m\u001b[0mvalues\u001b[0m\u001b[0;34m(\u001b[0m\u001b[0;34m)\u001b[0m\u001b[0;34m:\u001b[0m\u001b[0;34m\u001b[0m\u001b[0m\n\u001b[1;32m    327\u001b[0m             \u001b[0mhook_result\u001b[0m \u001b[0;34m=\u001b[0m \u001b[0mhook\u001b[0m\u001b[0;34m(\u001b[0m\u001b[0mself\u001b[0m\u001b[0;34m,\u001b[0m \u001b[0minput\u001b[0m\u001b[0;34m,\u001b[0m \u001b[0mresult\u001b[0m\u001b[0;34m)\u001b[0m\u001b[0;34m\u001b[0m\u001b[0m\n",
      "\u001b[0;32m<ipython-input-4-4fef3b0727d1>\u001b[0m in \u001b[0;36mforward\u001b[0;34m(self, *args)\u001b[0m\n\u001b[1;32m     19\u001b[0m             \u001b[0;32mpass\u001b[0m\u001b[0;34m\u001b[0m\u001b[0m\n\u001b[1;32m     20\u001b[0m         \u001b[0;32mfor\u001b[0m \u001b[0mappliance\u001b[0m \u001b[0;32min\u001b[0m \u001b[0mrange\u001b[0m\u001b[0;34m(\u001b[0m\u001b[0mself\u001b[0m\u001b[0;34m.\u001b[0m\u001b[0mnum_appliance\u001b[0m\u001b[0;34m)\u001b[0m\u001b[0;34m:\u001b[0m\u001b[0;34m\u001b[0m\u001b[0m\n\u001b[0;32m---> 21\u001b[0;31m             \u001b[0mself\u001b[0m\u001b[0;34m.\u001b[0m\u001b[0mpreds\u001b[0m\u001b[0;34m[\u001b[0m\u001b[0mappliance\u001b[0m\u001b[0;34m]\u001b[0m \u001b[0;34m=\u001b[0m \u001b[0mgetattr\u001b[0m\u001b[0;34m(\u001b[0m\u001b[0mself\u001b[0m\u001b[0;34m,\u001b[0m \u001b[0;34m\"Appliance_\"\u001b[0m \u001b[0;34m+\u001b[0m \u001b[0mstr\u001b[0m\u001b[0;34m(\u001b[0m\u001b[0mappliance\u001b[0m\u001b[0;34m)\u001b[0m\u001b[0;34m)\u001b[0m\u001b[0;34m(\u001b[0m\u001b[0magg_current\u001b[0m\u001b[0;34m)\u001b[0m\u001b[0;34m\u001b[0m\u001b[0m\n\u001b[0m\u001b[1;32m     22\u001b[0m \u001b[0;31m#             if flag:\u001b[0m\u001b[0;34m\u001b[0m\u001b[0;34m\u001b[0m\u001b[0m\n\u001b[1;32m     23\u001b[0m \u001b[0;31m#                 agg_current = agg_current - self.preds[appliance]\u001b[0m\u001b[0;34m\u001b[0m\u001b[0;34m\u001b[0m\u001b[0m\n",
      "\u001b[0;32m~/anaconda3/lib/python3.6/site-packages/torch/nn/modules/module.py\u001b[0m in \u001b[0;36m__call__\u001b[0;34m(self, *input, **kwargs)\u001b[0m\n\u001b[1;32m    323\u001b[0m         \u001b[0;32mfor\u001b[0m \u001b[0mhook\u001b[0m \u001b[0;32min\u001b[0m \u001b[0mself\u001b[0m\u001b[0;34m.\u001b[0m\u001b[0m_forward_pre_hooks\u001b[0m\u001b[0;34m.\u001b[0m\u001b[0mvalues\u001b[0m\u001b[0;34m(\u001b[0m\u001b[0;34m)\u001b[0m\u001b[0;34m:\u001b[0m\u001b[0;34m\u001b[0m\u001b[0m\n\u001b[1;32m    324\u001b[0m             \u001b[0mhook\u001b[0m\u001b[0;34m(\u001b[0m\u001b[0mself\u001b[0m\u001b[0;34m,\u001b[0m \u001b[0minput\u001b[0m\u001b[0;34m)\u001b[0m\u001b[0;34m\u001b[0m\u001b[0m\n\u001b[0;32m--> 325\u001b[0;31m         \u001b[0mresult\u001b[0m \u001b[0;34m=\u001b[0m \u001b[0mself\u001b[0m\u001b[0;34m.\u001b[0m\u001b[0mforward\u001b[0m\u001b[0;34m(\u001b[0m\u001b[0;34m*\u001b[0m\u001b[0minput\u001b[0m\u001b[0;34m,\u001b[0m \u001b[0;34m**\u001b[0m\u001b[0mkwargs\u001b[0m\u001b[0;34m)\u001b[0m\u001b[0;34m\u001b[0m\u001b[0m\n\u001b[0m\u001b[1;32m    326\u001b[0m         \u001b[0;32mfor\u001b[0m \u001b[0mhook\u001b[0m \u001b[0;32min\u001b[0m \u001b[0mself\u001b[0m\u001b[0;34m.\u001b[0m\u001b[0m_forward_hooks\u001b[0m\u001b[0;34m.\u001b[0m\u001b[0mvalues\u001b[0m\u001b[0;34m(\u001b[0m\u001b[0;34m)\u001b[0m\u001b[0;34m:\u001b[0m\u001b[0;34m\u001b[0m\u001b[0m\n\u001b[1;32m    327\u001b[0m             \u001b[0mhook_result\u001b[0m \u001b[0;34m=\u001b[0m \u001b[0mhook\u001b[0m\u001b[0;34m(\u001b[0m\u001b[0mself\u001b[0m\u001b[0;34m,\u001b[0m \u001b[0minput\u001b[0m\u001b[0;34m,\u001b[0m \u001b[0mresult\u001b[0m\u001b[0;34m)\u001b[0m\u001b[0;34m\u001b[0m\u001b[0m\n",
      "\u001b[0;32m<ipython-input-3-fa43cec2f7ce>\u001b[0m in \u001b[0;36mforward\u001b[0;34m(self, input)\u001b[0m\n\u001b[1;32m     25\u001b[0m \u001b[0;34m\u001b[0m\u001b[0m\n\u001b[1;32m     26\u001b[0m         \u001b[0me1\u001b[0m \u001b[0;34m=\u001b[0m \u001b[0mself\u001b[0m\u001b[0;34m.\u001b[0m\u001b[0mconv1\u001b[0m\u001b[0;34m(\u001b[0m\u001b[0minput\u001b[0m\u001b[0;34m)\u001b[0m\u001b[0;34m\u001b[0m\u001b[0m\n\u001b[0;32m---> 27\u001b[0;31m         \u001b[0mbn1\u001b[0m \u001b[0;34m=\u001b[0m \u001b[0mself\u001b[0m\u001b[0;34m.\u001b[0m\u001b[0mbn1\u001b[0m\u001b[0;34m(\u001b[0m\u001b[0mself\u001b[0m\u001b[0;34m.\u001b[0m\u001b[0mact\u001b[0m\u001b[0;34m(\u001b[0m\u001b[0me1\u001b[0m\u001b[0;34m)\u001b[0m\u001b[0;34m)\u001b[0m\u001b[0;34m\u001b[0m\u001b[0m\n\u001b[0m\u001b[1;32m     28\u001b[0m         \u001b[0me2\u001b[0m \u001b[0;34m=\u001b[0m \u001b[0mself\u001b[0m\u001b[0;34m.\u001b[0m\u001b[0mbn2\u001b[0m\u001b[0;34m(\u001b[0m\u001b[0mself\u001b[0m\u001b[0;34m.\u001b[0m\u001b[0mconv2\u001b[0m\u001b[0;34m(\u001b[0m\u001b[0mbn1\u001b[0m\u001b[0;34m)\u001b[0m\u001b[0;34m)\u001b[0m\u001b[0;34m\u001b[0m\u001b[0m\n\u001b[1;32m     29\u001b[0m \u001b[0;31m#         e3 = self.bn3(self.conv3(e2))\u001b[0m\u001b[0;34m\u001b[0m\u001b[0;34m\u001b[0m\u001b[0m\n",
      "\u001b[0;32m~/anaconda3/lib/python3.6/site-packages/torch/nn/modules/module.py\u001b[0m in \u001b[0;36m__call__\u001b[0;34m(self, *input, **kwargs)\u001b[0m\n\u001b[1;32m    323\u001b[0m         \u001b[0;32mfor\u001b[0m \u001b[0mhook\u001b[0m \u001b[0;32min\u001b[0m \u001b[0mself\u001b[0m\u001b[0;34m.\u001b[0m\u001b[0m_forward_pre_hooks\u001b[0m\u001b[0;34m.\u001b[0m\u001b[0mvalues\u001b[0m\u001b[0;34m(\u001b[0m\u001b[0;34m)\u001b[0m\u001b[0;34m:\u001b[0m\u001b[0;34m\u001b[0m\u001b[0m\n\u001b[1;32m    324\u001b[0m             \u001b[0mhook\u001b[0m\u001b[0;34m(\u001b[0m\u001b[0mself\u001b[0m\u001b[0;34m,\u001b[0m \u001b[0minput\u001b[0m\u001b[0;34m)\u001b[0m\u001b[0;34m\u001b[0m\u001b[0m\n\u001b[0;32m--> 325\u001b[0;31m         \u001b[0mresult\u001b[0m \u001b[0;34m=\u001b[0m \u001b[0mself\u001b[0m\u001b[0;34m.\u001b[0m\u001b[0mforward\u001b[0m\u001b[0;34m(\u001b[0m\u001b[0;34m*\u001b[0m\u001b[0minput\u001b[0m\u001b[0;34m,\u001b[0m \u001b[0;34m**\u001b[0m\u001b[0mkwargs\u001b[0m\u001b[0;34m)\u001b[0m\u001b[0;34m\u001b[0m\u001b[0m\n\u001b[0m\u001b[1;32m    326\u001b[0m         \u001b[0;32mfor\u001b[0m \u001b[0mhook\u001b[0m \u001b[0;32min\u001b[0m \u001b[0mself\u001b[0m\u001b[0;34m.\u001b[0m\u001b[0m_forward_hooks\u001b[0m\u001b[0;34m.\u001b[0m\u001b[0mvalues\u001b[0m\u001b[0;34m(\u001b[0m\u001b[0;34m)\u001b[0m\u001b[0;34m:\u001b[0m\u001b[0;34m\u001b[0m\u001b[0m\n\u001b[1;32m    327\u001b[0m             \u001b[0mhook_result\u001b[0m \u001b[0;34m=\u001b[0m \u001b[0mhook\u001b[0m\u001b[0;34m(\u001b[0m\u001b[0mself\u001b[0m\u001b[0;34m,\u001b[0m \u001b[0minput\u001b[0m\u001b[0;34m,\u001b[0m \u001b[0mresult\u001b[0m\u001b[0;34m)\u001b[0m\u001b[0;34m\u001b[0m\u001b[0m\n",
      "\u001b[0;32m~/anaconda3/lib/python3.6/site-packages/torch/nn/modules/activation.py\u001b[0m in \u001b[0;36mforward\u001b[0;34m(self, input)\u001b[0m\n\u001b[1;32m     41\u001b[0m \u001b[0;34m\u001b[0m\u001b[0m\n\u001b[1;32m     42\u001b[0m     \u001b[0;32mdef\u001b[0m \u001b[0mforward\u001b[0m\u001b[0;34m(\u001b[0m\u001b[0mself\u001b[0m\u001b[0;34m,\u001b[0m \u001b[0minput\u001b[0m\u001b[0;34m)\u001b[0m\u001b[0;34m:\u001b[0m\u001b[0;34m\u001b[0m\u001b[0m\n\u001b[0;32m---> 43\u001b[0;31m         \u001b[0;32mreturn\u001b[0m \u001b[0mF\u001b[0m\u001b[0;34m.\u001b[0m\u001b[0mthreshold\u001b[0m\u001b[0;34m(\u001b[0m\u001b[0minput\u001b[0m\u001b[0;34m,\u001b[0m \u001b[0mself\u001b[0m\u001b[0;34m.\u001b[0m\u001b[0mthreshold\u001b[0m\u001b[0;34m,\u001b[0m \u001b[0mself\u001b[0m\u001b[0;34m.\u001b[0m\u001b[0mvalue\u001b[0m\u001b[0;34m,\u001b[0m \u001b[0mself\u001b[0m\u001b[0;34m.\u001b[0m\u001b[0minplace\u001b[0m\u001b[0;34m)\u001b[0m\u001b[0;34m\u001b[0m\u001b[0m\n\u001b[0m\u001b[1;32m     44\u001b[0m \u001b[0;34m\u001b[0m\u001b[0m\n\u001b[1;32m     45\u001b[0m     \u001b[0;32mdef\u001b[0m \u001b[0m__repr__\u001b[0m\u001b[0;34m(\u001b[0m\u001b[0mself\u001b[0m\u001b[0;34m)\u001b[0m\u001b[0;34m:\u001b[0m\u001b[0;34m\u001b[0m\u001b[0m\n",
      "\u001b[0;31mRuntimeError\u001b[0m: cuda runtime error (2) : out of memory at /opt/conda/conda-bld/pytorch_1512386481460/work/torch/lib/THC/generic/THCStorage.cu:58"
     ]
    }
   ],
   "source": [
    "p = 0\n",
    "num_iterations = 20000\n",
    "params = [inp, p]\n",
    "for a_num, appliance in enumerate(ORDER):\n",
    "    params.append(out_train[a_num])\n",
    "        \n",
    "for t in range(1, num_iterations+1):\n",
    "  \n",
    "    if cuda_av:\n",
    "        train_out = train_out.cuda()\n",
    "\n",
    "    \n",
    "    pred = model(*params)\n",
    "\n",
    "    optimizer.zero_grad()\n",
    "    loss = loss_func(pred, train_out)\n",
    "    if t % 500 == 0:\n",
    "\n",
    "        if cuda_av:\n",
    "            valid_inp = valid_inp.cuda()\n",
    "        valid_params = [valid_inp, -2]\n",
    "        for i in range(len(ORDER)):\n",
    "            valid_params.append(None)\n",
    "        valid_pr = model(*valid_params)\n",
    "        valid_loss = loss_func(valid_pr, valid_out)\n",
    "\n",
    "        if cuda_av:\n",
    "            test_inp = test_inp.cuda()\n",
    "        test_params = [test_inp, -2]\n",
    "        for i in range(len(ORDER)):\n",
    "            test_params.append(None)\n",
    "        test_pr = model(*test_params)\n",
    "        test_loss = loss_func(test_pr, test_out)\n",
    "\n",
    "        test_losses[t] = test_loss.data[0]\n",
    "        valid_losses[t] = valid_loss.data[0]\n",
    "        # np.save(\"./baseline/p_50_loss\")\n",
    "\n",
    "        if t % 1000 == 0:\n",
    "            valid_pr = torch.clamp(valid_pr, min=0.)\n",
    "            valid_pred[t] = valid_pr\n",
    "            test_pr = torch.clamp(test_pr, min=0.)\n",
    "            test_pred[t] = test_pr\n",
    "            train_pr = pred\n",
    "            train_pr = torch.clamp(train_pr, min=0.)\n",
    "            train_pred[t] = train_pr\n",
    "\n",
    "        print(\"Round:\", t, \"Training Error:\", loss.data[0], \"Validation Error:\", valid_loss.data[0], \"Test Error:\", test_loss.data[0])\n",
    "\n",
    "    loss.backward()\n",
    "    optimizer.step()\n",
    "\n"
   ]
  }
 ],
 "metadata": {
  "kernelspec": {
   "display_name": "Python 3",
   "language": "python",
   "name": "python3"
  },
  "language_info": {
   "codemirror_mode": {
    "name": "ipython",
    "version": 3
   },
   "file_extension": ".py",
   "mimetype": "text/x-python",
   "name": "python",
   "nbconvert_exporter": "python",
   "pygments_lexer": "ipython3",
   "version": "3.5.2"
  }
 },
 "nbformat": 4,
 "nbformat_minor": 2
}
