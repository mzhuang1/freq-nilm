{
 "cells": [
  {
   "cell_type": "code",
   "execution_count": 1,
   "metadata": {
    "collapsed": true
   },
   "outputs": [],
   "source": [
    "import torch\n",
    "from torch.autograd import Variable\n",
    "import numpy as np\n",
    "import torch.nn as nn\n",
    "from torchvision import datasets,transforms\n",
    "import torch.nn.functional as F\n",
    "import sys\n",
    "sys.path.append(\"../code/\")\n",
    "from dataloader import APPLIANCE_ORDER, get_train_test\n",
    "from sklearn.metrics import mean_absolute_error\n",
    "import os\n",
    "import pandas as pd\n",
    "import sys\n",
    "import numpy as np\n",
    "import matplotlib.pyplot as plt\n",
    "sys.path.append('../code/')\n",
    "%matplotlib inline\n",
    "import itertools\n",
    "from pathlib import Path"
   ]
  },
  {
   "cell_type": "code",
   "execution_count": 2,
   "metadata": {
    "collapsed": true
   },
   "outputs": [],
   "source": [
    "def onoff_error(pred, gt, threshold):\n",
    "    abs_error = np.abs(pred-gt)\n",
    "    error = [x for x in abs_error.reshape(1, -1).tolist()[0] if x >= threshold]\n",
    "    \n",
    "    return np.mean(error)"
   ]
  },
  {
   "cell_type": "code",
   "execution_count": 76,
   "metadata": {
    "scrolled": false
   },
   "outputs": [
    {
     "name": "stdout",
     "output_type": "stream",
     "text": [
      "0\n"
     ]
    }
   ],
   "source": [
    "dataset = 5\n",
    "gid = 0\n",
    "srv = 1\n",
    "c = 0\n",
    "cmd = {}\n",
    "rnn_tree_valid_error = {}\n",
    "num_iterations = 3000\n",
    "lr = 0.01\n",
    "p = 0.0\n",
    "bidirectional = True\n",
    "hidden_size = 50\n",
    "for fold_num in range(5):\n",
    "    rnn_tree_valid_error[fold_num] = {}\n",
    "    for cell_type in ['GRU', 'LSTM', 'RNN']:\n",
    "        rnn_tree_valid_error[fold_num][cell_type] = {}\n",
    "        for num_layers in [1, 2]:\n",
    "            rnn_tree_valid_error[fold_num][cell_type][num_layers] = {}\n",
    "            for order in list(itertools.permutations(['hvac', 'fridge', 'dr', 'dw', 'mw', 'residual'])):\n",
    "    #             print(fold_num, lr, order)\n",
    "    #             if order[0] == 'hvac':\n",
    "    #                 continue\n",
    "                o = \"\\', \\'\".join(str(x) for x in order)\n",
    "                rnn_tree_valid_error[fold_num][cell_type][num_layers][order] = {}\n",
    "                directory = \"../code/baseline/rnn-tree/\"\n",
    "                folder = \"{}/{}/{}/{}/{}/{}/{}/{}/{}/\".format(dataset, fold_num, cell_type, hidden_size, \n",
    "                                                              num_layers, bidirectional, lr, num_iterations, p)\n",
    "                filename = \"test-error-{}-{}-{}-{}-{}-{}-{}-{}-{}-[\\'{}\\'].npy\".format(fold_num, dataset, cell_type, \n",
    "                                                                                        hidden_size, num_layers, \n",
    "                                                                                        bidirectional, lr, num_iterations,\n",
    "                                                                                        p, o)\n",
    "                                                                                        \n",
    "                full_path = directory + folder + filename\n",
    "                my_file = Path(full_path)\n",
    "                if not my_file.exists():\n",
    "                    print(full_path)\n",
    "                    o = \" \".join(str(x) for x in order)\n",
    "                    line = (\"CUDA_VISIBLE_DEVICES={} python cnn-tree.py 3 {} {} 0 {} {} &\".format(gid, lr, num_iterations, fold_num, o))\n",
    "    #                 print(line)\n",
    "\n",
    "                    c += 1\n",
    "                    if c%1 == 0:\n",
    "                        gid+=1\n",
    "                    if gid == 4:\n",
    "                        gid = 0\n",
    "                        srv += 1\n",
    "                else:\n",
    "                    rnn_tree_valid_error[fold_num][cell_type][num_layers][order] = np.load(full_path).item()\n",
    "\n",
    "print(c)                               "
   ]
  },
  {
   "cell_type": "code",
   "execution_count": 54,
   "metadata": {},
   "outputs": [
    {
     "name": "stdout",
     "output_type": "stream",
     "text": [
      "dr 725.849570636\n",
      "dw 285.780713239\n",
      "mw 31.7082756317\n"
     ]
    }
   ],
   "source": [
    "tensor = np.load(\"../2015-5appliances.numpy.npy\")\n",
    "dr = tensor[:, 3]\n",
    "\n",
    "# calculate gt\n",
    "test_gt = {}\n",
    "valid_gt = {}\n",
    "for fold_num in range(5):\n",
    "    test_gt[fold_num] = {}\n",
    "    valid_gt[fold_num] = {}\n",
    "    train, test = get_train_test(1, 5, fold_num)\n",
    "    valid = train[int(0.8*len(train)):].copy()\n",
    "    for idx, appliance in enumerate(APPLIANCE_ORDER[1:-1]):\n",
    "        test_gt[fold_num][appliance] = test[:, idx+1]\n",
    "        valid_gt[fold_num][appliance] = valid[:, idx+1]\n",
    "        \n",
    "threshold = {}\n",
    "for appliance in ['dr', 'dw', 'mw']:\n",
    "    sample_list = []\n",
    "    for fold_num in range(5):\n",
    "        sample_list = np.append(sample_list, [x for x in test_gt[fold_num][appliance].reshape(1, -1).tolist()[0] if x > 5])\n",
    "    mean = np.mean(sample_list)\n",
    "    print(appliance, mean)\n",
    "    threshold[appliance] = 0.1*mean"
   ]
  },
  {
   "cell_type": "code",
   "execution_count": 77,
   "metadata": {
    "collapsed": true
   },
   "outputs": [],
   "source": [
    "rnn_tree_best_param = {}\n",
    "for fold_num in range(5):\n",
    "    rnn_tree_best_param[fold_num] = {}\n",
    "    min_error = np.inf\n",
    "    for cell_type in ['GRU', 'LSTM', 'RNN']:\n",
    "        for num_layers in [1, 2]:\n",
    "            for order in list(itertools.permutations(['hvac', 'fridge', 'dr', 'dw', 'mw', 'residual'])):\n",
    "                for it in range(1000, 3001, 1000):\n",
    "                    error = 0\n",
    "                    try:\n",
    "                        for idx, appliance in enumerate(order):\n",
    "                            if appliance == 'residual':\n",
    "                                continue\n",
    "                            error += rnn_tree_valid_error[fold_num][cell_type][num_layers][order][it][appliance]\n",
    "#                             if appliance in ['hvac', 'fridge']:\n",
    "#                                 error += mean_absolute_error(rnn_tree_valid_error[fold_num][cell_type][num_layers][order][it][appliance].reshape(-1, 24),\n",
    "#                                                             valid_gt[fold_num][appliance].reshape(-1, 24))\n",
    "#                             else:\n",
    "#                                 error += onoff_error(rnn_tree_valid_error[fold_num][cell_type][num_layers][order][it][appliance].reshape(-1, 24),\n",
    "#                                                             valid_gt[fold_num][appliance].reshape(-1, 24), threshold[appliance])\n",
    "#                             print(error)\n",
    "                        if error < min_error:\n",
    "                            min_error = error\n",
    "                            rnn_tree_best_param[fold_num]['cell_type'] = cell_type\n",
    "                            rnn_tree_best_param[fold_num]['order'] = order\n",
    "                            rnn_tree_best_param[fold_num]['iters'] = it\n",
    "                            rnn_tree_best_param[fold_num]['num_layers'] = num_layers\n",
    "                    except:\n",
    "                        continue\n",
    "\n",
    "                    "
   ]
  },
  {
   "cell_type": "code",
   "execution_count": 78,
   "metadata": {
    "collapsed": true
   },
   "outputs": [
    {
     "data": {
      "text/plain": [
       "{0: {'cell_type': 'LSTM',\n",
       "  'iters': 3000,\n",
       "  'num_layers': 2,\n",
       "  'order': ('mw', 'hvac', 'fridge', 'residual', 'dw', 'dr')},\n",
       " 1: {'cell_type': 'RNN',\n",
       "  'iters': 3000,\n",
       "  'num_layers': 1,\n",
       "  'order': ('fridge', 'residual', 'dr', 'dw', 'hvac', 'mw')},\n",
       " 2: {'cell_type': 'LSTM',\n",
       "  'iters': 3000,\n",
       "  'num_layers': 2,\n",
       "  'order': ('dw', 'dr', 'fridge', 'residual', 'hvac', 'mw')},\n",
       " 3: {'cell_type': 'LSTM',\n",
       "  'iters': 3000,\n",
       "  'num_layers': 2,\n",
       "  'order': ('mw', 'dw', 'fridge', 'residual', 'hvac', 'dr')},\n",
       " 4: {'cell_type': 'LSTM',\n",
       "  'iters': 3000,\n",
       "  'num_layers': 2,\n",
       "  'order': ('mw', 'fridge', 'residual', 'dr', 'dw', 'hvac')}}"
      ]
     },
     "execution_count": 78,
     "metadata": {},
     "output_type": "execute_result"
    }
   ],
   "source": [
    "best_rnn_tree = rnn_tree_best_param\n",
    "best_rnn_tree"
   ]
  },
  {
   "cell_type": "code",
   "execution_count": 79,
   "metadata": {},
   "outputs": [],
   "source": [
    "e = {}\n",
    "for fold_num in range(5):\n",
    "    cell_type = rnn_tree_best_param[fold_num]['cell_type']\n",
    "    order = rnn_tree_best_param[fold_num]['order']\n",
    "    it = rnn_tree_best_param[fold_num]['iters']\n",
    "    num_layers = rnn_tree_best_param[fold_num]['num_layers']\n",
    "    o = \"\\', \\'\".join(str(x) for x in order)\n",
    "    e[fold_num] = pd.Series(rnn_tree_valid_error[fold_num][cell_type][num_layers][order][it])"
   ]
  },
  {
   "cell_type": "code",
   "execution_count": 80,
   "metadata": {},
   "outputs": [
    {
     "data": {
      "text/plain": [
       "dr           67.157928\n",
       "dw           15.433289\n",
       "fridge       30.019916\n",
       "hvac        337.689863\n",
       "mw            8.431509\n",
       "residual    490.327572\n",
       "dtype: float64"
      ]
     },
     "execution_count": 80,
     "metadata": {},
     "output_type": "execute_result"
    }
   ],
   "source": [
    "pd.DataFrame(e).mean(axis=1)"
   ]
  },
  {
   "cell_type": "code",
   "execution_count": 81,
   "metadata": {
    "collapsed": true
   },
   "outputs": [],
   "source": [
    "# get prediction for cnn tree\n",
    "rnn_tree_pred = {}\n",
    "for fold_num in range(5):\n",
    "    rnn_tree_pred[fold_num] = {}\n",
    "        \n",
    "    \n",
    "    cell_type = rnn_tree_best_param[fold_num]['cell_type']\n",
    "    order = rnn_tree_best_param[fold_num]['order']\n",
    "    it = rnn_tree_best_param[fold_num]['iters']\n",
    "    num_layers = rnn_tree_best_param[fold_num]['num_layers']\n",
    "\n",
    "    o = \"\\', \\'\".join(str(x) for x in order)\n",
    "    \n",
    "    directory = \"../code/baseline/rnn-tree/\"\n",
    "    folder = \"{}/{}/{}/{}/{}/{}/{}/{}/{}/\".format(dataset, fold_num, cell_type, hidden_size, \n",
    "                                                  num_layers, bidirectional, lr, 3000, p)\n",
    "    filename = \"test-pred-{}-{}-{}-{}-{}-{}-{}-{}-{}-[\\'{}\\'].npy\".format(fold_num, dataset, cell_type, \n",
    "                                                                                        hidden_size, num_layers, \n",
    "                                                                                        bidirectional, lr, 3000,\n",
    "                                                                                        p, o)\n",
    "                      \n",
    "\n",
    "    full_path = directory + folder + filename\n",
    "    rnn_pred = np.asarray(np.load(full_path).item()[it])\n",
    "    \n",
    "    for idx, appliance in enumerate(order):\n",
    "        rnn_tree_pred[fold_num][appliance] = rnn_pred[idx].reshape(-1, 1, 112,24)\n",
    "    "
   ]
  },
  {
   "cell_type": "code",
   "execution_count": 40,
   "metadata": {
    "collapsed": true
   },
   "outputs": [],
   "source": [
    "def calculate_error(pred, gt, threshold):\n",
    "    error = {}\n",
    "    overall = {}\n",
    "    num_homes = {}\n",
    "    \n",
    "    # calculte number of homes in each fold\n",
    "    for fold_num in range(5):\n",
    "        num_homes[fold_num] = gt[fold_num]['hvac'].reshape(-1, 1, 112,24).shape[0]\n",
    "    homes = pd.Series(num_homes).sum()\n",
    "    \n",
    "    # for Constantly On appliances: hvac and fridge\n",
    "    for appliance in ['hvac', 'fridge', 'dr', 'dw', 'mw']:\n",
    "        overall[appliance] = 0\n",
    "        error[appliance] = {}\n",
    "        for fold_num in range(5):\n",
    "            error[appliance][fold_num] = mean_absolute_error(pred[fold_num][appliance].reshape(-1, 24), \n",
    "                                                             gt[fold_num][appliance].reshape(-1, 24))\n",
    "            overall[appliance] += error[appliance][fold_num]*num_homes[fold_num]\n",
    "        overall[appliance] /= homes\n",
    "        \n",
    "    # for ON/OFF appliances: dryer, dishwasher and microwave\n",
    "#     for appliance in ['dr', 'dw', 'mw']:\n",
    "#         error[appliance] = {}\n",
    "#         overall[appliance] = 0                                                                \n",
    "#         for fold_num in range(5):\n",
    "#             error[appliance][fold_num] = onoff_error(pred[fold_num][appliance].reshape(-1, 24), \n",
    "#                                                      gt[fold_num][appliance].reshape(-1, 24), threshold[appliance])\n",
    "#             overall[appliance] += error[appliance][fold_num]*num_homes[fold_num]\n",
    "#         overall[appliance] /= homes\n",
    "    \n",
    "    \n",
    "    return error, overall"
   ]
  },
  {
   "cell_type": "code",
   "execution_count": 82,
   "metadata": {},
   "outputs": [
    {
     "data": {
      "text/plain": [
       "dr         66.950190\n",
       "dw         15.444522\n",
       "fridge     29.997301\n",
       "hvac      337.350723\n",
       "mw          8.413974\n",
       "dtype: float64"
      ]
     },
     "execution_count": 82,
     "metadata": {},
     "output_type": "execute_result"
    }
   ],
   "source": [
    "pd.Series(calculate_error(rnn_tree_pred, test_gt, threshold)[1])"
   ]
  },
  {
   "cell_type": "code",
   "execution_count": 42,
   "metadata": {},
   "outputs": [],
   "source": [
    "active_threshold = {'hvac':230, 'fridge':20, 'dr':250, 'dw':55, 'mw':10}\n",
    "num_homes = {0:14, 1:14, 2:14, 3:13, 4:13}"
   ]
  },
  {
   "cell_type": "code",
   "execution_count": 43,
   "metadata": {},
   "outputs": [],
   "source": [
    "active = {}\n",
    "for dataset in [1, 3]:\n",
    "    active[dataset] = {}\n",
    "    for fold_num in range(5):\n",
    "        active[dataset][fold_num] = {}\n",
    "        for idx, appliance in enumerate(APPLIANCE_ORDER[1:-1]):\n",
    "            active[dataset][fold_num][appliance] = (test_gt[fold_num][appliance] > active_threshold[appliance])*1"
   ]
  },
  {
   "cell_type": "code",
   "execution_count": 44,
   "metadata": {},
   "outputs": [],
   "source": [
    "# calculate gt\n",
    "test_gt = {}\n",
    "valid_gt = {}\n",
    "for fold_num in range(5):\n",
    "    test_gt[fold_num] = {}\n",
    "    valid_gt[fold_num] = {}\n",
    "    train, test = get_train_test(1, 5, fold_num)\n",
    "    valid = train[int(0.8*len(train)):].copy()\n",
    "    for idx, appliance in enumerate(APPLIANCE_ORDER[1:-1]):\n",
    "        test_gt[fold_num][appliance] = test[:, idx+1]\n",
    "        valid_gt[fold_num][appliance] = valid[:, idx+1]"
   ]
  },
  {
   "cell_type": "code",
   "execution_count": 83,
   "metadata": {},
   "outputs": [
    {
     "name": "stdout",
     "output_type": "stream",
     "text": [
      "Dataset  3\n",
      "hvac\n",
      "active error 389.827301951\n",
      "inactive error 188.689091963\n",
      "fridge\n",
      "active error 29.0661087485\n",
      "inactive error 71.0407359471\n",
      "dr\n",
      "active error 1303.39629653\n",
      "inactive error 2.39254857712\n",
      "dw\n",
      "active error 369.526442217\n",
      "inactive error 0.414199764314\n",
      "mw\n",
      "active error 56.9265551837\n",
      "inactive error 2.20991661404\n"
     ]
    }
   ],
   "source": [
    "error = {}\n",
    "for dataset in [3]:\n",
    "    error[dataset] = {}\n",
    "    for method in ['sc']:\n",
    "        error[dataset][method] = {}\n",
    "        error[dataset][method]['Active Error'] = {}\n",
    "        error[dataset][method]['Inactive Error'] = {} \n",
    "        print(\"Dataset \", dataset)\n",
    "        for idx, appliance in enumerate(APPLIANCE_ORDER[1:-1]):\n",
    "            active_error = []\n",
    "            inactive_error = []\n",
    "            print(appliance)\n",
    "            for fold_num in range(5):\n",
    "                abs_error = np.abs(rnn_tree_pred[fold_num][appliance].reshape(-1, 112, 24)-test_gt[fold_num][appliance])\n",
    "                active_error.append(abs_error[active[dataset][fold_num][appliance] == 1])\n",
    "                inactive_error.append(abs_error[active[dataset][fold_num][appliance] == 0])\n",
    "    #             print(appliance, fold_num, abs_error[active[dataset][fold_num][appliance] == 1].mean())\n",
    "            print(\"active error\", np.hstack(active_error).mean())\n",
    "            print(\"inactive error\", np.hstack(inactive_error).mean())\n",
    "\n"
   ]
  }
 ],
 "metadata": {
  "kernelspec": {
   "display_name": "Python 3",
   "language": "python",
   "name": "python3"
  },
  "language_info": {
   "codemirror_mode": {
    "name": "ipython",
    "version": 3
   },
   "file_extension": ".py",
   "mimetype": "text/x-python",
   "name": "python",
   "nbconvert_exporter": "python",
   "pygments_lexer": "ipython3",
   "version": "3.6.3"
  }
 },
 "nbformat": 4,
 "nbformat_minor": 2
}
