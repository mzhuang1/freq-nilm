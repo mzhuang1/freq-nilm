{
 "cells": [
  {
   "cell_type": "code",
   "execution_count": 1,
   "metadata": {
    "collapsed": true
   },
   "outputs": [],
   "source": [
    "import torch\n",
    "from torch.autograd import Variable\n",
    "import numpy as np\n",
    "import torch.nn as nn\n",
    "from torchvision import datasets,transforms\n",
    "import torch.nn.functional as F\n",
    "import sys\n",
    "sys.path.append(\"../code/\")\n",
    "from dataloader import APPLIANCE_ORDER, get_train_test\n",
    "from sklearn.metrics import mean_absolute_error\n",
    "import os\n",
    "import pandas as pd\n",
    "import sys\n",
    "import numpy as np\n",
    "import matplotlib.pyplot as plt\n",
    "sys.path.append('../code/')\n",
    "%matplotlib inline\n",
    "import itertools\n",
    "from pathlib import Path"
   ]
  },
  {
   "cell_type": "code",
   "execution_count": 2,
   "metadata": {
    "collapsed": true
   },
   "outputs": [],
   "source": [
    "tensor = np.load(\"../2015-5appliances.numpy.npy\")\n",
    "dr = tensor[:, 3]"
   ]
  },
  {
   "cell_type": "code",
   "execution_count": 14,
   "metadata": {},
   "outputs": [
    {
     "data": {
      "text/plain": [
       "(array([  1.74699000e+05,   2.18000000e+03,   1.91800000e+03,\n",
       "          1.58800000e+03,   1.20900000e+03,   6.58000000e+02,\n",
       "          2.87000000e+02,   1.65000000e+02,   5.80000000e+01,\n",
       "          2.20000000e+01]),\n",
       " array([    0.        ,   436.41166992,   872.82333984,  1309.23500977,\n",
       "         1745.64667969,  2182.05834961,  2618.47001953,  3054.88168945,\n",
       "         3491.29335937,  3927.7050293 ,  4364.11669922]),\n",
       " <a list of 10 Patch objects>)"
      ]
     },
     "execution_count": 14,
     "metadata": {},
     "output_type": "execute_result"
    },
    {
     "data": {
      "image/png": "[encoded data removed]",
      "text/plain": [
       "<matplotlib.figure.Figure at 0x7fe6c7c59550>"
      ]
     },
     "metadata": {},
     "output_type": "display_data"
    }
   ],
   "source": [
    "# for dryer\n",
    "plt.hist(dr.reshape(1, -1)[0])"
   ]
  },
  {
   "cell_type": "code",
   "execution_count": 57,
   "metadata": {
    "collapsed": true
   },
   "outputs": [],
   "source": [
    "hvac = tensor[:, 1]\n",
    "fridge = tensor[: ,2]"
   ]
  },
  {
   "cell_type": "code",
   "execution_count": 62,
   "metadata": {},
   "outputs": [
    {
     "data": {
      "text/plain": [
       "273.18536700080421"
      ]
     },
     "execution_count": 62,
     "metadata": {},
     "output_type": "execute_result"
    }
   ],
   "source": [
    "hvac.max(axis=1).max(axis=1).mean()*0.1"
   ]
  },
  {
   "cell_type": "code",
   "execution_count": 63,
   "metadata": {},
   "outputs": [
    {
     "data": {
      "text/plain": [
       "25.11936264038086"
      ]
     },
     "execution_count": 63,
     "metadata": {},
     "output_type": "execute_result"
    }
   ],
   "source": [
    "fridge.max(axis=1).max(axis=1).mean()*0.1"
   ]
  },
  {
   "cell_type": "code",
   "execution_count": 64,
   "metadata": {},
   "outputs": [
    {
     "data": {
      "text/plain": [
       "299.77433740952438"
      ]
     },
     "execution_count": 64,
     "metadata": {},
     "output_type": "execute_result"
    }
   ],
   "source": [
    "dr.max(axis=1).max(axis=1).mean()*0.1"
   ]
  },
  {
   "cell_type": "code",
   "execution_count": 65,
   "metadata": {},
   "outputs": [
    {
     "data": {
      "text/plain": [
       "67.115244990411938"
      ]
     },
     "execution_count": 65,
     "metadata": {},
     "output_type": "execute_result"
    }
   ],
   "source": [
    "dw.max(axis=1).max(axis=1).mean()*0.1"
   ]
  },
  {
   "cell_type": "code",
   "execution_count": 66,
   "metadata": {},
   "outputs": [
    {
     "data": {
      "text/plain": [
       "31.462867557301241"
      ]
     },
     "execution_count": 66,
     "metadata": {},
     "output_type": "execute_result"
    }
   ],
   "source": [
    "mw.max(axis=1).max(axis=1).mean()*0.1"
   ]
  },
  {
   "cell_type": "code",
   "execution_count": 83,
   "metadata": {
    "collapsed": true
   },
   "outputs": [],
   "source": [
    "on_threshold = {}\n",
    "for idx, appliance in enumerate(APPLIANCE_ORDER[1:-1]):\n",
    "    app = tensor[:, idx+1, :, :]\n",
    "    on_threshold[appliance] = app.max(axis=1).max(axis=1).mean()*0.14"
   ]
  },
  {
   "cell_type": "code",
   "execution_count": 84,
   "metadata": {},
   "outputs": [
    {
     "data": {
      "text/plain": [
       "{'dr': 419.68407237333417,\n",
       " 'dw': 93.96134298657671,\n",
       " 'fridge': 35.167107696533208,\n",
       " 'hvac': 382.45951380112592,\n",
       " 'mw': 44.048014580221739}"
      ]
     },
     "execution_count": 84,
     "metadata": {},
     "output_type": "execute_result"
    }
   ],
   "source": [
    "on_threshold"
   ]
  },
  {
   "cell_type": "code",
   "execution_count": 43,
   "metadata": {},
   "outputs": [
    {
     "data": {
      "text/plain": [
       "<matplotlib.axes._subplots.AxesSubplot at 0x7fe6c1954e10>"
      ]
     },
     "execution_count": 43,
     "metadata": {},
     "output_type": "execute_result"
    },
    {
     "data": {
      "image/png": "[encoded data removed]",
      "text/plain": [
       "<matplotlib.figure.Figure at 0x7fe6bf9784a8>"
      ]
     },
     "metadata": {},
     "output_type": "display_data"
    }
   ],
   "source": [
    "pd.Series(mw[0][0]).plot()"
   ]
  },
  {
   "cell_type": "code",
   "execution_count": 10,
   "metadata": {},
   "outputs": [
    {
     "data": {
      "text/plain": [
       "(array([  1.75940000e+05,   1.31700000e+03,   1.18500000e+03,\n",
       "          1.47000000e+03,   1.10500000e+03,   7.48000000e+02,\n",
       "          4.66000000e+02,   3.31000000e+02,   2.07000000e+02,\n",
       "          1.50000000e+01]),\n",
       " array([    0.        ,   102.1666687 ,   204.3333374 ,   306.5000061 ,\n",
       "          408.6666748 ,   510.83334351,   613.00001221,   715.16668091,\n",
       "          817.33334961,   919.50001831,  1021.66668701]),\n",
       " <a list of 10 Patch objects>)"
      ]
     },
     "execution_count": 10,
     "metadata": {},
     "output_type": "execute_result"
    },
    {
     "data": {
      "image/png": "[encoded data removed]",
      "text/plain": [
       "<matplotlib.figure.Figure at 0x7fe7485c2d30>"
      ]
     },
     "metadata": {},
     "output_type": "display_data"
    }
   ],
   "source": [
    "# for dw\n",
    "dw = tensor[:, 4]\n",
    "plt.hist(dw.reshape(1, -1)[0])"
   ]
  },
  {
   "cell_type": "code",
   "execution_count": 11,
   "metadata": {},
   "outputs": [
    {
     "data": {
      "text/plain": [
       "(array([  1.80444000e+05,   1.85600000e+03,   3.36000000e+02,\n",
       "          7.60000000e+01,   2.80000000e+01,   3.30000000e+01,\n",
       "          5.00000000e+00,   2.00000000e+00,   3.00000000e+00,\n",
       "          1.00000000e+00]),\n",
       " array([   0.        ,   98.05666504,  196.11333008,  294.16999512,\n",
       "         392.22666016,  490.2833252 ,  588.33999023,  686.39665527,\n",
       "         784.45332031,  882.50998535,  980.56665039]),\n",
       " <a list of 10 Patch objects>)"
      ]
     },
     "execution_count": 11,
     "metadata": {},
     "output_type": "execute_result"
    },
    {
     "data": {
      "image/png": "[encoded data removed]",
      "text/plain": [
       "<matplotlib.figure.Figure at 0x7fe7485c27b8>"
      ]
     },
     "metadata": {},
     "output_type": "display_data"
    }
   ],
   "source": [
    "# for mw\n",
    "mw = tensor[:, 5]\n",
    "plt.hist(mw.reshape(1, -1)[0])"
   ]
  }
 ],
 "metadata": {
  "kernelspec": {
   "display_name": "Python 3",
   "language": "python",
   "name": "python3"
  },
  "language_info": {
   "codemirror_mode": {
    "name": "ipython",
    "version": 3
   },
   "file_extension": ".py",
   "mimetype": "text/x-python",
   "name": "python",
   "nbconvert_exporter": "python",
   "pygments_lexer": "ipython3",
   "version": "3.6.3"
  }
 },
 "nbformat": 4,
 "nbformat_minor": 2
}
