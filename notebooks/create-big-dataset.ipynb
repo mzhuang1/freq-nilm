{
 "cells": [
  {
   "cell_type": "code",
   "execution_count": 2,
   "metadata": {
    "collapsed": true
   },
   "outputs": [],
   "source": [
    "import sys\n",
    "sys.path.append(\"../code/\")\n",
    "from common import APPLIANCES_ORDER\n",
    "import warnings \n",
    "warnings.filterwarnings('ignore')"
   ]
  },
  {
   "cell_type": "code",
   "execution_count": 3,
   "metadata": {
    "collapsed": true
   },
   "outputs": [],
   "source": [
    "import numpy as np\n",
    "import pandas as pd\n",
    "import matplotlib.pyplot as plt\n",
    "%matplotlib inline"
   ]
  },
  {
   "cell_type": "code",
   "execution_count": 4,
   "metadata": {},
   "outputs": [],
   "source": [
    "tensor = np.load('../1H-input.npy')"
   ]
  },
  {
   "cell_type": "code",
   "execution_count": 4,
   "metadata": {
    "collapsed": true
   },
   "outputs": [],
   "source": [
    "def create_subset_dataset(tensor):\n",
    "    t_subset = tensor[:, :, 180:194, :]\n",
    "    all_indices = np.array(list(range(320)))\n",
    "    for i in range(1, 7):\n",
    "        valid_homes = pd.DataFrame(t_subset[:, i, :].reshape(320, 14*24)).dropna().index\n",
    "        all_indices = np.intersect1d(all_indices, valid_homes)\n",
    "    t_subset = t_subset[all_indices, :, :, :].reshape(52, 7, 14*24)\n",
    "    \n",
    "    # Create artificial aggregate\n",
    "    t_subset[:, 0, :] = 0.0\n",
    "    for i in range(1, 7):\n",
    "        t_subset[:, 0, :] = t_subset[:, 0, :] + t_subset[:, i, :]\n",
    "    # t_subset is of shape (#home, appliance, days*hours)\n",
    "    return t_subset, all_indices"
   ]
  },
  {
   "cell_type": "code",
   "execution_count": 5,
   "metadata": {},
   "outputs": [
    {
     "data": {
      "text/plain": [
       "(52, 7, 336)"
      ]
     },
     "execution_count": 5,
     "metadata": {},
     "output_type": "execute_result"
    }
   ],
   "source": [
    "t_all, valid_homes = create_subset_dataset(tensor)\n",
    "t_all.shape"
   ]
  },
  {
   "cell_type": "code",
   "execution_count": 6,
   "metadata": {},
   "outputs": [
    {
     "data": {
      "text/plain": [
       "(52, 7, 336)"
      ]
     },
     "execution_count": 6,
     "metadata": {},
     "output_type": "execute_result"
    }
   ],
   "source": [
    "t_all.shape"
   ]
  },
  {
   "cell_type": "code",
   "execution_count": 7,
   "metadata": {},
   "outputs": [
    {
     "data": {
      "text/plain": [
       "(52, 7, 336)"
      ]
     },
     "execution_count": 7,
     "metadata": {},
     "output_type": "execute_result"
    }
   ],
   "source": [
    "t_all.shape"
   ]
  },
  {
   "cell_type": "code",
   "execution_count": 10,
   "metadata": {
    "collapsed": true
   },
   "outputs": [],
   "source": [
    "t_all_new = np.zeros((200, 7, 336))\n",
    "t_all_new[:52,:,:] = t_all.copy()\n",
    "\n",
    "np.random.seed(0)\n",
    "for i in range(52, 200):\n",
    "    home_agg = np.zeros((1, 336))\n",
    "    for appliance in range(1, 7):\n",
    "        t_home_chosen = np.random.choice(list(range(52)))\n",
    "        t_all_new[i, appliance, :] = t_all.copy()[t_home_chosen, appliance, :]\n",
    "        home_agg += t_all.copy()[t_home_chosen, appliance, :]\n",
    "    t_all_new[i, appliance, :] = home_agg\n",
    "        \n",
    "    "
   ]
  },
  {
   "cell_type": "code",
   "execution_count": 12,
   "metadata": {},
   "outputs": [
    {
     "data": {
      "text/plain": [
       "(200, 7, 336)"
      ]
     },
     "execution_count": 12,
     "metadata": {},
     "output_type": "execute_result"
    }
   ],
   "source": [
    "t_all_new.shape"
   ]
  },
  {
   "cell_type": "code",
   "execution_count": 7,
   "metadata": {
    "collapsed": true
   },
   "outputs": [],
   "source": [
    "def my_objective(y_pred, y_true):\n",
    "    with tf.name_scope(None):\n",
    "        return tf.losses.absolute_difference(y_pred, y_true)"
   ]
  },
  {
   "cell_type": "code",
   "execution_count": 8,
   "metadata": {},
   "outputs": [
    {
     "name": "stderr",
     "output_type": "stream",
     "text": [
      "Using TensorFlow backend.\n"
     ]
    }
   ],
   "source": [
    "from random import randint\n",
    "from numpy import array\n",
    "from numpy import argmax\n",
    "from numpy import array_equal\n",
    "from keras.models import Sequential\n",
    "from keras.layers import LSTM\n",
    "from keras.layers import Dense\n",
    "from keras.layers import TimeDistributed\n",
    "from keras.layers import RepeatVector\n",
    "import keras\n",
    "from IPython.display import SVG\n",
    "from keras.utils.vis_utils import model_to_dot\n",
    "n_movies = 3\n",
    "n_users=3\n",
    "n_latent_factors=2"
   ]
  },
  {
   "cell_type": "code",
   "execution_count": 10,
   "metadata": {},
   "outputs": [
    {
     "data": {
      "text/plain": [
       "['aggregate', 'hvac', 'fridge', 'mw', 'dw', 'wm', 'oven']"
      ]
     },
     "execution_count": 10,
     "metadata": {},
     "output_type": "execute_result"
    }
   ],
   "source": [
    "APPLIANCES_ORDER"
   ]
  },
  {
   "cell_type": "code",
   "execution_count": 9,
   "metadata": {
    "collapsed": true
   },
   "outputs": [],
   "source": [
    "train_agg = t_all[:30, 0, :].reshape(30*14, 24)\n",
    "train_appliance = t_all[:30, 1:, :].reshape(30*14, 6*24)\n",
    "\n",
    "train_hvac = t_all[:30, 1, :].reshape(30*14, 24)\n",
    "train_fridge = t_all[:30, 2, :].reshape(30*14, 24)\n",
    "train_mw = t_all[:30, 3, :].reshape(30*14, 24)\n",
    "train_dw = t_all[:30, 4, :].reshape(30*14, 24)\n",
    "train_wm = t_all[:30, 5, :].reshape(30*14, 24)\n",
    "train_oven = t_all[:30, 6, :].reshape(30*14, 24)\n",
    "\n",
    "\n",
    "\n",
    "\n",
    "\n",
    "\n",
    "\n",
    "\n",
    "train_agg_new = train_hvac + train_fridge\n",
    "\n",
    "\n",
    "\n",
    "\n",
    "\n",
    "test_hvac = t_all[30:, 1, :].reshape(22*14, 24)\n",
    "test_fridge = t_all[30:, 2, :].reshape(22*14, 24)\n",
    "test_mw = t_all[30:, 3, :].reshape(22*14, 24)\n",
    "test_dw = t_all[30:, 4, :].reshape(22*14, 24)\n",
    "test_wm = t_all[30:, 5, :].reshape(22*14, 24)\n",
    "test_oven = t_all[30:, 6, :].reshape(22*14, 24)\n",
    "test_appliance = t_all[30:, 1:, :].reshape(22*14, 6*24)\n",
    "\n",
    "\n",
    "\n",
    "\n",
    "\n",
    "\n",
    "\n",
    "\n",
    "\n",
    "test_agg = t_all[30:, 0, :].reshape(22*14, 24)\n",
    "test_agg_new = test_hvac + test_fridge\n",
    "\n"
   ]
  },
  {
   "cell_type": "code",
   "execution_count": 10,
   "metadata": {},
   "outputs": [
    {
     "data": {
      "text/plain": [
       "['aggregate', 'hvac', 'fridge', 'mw', 'dw', 'wm', 'oven']"
      ]
     },
     "execution_count": 10,
     "metadata": {},
     "output_type": "execute_result"
    }
   ],
   "source": [
    "APPLIANCES_ORDER"
   ]
  },
  {
   "cell_type": "code",
   "execution_count": 11,
   "metadata": {
    "collapsed": true
   },
   "outputs": [],
   "source": [
    "train_hvac_fridge = np.hstack([train_hvac, train_fridge])\n",
    "train_all_appliances = np.hstack([train_hvac, train_fridge, train_mw, train_dw, train_wm, train_oven])\n",
    "test_all_appliances = np.hstack([test_hvac, test_fridge, test_mw, test_dw, test_wm, test_oven])"
   ]
  },
  {
   "cell_type": "code",
   "execution_count": 12,
   "metadata": {},
   "outputs": [
    {
     "data": {
      "text/plain": [
       "((420, 144), (308, 144))"
      ]
     },
     "execution_count": 12,
     "metadata": {},
     "output_type": "execute_result"
    }
   ],
   "source": [
    "train_all_appliances.shape, test_all_appliances.shape"
   ]
  },
  {
   "cell_type": "code",
   "execution_count": 13,
   "metadata": {},
   "outputs": [
    {
     "data": {
      "text/plain": [
       "False"
      ]
     },
     "execution_count": 13,
     "metadata": {},
     "output_type": "execute_result"
    }
   ],
   "source": [
    "np.allclose(train_all_appliances, train_appliance)"
   ]
  },
  {
   "cell_type": "code",
   "execution_count": 14,
   "metadata": {},
   "outputs": [
    {
     "data": {
      "text/plain": [
       "hvac      894.701044\n",
       "fridge     89.265252\n",
       "oven       16.646041\n",
       "dw         13.984549\n",
       "mw          6.417846\n",
       "wm          5.083840\n",
       "dtype: float64"
      ]
     },
     "execution_count": 14,
     "metadata": {},
     "output_type": "execute_result"
    }
   ],
   "source": [
    "ENERGY_MEAN = {APPLIANCES_ORDER[i]:np.mean(t_all[:, i, :]) for i in list(range(1, 7))}\n",
    "ENERGY_MEAN = pd.Series(ENERGY_MEAN)\n",
    "ENERGY_MEAN.sort_values(inplace=True, ascending=False)\n",
    "ENERGY_MEAN"
   ]
  },
  {
   "cell_type": "code",
   "execution_count": 15,
   "metadata": {
    "collapsed": true
   },
   "outputs": [],
   "source": [
    "num_iterations_dictionary = {'hvac':1200,'fridge':400,'mw':150,'dw':150,'oven':150, 'wm':150}\n",
    "\n"
   ]
  },
  {
   "cell_type": "code",
   "execution_count": 16,
   "metadata": {
    "collapsed": true
   },
   "outputs": [],
   "source": [
    "np.random.seed(0)\n",
    "from keras.layers.merge import Subtract, Minimum, Multiply, Maximum\n",
    "import keras.backend as K\n",
    "\n",
    "layers = {}\n",
    "appliance=\"hvac\"\n"
   ]
  },
  {
   "cell_type": "code",
   "execution_count": 38,
   "metadata": {
    "collapsed": true
   },
   "outputs": [],
   "source": []
  },
  {
   "cell_type": "code",
   "execution_count": 262,
   "metadata": {},
   "outputs": [
    {
     "name": "stdout",
     "output_type": "stream",
     "text": [
      "hvac Aggregate\n",
      "fridge Subtracting-hvac\n",
      "oven Subtracting-fridge\n",
      "dw Subtracting-oven\n",
      "mw Subtracting-dw\n",
      "wm Subtracting-mw\n"
     ]
    }
   ],
   "source": [
    "np.random.seed(0)\n",
    "layers['Aggregate'] = keras.layers.Input(shape=[24],name='Aggregate')\n",
    "for appliance_num, appliance in enumerate(ENERGY_MEAN.index[:]):\n",
    "    if appliance_num==0:\n",
    "        prev = 'Aggregate'\n",
    "        layers['{}-dense'.format(appliance)] = keras.layers.Dense(units=20,name='{}-layer-1'.format(appliance), activation='relu')(layers['Aggregate'])\n",
    "    else:\n",
    "        prev = 'Subtracting-{}'.format(ENERGY_MEAN.index[appliance_num-1])\n",
    "        layers['{}-dense'.format(appliance)] = keras.layers.Dense(units=20,name='{}-layer-1'.format(appliance), activation='relu')(layers[prev])\n",
    "    print(appliance, prev)\n",
    "    layers['{}-dropout'.format(appliance)] = keras.layers.Dropout(rate=0.1,name='Droput-{}'.format(appliance))(layers['{}-dense'.format(appliance)])\n",
    "    layers['{}-output'.format(appliance)]= keras.layers.Dense(units=24,name='{}-output'.format(appliance), activation='relu')(layers['{}-dropout'.format(appliance)])\n",
    "    layers['{}-clipped-output'.format(appliance)] = Minimum(name='Clipped-{}'.format(appliance))([layers['{}-output'.format(appliance)], layers['Aggregate']])\n",
    "    \n",
    "    # Subtracting out appliance from prev\n",
    "    layers['Subtracting-{}'.format(appliance)] = Subtract(name='Subtracting-{}'.format(appliance))([layers[prev], layers['{}-clipped-output'.format(appliance)]])\n",
    "    \n",
    "\n",
    "\n",
    "\n",
    "\n",
    "concat = keras.layers.merge([layers['{}-clipped-output'.format(appliance)] for appliance in APPLIANCES_ORDER[1:]], mode='concat',name='Concat')\n",
    "model = keras.Model(layers['Aggregate'], concat )\n",
    "\n",
    "with open('tree.pdf','wb') as f:\n",
    "    f.write(model_to_dot(model,  show_shapes=True, show_layer_names=True, rankdir='HB').create(prog='dot', format='pdf'))\n",
    "\n",
    "\n",
    "\n",
    "#SVG(model_to_dot(model,  show_shapes=False, show_layer_names=True, rankdir='HB').create(prog='dot', format='svg'))"
   ]
  },
  {
   "cell_type": "code",
   "execution_count": 37,
   "metadata": {},
   "outputs": [
    {
     "ename": "SyntaxError",
     "evalue": "invalid syntax (<ipython-input-37-725bca8160a6>, line 17)",
     "output_type": "error",
     "traceback": [
      "\u001b[0;36m  File \u001b[0;32m\"<ipython-input-37-725bca8160a6>\"\u001b[0;36m, line \u001b[0;32m17\u001b[0m\n\u001b[0;31m    layers['{}-output'.format(appliance)]= keras.layers.Dense(units=24,name='{}-output'.format(appliance), activation='relu')(layers['{}-dropout'.format(appliance)])    layers['{}-clipped-output'.format(appliance)] = Minimum(name='Clipped-{}'.format(appliance))([layers['{}-output'.format(appliance)], layers['Aggregate']])\u001b[0m\n\u001b[0m                                                                                                                                                                              ^\u001b[0m\n\u001b[0;31mSyntaxError\u001b[0m\u001b[0;31m:\u001b[0m invalid syntax\n"
     ]
    }
   ],
   "source": [
    "np.random.seed(0)\n",
    "layers['Aggregate'] = keras.layers.Input(shape=[24],name='Aggregate')\n",
    "for appliance_num, appliance in enumerate(ENERGY_MEAN.index[:]):\n",
    "    if appliance_num==0:\n",
    "        prev = 'Aggregate'\n",
    "        layers['{}-dense'.format(appliance)] = keras.layers.Dense(units=20,name='{}-layer-1'.format(appliance), activation='relu')(layers['Aggregate'])\n",
    "    else:\n",
    "        prev = 'Subtracting-{}'.format(ENERGY_MEAN.index[appliance_num-1])\n",
    "        layers['{}-dense'.format(appliance)] = keras.layers.Dense(units=20,name='{}-layer-1'.format(appliance), activation='relu')(layers[prev])\n",
    "    print(appliance, prev)\n",
    "    \n",
    "    if appliance==\"fridge\":\n",
    "        layers['{}-BN'.format(appliance)] = keras.layers.BatchNormalization(name='BN-{}'.format(appliance))(layers['{}-dense'.format(appliance)])\n",
    "        layers['{}-output'.format(appliance)]= keras.layers.Dense(units=24,name='{}-output'.format(appliance), activation='relu')(layers['{}-BN'.format(appliance)])\n",
    "    else:\n",
    "        layers['{}-dropout'.format(appliance)] = keras.layers.Dropout(rate=0.1,name='Droput-{}'.format(appliance))(layers['{}-dense'.format(appliance)])\n",
    "        layers['{}-output'.format(appliance)]= keras.layers.Dense(units=24,name='{}-output'.format(appliance), activation='relu')(layers['{}-dropout'.format(appliance)])    layers['{}-clipped-output'.format(appliance)] = Minimum(name='Clipped-{}'.format(appliance))([layers['{}-output'.format(appliance)], layers['Aggregate']])\n",
    "    \n",
    "    # Subtracting out appliance from prev\n",
    "    layers['Subtracting-{}'.format(appliance)] = Subtract(name='Subtracting-{}'.format(appliance))([layers[prev], layers['{}-clipped-output'.format(appliance)]])\n",
    "    \n",
    "\n",
    "\n",
    "\n",
    "\n",
    "concat = keras.layers.merge([layers['{}-clipped-output'.format(appliance)] for appliance in APPLIANCES_ORDER[1:]], mode='concat',name='Concat')\n",
    "model = keras.Model(layers['Aggregate'], concat )\n",
    "\n",
    "with open('tree.pdf','wb') as f:\n",
    "    f.write(model_to_dot(model,  show_shapes=True, show_layer_names=True, rankdir='HB').create(prog='dot', format='pdf'))\n",
    "\n",
    "\n",
    "\n",
    "#SVG(model_to_dot(model,  show_shapes=False, show_layer_names=True, rankdir='HB').create(prog='dot', format='svg'))"
   ]
  },
  {
   "cell_type": "code",
   "execution_count": 38,
   "metadata": {},
   "outputs": [
    {
     "name": "stdout",
     "output_type": "stream",
     "text": [
      "__________________________________________________________________________________________________\n",
      "Layer (type)                    Output Shape         Param #     Connected to                     \n",
      "==================================================================================================\n",
      "Aggregate (InputLayer)          (None, 24)           0                                            \n",
      "__________________________________________________________________________________________________\n",
      "hvac-layer-1 (Dense)            (None, 20)           500         Aggregate[0][0]                  \n",
      "__________________________________________________________________________________________________\n",
      "hvac-output (Dense)             (None, 24)           504         hvac-layer-1[0][0]               \n",
      "__________________________________________________________________________________________________\n",
      "Clipped-hvac (Minimum)          (None, 24)           0           hvac-output[0][0]                \n",
      "                                                                 Aggregate[0][0]                  \n",
      "__________________________________________________________________________________________________\n",
      "Subtracting-hvac (Subtract)     (None, 24)           0           Aggregate[0][0]                  \n",
      "                                                                 Clipped-hvac[0][0]               \n",
      "__________________________________________________________________________________________________\n",
      "fridge-layer-1 (Dense)          (None, 20)           500         Subtracting-hvac[0][0]           \n",
      "__________________________________________________________________________________________________\n",
      "BN-fridge (BatchNormalization)  (None, 20)           80          fridge-layer-1[0][0]             \n",
      "__________________________________________________________________________________________________\n",
      "fridge-output (Dense)           (None, 24)           504         BN-fridge[0][0]                  \n",
      "__________________________________________________________________________________________________\n",
      "Clipped-fridge (Minimum)        (None, 24)           0           fridge-output[0][0]              \n",
      "                                                                 Aggregate[0][0]                  \n",
      "__________________________________________________________________________________________________\n",
      "Subtracting-fridge (Subtract)   (None, 24)           0           Subtracting-hvac[0][0]           \n",
      "                                                                 Clipped-fridge[0][0]             \n",
      "__________________________________________________________________________________________________\n",
      "oven-layer-1 (Dense)            (None, 20)           500         Subtracting-fridge[0][0]         \n",
      "__________________________________________________________________________________________________\n",
      "oven-output (Dense)             (None, 24)           504         oven-layer-1[0][0]               \n",
      "__________________________________________________________________________________________________\n",
      "Clipped-oven (Minimum)          (None, 24)           0           oven-output[0][0]                \n",
      "                                                                 Aggregate[0][0]                  \n",
      "__________________________________________________________________________________________________\n",
      "Subtracting-oven (Subtract)     (None, 24)           0           Subtracting-fridge[0][0]         \n",
      "                                                                 Clipped-oven[0][0]               \n",
      "__________________________________________________________________________________________________\n",
      "dw-layer-1 (Dense)              (None, 20)           500         Subtracting-oven[0][0]           \n",
      "__________________________________________________________________________________________________\n",
      "dw-output (Dense)               (None, 24)           504         dw-layer-1[0][0]                 \n",
      "__________________________________________________________________________________________________\n",
      "Clipped-dw (Minimum)            (None, 24)           0           dw-output[0][0]                  \n",
      "                                                                 Aggregate[0][0]                  \n",
      "__________________________________________________________________________________________________\n",
      "Subtracting-dw (Subtract)       (None, 24)           0           Subtracting-oven[0][0]           \n",
      "                                                                 Clipped-dw[0][0]                 \n",
      "__________________________________________________________________________________________________\n",
      "mw-layer-1 (Dense)              (None, 20)           500         Subtracting-dw[0][0]             \n",
      "__________________________________________________________________________________________________\n",
      "mw-output (Dense)               (None, 24)           504         mw-layer-1[0][0]                 \n",
      "__________________________________________________________________________________________________\n",
      "Clipped-mw (Minimum)            (None, 24)           0           mw-output[0][0]                  \n",
      "                                                                 Aggregate[0][0]                  \n",
      "__________________________________________________________________________________________________\n",
      "Subtracting-mw (Subtract)       (None, 24)           0           Subtracting-dw[0][0]             \n",
      "                                                                 Clipped-mw[0][0]                 \n",
      "__________________________________________________________________________________________________\n",
      "wm-layer-1 (Dense)              (None, 20)           500         Subtracting-mw[0][0]             \n",
      "__________________________________________________________________________________________________\n",
      "wm-output (Dense)               (None, 24)           504         wm-layer-1[0][0]                 \n",
      "__________________________________________________________________________________________________\n",
      "Clipped-wm (Minimum)            (None, 24)           0           wm-output[0][0]                  \n",
      "                                                                 Aggregate[0][0]                  \n",
      "__________________________________________________________________________________________________\n",
      "Concat (Merge)                  (None, 144)          0           Clipped-hvac[0][0]               \n",
      "                                                                 Clipped-fridge[0][0]             \n",
      "                                                                 Clipped-mw[0][0]                 \n",
      "                                                                 Clipped-dw[0][0]                 \n",
      "                                                                 Clipped-wm[0][0]                 \n",
      "                                                                 Clipped-oven[0][0]               \n",
      "==================================================================================================\n",
      "Total params: 6,104\n",
      "Trainable params: 6,064\n",
      "Non-trainable params: 40\n",
      "__________________________________________________________________________________________________\n"
     ]
    }
   ],
   "source": [
    "model.summary()"
   ]
  },
  {
   "cell_type": "code",
   "execution_count": 44,
   "metadata": {},
   "outputs": [
    {
     "name": "stdout",
     "output_type": "stream",
     "text": [
      "Train on 378 samples, validate on 42 samples\n",
      "Epoch 1/300\n",
      "378/378 [==============================] - 0s 114us/step - loss: 43.9025 - val_loss: 59.5882\n",
      "Epoch 2/300\n",
      "378/378 [==============================] - 0s 109us/step - loss: 43.9493 - val_loss: 59.5795\n",
      "Epoch 3/300\n",
      "378/378 [==============================] - 0s 109us/step - loss: 43.8911 - val_loss: 59.3129\n",
      "Epoch 4/300\n",
      "378/378 [==============================] - 0s 99us/step - loss: 43.8799 - val_loss: 59.1053\n",
      "Epoch 5/300\n",
      "378/378 [==============================] - 0s 95us/step - loss: 43.9346 - val_loss: 59.3369\n",
      "Epoch 6/300\n",
      "378/378 [==============================] - 0s 94us/step - loss: 43.8885 - val_loss: 59.4169\n",
      "Epoch 7/300\n",
      "378/378 [==============================] - 0s 96us/step - loss: 43.9106 - val_loss: 59.6966\n",
      "Epoch 8/300\n",
      "378/378 [==============================] - 0s 94us/step - loss: 43.9003 - val_loss: 59.1183\n",
      "Epoch 9/300\n",
      "378/378 [==============================] - 0s 97us/step - loss: 43.8757 - val_loss: 59.3312\n",
      "Epoch 10/300\n",
      "378/378 [==============================] - 0s 94us/step - loss: 43.8758 - val_loss: 59.0698\n",
      "Epoch 11/300\n",
      "378/378 [==============================] - 0s 97us/step - loss: 44.0371 - val_loss: 58.8137\n",
      "Epoch 12/300\n",
      "378/378 [==============================] - 0s 102us/step - loss: 44.0218 - val_loss: 59.2395\n",
      "Epoch 13/300\n",
      "378/378 [==============================] - 0s 98us/step - loss: 44.0412 - val_loss: 59.2046\n",
      "Epoch 14/300\n",
      "378/378 [==============================] - 0s 97us/step - loss: 43.8593 - val_loss: 59.1388\n",
      "Epoch 15/300\n",
      "378/378 [==============================] - 0s 98us/step - loss: 43.8631 - val_loss: 58.7350\n",
      "Epoch 16/300\n",
      "378/378 [==============================] - 0s 96us/step - loss: 43.8367 - val_loss: 59.1750\n",
      "Epoch 17/300\n",
      "378/378 [==============================] - 0s 93us/step - loss: 43.9097 - val_loss: 59.2040\n",
      "Epoch 18/300\n",
      "378/378 [==============================] - 0s 91us/step - loss: 43.8328 - val_loss: 59.0099\n",
      "Epoch 19/300\n",
      "378/378 [==============================] - 0s 93us/step - loss: 43.8453 - val_loss: 59.1352\n",
      "Epoch 20/300\n",
      "378/378 [==============================] - 0s 100us/step - loss: 43.8359 - val_loss: 59.4325\n",
      "Epoch 21/300\n",
      "378/378 [==============================] - 0s 99us/step - loss: 43.8435 - val_loss: 59.3516\n",
      "Epoch 22/300\n",
      "378/378 [==============================] - 0s 93us/step - loss: 43.8848 - val_loss: 59.3463\n",
      "Epoch 23/300\n",
      "378/378 [==============================] - 0s 107us/step - loss: 43.8808 - val_loss: 59.1125\n",
      "Epoch 24/300\n",
      "378/378 [==============================] - 0s 96us/step - loss: 43.8935 - val_loss: 59.1381\n",
      "Epoch 25/300\n",
      "378/378 [==============================] - 0s 92us/step - loss: 43.9015 - val_loss: 59.4922\n",
      "Epoch 26/300\n",
      "378/378 [==============================] - 0s 100us/step - loss: 43.9054 - val_loss: 59.5697\n",
      "Epoch 27/300\n",
      "378/378 [==============================] - 0s 100us/step - loss: 43.8873 - val_loss: 59.5702\n",
      "Epoch 28/300\n",
      "378/378 [==============================] - ETA: 0s - loss: 45.45 - 0s 114us/step - loss: 43.9207 - val_loss: 59.3331\n",
      "Epoch 29/300\n",
      "378/378 [==============================] - 0s 109us/step - loss: 43.8306 - val_loss: 59.4225\n",
      "Epoch 30/300\n",
      "378/378 [==============================] - 0s 114us/step - loss: 43.8709 - val_loss: 59.2012\n",
      "Epoch 31/300\n",
      "378/378 [==============================] - 0s 118us/step - loss: 43.8700 - val_loss: 59.3545\n",
      "Epoch 32/300\n",
      "378/378 [==============================] - 0s 114us/step - loss: 43.8590 - val_loss: 59.4990\n",
      "Epoch 33/300\n",
      "378/378 [==============================] - 0s 100us/step - loss: 43.7766 - val_loss: 59.5863\n",
      "Epoch 34/300\n",
      "378/378 [==============================] - 0s 92us/step - loss: 43.7710 - val_loss: 59.4130\n",
      "Epoch 35/300\n",
      "378/378 [==============================] - 0s 97us/step - loss: 43.8546 - val_loss: 59.5798\n",
      "Epoch 36/300\n",
      "378/378 [==============================] - 0s 91us/step - loss: 43.8194 - val_loss: 59.0128\n",
      "Epoch 37/300\n",
      "378/378 [==============================] - 0s 91us/step - loss: 43.8515 - val_loss: 59.6723\n",
      "Epoch 38/300\n",
      "378/378 [==============================] - 0s 94us/step - loss: 43.8433 - val_loss: 59.6084\n",
      "Epoch 39/300\n",
      "378/378 [==============================] - 0s 103us/step - loss: 43.8749 - val_loss: 59.6851\n",
      "Epoch 40/300\n",
      "378/378 [==============================] - 0s 112us/step - loss: 43.8994 - val_loss: 59.5985\n",
      "Epoch 41/300\n",
      "378/378 [==============================] - 0s 115us/step - loss: 43.9207 - val_loss: 59.2819\n",
      "Epoch 42/300\n",
      "378/378 [==============================] - 0s 113us/step - loss: 43.8277 - val_loss: 59.3245\n",
      "Epoch 43/300\n",
      "378/378 [==============================] - 0s 104us/step - loss: 43.8510 - val_loss: 58.2993\n",
      "Epoch 44/300\n",
      "378/378 [==============================] - 0s 106us/step - loss: 43.8553 - val_loss: 59.3855\n",
      "Epoch 45/300\n",
      "378/378 [==============================] - 0s 95us/step - loss: 43.9439 - val_loss: 59.6686\n",
      "Epoch 46/300\n",
      "378/378 [==============================] - 0s 100us/step - loss: 43.9426 - val_loss: 59.1654\n",
      "Epoch 47/300\n",
      "378/378 [==============================] - 0s 100us/step - loss: 43.8992 - val_loss: 59.3690\n",
      "Epoch 48/300\n",
      "378/378 [==============================] - 0s 96us/step - loss: 43.9230 - val_loss: 59.0363\n",
      "Epoch 49/300\n",
      "378/378 [==============================] - 0s 94us/step - loss: 43.8531 - val_loss: 59.1330\n",
      "Epoch 50/300\n",
      "378/378 [==============================] - 0s 111us/step - loss: 43.7953 - val_loss: 59.2576\n",
      "Epoch 51/300\n",
      "378/378 [==============================] - 0s 114us/step - loss: 43.8433 - val_loss: 59.6316\n",
      "Epoch 52/300\n",
      "378/378 [==============================] - 0s 102us/step - loss: 43.8340 - val_loss: 59.7779\n",
      "Epoch 53/300\n",
      "378/378 [==============================] - 0s 119us/step - loss: 43.8551 - val_loss: 59.1262\n",
      "Epoch 54/300\n",
      "378/378 [==============================] - 0s 98us/step - loss: 43.9646 - val_loss: 59.4338\n",
      "Epoch 55/300\n",
      "378/378 [==============================] - 0s 90us/step - loss: 43.9428 - val_loss: 59.2305\n",
      "Epoch 56/300\n",
      "378/378 [==============================] - 0s 91us/step - loss: 43.9678 - val_loss: 59.4663\n",
      "Epoch 57/300\n",
      "378/378 [==============================] - 0s 92us/step - loss: 43.9912 - val_loss: 59.4819\n",
      "Epoch 58/300\n",
      "378/378 [==============================] - 0s 93us/step - loss: 44.4182 - val_loss: 58.9315\n",
      "Epoch 59/300\n",
      "378/378 [==============================] - 0s 88us/step - loss: 44.1784 - val_loss: 58.5758\n",
      "Epoch 60/300\n",
      "378/378 [==============================] - 0s 90us/step - loss: 44.0594 - val_loss: 58.5923\n",
      "Epoch 61/300\n",
      "378/378 [==============================] - 0s 89us/step - loss: 44.0327 - val_loss: 59.5013\n",
      "Epoch 62/300\n",
      "378/378 [==============================] - 0s 90us/step - loss: 43.9791 - val_loss: 58.9892\n",
      "Epoch 63/300\n",
      "378/378 [==============================] - 0s 90us/step - loss: 43.9273 - val_loss: 59.3314\n",
      "Epoch 64/300\n",
      "378/378 [==============================] - 0s 93us/step - loss: 43.8865 - val_loss: 58.9031\n",
      "Epoch 65/300\n",
      "378/378 [==============================] - 0s 91us/step - loss: 43.8761 - val_loss: 59.3228\n",
      "Epoch 66/300\n",
      "378/378 [==============================] - 0s 91us/step - loss: 43.8545 - val_loss: 58.8995\n",
      "Epoch 67/300\n",
      "378/378 [==============================] - 0s 90us/step - loss: 43.8500 - val_loss: 59.1600\n",
      "Epoch 68/300\n",
      "378/378 [==============================] - 0s 90us/step - loss: 43.8203 - val_loss: 59.2345\n",
      "Epoch 69/300\n",
      "378/378 [==============================] - 0s 91us/step - loss: 43.8572 - val_loss: 58.9880\n",
      "Epoch 70/300\n",
      "378/378 [==============================] - 0s 91us/step - loss: 44.1027 - val_loss: 59.2991\n",
      "Epoch 71/300\n",
      "378/378 [==============================] - 0s 93us/step - loss: 44.0540 - val_loss: 59.7716\n",
      "Epoch 72/300\n",
      "378/378 [==============================] - 0s 90us/step - loss: 44.0024 - val_loss: 59.3537\n",
      "Epoch 73/300\n",
      "378/378 [==============================] - 0s 100us/step - loss: 43.9128 - val_loss: 59.6927\n",
      "Epoch 74/300\n",
      "378/378 [==============================] - 0s 119us/step - loss: 43.8725 - val_loss: 59.5250\n",
      "Epoch 75/300\n",
      "378/378 [==============================] - 0s 120us/step - loss: 43.8848 - val_loss: 59.4740\n",
      "Epoch 76/300\n",
      "378/378 [==============================] - 0s 112us/step - loss: 43.8776 - val_loss: 59.4216\n",
      "Epoch 77/300\n",
      "378/378 [==============================] - 0s 106us/step - loss: 44.0554 - val_loss: 58.9609\n",
      "Epoch 78/300\n",
      "378/378 [==============================] - 0s 109us/step - loss: 43.9658 - val_loss: 59.3974\n",
      "Epoch 79/300\n",
      "378/378 [==============================] - 0s 104us/step - loss: 43.8618 - val_loss: 59.0657\n",
      "Epoch 80/300\n",
      "378/378 [==============================] - 0s 104us/step - loss: 43.9362 - val_loss: 59.4860\n",
      "Epoch 81/300\n",
      "378/378 [==============================] - 0s 104us/step - loss: 43.8374 - val_loss: 59.8007\n",
      "Epoch 82/300\n",
      "378/378 [==============================] - 0s 102us/step - loss: 43.8463 - val_loss: 59.5146\n",
      "Epoch 83/300\n",
      "378/378 [==============================] - 0s 114us/step - loss: 43.9326 - val_loss: 59.1163\n",
      "Epoch 84/300\n",
      "378/378 [==============================] - 0s 144us/step - loss: 43.8566 - val_loss: 59.6171\n",
      "Epoch 85/300\n",
      "378/378 [==============================] - 0s 130us/step - loss: 43.8511 - val_loss: 59.4654\n",
      "Epoch 86/300\n",
      "378/378 [==============================] - 0s 124us/step - loss: 43.7282 - val_loss: 59.2300\n",
      "Epoch 87/300\n",
      "378/378 [==============================] - 0s 102us/step - loss: 43.7550 - val_loss: 59.0264\n",
      "Epoch 88/300\n",
      "378/378 [==============================] - 0s 97us/step - loss: 43.8013 - val_loss: 59.4355\n",
      "Epoch 89/300\n",
      "378/378 [==============================] - 0s 88us/step - loss: 43.7791 - val_loss: 59.5015\n",
      "Epoch 90/300\n",
      "378/378 [==============================] - 0s 88us/step - loss: 43.8041 - val_loss: 59.3107\n",
      "Epoch 91/300\n",
      "378/378 [==============================] - 0s 92us/step - loss: 43.8920 - val_loss: 59.2297\n",
      "Epoch 92/300\n",
      "378/378 [==============================] - 0s 88us/step - loss: 43.8937 - val_loss: 59.1846\n",
      "Epoch 93/300\n",
      "378/378 [==============================] - 0s 89us/step - loss: 43.8917 - val_loss: 58.9426\n",
      "Epoch 94/300\n",
      "378/378 [==============================] - 0s 89us/step - loss: 43.8227 - val_loss: 59.5507\n",
      "Epoch 95/300\n",
      "378/378 [==============================] - 0s 89us/step - loss: 43.8550 - val_loss: 59.3162\n",
      "Epoch 96/300\n",
      "378/378 [==============================] - 0s 93us/step - loss: 43.7814 - val_loss: 59.3081\n",
      "Epoch 97/300\n",
      "378/378 [==============================] - 0s 87us/step - loss: 43.8146 - val_loss: 59.1812\n",
      "Epoch 98/300\n",
      "378/378 [==============================] - 0s 89us/step - loss: 43.7581 - val_loss: 59.4849\n",
      "Epoch 99/300\n",
      "378/378 [==============================] - 0s 89us/step - loss: 43.8259 - val_loss: 58.6804\n",
      "Epoch 100/300\n",
      "378/378 [==============================] - 0s 90us/step - loss: 43.8633 - val_loss: 59.6508\n",
      "Epoch 101/300\n",
      "378/378 [==============================] - 0s 89us/step - loss: 43.8726 - val_loss: 59.6177\n",
      "Epoch 102/300\n",
      "378/378 [==============================] - 0s 94us/step - loss: 43.7853 - val_loss: 59.5622\n",
      "Epoch 103/300\n",
      "378/378 [==============================] - 0s 95us/step - loss: 43.7660 - val_loss: 59.5514\n",
      "Epoch 104/300\n",
      "378/378 [==============================] - 0s 95us/step - loss: 43.8166 - val_loss: 59.5011\n",
      "Epoch 105/300\n",
      "378/378 [==============================] - 0s 98us/step - loss: 43.7651 - val_loss: 59.5276\n",
      "Epoch 106/300\n",
      "378/378 [==============================] - 0s 102us/step - loss: 43.7752 - val_loss: 59.5561\n",
      "Epoch 107/300\n",
      "378/378 [==============================] - 0s 97us/step - loss: 43.8014 - val_loss: 59.5521\n",
      "Epoch 108/300\n",
      "378/378 [==============================] - 0s 103us/step - loss: 43.7845 - val_loss: 59.6353\n",
      "Epoch 109/300\n",
      "378/378 [==============================] - 0s 94us/step - loss: 43.8313 - val_loss: 59.7939\n",
      "Epoch 110/300\n",
      "378/378 [==============================] - 0s 91us/step - loss: 43.7948 - val_loss: 59.6739\n",
      "Epoch 111/300\n",
      "378/378 [==============================] - 0s 89us/step - loss: 43.7579 - val_loss: 59.7221\n",
      "Epoch 112/300\n",
      "378/378 [==============================] - 0s 88us/step - loss: 43.8241 - val_loss: 59.6887\n",
      "Epoch 113/300\n",
      "378/378 [==============================] - 0s 89us/step - loss: 43.7636 - val_loss: 59.7101\n",
      "Epoch 114/300\n",
      "378/378 [==============================] - 0s 88us/step - loss: 43.7755 - val_loss: 59.5006\n",
      "Epoch 115/300\n",
      "378/378 [==============================] - 0s 88us/step - loss: 43.7503 - val_loss: 59.5726\n",
      "Epoch 116/300\n",
      "378/378 [==============================] - 0s 89us/step - loss: 43.8051 - val_loss: 59.5295\n",
      "Epoch 117/300\n",
      "378/378 [==============================] - 0s 88us/step - loss: 43.7797 - val_loss: 59.7108\n",
      "Epoch 118/300\n",
      "378/378 [==============================] - 0s 91us/step - loss: 43.8721 - val_loss: 59.8479\n",
      "Epoch 119/300\n",
      "378/378 [==============================] - 0s 88us/step - loss: 44.2797 - val_loss: 56.5243\n",
      "Epoch 120/300\n",
      "378/378 [==============================] - 0s 89us/step - loss: 44.1040 - val_loss: 56.6594\n",
      "Epoch 121/300\n",
      "378/378 [==============================] - 0s 89us/step - loss: 43.9304 - val_loss: 56.3981\n",
      "Epoch 122/300\n",
      "378/378 [==============================] - 0s 88us/step - loss: 43.9470 - val_loss: 56.5844\n",
      "Epoch 123/300\n",
      "378/378 [==============================] - 0s 88us/step - loss: 43.8946 - val_loss: 56.8255\n",
      "Epoch 124/300\n",
      "378/378 [==============================] - 0s 89us/step - loss: 43.9239 - val_loss: 56.3808\n",
      "Epoch 125/300\n",
      "378/378 [==============================] - 0s 88us/step - loss: 43.9754 - val_loss: 56.5422\n",
      "Epoch 126/300\n",
      "378/378 [==============================] - 0s 87us/step - loss: 43.9243 - val_loss: 56.6272\n",
      "Epoch 127/300\n",
      "378/378 [==============================] - 0s 93us/step - loss: 43.8941 - val_loss: 56.6327\n",
      "Epoch 128/300\n",
      "378/378 [==============================] - 0s 91us/step - loss: 43.8494 - val_loss: 56.6661\n",
      "Epoch 129/300\n",
      "378/378 [==============================] - 0s 88us/step - loss: 43.8993 - val_loss: 56.9374\n",
      "Epoch 130/300\n",
      "378/378 [==============================] - 0s 89us/step - loss: 43.9179 - val_loss: 56.7470\n",
      "Epoch 131/300\n",
      "378/378 [==============================] - 0s 87us/step - loss: 43.9592 - val_loss: 57.1504\n",
      "Epoch 132/300\n",
      "378/378 [==============================] - 0s 88us/step - loss: 44.0729 - val_loss: 57.0942\n",
      "Epoch 133/300\n",
      "378/378 [==============================] - 0s 89us/step - loss: 44.0957 - val_loss: 56.5852\n",
      "Epoch 134/300\n",
      "378/378 [==============================] - 0s 90us/step - loss: 43.9574 - val_loss: 56.8640\n",
      "Epoch 135/300\n",
      "378/378 [==============================] - 0s 89us/step - loss: 43.9889 - val_loss: 56.6515\n",
      "Epoch 136/300\n",
      "378/378 [==============================] - 0s 92us/step - loss: 43.9557 - val_loss: 56.6346\n",
      "Epoch 137/300\n",
      "378/378 [==============================] - 0s 90us/step - loss: 43.9035 - val_loss: 57.2004\n",
      "Epoch 138/300\n",
      "378/378 [==============================] - 0s 95us/step - loss: 43.9017 - val_loss: 56.9750\n",
      "Epoch 139/300\n",
      "378/378 [==============================] - 0s 94us/step - loss: 43.8962 - val_loss: 57.0618\n",
      "Epoch 140/300\n",
      "378/378 [==============================] - 0s 93us/step - loss: 43.8569 - val_loss: 56.9777\n",
      "Epoch 141/300\n",
      "378/378 [==============================] - 0s 99us/step - loss: 43.9554 - val_loss: 56.8336\n",
      "Epoch 142/300\n",
      "378/378 [==============================] - 0s 97us/step - loss: 43.9028 - val_loss: 56.8001\n",
      "Epoch 143/300\n",
      "378/378 [==============================] - 0s 99us/step - loss: 43.8420 - val_loss: 57.0342\n",
      "Epoch 144/300\n",
      "378/378 [==============================] - 0s 96us/step - loss: 43.8594 - val_loss: 57.2939\n",
      "Epoch 145/300\n",
      "378/378 [==============================] - 0s 89us/step - loss: 43.8243 - val_loss: 57.6674\n",
      "Epoch 146/300\n",
      "378/378 [==============================] - 0s 88us/step - loss: 43.8333 - val_loss: 57.3984\n",
      "Epoch 147/300\n",
      "378/378 [==============================] - 0s 89us/step - loss: 43.8696 - val_loss: 57.2976\n",
      "Epoch 148/300\n",
      "378/378 [==============================] - 0s 90us/step - loss: 43.7889 - val_loss: 57.6285\n",
      "Epoch 149/300\n",
      "378/378 [==============================] - 0s 87us/step - loss: 43.8055 - val_loss: 57.4415\n",
      "Epoch 150/300\n",
      "378/378 [==============================] - 0s 91us/step - loss: 43.8480 - val_loss: 57.6488\n",
      "Epoch 151/300\n",
      "378/378 [==============================] - 0s 91us/step - loss: 43.7995 - val_loss: 57.8859\n",
      "Epoch 152/300\n",
      "378/378 [==============================] - 0s 100us/step - loss: 43.8246 - val_loss: 57.6171\n",
      "Epoch 153/300\n",
      "378/378 [==============================] - 0s 95us/step - loss: 43.8056 - val_loss: 57.8573\n",
      "Epoch 154/300\n",
      "378/378 [==============================] - 0s 93us/step - loss: 43.7692 - val_loss: 57.7003\n",
      "Epoch 155/300\n"
     ]
    },
    {
     "name": "stdout",
     "output_type": "stream",
     "text": [
      "378/378 [==============================] - 0s 98us/step - loss: 43.7910 - val_loss: 57.9421\n",
      "Epoch 156/300\n",
      "378/378 [==============================] - 0s 90us/step - loss: 43.8095 - val_loss: 57.9510\n",
      "Epoch 157/300\n",
      "378/378 [==============================] - 0s 92us/step - loss: 43.7826 - val_loss: 58.2242\n",
      "Epoch 158/300\n",
      "378/378 [==============================] - 0s 86us/step - loss: 43.8007 - val_loss: 58.3506\n",
      "Epoch 159/300\n",
      "378/378 [==============================] - 0s 91us/step - loss: 43.8019 - val_loss: 58.2022\n",
      "Epoch 160/300\n",
      "378/378 [==============================] - 0s 87us/step - loss: 43.8455 - val_loss: 58.6063\n",
      "Epoch 161/300\n",
      "378/378 [==============================] - 0s 90us/step - loss: 43.8431 - val_loss: 58.4466\n",
      "Epoch 162/300\n",
      "378/378 [==============================] - 0s 90us/step - loss: 43.7577 - val_loss: 58.7754\n",
      "Epoch 163/300\n",
      "378/378 [==============================] - 0s 92us/step - loss: 43.7781 - val_loss: 58.8962\n",
      "Epoch 164/300\n",
      "378/378 [==============================] - 0s 92us/step - loss: 43.8327 - val_loss: 58.6151\n",
      "Epoch 165/300\n",
      "378/378 [==============================] - 0s 88us/step - loss: 43.8805 - val_loss: 58.8558\n",
      "Epoch 166/300\n",
      "378/378 [==============================] - 0s 87us/step - loss: 43.9326 - val_loss: 58.5072\n",
      "Epoch 167/300\n",
      "378/378 [==============================] - 0s 88us/step - loss: 43.8159 - val_loss: 57.2102\n",
      "Epoch 168/300\n",
      "378/378 [==============================] - 0s 89us/step - loss: 43.8143 - val_loss: 58.7433\n",
      "Epoch 169/300\n",
      "378/378 [==============================] - 0s 90us/step - loss: 43.7857 - val_loss: 59.5276\n",
      "Epoch 170/300\n",
      "378/378 [==============================] - 0s 89us/step - loss: 43.8514 - val_loss: 59.0736\n",
      "Epoch 171/300\n",
      "378/378 [==============================] - 0s 89us/step - loss: 43.8595 - val_loss: 58.8409\n",
      "Epoch 172/300\n",
      "378/378 [==============================] - 0s 91us/step - loss: 43.8480 - val_loss: 58.9637\n",
      "Epoch 173/300\n",
      "378/378 [==============================] - 0s 88us/step - loss: 43.7773 - val_loss: 59.4654\n",
      "Epoch 174/300\n",
      "378/378 [==============================] - 0s 88us/step - loss: 44.7858 - val_loss: 60.4108\n",
      "Epoch 175/300\n",
      "378/378 [==============================] - 0s 87us/step - loss: 45.0681 - val_loss: 58.2571\n",
      "Epoch 176/300\n",
      "378/378 [==============================] - 0s 89us/step - loss: 44.5804 - val_loss: 57.4846\n",
      "Epoch 177/300\n",
      "378/378 [==============================] - 0s 89us/step - loss: 44.5252 - val_loss: 56.9463\n",
      "Epoch 178/300\n",
      "378/378 [==============================] - 0s 88us/step - loss: 44.4223 - val_loss: 57.7662\n",
      "Epoch 179/300\n",
      "378/378 [==============================] - 0s 92us/step - loss: 44.3309 - val_loss: 57.8990\n",
      "Epoch 180/300\n",
      "378/378 [==============================] - 0s 95us/step - loss: 44.3252 - val_loss: 57.9919\n",
      "Epoch 181/300\n",
      "378/378 [==============================] - 0s 93us/step - loss: 44.2440 - val_loss: 57.2251\n",
      "Epoch 182/300\n",
      "378/378 [==============================] - 0s 96us/step - loss: 44.2650 - val_loss: 57.5176\n",
      "Epoch 183/300\n",
      "378/378 [==============================] - 0s 99us/step - loss: 44.2460 - val_loss: 58.0102\n",
      "Epoch 184/300\n",
      "378/378 [==============================] - 0s 99us/step - loss: 44.1830 - val_loss: 58.5668\n",
      "Epoch 185/300\n",
      "378/378 [==============================] - 0s 93us/step - loss: 44.1240 - val_loss: 58.5093\n",
      "Epoch 186/300\n",
      "378/378 [==============================] - 0s 92us/step - loss: 44.0763 - val_loss: 59.0716\n",
      "Epoch 187/300\n",
      "378/378 [==============================] - 0s 95us/step - loss: 43.9871 - val_loss: 59.5754\n",
      "Epoch 188/300\n",
      "378/378 [==============================] - 0s 95us/step - loss: 43.9639 - val_loss: 58.9661\n",
      "Epoch 189/300\n",
      "378/378 [==============================] - 0s 93us/step - loss: 43.9596 - val_loss: 58.7948\n",
      "Epoch 190/300\n",
      "378/378 [==============================] - 0s 94us/step - loss: 43.8594 - val_loss: 59.3499\n",
      "Epoch 191/300\n",
      "378/378 [==============================] - 0s 93us/step - loss: 43.8117 - val_loss: 58.9298\n",
      "Epoch 192/300\n",
      "378/378 [==============================] - 0s 105us/step - loss: 43.8096 - val_loss: 59.3063\n",
      "Epoch 193/300\n",
      "378/378 [==============================] - 0s 85us/step - loss: 43.8234 - val_loss: 58.9094\n",
      "Epoch 194/300\n",
      "378/378 [==============================] - 0s 84us/step - loss: 43.8183 - val_loss: 59.4184\n",
      "Epoch 195/300\n",
      "378/378 [==============================] - 0s 88us/step - loss: 43.7492 - val_loss: 59.2778\n",
      "Epoch 196/300\n",
      "378/378 [==============================] - 0s 89us/step - loss: 43.8548 - val_loss: 59.4668\n",
      "Epoch 197/300\n",
      "378/378 [==============================] - 0s 95us/step - loss: 43.8352 - val_loss: 58.8311\n",
      "Epoch 198/300\n",
      "378/378 [==============================] - 0s 109us/step - loss: 43.7137 - val_loss: 59.1428\n",
      "Epoch 199/300\n",
      "378/378 [==============================] - 0s 113us/step - loss: 43.8246 - val_loss: 59.3933\n",
      "Epoch 200/300\n",
      "378/378 [==============================] - 0s 114us/step - loss: 43.7685 - val_loss: 58.9513\n",
      "Epoch 201/300\n",
      "378/378 [==============================] - 0s 121us/step - loss: 43.8101 - val_loss: 59.2881\n",
      "Epoch 202/300\n",
      "378/378 [==============================] - 0s 119us/step - loss: 43.7736 - val_loss: 59.0749\n",
      "Epoch 203/300\n",
      "378/378 [==============================] - 0s 100us/step - loss: 43.7385 - val_loss: 59.4060\n",
      "Epoch 204/300\n",
      "378/378 [==============================] - 0s 99us/step - loss: 43.7163 - val_loss: 59.3742\n",
      "Epoch 205/300\n",
      "378/378 [==============================] - 0s 94us/step - loss: 43.7117 - val_loss: 59.2151\n",
      "Epoch 206/300\n",
      "378/378 [==============================] - 0s 92us/step - loss: 43.7235 - val_loss: 59.1970\n",
      "Epoch 207/300\n",
      "378/378 [==============================] - 0s 94us/step - loss: 43.7536 - val_loss: 59.3563\n",
      "Epoch 208/300\n",
      "378/378 [==============================] - 0s 94us/step - loss: 43.7239 - val_loss: 59.5416\n",
      "Epoch 209/300\n",
      "378/378 [==============================] - 0s 92us/step - loss: 43.7279 - val_loss: 59.7371\n",
      "Epoch 210/300\n",
      "378/378 [==============================] - 0s 90us/step - loss: 43.7419 - val_loss: 59.1639\n",
      "Epoch 211/300\n",
      "378/378 [==============================] - 0s 96us/step - loss: 43.7283 - val_loss: 59.2679\n",
      "Epoch 212/300\n",
      "378/378 [==============================] - 0s 90us/step - loss: 43.6936 - val_loss: 59.3249\n",
      "Epoch 213/300\n",
      "378/378 [==============================] - 0s 91us/step - loss: 43.7009 - val_loss: 59.4731\n",
      "Epoch 214/300\n",
      "378/378 [==============================] - 0s 91us/step - loss: 43.7571 - val_loss: 59.4232\n",
      "Epoch 215/300\n",
      "378/378 [==============================] - 0s 90us/step - loss: 43.7139 - val_loss: 58.6898\n",
      "Epoch 216/300\n",
      "378/378 [==============================] - 0s 90us/step - loss: 43.7522 - val_loss: 59.6657\n",
      "Epoch 217/300\n",
      "378/378 [==============================] - 0s 92us/step - loss: 43.6969 - val_loss: 59.4592\n",
      "Epoch 218/300\n",
      "378/378 [==============================] - 0s 112us/step - loss: 43.7011 - val_loss: 59.2851\n",
      "Epoch 219/300\n",
      "378/378 [==============================] - 0s 106us/step - loss: 43.6565 - val_loss: 59.6252\n",
      "Epoch 220/300\n",
      "378/378 [==============================] - 0s 117us/step - loss: 43.7123 - val_loss: 59.5459\n",
      "Epoch 221/300\n",
      "378/378 [==============================] - 0s 114us/step - loss: 43.6653 - val_loss: 59.3837\n",
      "Epoch 222/300\n",
      "378/378 [==============================] - 0s 103us/step - loss: 43.7090 - val_loss: 59.4529\n",
      "Epoch 223/300\n",
      "378/378 [==============================] - 0s 104us/step - loss: 43.6663 - val_loss: 59.5964\n",
      "Epoch 224/300\n",
      "378/378 [==============================] - 0s 91us/step - loss: 43.7301 - val_loss: 59.4272\n",
      "Epoch 225/300\n",
      "378/378 [==============================] - 0s 92us/step - loss: 43.7507 - val_loss: 59.5622\n",
      "Epoch 226/300\n",
      "378/378 [==============================] - 0s 97us/step - loss: 43.7539 - val_loss: 59.5310\n",
      "Epoch 227/300\n",
      "378/378 [==============================] - 0s 91us/step - loss: 43.7263 - val_loss: 59.4324\n",
      "Epoch 228/300\n",
      "378/378 [==============================] - 0s 89us/step - loss: 43.7571 - val_loss: 59.5224\n",
      "Epoch 229/300\n",
      "378/378 [==============================] - 0s 90us/step - loss: 43.6833 - val_loss: 59.5692\n",
      "Epoch 230/300\n",
      "378/378 [==============================] - 0s 87us/step - loss: 43.6996 - val_loss: 59.5620\n",
      "Epoch 231/300\n",
      "378/378 [==============================] - 0s 89us/step - loss: 43.7700 - val_loss: 59.3011\n",
      "Epoch 232/300\n",
      "378/378 [==============================] - 0s 91us/step - loss: 43.9159 - val_loss: 59.6284\n",
      "Epoch 233/300\n",
      "378/378 [==============================] - 0s 92us/step - loss: 43.8116 - val_loss: 60.0647\n",
      "Epoch 234/300\n",
      "378/378 [==============================] - 0s 97us/step - loss: 44.0886 - val_loss: 59.4945\n",
      "Epoch 235/300\n",
      "378/378 [==============================] - 0s 98us/step - loss: 44.1076 - val_loss: 59.6610\n",
      "Epoch 236/300\n",
      "378/378 [==============================] - 0s 95us/step - loss: 44.0469 - val_loss: 59.7226\n",
      "Epoch 237/300\n",
      "378/378 [==============================] - 0s 93us/step - loss: 44.0264 - val_loss: 59.6290\n",
      "Epoch 238/300\n",
      "378/378 [==============================] - 0s 97us/step - loss: 43.9072 - val_loss: 59.6271\n",
      "Epoch 239/300\n",
      "378/378 [==============================] - 0s 93us/step - loss: 43.8719 - val_loss: 59.3475\n",
      "Epoch 240/300\n",
      "378/378 [==============================] - 0s 93us/step - loss: 43.8829 - val_loss: 59.6114\n",
      "Epoch 241/300\n",
      "378/378 [==============================] - 0s 96us/step - loss: 43.7627 - val_loss: 59.5022\n",
      "Epoch 242/300\n",
      "378/378 [==============================] - 0s 96us/step - loss: 43.8594 - val_loss: 59.2273\n",
      "Epoch 243/300\n",
      "378/378 [==============================] - 0s 95us/step - loss: 43.8478 - val_loss: 59.9752\n",
      "Epoch 244/300\n",
      "378/378 [==============================] - 0s 98us/step - loss: 43.8425 - val_loss: 58.9965\n",
      "Epoch 245/300\n",
      "378/378 [==============================] - 0s 123us/step - loss: 43.8084 - val_loss: 58.9024\n",
      "Epoch 246/300\n",
      "378/378 [==============================] - 0s 117us/step - loss: 43.8291 - val_loss: 60.1795\n",
      "Epoch 247/300\n",
      "378/378 [==============================] - 0s 118us/step - loss: 43.8007 - val_loss: 59.8128\n",
      "Epoch 248/300\n",
      "378/378 [==============================] - 0s 111us/step - loss: 43.8403 - val_loss: 59.6003\n",
      "Epoch 249/300\n",
      "378/378 [==============================] - 0s 105us/step - loss: 43.7799 - val_loss: 59.3142\n",
      "Epoch 250/300\n",
      "378/378 [==============================] - 0s 104us/step - loss: 43.7697 - val_loss: 59.4564\n",
      "Epoch 251/300\n",
      "378/378 [==============================] - 0s 95us/step - loss: 43.8020 - val_loss: 59.6767\n",
      "Epoch 252/300\n",
      "378/378 [==============================] - 0s 91us/step - loss: 43.7461 - val_loss: 59.4471\n",
      "Epoch 253/300\n",
      "378/378 [==============================] - 0s 97us/step - loss: 43.8255 - val_loss: 59.4676\n",
      "Epoch 254/300\n",
      "378/378 [==============================] - 0s 115us/step - loss: 43.8523 - val_loss: 59.0020\n",
      "Epoch 255/300\n",
      "378/378 [==============================] - 0s 112us/step - loss: 43.8100 - val_loss: 59.2531\n",
      "Epoch 256/300\n",
      "378/378 [==============================] - 0s 103us/step - loss: 43.8087 - val_loss: 59.3023\n",
      "Epoch 257/300\n",
      "378/378 [==============================] - 0s 115us/step - loss: 43.8281 - val_loss: 59.6044\n",
      "Epoch 258/300\n",
      "378/378 [==============================] - 0s 103us/step - loss: 43.8090 - val_loss: 59.7867\n",
      "Epoch 259/300\n",
      "378/378 [==============================] - 0s 91us/step - loss: 43.7592 - val_loss: 59.5232\n",
      "Epoch 260/300\n",
      "378/378 [==============================] - 0s 100us/step - loss: 43.8061 - val_loss: 59.4443\n",
      "Epoch 261/300\n",
      "378/378 [==============================] - 0s 99us/step - loss: 43.7668 - val_loss: 59.4893\n",
      "Epoch 262/300\n",
      "378/378 [==============================] - 0s 106us/step - loss: 43.7477 - val_loss: 59.5678\n",
      "Epoch 263/300\n",
      "378/378 [==============================] - 0s 104us/step - loss: 43.7457 - val_loss: 59.5476\n",
      "Epoch 264/300\n",
      "378/378 [==============================] - 0s 116us/step - loss: 43.7462 - val_loss: 59.8020\n",
      "Epoch 265/300\n",
      "378/378 [==============================] - 0s 111us/step - loss: 43.7534 - val_loss: 59.5041\n",
      "Epoch 266/300\n",
      "378/378 [==============================] - 0s 105us/step - loss: 43.7724 - val_loss: 59.6656\n",
      "Epoch 267/300\n",
      "378/378 [==============================] - 0s 117us/step - loss: 43.7509 - val_loss: 59.2916\n",
      "Epoch 268/300\n",
      "378/378 [==============================] - 0s 103us/step - loss: 43.7851 - val_loss: 59.0015\n",
      "Epoch 269/300\n",
      "378/378 [==============================] - 0s 105us/step - loss: 43.7407 - val_loss: 59.8250\n",
      "Epoch 270/300\n",
      "378/378 [==============================] - 0s 107us/step - loss: 43.7540 - val_loss: 59.3877\n",
      "Epoch 271/300\n",
      "378/378 [==============================] - 0s 100us/step - loss: 43.7674 - val_loss: 59.4584\n",
      "Epoch 272/300\n",
      "378/378 [==============================] - 0s 96us/step - loss: 43.7862 - val_loss: 59.6061\n",
      "Epoch 273/300\n",
      "378/378 [==============================] - 0s 110us/step - loss: 43.7600 - val_loss: 59.5927\n",
      "Epoch 274/300\n",
      "378/378 [==============================] - 0s 108us/step - loss: 43.7661 - val_loss: 59.3766\n",
      "Epoch 275/300\n",
      "378/378 [==============================] - 0s 113us/step - loss: 43.7629 - val_loss: 59.2687\n",
      "Epoch 276/300\n",
      "378/378 [==============================] - 0s 104us/step - loss: 43.7697 - val_loss: 59.2315\n",
      "Epoch 277/300\n",
      "378/378 [==============================] - 0s 104us/step - loss: 43.8296 - val_loss: 59.3045\n",
      "Epoch 278/300\n",
      "378/378 [==============================] - 0s 109us/step - loss: 43.8187 - val_loss: 58.8421\n",
      "Epoch 279/300\n",
      "378/378 [==============================] - 0s 101us/step - loss: 43.7846 - val_loss: 59.5621\n",
      "Epoch 280/300\n",
      "378/378 [==============================] - 0s 98us/step - loss: 43.7171 - val_loss: 59.5765\n",
      "Epoch 281/300\n",
      "378/378 [==============================] - 0s 107us/step - loss: 43.7192 - val_loss: 59.5319\n",
      "Epoch 282/300\n",
      "378/378 [==============================] - 0s 109us/step - loss: 43.7219 - val_loss: 59.2790\n",
      "Epoch 283/300\n",
      "378/378 [==============================] - 0s 113us/step - loss: 43.7697 - val_loss: 59.8871\n",
      "Epoch 284/300\n",
      "378/378 [==============================] - 0s 111us/step - loss: 43.7094 - val_loss: 59.4926\n",
      "Epoch 285/300\n",
      "378/378 [==============================] - 0s 100us/step - loss: 43.7074 - val_loss: 59.6497\n",
      "Epoch 286/300\n",
      "378/378 [==============================] - 0s 108us/step - loss: 43.7749 - val_loss: 59.6447\n",
      "Epoch 287/300\n",
      "378/378 [==============================] - 0s 102us/step - loss: 43.8755 - val_loss: 59.9781\n",
      "Epoch 288/300\n",
      "378/378 [==============================] - 0s 109us/step - loss: 43.8666 - val_loss: 59.6072\n",
      "Epoch 289/300\n",
      "378/378 [==============================] - 0s 100us/step - loss: 43.8046 - val_loss: 59.5613\n",
      "Epoch 290/300\n",
      "378/378 [==============================] - 0s 95us/step - loss: 43.7834 - val_loss: 59.5777\n",
      "Epoch 291/300\n",
      "378/378 [==============================] - 0s 107us/step - loss: 43.7631 - val_loss: 59.0609\n",
      "Epoch 292/300\n",
      "378/378 [==============================] - 0s 101us/step - loss: 43.7425 - val_loss: 59.5360\n",
      "Epoch 293/300\n",
      "378/378 [==============================] - 0s 118us/step - loss: 43.7372 - val_loss: 59.0705\n",
      "Epoch 294/300\n",
      "378/378 [==============================] - 0s 115us/step - loss: 43.7113 - val_loss: 59.9473\n",
      "Epoch 295/300\n",
      "378/378 [==============================] - 0s 100us/step - loss: 43.8150 - val_loss: 59.7333\n",
      "Epoch 296/300\n",
      "378/378 [==============================] - 0s 110us/step - loss: 43.8136 - val_loss: 58.8803\n",
      "Epoch 297/300\n",
      "378/378 [==============================] - 0s 97us/step - loss: 43.7395 - val_loss: 59.2467\n",
      "Epoch 298/300\n",
      "378/378 [==============================] - 0s 100us/step - loss: 43.7215 - val_loss: 59.2555\n",
      "Epoch 299/300\n",
      "378/378 [==============================] - 0s 102us/step - loss: 43.6738 - val_loss: 59.6399\n",
      "Epoch 300/300\n",
      "378/378 [==============================] - 0s 100us/step - loss: 43.6594 - val_loss: 59.4861\n"
     ]
    },
    {
     "data": {
      "text/plain": [
       "<keras.callbacks.History at 0x1a2d55a6a0>"
      ]
     },
     "execution_count": 44,
     "metadata": {},
     "output_type": "execute_result"
    }
   ],
   "source": [
    "np.random.seed(0)\n",
    "#model.compile('adam','mean_absolute_error')\n",
    "model.fit(train_agg, train_all_appliances, epochs=300, validation_split=0.1)"
   ]
  },
  {
   "cell_type": "code",
   "execution_count": 45,
   "metadata": {},
   "outputs": [
    {
     "data": {
      "text/plain": [
       "0.6893106745816882"
      ]
     },
     "execution_count": 45,
     "metadata": {},
     "output_type": "execute_result"
    }
   ],
   "source": [
    "pd.DataFrame((train_hvac/train_agg)).mean().mean()"
   ]
  },
  {
   "cell_type": "code",
   "execution_count": 46,
   "metadata": {},
   "outputs": [
    {
     "data": {
      "text/plain": [
       "['aggregate', 'hvac', 'fridge', 'mw', 'dw', 'wm', 'oven']"
      ]
     },
     "execution_count": 46,
     "metadata": {},
     "output_type": "execute_result"
    }
   ],
   "source": [
    "model.predict(test_agg)[:, :24].shape\n",
    "test_hvac.shape\n",
    "APPLIANCES_ORDER"
   ]
  },
  {
   "cell_type": "code",
   "execution_count": 47,
   "metadata": {},
   "outputs": [
    {
     "name": "stdout",
     "output_type": "stream",
     "text": [
      "236.312518169\n",
      "61.6191843402\n",
      "6.92433982454\n",
      "15.2636925415\n",
      "5.81676925996\n",
      "20.9097738518\n"
     ]
    }
   ],
   "source": [
    "pred_hvac = model.predict(test_agg)[:, :24]\n",
    "pred_fridge = model.predict(test_agg)[:, 24:48]\n",
    "pred_mw = model.predict(test_agg)[:, 48:72]\n",
    "pred_dw = model.predict(test_agg)[:, 72:96]\n",
    "pred_wm = model.predict(test_agg)[:, 96:120]\n",
    "pred_oven = model.predict(test_agg)[:, 120:]\n",
    "\n",
    "\n",
    "\n",
    "\n",
    "\n",
    "\n",
    "\n",
    "\n",
    "from sklearn.metrics import mean_absolute_error\n",
    "print(mean_absolute_error(pred_hvac, test_hvac))\n",
    "print(mean_absolute_error(pred_fridge, test_fridge))\n",
    "print(mean_absolute_error(pred_mw, test_mw))\n",
    "print(mean_absolute_error(pred_dw, test_dw))\n",
    "print(mean_absolute_error(pred_wm, test_wm))\n",
    "print(mean_absolute_error(pred_oven, test_oven))\n",
    "\n",
    "\n",
    "\n",
    "\n",
    "\n",
    "\n",
    "\n",
    "\n",
    "#print(mean_absolute_error(test_agg, pred_hvac))\n",
    "\n"
   ]
  },
  {
   "cell_type": "code",
   "execution_count": 48,
   "metadata": {},
   "outputs": [
    {
     "data": {
      "text/plain": [
       "168.9049530029297"
      ]
     },
     "execution_count": 48,
     "metadata": {},
     "output_type": "execute_result"
    }
   ],
   "source": [
    "pd.DataFrame(model.predict(test_agg)[:, :]).mean().mean()"
   ]
  },
  {
   "cell_type": "code",
   "execution_count": 49,
   "metadata": {},
   "outputs": [
    {
     "data": {
      "text/plain": [
       "(308, 24)"
      ]
     },
     "execution_count": 49,
     "metadata": {},
     "output_type": "execute_result"
    }
   ],
   "source": [
    "test_agg.shape"
   ]
  },
  {
   "cell_type": "code",
   "execution_count": 50,
   "metadata": {},
   "outputs": [
    {
     "data": {
      "text/plain": [
       "<matplotlib.legend.Legend at 0x1a2c85add8>"
      ]
     },
     "execution_count": 50,
     "metadata": {},
     "output_type": "execute_result"
    },
    {
     "data": {
      "image/png": "[encoded data removed]",
      "text/plain": [
       "<matplotlib.figure.Figure at 0x1a2c85ad68>"
      ]
     },
     "metadata": {},
     "output_type": "display_data"
    }
   ],
   "source": [
    "#pd.Series(train_appliance[0]).plot()\n",
    "pd.Series(train_all_appliances[0]).plot(label='GT')\n",
    "pd.Series(model.predict(test_agg)[0, :]).plot(label='Pred')\n",
    "plt.legend()"
   ]
  },
  {
   "cell_type": "code",
   "execution_count": 215,
   "metadata": {},
   "outputs": [
    {
     "data": {
      "text/plain": [
       "<matplotlib.legend.Legend at 0x1a3afb24a8>"
      ]
     },
     "execution_count": 215,
     "metadata": {},
     "output_type": "execute_result"
    },
    {
     "data": {
      "image/png": "[encoded data removed]",
      "text/plain": [
       "<matplotlib.figure.Figure at 0x1a45cb0e10>"
      ]
     },
     "metadata": {},
     "output_type": "display_data"
    }
   ],
   "source": [
    "#pd.Series(test_agg[1, :]).plot(label='GT Agg')\n",
    "#pd.Series(test_hvac[1, :]).plot(label='GT HVAC')\n",
    "pd.Series(test_fridge[1, :]).plot(label='GT HVAC')\n",
    "\n",
    "\n",
    "#pd.Series(test_fridge[1, :]).plot(label='GT Fridge')\n",
    "\n",
    "\n",
    "#pd.Series(test_mw[1, :]).plot(label='GT MW')\n",
    "#pd.Series(test_oven[1, :]).plot(label='GT Oven')\n",
    "\n",
    "\n",
    "\n",
    "\n",
    "\n",
    "\n",
    "\n",
    "#pd.Series(model.predict(test_agg[1:2])[0, :24]).plot(label='Pred HVAC')\n",
    "pd.Series(model.predict(test_agg[1:2])[0, 24:48]).plot(label='Pred HVAC')\n",
    "\n",
    "\n",
    "#pd.Series(model.predict(test_agg[1:2])[0, 24:]).plot(label='Pred Fridge')\n",
    "\n",
    "\n",
    "\n",
    "\n",
    "plt.legend()"
   ]
  },
  {
   "cell_type": "code",
   "execution_count": 216,
   "metadata": {},
   "outputs": [
    {
     "name": "stdout",
     "output_type": "stream",
     "text": [
      "83.6465 88.9532061557\n"
     ]
    },
    {
     "data": {
      "text/plain": [
       "(1034.436, 937.65674098776663, 1072.7840002015712)"
      ]
     },
     "execution_count": 216,
     "metadata": {},
     "output_type": "execute_result"
    }
   ],
   "source": [
    "print(np.mean(pred_fridge), np.mean(test_fridge))\n",
    "np.mean(pred_hvac), np.mean(test_hvac), np.mean(test_agg)"
   ]
  },
  {
   "cell_type": "code",
   "execution_count": 217,
   "metadata": {},
   "outputs": [
    {
     "data": {
      "text/plain": [
       "137"
      ]
     },
     "execution_count": 217,
     "metadata": {},
     "output_type": "execute_result"
    }
   ],
   "source": [
    "(pd.DataFrame(test_fridge)-pd.DataFrame(pred_fridge)).abs().sum(axis=1).argmax()"
   ]
  },
  {
   "cell_type": "code",
   "execution_count": 218,
   "metadata": {},
   "outputs": [
    {
     "data": {
      "text/plain": [
       "<matplotlib.legend.Legend at 0x1a45f2afd0>"
      ]
     },
     "execution_count": 218,
     "metadata": {},
     "output_type": "execute_result"
    },
    {
     "data": {
      "image/png": "[encoded data removed]",
      "text/plain": [
       "<matplotlib.figure.Figure at 0x1a40238278>"
      ]
     },
     "metadata": {},
     "output_type": "display_data"
    }
   ],
   "source": [
    "pd.Series(test_fridge[1, :]).plot(label='GT')\n",
    "pd.Series(model.predict(test_agg_new[1:2])[0, 24:]).plot(label='Pred')\n",
    "\n",
    "\n",
    "plt.legend()"
   ]
  },
  {
   "cell_type": "code",
   "execution_count": null,
   "metadata": {
    "collapsed": true
   },
   "outputs": [],
   "source": []
  }
 ],
 "metadata": {
  "kernelspec": {
   "display_name": "Python [default]",
   "language": "python",
   "name": "python3"
  },
  "language_info": {
   "codemirror_mode": {
    "name": "ipython",
    "version": 3
   },
   "file_extension": ".py",
   "mimetype": "text/x-python",
   "name": "python",
   "nbconvert_exporter": "python",
   "pygments_lexer": "ipython3",
   "version": "3.6.6"
  }
 },
 "nbformat": 4,
 "nbformat_minor": 2
}
