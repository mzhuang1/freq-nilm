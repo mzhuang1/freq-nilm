{
 "cells": [
  {
   "cell_type": "code",
   "execution_count": 1,
   "metadata": {
    "collapsed": true
   },
   "outputs": [],
   "source": [
    "import torch\n",
    "from torch.autograd import Variable\n",
    "import numpy as np\n",
    "import torch.nn as nn\n",
    "from torchvision import datasets,transforms\n",
    "import torch.nn.functional as F\n",
    "import sys\n",
    "sys.path.append(\"../code/\")\n",
    "from dataloader import APPLIANCE_ORDER, get_train_test"
   ]
  },
  {
   "cell_type": "code",
   "execution_count": 2,
   "metadata": {
    "collapsed": true
   },
   "outputs": [],
   "source": [
    "class CustomCNNDR(nn.Module):\n",
    "    def __init__(self):\n",
    "        super(CustomCNNDR, self).__init__()\n",
    "        self.conv1 = nn.Conv2d(1, 20, kernel_size=5, stride=1, padding=2)\n",
    "        self.bn1 = nn.BatchNorm2d(20)\n",
    "\n",
    "        self.conv2 = nn.Conv2d(20, 16, kernel_size=3, stride=1, padding=1)\n",
    "        self.bn2 = nn.BatchNorm2d(16)\n",
    "\n",
    "        self.conv3 = nn.Conv2d(16, 64, kernel_size=7, stride=1, padding=3)\n",
    "        self.bn3 = nn.BatchNorm2d(64)\n",
    "\n",
    "        self.conv4 = nn.ConvTranspose2d(64, 16, kernel_size=7, stride=1, padding=3)\n",
    "        self.bn4 = nn.BatchNorm2d(16)\n",
    "\n",
    "        self.conv5 = nn.ConvTranspose2d(16, 6, kernel_size=3, stride=1, padding=1)\n",
    "        self.bn5 = nn.BatchNorm2d(6)\n",
    "\n",
    "        self.conv6 = nn.ConvTranspose2d(6, 1, kernel_size=5, stride=1, padding=2) \n",
    "        \n",
    "        self.maxpool = nn.MaxPool2d(kernel_size=2,return_indices=True)\n",
    "        self.avgpool = nn.AvgPool2d(kernel_size=2)\n",
    "        self.unpool = nn.MaxUnpool2d(2)\n",
    "        \n",
    "        self.act = nn.ReLU()\n",
    "        \n",
    "    # forward method\n",
    "    def forward(self, input):\n",
    "    \n",
    "        pred = self.conv1(input)\n",
    "        pred = self.bn1(self.act(pred))\n",
    "        layer1 = pred.clone()\n",
    "        \n",
    "        pred = self.conv2(pred)\n",
    "        pred = self.bn2(self.act(pred))\n",
    "        layer2 = pred.clone()\n",
    "        \n",
    "        \n",
    "        pred, indices = self.maxpool(pred)\n",
    "        pred = self.unpool(pred, indices)\n",
    "        maxlayer = pred.clone()\n",
    "        \n",
    "        pred = self.conv5(pred)\n",
    "        pred = self.bn5(self.act(pred))\n",
    "        layer5 = pred.clone()\n",
    "        \n",
    "        pred = self.conv6(pred)\n",
    "        \n",
    "        return pred\n",
    "\n",
    "\n"
   ]
  },
  {
   "cell_type": "code",
   "execution_count": 3,
   "metadata": {
    "collapsed": true
   },
   "outputs": [],
   "source": [
    "class CustomCNN(nn.Module):\n",
    "    def __init__(self):\n",
    "        super(CustomCNN, self).__init__()\n",
    "        self.conv1 = nn.Conv2d(1, 20, kernel_size=7, stride=1, padding=2)\n",
    "        self.bn1 = nn.BatchNorm2d(20)\n",
    "\n",
    "        self.conv2 = nn.Conv2d(20, 16, kernel_size=2, stride=2, padding=1)\n",
    "        self.bn2 = nn.BatchNorm2d(16)\n",
    "\n",
    "        self.conv3 = nn.Conv2d(16, 64, kernel_size=4, stride=2, padding=1)\n",
    "        self.bn3 = nn.BatchNorm2d(64)\n",
    "\n",
    "        self.conv4 = nn.ConvTranspose2d(64, 16, kernel_size=4, stride=2, padding=1)\n",
    "        self.bn4 = nn.BatchNorm2d(16)\n",
    "\n",
    "        self.conv5 = nn.ConvTranspose2d(16, 6, kernel_size=4, stride=2, padding=1)\n",
    "        self.bn5 = nn.BatchNorm2d(6)\n",
    "\n",
    "        self.conv6 = nn.ConvTranspose2d(6, 1, kernel_size=5, stride=1, padding=2) \n",
    "        \n",
    "        self.act = nn.ReLU()\n",
    "        \n",
    "    # forward method\n",
    "    def forward(self, input):\n",
    "        \n",
    "        e1 = self.conv1(input)\n",
    "        bn1 = self.bn1(self.act(e1))\n",
    "        e2 = self.bn2(self.conv2(bn1))\n",
    "#         e3 = self.bn3(self.conv3(e2))\n",
    "        \n",
    "#         e4 = self.bn4(self.conv4(e3))\n",
    "        e5 = self.bn5(self.conv5(e2))\n",
    "        e6 = self.conv6(e5)\n",
    "\n",
    "        return e6"
   ]
  },
  {
   "cell_type": "code",
   "execution_count": 11,
   "metadata": {
    "collapsed": true
   },
   "outputs": [],
   "source": [
    "class AppliancesCNN(nn.Module):\n",
    "    def __init__(self, num_appliance):\n",
    "        super(AppliancesCNN, self).__init__()\n",
    "        self.num_appliance = num_appliance\n",
    "        self.preds = {}\n",
    "        self.order = ORDER\n",
    "        for appliance in range(self.num_appliance):\n",
    "            if ORDER[appliance] in ['dr']:\n",
    "                if cuda_av:\n",
    "                    setattr(self, \"Appliance_\"+str(appliance), CustomCNNDR().cuda())\n",
    "                else:\n",
    "                    setattr(self, \"Appliance_\"+str(appliance), CustomCNNDR())\n",
    "            else:\n",
    "                if cuda_av:\n",
    "                    setattr(self, \"Appliance_\" + str(appliance), CustomCNN().cuda())\n",
    "                else:\n",
    "                    setattr(self, \"Appliance_\" + str(appliance), CustomCNN())\n",
    "\n",
    "    def forward(self, *args):\n",
    "        agg_current = args[0]\n",
    "        flag = False\n",
    "        if np.random.random() > args[1]:\n",
    "            flag = True\n",
    "        else:\n",
    "            pass\n",
    "        for appliance in range(self.num_appliance):\n",
    "            self.preds[appliance] = getattr(self, \"Appliance_\" + str(appliance))(agg_current)\n",
    "            if flag:\n",
    "                agg_current = agg_current - self.preds[appliance]\n",
    "            else:\n",
    "                agg_current = agg_current - args[2 + appliance]\n",
    "\n",
    "        return torch.cat([self.preds[a] for a in range(self.num_appliance)])"
   ]
  },
  {
   "cell_type": "code",
   "execution_count": 29,
   "metadata": {
    "collapsed": true
   },
   "outputs": [],
   "source": [
    "torch.manual_seed(0)\n",
    "num_folds = 5\n",
    "dataset = 3\n",
    "fold_num = 3\n",
    "lr = 0.005\n",
    "train, test = get_train_test(dataset, num_folds=num_folds, fold_num=fold_num)"
   ]
  },
  {
   "cell_type": "code",
   "execution_count": 30,
   "metadata": {
    "collapsed": true
   },
   "outputs": [],
   "source": [
    "valid = train[int(0.8*len(train)):].copy()\n",
    "train = train[:int(0.8 * len(train))].copy()\n",
    "\n",
    "train_aggregate = train[:, 0, :, :].reshape(train.shape[0], 1, -1, 24)\n",
    "valid_aggregate = valid[:, 0, :, :].reshape(valid.shape[0], 1, -1, 24)\n",
    "test_aggregate = test[:, 0, :, :].reshape(test.shape[0], 1, -1, 24)"
   ]
  },
  {
   "cell_type": "code",
   "execution_count": 31,
   "metadata": {
    "collapsed": true
   },
   "outputs": [],
   "source": [
    "# ORDER = ['hvac', 'dr', 'fridge', 'dw', 'mw']\n",
    "ORDER = ['fridge', 'hvac', 'dr', 'dw', 'mw']\n",
    "# ORDER = ['dw', 'mw', 'fridge', 'hvac', 'dr']\n",
    "cuda_av = False\n",
    "if torch.cuda.is_available():\n",
    "    cuda_av = True"
   ]
  },
  {
   "cell_type": "code",
   "execution_count": 32,
   "metadata": {},
   "outputs": [],
   "source": [
    "out_train = [None for temp in range(len(ORDER))]\n",
    "for a_num, appliance in enumerate(ORDER):\n",
    "    out_train[a_num] = Variable(\n",
    "        torch.Tensor(train[:, APPLIANCE_ORDER.index(appliance), :, :].reshape((train.shape[0], 1, -1, 24))))\n",
    "    if cuda_av:\n",
    "        out_train[a_num] = out_train[a_num].cuda()\n",
    "\n",
    "out_valid = [None for temp in range(len(ORDER))]\n",
    "for a_num, appliance in enumerate(ORDER):\n",
    "    out_valid[a_num] = Variable(\n",
    "        torch.Tensor(valid[:, APPLIANCE_ORDER.index(appliance), :, :].reshape((valid.shape[0], 1, -1, 24))))\n",
    "    if cuda_av:\n",
    "        out_valid[a_num] = out_valid[a_num].cuda()\n",
    "        \n",
    "out_test = [None for temp in range(len(ORDER))]\n",
    "for a_num, appliance in enumerate(ORDER):\n",
    "    out_test[a_num] = Variable(\n",
    "        torch.Tensor(test[:, APPLIANCE_ORDER.index(appliance), :, :].reshape((test.shape[0], 1, -1, 24))))\n",
    "    if cuda_av:\n",
    "        out_test[a_num] = out_test[a_num].cuda()"
   ]
  },
  {
   "cell_type": "code",
   "execution_count": 33,
   "metadata": {},
   "outputs": [],
   "source": [
    "loss_func = nn.L1Loss()\n",
    "model = AppliancesCNN(len(ORDER))\n",
    "optimizer = torch.optim.Adam(model.parameters(), lr=lr)\n",
    "optimizer = torch.optim.Adam(model.parameters(), lr=lr)\n",
    "\n",
    "if cuda_av:\n",
    "    model = model.cuda()\n",
    "    loss_func = loss_func.cuda()"
   ]
  },
  {
   "cell_type": "code",
   "execution_count": 34,
   "metadata": {},
   "outputs": [],
   "source": [
    "inp = Variable(torch.Tensor(train_aggregate).type(torch.FloatTensor),\n",
    "               requires_grad=True)\n",
    "\n",
    "inp = Variable(torch.Tensor(train_aggregate), requires_grad=False)\n",
    "if cuda_av:\n",
    "    inp = inp.cuda()\n",
    "\n",
    "valid_inp = Variable(torch.Tensor(valid_aggregate), requires_grad=False)\n",
    "if cuda_av:\n",
    "    valid_inp = valid_inp.cuda()\n",
    "\n",
    "test_inp = Variable(torch.Tensor(test_aggregate), requires_grad=False)\n",
    "if cuda_av:\n",
    "    test_inp = test_inp.cuda()\n",
    "\n",
    "valid_pred = {}\n",
    "train_pred = {}\n",
    "test_pred = {}\n",
    "test_losses = {}\n",
    "valid_losses = {}"
   ]
  },
  {
   "cell_type": "code",
   "execution_count": 35,
   "metadata": {},
   "outputs": [
    {
     "data": {
      "text/plain": [
       "(11, 1, 112, 24)"
      ]
     },
     "execution_count": 35,
     "metadata": {},
     "output_type": "execute_result"
    }
   ],
   "source": [
    "valid_aggregate.shape"
   ]
  },
  {
   "cell_type": "code",
   "execution_count": 36,
   "metadata": {},
   "outputs": [],
   "source": [
    "valid_out = torch.cat([out_valid[appliance_num] for appliance_num, appliance in enumerate(ORDER)])\n",
    "test_out = torch.cat([out_test[appliance_num] for appliance_num, appliance in enumerate(ORDER)])\n",
    "train_out = torch.cat([out_train[appliance_num] for appliance_num, appliance in enumerate(ORDER)])"
   ]
  },
  {
   "cell_type": "code",
   "execution_count": 39,
   "metadata": {},
   "outputs": [
    {
     "name": "stdout",
     "output_type": "stream",
     "text": [
      "Round: 100 Training Error: 57.488155364990234 Validation Error: 94.63622283935547 Test Error: 100.5994644165039\n",
      "Round: 200 Training Error: 57.36222457885742 Validation Error: 95.0032730102539 Test Error: 101.1817626953125\n",
      "Round: 300 Training Error: 57.37400436401367 Validation Error: 94.84429168701172 Test Error: 101.19793701171875\n",
      "Round: 400 Training Error: 57.199615478515625 Validation Error: 95.26756286621094 Test Error: 101.04886627197266\n",
      "Round: 500 Training Error: 57.327266693115234 Validation Error: 95.36563110351562 Test Error: 101.25935363769531\n",
      "Round: 600 Training Error: 57.68940734863281 Validation Error: 95.47885131835938 Test Error: 101.04145812988281\n",
      "Round: 700 Training Error: 57.07343673706055 Validation Error: 94.85401916503906 Test Error: 100.69062805175781\n",
      "Round: 800 Training Error: 56.85456085205078 Validation Error: 95.1231460571289 Test Error: 100.763427734375\n",
      "Round: 900 Training Error: 57.01441955566406 Validation Error: 95.0425796508789 Test Error: 100.82453155517578\n",
      "Round: 1000 Training Error: 57.043968200683594 Validation Error: 95.46504974365234 Test Error: 100.94747924804688\n",
      "Round: 1100 Training Error: 56.78097915649414 Validation Error: 95.0855712890625 Test Error: 100.64820098876953\n",
      "Round: 1200 Training Error: 56.84504699707031 Validation Error: 94.87930297851562 Test Error: 100.68246459960938\n",
      "Round: 1300 Training Error: 56.66522979736328 Validation Error: 95.40067291259766 Test Error: 101.07675170898438\n",
      "Round: 1400 Training Error: 56.75285339355469 Validation Error: 95.40589904785156 Test Error: 101.16194915771484\n",
      "Round: 1500 Training Error: 56.78740692138672 Validation Error: 95.31299591064453 Test Error: 100.97462463378906\n",
      "Round: 1600 Training Error: 56.79349136352539 Validation Error: 95.19243621826172 Test Error: 100.72373962402344\n",
      "Round: 1700 Training Error: 56.66875076293945 Validation Error: 95.32965850830078 Test Error: 100.7990493774414\n",
      "Round: 1800 Training Error: 57.26806640625 Validation Error: 95.05668640136719 Test Error: 101.29195404052734\n",
      "Round: 1900 Training Error: 56.816097259521484 Validation Error: 94.9881362915039 Test Error: 100.94744873046875\n",
      "Round: 2000 Training Error: 57.19777297973633 Validation Error: 95.40043640136719 Test Error: 100.98289489746094\n"
     ]
    }
   ],
   "source": [
    "p = 0\n",
    "num_iterations = 2000\n",
    "params = [inp, p]\n",
    "for a_num, appliance in enumerate(ORDER):\n",
    "    params.append(out_train[a_num])\n",
    "        \n",
    "for t in range(1, num_iterations+1):\n",
    "  \n",
    "    if cuda_av:\n",
    "        train_out = train_out.cuda()\n",
    "\n",
    "    \n",
    "    pred = model(*params)\n",
    "\n",
    "    optimizer.zero_grad()\n",
    "    loss = loss_func(pred, train_out)\n",
    "    if t % 100 == 0:\n",
    "\n",
    "        if cuda_av:\n",
    "            valid_inp = valid_inp.cuda()\n",
    "        valid_params = [valid_inp, -2]\n",
    "        for i in range(len(ORDER)):\n",
    "            valid_params.append(None)\n",
    "        valid_pr = model(*valid_params)\n",
    "        valid_loss = loss_func(valid_pr, valid_out)\n",
    "\n",
    "        if cuda_av:\n",
    "            test_inp = test_inp.cuda()\n",
    "        test_params = [test_inp, -2]\n",
    "        for i in range(len(ORDER)):\n",
    "            test_params.append(None)\n",
    "        test_pr = model(*test_params)\n",
    "        test_loss = loss_func(test_pr, test_out)\n",
    "\n",
    "        test_losses[t] = test_loss.data[0]\n",
    "        valid_losses[t] = valid_loss.data[0]\n",
    "        # np.save(\"./baseline/p_50_loss\")\n",
    "\n",
    "#         if t % 1000 == 0:\n",
    "#             valid_pr = torch.clamp(valid_pr, min=0.)\n",
    "#             valid_pred[t] = valid_pr\n",
    "#             test_pr = torch.clamp(test_pr, min=0.)\n",
    "#             test_pred[t] = test_pr\n",
    "#             train_pr = pred\n",
    "#             train_pr = torch.clamp(train_pr, min=0.)\n",
    "#             train_pred[t] = train_pr\n",
    "\n",
    "        print(\"Round:\", t, \"Training Error:\", loss.data[0], \"Validation Error:\", valid_loss.data[0], \"Test Error:\", test_loss.data[0])\n",
    "\n",
    "    loss.backward()\n",
    "    optimizer.step()\n",
    "\n"
   ]
  },
  {
   "cell_type": "code",
   "execution_count": 21,
   "metadata": {
    "collapsed": true
   },
   "outputs": [],
   "source": [
    "from sklearn.metrics import mean_absolute_error\n",
    "\n",
    "train_fold = {}\n",
    "for t in range(1000, num_iterations + 1, 1000):\n",
    "    train_pred[t] = torch.split(train_pred[t], train_aggregate.shape[0])\n",
    "    train_fold[t] = [None for x in range(len(ORDER))]\n",
    "    if cuda_av:\n",
    "        for appliance_num, appliance in enumerate(ORDER):\n",
    "            train_fold[t][appliance_num] = train_pred[t][appliance_num].cpu().data.numpy().reshape(-1, 24)\n",
    "    else:\n",
    "        for appliance_num, appliance in enumerate(ORDER):\n",
    "            train_fold[t][appliance_num] = train_pred[t][appliance_num].data.numpy().reshape(-1, 24)\n",
    "            \n",
    "valid_fold = {}\n",
    "for t in range(1000, num_iterations + 1, 1000):\n",
    "\n",
    "    valid_pred[t] = torch.split(valid_pred[t], valid_aggregate.shape[0])\n",
    "    valid_fold[t] = [None for x in range(len(ORDER))]\n",
    "    if cuda_av:\n",
    "        for appliance_num, appliance in enumerate(ORDER):\n",
    "            valid_fold[t][appliance_num] = valid_pred[t][appliance_num].cpu().data.numpy().reshape(-1, 24)\n",
    "    else:\n",
    "        for appliance_num, appliance in enumerate(ORDER):\n",
    "            valid_fold[t][appliance_num] = valid_pred[t][appliance_num].data.numpy().reshape(-1, 24)\n",
    "\n",
    "test_fold = {}\n",
    "for t in range(1000, num_iterations + 1, 1000):\n",
    "\n",
    "    test_pred[t] = torch.split(test_pred[t], test_aggregate.shape[0])\n",
    "    test_fold[t] = [None for x in range(len(ORDER))]\n",
    "    if cuda_av:\n",
    "        for appliance_num, appliance in enumerate(ORDER):\n",
    "            test_fold[t][appliance_num] = test_pred[t][appliance_num].cpu().data.numpy().reshape(-1, 24)\n",
    "    else:\n",
    "        for appliance_num, appliance in enumerate(ORDER):\n",
    "            test_fold[t][appliance_num] = test_pred[t][appliance_num].data.numpy().reshape(-1, 24)\n",
    "\n",
    "# store ground truth of validation set\n",
    "valid_gt_fold = [None for x in range(len(ORDER))]\n",
    "for appliance_num, appliance in enumerate(ORDER):\n",
    "    valid_gt_fold[appliance_num] = valid[:, APPLIANCE_ORDER.index(appliance), :, :].reshape(\n",
    "        valid_aggregate.shape[0],\n",
    "        -1, 1).reshape(-1, 24)\n",
    "\n",
    "test_gt_fold = [None for x in range(len(ORDER))]\n",
    "for appliance_num, appliance in enumerate(ORDER):\n",
    "    test_gt_fold[appliance_num] = test[:, APPLIANCE_ORDER.index(appliance), :, :].reshape(\n",
    "        test_aggregate.shape[0],\n",
    "        -1, 1).reshape(-1, 24)\n",
    "\n",
    "# calcualte the error of validation set\n",
    "valid_error = {}\n",
    "for t in range(1000, num_iterations + 1, 1000):\n",
    "    valid_error[t] = {}\n",
    "    for appliance_num, appliance in enumerate(ORDER):\n",
    "        valid_error[t][appliance] = mean_absolute_error(valid_fold[t][appliance_num], valid_gt_fold[appliance_num])\n",
    "\n",
    "test_error = {}\n",
    "for t in range(1000, num_iterations + 1, 1000):\n",
    "    test_error[t] = {}\n",
    "    for appliance_num, appliance in enumerate(ORDER):\n",
    "        test_error[t][appliance] = mean_absolute_error(test_fold[t][appliance_num], test_gt_fold[appliance_num])"
   ]
  },
  {
   "cell_type": "code",
   "execution_count": 22,
   "metadata": {
    "collapsed": true
   },
   "outputs": [],
   "source": [
    "train_gt_fold = [None for x in range(len(ORDER))]\n",
    "for appliance_num, appliance in enumerate(ORDER):\n",
    "    train_gt_fold[appliance_num] = train[:, APPLIANCE_ORDER.index(appliance), :, :].reshape(\n",
    "        train_aggregate.shape[0],\n",
    "        -1, 1).reshape(-1, 24)"
   ]
  },
  {
   "cell_type": "code",
   "execution_count": 23,
   "metadata": {
    "collapsed": true
   },
   "outputs": [],
   "source": [
    "train_error = {}\n",
    "for t in range(1000, num_iterations + 1, 1000):\n",
    "    train_error[t] = {}\n",
    "    for appliance_num, appliance in enumerate(ORDER):\n",
    "        train_error[t][appliance] = mean_absolute_error(train_fold[t][appliance_num], train_gt_fold[appliance_num])"
   ]
  },
  {
   "cell_type": "code",
   "execution_count": 76,
   "metadata": {
    "collapsed": true
   },
   "outputs": [],
   "source": [
    "import seaborn as sns\n",
    "import matplotlib.pyplot as plt\n",
    "import pandas as pd\n",
    "%matplotlib inline"
   ]
  },
  {
   "cell_type": "code",
   "execution_count": 77,
   "metadata": {},
   "outputs": [
    {
     "data": {
      "text/plain": [
       "(14, 1, 112, 24)"
      ]
     },
     "execution_count": 77,
     "metadata": {},
     "output_type": "execute_result"
    }
   ],
   "source": [
    "test_aggregate.shape"
   ]
  },
  {
   "cell_type": "code",
   "execution_count": 78,
   "metadata": {},
   "outputs": [
    {
     "data": {
      "text/plain": [
       "<matplotlib.axes._subplots.AxesSubplot at 0x7fd7ee68e6d8>"
      ]
     },
     "execution_count": 78,
     "metadata": {},
     "output_type": "execute_result"
    },
    {
     "data": {
      "image/png": "[encoded data removed]",
      "text/plain": [
       "<matplotlib.figure.Figure at 0x7fd7ee69bb00>"
      ]
     },
     "metadata": {},
     "output_type": "display_data"
    }
   ],
   "source": [
    "sns.heatmap(pd.DataFrame(test_aggregate[0][0]), cmap='Greens')"
   ]
  },
  {
   "cell_type": "code",
   "execution_count": 79,
   "metadata": {},
   "outputs": [
    {
     "data": {
      "text/plain": [
       "<matplotlib.axes._subplots.AxesSubplot at 0x7fd7ee62eb70>"
      ]
     },
     "execution_count": 79,
     "metadata": {},
     "output_type": "execute_result"
    },
    {
     "data": {
      "image/png": "[encoded data removed]",
      "text/plain": [
       "<matplotlib.figure.Figure at 0x7fd7e29e91d0>"
      ]
     },
     "metadata": {},
     "output_type": "display_data"
    }
   ],
   "source": [
    "sns.heatmap(pd.DataFrame(test_fold[20000][4].reshape(-1, 112, 24)[5]), cmap='Greens')"
   ]
  },
  {
   "cell_type": "code",
   "execution_count": 80,
   "metadata": {},
   "outputs": [
    {
     "data": {
      "text/plain": [
       "<matplotlib.axes._subplots.AxesSubplot at 0x7fd902462438>"
      ]
     },
     "execution_count": 80,
     "metadata": {},
     "output_type": "execute_result"
    },
    {
     "data": {
      "image/png": "[encoded data removed]",
      "text/plain": [
       "<matplotlib.figure.Figure at 0x7fd810051d30>"
      ]
     },
     "metadata": {},
     "output_type": "display_data"
    }
   ],
   "source": [
    "sns.heatmap(pd.DataFrame(test_gt_fold[4].reshape(-1, 112, 24)[5]), cmap='Greens')"
   ]
  },
  {
   "cell_type": "code",
   "execution_count": 81,
   "metadata": {},
   "outputs": [
    {
     "data": {
      "text/html": [
       "<div>\n",
       "<style scoped>\n",
       "    .dataframe tbody tr th:only-of-type {\n",
       "        vertical-align: middle;\n",
       "    }\n",
       "\n",
       "    .dataframe tbody tr th {\n",
       "        vertical-align: top;\n",
       "    }\n",
       "\n",
       "    .dataframe thead th {\n",
       "        text-align: right;\n",
       "    }\n",
       "</style>\n",
       "<table border=\"1\" class=\"dataframe\">\n",
       "  <thead>\n",
       "    <tr style=\"text-align: right;\">\n",
       "      <th></th>\n",
       "      <th>1000</th>\n",
       "      <th>2000</th>\n",
       "      <th>3000</th>\n",
       "      <th>4000</th>\n",
       "      <th>5000</th>\n",
       "      <th>6000</th>\n",
       "      <th>7000</th>\n",
       "      <th>8000</th>\n",
       "      <th>9000</th>\n",
       "      <th>10000</th>\n",
       "      <th>11000</th>\n",
       "      <th>12000</th>\n",
       "      <th>13000</th>\n",
       "      <th>14000</th>\n",
       "      <th>15000</th>\n",
       "      <th>16000</th>\n",
       "      <th>17000</th>\n",
       "      <th>18000</th>\n",
       "      <th>19000</th>\n",
       "      <th>20000</th>\n",
       "    </tr>\n",
       "  </thead>\n",
       "  <tbody>\n",
       "    <tr>\n",
       "      <th>dr</th>\n",
       "      <td>60.839322</td>\n",
       "      <td>61.926079</td>\n",
       "      <td>61.993113</td>\n",
       "      <td>61.882921</td>\n",
       "      <td>62.864597</td>\n",
       "      <td>63.208829</td>\n",
       "      <td>61.366475</td>\n",
       "      <td>62.730680</td>\n",
       "      <td>62.699360</td>\n",
       "      <td>62.462096</td>\n",
       "      <td>62.910552</td>\n",
       "      <td>63.256722</td>\n",
       "      <td>62.084190</td>\n",
       "      <td>62.057478</td>\n",
       "      <td>62.858426</td>\n",
       "      <td>63.271990</td>\n",
       "      <td>62.748608</td>\n",
       "      <td>62.894410</td>\n",
       "      <td>63.680394</td>\n",
       "      <td>63.338354</td>\n",
       "    </tr>\n",
       "    <tr>\n",
       "      <th>dw</th>\n",
       "      <td>11.155497</td>\n",
       "      <td>11.208908</td>\n",
       "      <td>11.163185</td>\n",
       "      <td>11.128394</td>\n",
       "      <td>11.148711</td>\n",
       "      <td>11.160840</td>\n",
       "      <td>11.138693</td>\n",
       "      <td>11.167361</td>\n",
       "      <td>11.172492</td>\n",
       "      <td>11.179304</td>\n",
       "      <td>11.199394</td>\n",
       "      <td>11.146440</td>\n",
       "      <td>11.163024</td>\n",
       "      <td>11.142051</td>\n",
       "      <td>11.166093</td>\n",
       "      <td>11.210233</td>\n",
       "      <td>11.195709</td>\n",
       "      <td>11.233305</td>\n",
       "      <td>11.205823</td>\n",
       "      <td>11.191424</td>\n",
       "    </tr>\n",
       "    <tr>\n",
       "      <th>fridge</th>\n",
       "      <td>49.033070</td>\n",
       "      <td>49.326011</td>\n",
       "      <td>49.270517</td>\n",
       "      <td>49.378159</td>\n",
       "      <td>49.379424</td>\n",
       "      <td>49.486363</td>\n",
       "      <td>49.545258</td>\n",
       "      <td>49.345591</td>\n",
       "      <td>49.352147</td>\n",
       "      <td>49.193359</td>\n",
       "      <td>49.290032</td>\n",
       "      <td>49.226043</td>\n",
       "      <td>49.320795</td>\n",
       "      <td>49.190505</td>\n",
       "      <td>49.366547</td>\n",
       "      <td>49.319274</td>\n",
       "      <td>49.190878</td>\n",
       "      <td>49.327844</td>\n",
       "      <td>49.299326</td>\n",
       "      <td>49.298506</td>\n",
       "    </tr>\n",
       "    <tr>\n",
       "      <th>hvac</th>\n",
       "      <td>330.388632</td>\n",
       "      <td>332.865678</td>\n",
       "      <td>333.821290</td>\n",
       "      <td>336.201478</td>\n",
       "      <td>341.431669</td>\n",
       "      <td>338.182375</td>\n",
       "      <td>330.605551</td>\n",
       "      <td>337.944302</td>\n",
       "      <td>338.117456</td>\n",
       "      <td>337.949771</td>\n",
       "      <td>338.763046</td>\n",
       "      <td>341.161965</td>\n",
       "      <td>331.508529</td>\n",
       "      <td>334.070762</td>\n",
       "      <td>340.538624</td>\n",
       "      <td>340.546128</td>\n",
       "      <td>338.265897</td>\n",
       "      <td>336.170763</td>\n",
       "      <td>349.928242</td>\n",
       "      <td>339.846039</td>\n",
       "    </tr>\n",
       "    <tr>\n",
       "      <th>mw</th>\n",
       "      <td>7.763276</td>\n",
       "      <td>7.857514</td>\n",
       "      <td>7.842771</td>\n",
       "      <td>7.829390</td>\n",
       "      <td>7.885851</td>\n",
       "      <td>7.893845</td>\n",
       "      <td>7.596939</td>\n",
       "      <td>7.927559</td>\n",
       "      <td>7.901374</td>\n",
       "      <td>7.888060</td>\n",
       "      <td>7.867261</td>\n",
       "      <td>7.799725</td>\n",
       "      <td>7.773673</td>\n",
       "      <td>7.780636</td>\n",
       "      <td>7.809056</td>\n",
       "      <td>7.855151</td>\n",
       "      <td>7.897001</td>\n",
       "      <td>7.955785</td>\n",
       "      <td>7.829910</td>\n",
       "      <td>7.962109</td>\n",
       "    </tr>\n",
       "  </tbody>\n",
       "</table>\n",
       "</div>"
      ],
      "text/plain": [
       "             1000        2000        3000        4000        5000   \\\n",
       "dr       60.839322   61.926079   61.993113   61.882921   62.864597   \n",
       "dw       11.155497   11.208908   11.163185   11.128394   11.148711   \n",
       "fridge   49.033070   49.326011   49.270517   49.378159   49.379424   \n",
       "hvac    330.388632  332.865678  333.821290  336.201478  341.431669   \n",
       "mw        7.763276    7.857514    7.842771    7.829390    7.885851   \n",
       "\n",
       "             6000        7000        8000        9000        10000  \\\n",
       "dr       63.208829   61.366475   62.730680   62.699360   62.462096   \n",
       "dw       11.160840   11.138693   11.167361   11.172492   11.179304   \n",
       "fridge   49.486363   49.545258   49.345591   49.352147   49.193359   \n",
       "hvac    338.182375  330.605551  337.944302  338.117456  337.949771   \n",
       "mw        7.893845    7.596939    7.927559    7.901374    7.888060   \n",
       "\n",
       "             11000       12000       13000       14000       15000  \\\n",
       "dr       62.910552   63.256722   62.084190   62.057478   62.858426   \n",
       "dw       11.199394   11.146440   11.163024   11.142051   11.166093   \n",
       "fridge   49.290032   49.226043   49.320795   49.190505   49.366547   \n",
       "hvac    338.763046  341.161965  331.508529  334.070762  340.538624   \n",
       "mw        7.867261    7.799725    7.773673    7.780636    7.809056   \n",
       "\n",
       "             16000       17000       18000       19000       20000  \n",
       "dr       63.271990   62.748608   62.894410   63.680394   63.338354  \n",
       "dw       11.210233   11.195709   11.233305   11.205823   11.191424  \n",
       "fridge   49.319274   49.190878   49.327844   49.299326   49.298506  \n",
       "hvac    340.546128  338.265897  336.170763  349.928242  339.846039  \n",
       "mw        7.855151    7.897001    7.955785    7.829910    7.962109  "
      ]
     },
     "execution_count": 81,
     "metadata": {},
     "output_type": "execute_result"
    }
   ],
   "source": [
    "pd.DataFrame(test_error)"
   ]
  },
  {
   "cell_type": "code",
   "execution_count": 14,
   "metadata": {},
   "outputs": [
    {
     "data": {
      "text/plain": [
       "{1000: {'dr': 104.51486100150184,\n",
       "  'dw': 11.024693286003417,\n",
       "  'fridge': 43.628079512353146,\n",
       "  'hvac': 170.66594519918587,\n",
       "  'mw': 7.1834119964077372},\n",
       " 2000: {'dr': 132.7653845653841,\n",
       "  'dw': 11.024307860026147,\n",
       "  'fridge': 47.901991705041326,\n",
       "  'hvac': 181.09079424734418,\n",
       "  'mw': 7.1065447021710924},\n",
       " 3000: {'dr': 139.08151216003162,\n",
       "  'dw': 11.024774495282799,\n",
       "  'fridge': 47.871046935981276,\n",
       "  'hvac': 183.52738505555899,\n",
       "  'mw': 7.2129953022498627},\n",
       " 4000: {'dr': 143.52523411012223,\n",
       "  'dw': 11.024311092145034,\n",
       "  'fridge': 47.957222381518989,\n",
       "  'hvac': 183.53725180561787,\n",
       "  'mw': 7.3162178633638364},\n",
       " 5000: {'dr': 147.3578787644916,\n",
       "  'dw': 11.024311247478749,\n",
       "  'fridge': 46.48262682793203,\n",
       "  'hvac': 182.57096604425192,\n",
       "  'mw': 7.3999224717760086},\n",
       " 6000: {'dr': 149.68912326295776,\n",
       "  'dw': 11.024307778145825,\n",
       "  'fridge': 47.255146366351035,\n",
       "  'hvac': 181.87193982892714,\n",
       "  'mw': 7.3724442526361926},\n",
       " 7000: {'dr': 151.1437072533798,\n",
       "  'dw': 11.024307853860456,\n",
       "  'fridge': 46.717229327915732,\n",
       "  'hvac': 181.48665810607824,\n",
       "  'mw': 7.3207172355333467},\n",
       " 8000: {'dr': 152.31718285382053,\n",
       "  'dw': 11.025932603573244,\n",
       "  'fridge': 46.855993559501066,\n",
       "  'hvac': 182.9256162134968,\n",
       "  'mw': 7.2582059045950649},\n",
       " 9000: {'dr': 152.37787066138117,\n",
       "  'dw': 11.024422628325672,\n",
       "  'fridge': 46.689493621713972,\n",
       "  'hvac': 180.6533794534383,\n",
       "  'mw': 7.3147285351374096},\n",
       " 10000: {'dr': 154.46815952176937,\n",
       "  'dw': 11.024907508884889,\n",
       "  'fridge': 45.760092951826401,\n",
       "  'hvac': 180.84976314583136,\n",
       "  'mw': 7.2884722027231135},\n",
       " 11000: {'dr': 154.75650227582003,\n",
       "  'dw': 11.0246821908064,\n",
       "  'fridge': 46.960906693159302,\n",
       "  'hvac': 181.43210881061009,\n",
       "  'mw': 7.3886169309042424},\n",
       " 12000: {'dr': 154.94893909795672,\n",
       "  'dw': 11.024307778420505,\n",
       "  'fridge': 47.065166255988402,\n",
       "  'hvac': 182.12049901952381,\n",
       "  'mw': 7.3165841984723343},\n",
       " 13000: {'dr': 156.39963615045318,\n",
       "  'dw': 11.024466538241564,\n",
       "  'fridge': 46.729634126791062,\n",
       "  'hvac': 182.11279849723573,\n",
       "  'mw': 7.3000256407492765},\n",
       " 14000: {'dr': 155.6760498978359,\n",
       "  'dw': 11.025475895993253,\n",
       "  'fridge': 46.738337796908638,\n",
       "  'hvac': 182.26614527594404,\n",
       "  'mw': 7.3659191848803225},\n",
       " 15000: {'dr': 156.22652940058524,\n",
       "  'dw': 11.024801901400798,\n",
       "  'fridge': 45.832806986446379,\n",
       "  'hvac': 181.65740219521766,\n",
       "  'mw': 7.3436302799796032},\n",
       " 16000: {'dr': 157.36149376351031,\n",
       "  'dw': 11.02431131483681,\n",
       "  'fridge': 45.031742190514727,\n",
       "  'hvac': 181.10976547662767,\n",
       "  'mw': 7.347034767833752},\n",
       " 17000: {'dr': 158.37191575285851,\n",
       "  'dw': 11.024918507342079,\n",
       "  'fridge': 44.620204522097232,\n",
       "  'hvac': 180.5102650107012,\n",
       "  'mw': 7.431757078687407},\n",
       " 18000: {'dr': 157.87068188760301,\n",
       "  'dw': 11.025061503524313,\n",
       "  'fridge': 44.342206117420083,\n",
       "  'hvac': 181.6346876079449,\n",
       "  'mw': 7.461338231840756},\n",
       " 19000: {'dr': 157.75774157997719,\n",
       "  'dw': 11.024616647986397,\n",
       "  'fridge': 43.828741595919006,\n",
       "  'hvac': 181.67620563579649,\n",
       "  'mw': 7.479609761449673},\n",
       " 20000: {'dr': 159.08375126381898,\n",
       "  'dw': 11.026767597495676,\n",
       "  'fridge': 43.792015141285013,\n",
       "  'hvac': 180.38080306910783,\n",
       "  'mw': 7.4739426774765549}}"
      ]
     },
     "execution_count": 14,
     "metadata": {},
     "output_type": "execute_result"
    }
   ],
   "source": [
    "test_error"
   ]
  },
  {
   "cell_type": "code",
   "execution_count": null,
   "metadata": {
    "collapsed": true
   },
   "outputs": [],
   "source": []
  }
 ],
 "metadata": {
  "kernelspec": {
   "display_name": "Python 3",
   "language": "python",
   "name": "python3"
  },
  "language_info": {
   "codemirror_mode": {
    "name": "ipython",
    "version": 3
   },
   "file_extension": ".py",
   "mimetype": "text/x-python",
   "name": "python",
   "nbconvert_exporter": "python",
   "pygments_lexer": "ipython3",
   "version": "3.6.3"
  }
 },
 "nbformat": 4,
 "nbformat_minor": 2
}
