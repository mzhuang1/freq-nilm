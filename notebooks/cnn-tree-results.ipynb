{
 "cells": [
  {
   "cell_type": "code",
   "execution_count": 2,
   "metadata": {
    "collapsed": true
   },
   "outputs": [],
   "source": [
    "import pandas as pd\n",
    "import sys\n",
    "import numpy as np\n",
    "import matplotlib.pyplot as plt\n",
    "sys.path.append('../code/')\n",
    "%matplotlib inline\n",
    "import itertools\n",
    "from pathlib import Path"
   ]
  },
  {
   "cell_type": "code",
   "execution_count": 5,
   "metadata": {
    "scrolled": false
   },
   "outputs": [
    {
     "name": "stdout",
     "output_type": "stream",
     "text": [
      "0\n"
     ]
    }
   ],
   "source": [
    "gid = 0\n",
    "srv = 1\n",
    "c = 0\n",
    "cmd = {}\n",
    "test_error = {}\n",
    "num_iterations = 20000\n",
    "lr = 0.01\n",
    "p = 0\n",
    "for fold_num in range(5):\n",
    "    test_error[fold_num] = {}\n",
    "    for lr in [0.01]:\n",
    "        test_error[fold_num][lr] = {}\n",
    "        for order in list(itertools.permutations(['hvac', 'fridge', 'dr', 'dw', 'mw'])):\n",
    "\n",
    "\n",
    "            o = \"\\', \\'\".join(str(x) for x in order)\n",
    "            directory = \"../code/baseline/cnn-tree/1/{}/{}/20000/0.0/\".format(fold_num, lr)\n",
    "            filename = \"test-error-[\\'{}\\'].npy\".format(o)\n",
    "\n",
    "#             print(order)\n",
    "            full_path = directory + filename\n",
    "            my_file = Path(full_path)\n",
    "    #         print(full_path)\n",
    "            if not my_file.exists():\n",
    "    #             print(fold_num, o)\n",
    "                o = \" \".join(str(x) for x in order)\n",
    "                line = (\"CUDA_VISIBLE_DEVICES={} python cnn-tree.py 1 {} {} 0 {} {} &\".format(gid, lr, num_iterations, fold_num, o))\n",
    "                print(line)\n",
    "    # #             cmd[c] = line\n",
    "    #             with open('../code/0{}{}.sh'.format(srv, gid), 'a') as the_file:\n",
    "    #                 the_file.write(\"#!bin/bash \\n\")\n",
    "    #                 the_file.write(line)\n",
    "                c += 1\n",
    "                if c%1 == 0:\n",
    "                    gid+=1\n",
    "                if gid == 4:\n",
    "                    gid = 0\n",
    "                    srv += 1\n",
    "            else:\n",
    "                test_error[fold_num][lr][order] = np.load(full_path).item()\n",
    "\n",
    "print(c)                               "
   ]
  },
  {
   "cell_type": "code",
   "execution_count": 6,
   "metadata": {},
   "outputs": [
    {
     "data": {
      "text/plain": [
       "('mw', 'dw', 'dr', 'fridge', 'hvac')"
      ]
     },
     "execution_count": 6,
     "metadata": {},
     "output_type": "execute_result"
    }
   ],
   "source": [
    "order"
   ]
  },
  {
   "cell_type": "code",
   "execution_count": 8,
   "metadata": {
    "collapsed": true
   },
   "outputs": [],
   "source": [
    "results = {}\n",
    "iters = {}\n",
    "best_param = {}\n",
    "for fold_num in range(5):\n",
    "    results[fold_num] = {}\n",
    "    best_param[fold_num] = {}\n",
    "for fold_num in range(5):\n",
    "    \n",
    "    best_error = np.inf\n",
    "    for lr in [0.01]:\n",
    "        for order in test_error[fold_num][lr]:\n",
    "            for iters in test_error[fold_num][lr][order]:\n",
    "                cur_error = pd.Series(test_error[fold_num][lr][order][iters]).mean()\n",
    "                if best_error > cur_error:\n",
    "                    best_error = cur_error\n",
    "                    best_param[fold_num]['iters'] = iters\n",
    "                    best_param[fold_num]['order'] = order\n",
    "                    best_param[fold_num]['lr'] = lr\n",
    "\n"
   ]
  },
  {
   "cell_type": "code",
   "execution_count": 9,
   "metadata": {},
   "outputs": [
    {
     "data": {
      "text/plain": [
       "{0: {'iters': 6000, 'lr': 0.01, 'order': ('dw', 'dr', 'hvac', 'fridge', 'mw')},\n",
       " 1: {'iters': 20000,\n",
       "  'lr': 0.01,\n",
       "  'order': ('dr', 'fridge', 'mw', 'dw', 'hvac')},\n",
       " 2: {'iters': 18000,\n",
       "  'lr': 0.01,\n",
       "  'order': ('dr', 'fridge', 'hvac', 'mw', 'dw')},\n",
       " 3: {'iters': 19000,\n",
       "  'lr': 0.01,\n",
       "  'order': ('dw', 'fridge', 'mw', 'dr', 'hvac')},\n",
       " 4: {'iters': 19000,\n",
       "  'lr': 0.01,\n",
       "  'order': ('fridge', 'dr', 'mw', 'dw', 'hvac')}}"
      ]
     },
     "execution_count": 9,
     "metadata": {},
     "output_type": "execute_result"
    }
   ],
   "source": [
    "best_param"
   ]
  },
  {
   "cell_type": "code",
   "execution_count": 10,
   "metadata": {
    "collapsed": true
   },
   "outputs": [],
   "source": [
    "np.save(\"../code/baseline/result/cnn-tree-param-1.npy\", best_param)"
   ]
  },
  {
   "cell_type": "code",
   "execution_count": 30,
   "metadata": {
    "collapsed": true
   },
   "outputs": [],
   "source": [
    "best_error = {}\n",
    "for fold_num in range(5):\n",
    "    order = best_param[fold_num]['order']\n",
    "    iters = best_param[fold_num]['iters']\n",
    "    lr = best_param[fold_num]['lr']\n",
    "    best_error[fold_num] = test_error[fold_num][lr][order][iters]"
   ]
  },
  {
   "cell_type": "code",
   "execution_count": 33,
   "metadata": {},
   "outputs": [
    {
     "data": {
      "text/html": [
       "<div>\n",
       "<style scoped>\n",
       "    .dataframe tbody tr th:only-of-type {\n",
       "        vertical-align: middle;\n",
       "    }\n",
       "\n",
       "    .dataframe tbody tr th {\n",
       "        vertical-align: top;\n",
       "    }\n",
       "\n",
       "    .dataframe thead th {\n",
       "        text-align: right;\n",
       "    }\n",
       "</style>\n",
       "<table border=\"1\" class=\"dataframe\">\n",
       "  <thead>\n",
       "    <tr style=\"text-align: right;\">\n",
       "      <th></th>\n",
       "      <th>dr</th>\n",
       "      <th>dw</th>\n",
       "      <th>fridge</th>\n",
       "      <th>hvac</th>\n",
       "      <th>mw</th>\n",
       "    </tr>\n",
       "  </thead>\n",
       "  <tbody>\n",
       "    <tr>\n",
       "      <th>0</th>\n",
       "      <td>54.142263</td>\n",
       "      <td>11.056612</td>\n",
       "      <td>26.687370</td>\n",
       "      <td>263.683233</td>\n",
       "      <td>6.811416</td>\n",
       "    </tr>\n",
       "    <tr>\n",
       "      <th>1</th>\n",
       "      <td>65.150710</td>\n",
       "      <td>16.477787</td>\n",
       "      <td>34.665792</td>\n",
       "      <td>245.316777</td>\n",
       "      <td>10.306474</td>\n",
       "    </tr>\n",
       "    <tr>\n",
       "      <th>2</th>\n",
       "      <td>71.015026</td>\n",
       "      <td>19.549901</td>\n",
       "      <td>26.368159</td>\n",
       "      <td>290.212051</td>\n",
       "      <td>6.388910</td>\n",
       "    </tr>\n",
       "    <tr>\n",
       "      <th>3</th>\n",
       "      <td>83.056380</td>\n",
       "      <td>20.592083</td>\n",
       "      <td>33.648809</td>\n",
       "      <td>338.435137</td>\n",
       "      <td>5.768193</td>\n",
       "    </tr>\n",
       "    <tr>\n",
       "      <th>4</th>\n",
       "      <td>63.915440</td>\n",
       "      <td>9.530771</td>\n",
       "      <td>33.535387</td>\n",
       "      <td>293.858105</td>\n",
       "      <td>13.075643</td>\n",
       "    </tr>\n",
       "  </tbody>\n",
       "</table>\n",
       "</div>"
      ],
      "text/plain": [
       "          dr         dw     fridge        hvac         mw\n",
       "0  54.142263  11.056612  26.687370  263.683233   6.811416\n",
       "1  65.150710  16.477787  34.665792  245.316777  10.306474\n",
       "2  71.015026  19.549901  26.368159  290.212051   6.388910\n",
       "3  83.056380  20.592083  33.648809  338.435137   5.768193\n",
       "4  63.915440   9.530771  33.535387  293.858105  13.075643"
      ]
     },
     "execution_count": 33,
     "metadata": {},
     "output_type": "execute_result"
    }
   ],
   "source": [
    "pd.DataFrame(best_error).T"
   ]
  },
  {
   "cell_type": "code",
   "execution_count": 78,
   "metadata": {
    "scrolled": true
   },
   "outputs": [
    {
     "data": {
      "text/plain": [
       "{1000: {'dr': 40.829784262484871,\n",
       "  'dw': 11.024349682709262,\n",
       "  'fridge': 29.872716202052374,\n",
       "  'hvac': 187.02706319988212,\n",
       "  'mw': 7.7511328845692731},\n",
       " 2000: {'dr': 41.106744305441929,\n",
       "  'dw': 11.024308222116865,\n",
       "  'fridge': 30.699746206646108,\n",
       "  'hvac': 196.96081333907924,\n",
       "  'mw': 7.2772296308688302},\n",
       " 3000: {'dr': 39.87791218008406,\n",
       "  'dw': 11.024307820291078,\n",
       "  'fridge': 30.953987375698659,\n",
       "  'hvac': 198.19940872870089,\n",
       "  'mw': 7.2221846988172826},\n",
       " 4000: {'dr': 40.389561965165313,\n",
       "  'dw': 11.024323599250435,\n",
       "  'fridge': 30.797075706189002,\n",
       "  'hvac': 197.12045763082634,\n",
       "  'mw': 7.1889043471575578},\n",
       " 5000: {'dr': 40.311422795187575,\n",
       "  'dw': 11.0534663509653,\n",
       "  'fridge': 30.659526995685923,\n",
       "  'hvac': 194.44299547346819,\n",
       "  'mw': 7.193766381530776},\n",
       " 6000: {'dr': 40.254599978458124,\n",
       "  'dw': 11.063868378625493,\n",
       "  'fridge': 30.33197893184585,\n",
       "  'hvac': 191.03339077991998,\n",
       "  'mw': 7.1909012627725728},\n",
       " 7000: {'dr': 39.773466390279616,\n",
       "  'dw': 11.073374362652231,\n",
       "  'fridge': 30.720067603092485,\n",
       "  'hvac': 192.5771264302839,\n",
       "  'mw': 7.1741598809393734},\n",
       " 8000: {'dr': 40.528826313614196,\n",
       "  'dw': 11.086043404129674,\n",
       "  'fridge': 30.680241776342211,\n",
       "  'hvac': 185.94168048197409,\n",
       "  'mw': 7.2424956434505328},\n",
       " 9000: {'dr': 39.847136318768953,\n",
       "  'dw': 11.115725464161409,\n",
       "  'fridge': 30.73383731502572,\n",
       "  'hvac': 184.52618354959876,\n",
       "  'mw': 7.2600600431652635},\n",
       " 10000: {'dr': 39.659837912139125,\n",
       "  'dw': 11.176133917067688,\n",
       "  'fridge': 31.108230115570404,\n",
       "  'hvac': 183.1856780386403,\n",
       "  'mw': 7.237920186391297},\n",
       " 11000: {'dr': 40.340714881764832,\n",
       "  'dw': 11.276527394331566,\n",
       "  'fridge': 30.586165785062686,\n",
       "  'hvac': 178.71137268184066,\n",
       "  'mw': 7.2992778162517098},\n",
       " 12000: {'dr': 39.511997612281327,\n",
       "  'dw': 11.280060162305496,\n",
       "  'fridge': 30.424758709089861,\n",
       "  'hvac': 177.49562639564795,\n",
       "  'mw': 7.349462844167288},\n",
       " 13000: {'dr': 41.230421746026309,\n",
       "  'dw': 11.285511220539178,\n",
       "  'fridge': 30.648282928311705,\n",
       "  'hvac': 174.19780787552929,\n",
       "  'mw': 7.3391100990086668},\n",
       " 14000: {'dr': 39.271194720310142,\n",
       "  'dw': 11.264372494407226,\n",
       "  'fridge': 30.428334757418185,\n",
       "  'hvac': 174.91010737730684,\n",
       "  'mw': 7.3741814018954557},\n",
       " 15000: {'dr': 39.971003695729273,\n",
       "  'dw': 11.26768865716268,\n",
       "  'fridge': 30.212994426717156,\n",
       "  'hvac': 173.41118112721406,\n",
       "  'mw': 7.3270718146554676},\n",
       " 16000: {'dr': 40.107728507273336,\n",
       "  'dw': 11.370146165785508,\n",
       "  'fridge': 30.627722952968075,\n",
       "  'hvac': 173.89086754745685,\n",
       "  'mw': 7.4447218956751273},\n",
       " 17000: {'dr': 39.013149935953898,\n",
       "  'dw': 11.365727109022396,\n",
       "  'fridge': 30.535775948230526,\n",
       "  'hvac': 175.31404603321903,\n",
       "  'mw': 7.4574743998650748},\n",
       " 18000: {'dr': 39.071261925006496,\n",
       "  'dw': 11.369866160608671,\n",
       "  'fridge': 30.531812091541934,\n",
       "  'hvac': 174.37556208539024,\n",
       "  'mw': 7.4202155002767407},\n",
       " 19000: {'dr': 39.468556903006686,\n",
       "  'dw': 11.370156668119796,\n",
       "  'fridge': 30.505545663208817,\n",
       "  'hvac': 177.49571887627181,\n",
       "  'mw': 7.4450128917543923},\n",
       " 20000: {'dr': 40.490570005538459,\n",
       "  'dw': 11.392803263073466,\n",
       "  'fridge': 31.465542523247596,\n",
       "  'hvac': 177.16832596729128,\n",
       "  'mw': 7.4362177655206141}}"
      ]
     },
     "execution_count": 78,
     "metadata": {},
     "output_type": "execute_result"
    }
   ],
   "source": [
    "test_error[0][\"dr', 'dw', 'fridge', 'hvac', 'mw\"]"
   ]
  },
  {
   "cell_type": "code",
   "execution_count": 55,
   "metadata": {
    "collapsed": true
   },
   "outputs": [],
   "source": [
    "for fold_num in range(5):\n",
    "    best_param[i]\n",
    "    best_order = pd.DataFrame(results[0]).mean().idxmin()"
   ]
  },
  {
   "cell_type": "code",
   "execution_count": 67,
   "metadata": {},
   "outputs": [
    {
     "data": {
      "text/plain": [
       "51.148836770916681"
      ]
     },
     "execution_count": 67,
     "metadata": {},
     "output_type": "execute_result"
    }
   ],
   "source": [
    "pd.DataFrame(results[0]).mean().min()"
   ]
  },
  {
   "cell_type": "code",
   "execution_count": 76,
   "metadata": {},
   "outputs": [
    {
     "data": {
      "text/plain": [
       "dr         50.143053\n",
       "dw          9.510564\n",
       "fridge     36.966939\n",
       "hvac      158.750494\n",
       "mw         12.767054\n",
       "dtype: float64"
      ]
     },
     "execution_count": 76,
     "metadata": {},
     "output_type": "execute_result"
    }
   ],
   "source": [
    "pd.Series(results[4][best_order])"
   ]
  }
 ],
 "metadata": {
  "kernelspec": {
   "display_name": "Python 3",
   "language": "python",
   "name": "python3"
  },
  "language_info": {
   "codemirror_mode": {
    "name": "ipython",
    "version": 3
   },
   "file_extension": ".py",
   "mimetype": "text/x-python",
   "name": "python",
   "nbconvert_exporter": "python",
   "pygments_lexer": "ipython3",
   "version": "3.6.3"
  }
 },
 "nbformat": 4,
 "nbformat_minor": 2
}
