{
 "cells": [
  {
   "cell_type": "code",
   "execution_count": 1,
   "metadata": {},
   "outputs": [],
   "source": [
    "import pandas as pd\n",
    "import sys\n",
    "import numpy as np\n",
    "import matplotlib.pyplot as plt\n",
    "sys.path.append('../code/')\n",
    "%matplotlib inline\n",
    "import itertools\n",
    "from pathlib import Path"
   ]
  },
  {
   "cell_type": "code",
   "execution_count": 20,
   "metadata": {},
   "outputs": [
    {
     "name": "stdout",
     "output_type": "stream",
     "text": [
      "0\n"
     ]
    }
   ],
   "source": [
    "gid = 0\n",
    "srv = 1\n",
    "c = 0\n",
    "cmd = {}\n",
    "test_error = {}\n",
    "num_iterations = 20000\n",
    "lr = 0.01\n",
    "p = 0\n",
    "for fold_num in range(5):\n",
    "    test_error[fold_num] = {}\n",
    "    for lr in [0.01, 0.1]:\n",
    "        test_error[fold_num][lr] = {}\n",
    "#         for order in list(itertools.permutations(['hvac', 'fridge', 'dr', 'dw', 'mw'])):\n",
    "        order = ('hvac', 'fridge', 'dr', 'dw', 'mw')\n",
    "\n",
    "\n",
    "        o = \"\\', \\'\".join(str(x) for x in order)\n",
    "        directory = \"../code/baseline/cnn-tree/5/{}/{}/6000/0.0/\".format(fold_num, lr)\n",
    "        filename = \"test-error-[\\'{}\\'].npy\".format(o)\n",
    "\n",
    "\n",
    "        full_path = directory + filename\n",
    "        my_file = Path(full_path)\n",
    "        if not my_file.exists():\n",
    "#             print(fold_num, o)\n",
    "            o = \" \".join(str(x) for x in order)\n",
    "            line = (\"CUDA_VISIBLE_DEVICES={} python cnn-tree.py 3 {} {} 0 {} {} &\".format(gid, lr, num_iterations, fold_num, o))\n",
    "            print(line)\n",
    "# #             cmd[c] = line\n",
    "#             with open('../code/0{}{}.sh'.format(srv, gid), 'a') as the_file:\n",
    "#                 the_file.write(\"#!bin/bash \\n\")\n",
    "#                 the_file.write(line)\n",
    "            c += 1\n",
    "            if c%1 == 0:\n",
    "                gid+=1\n",
    "            if gid == 4:\n",
    "                gid = 0\n",
    "                srv += 1\n",
    "        else:\n",
    "            test_error[fold_num][lr][order] = np.load(full_path).item()\n",
    "\n",
    "print(c)                               "
   ]
  },
  {
   "cell_type": "code",
   "execution_count": 21,
   "metadata": {},
   "outputs": [],
   "source": [
    "results = {}\n",
    "iters = {}\n",
    "best_param = {}\n",
    "for fold_num in range(5):\n",
    "    results[fold_num] = {}\n",
    "    best_param[fold_num] = {}\n",
    "for fold_num in range(5):\n",
    "    \n",
    "    best_error =0\n",
    "    for lr in [0.01, 0.1]:\n",
    "        for order in test_error[fold_num][lr]:\n",
    "            for iters in test_error[fold_num][lr][order]:\n",
    "                cur_error = pd.Series(test_error[fold_num][lr][order][iters]).mean()\n",
    "                if best_error < cur_error:\n",
    "                    best_error = cur_error\n",
    "                    best_param[fold_num]['iters'] = iters\n",
    "                    best_param[fold_num]['order'] = order\n",
    "                    best_param[fold_num]['lr'] = lr\n",
    "\n"
   ]
  },
  {
   "cell_type": "code",
   "execution_count": 22,
   "metadata": {},
   "outputs": [
    {
     "data": {
      "text/plain": [
       "{0: {'iters': 6000, 'order': ('hvac', 'fridge', 'dr', 'dw', 'mw'), 'lr': 0.1},\n",
       " 1: {'iters': 1000, 'order': ('hvac', 'fridge', 'dr', 'dw', 'mw'), 'lr': 0.01},\n",
       " 2: {'iters': 1000, 'order': ('hvac', 'fridge', 'dr', 'dw', 'mw'), 'lr': 0.01},\n",
       " 3: {'iters': 1000, 'order': ('hvac', 'fridge', 'dr', 'dw', 'mw'), 'lr': 0.01},\n",
       " 4: {'iters': 1000, 'order': ('hvac', 'fridge', 'dr', 'dw', 'mw'), 'lr': 0.01}}"
      ]
     },
     "execution_count": 22,
     "metadata": {},
     "output_type": "execute_result"
    }
   ],
   "source": [
    "best_param"
   ]
  },
  {
   "cell_type": "code",
   "execution_count": 23,
   "metadata": {},
   "outputs": [],
   "source": [
    "np.save(\"../code/baseline/result/cnn-test-param-5.npy\", best_param)"
   ]
  },
  {
   "cell_type": "code",
   "execution_count": 24,
   "metadata": {},
   "outputs": [],
   "source": [
    "best_error = {}\n",
    "for fold_num in range(5):\n",
    "    order = best_param[fold_num]['order']\n",
    "    iters = best_param[fold_num]['iters']\n",
    "    lr = best_param[fold_num]['lr']\n",
    "    best_error[fold_num] = test_error[fold_num][lr][order][iters]"
   ]
  },
  {
   "cell_type": "code",
   "execution_count": 25,
   "metadata": {},
   "outputs": [
    {
     "data": {
      "text/plain": [
       "102.82051235312026"
      ]
     },
     "execution_count": 25,
     "metadata": {},
     "output_type": "execute_result"
    }
   ],
   "source": [
    "pd.DataFrame(best_error).T.mean().mean()"
   ]
  },
  {
   "cell_type": "code",
   "execution_count": 67,
   "metadata": {},
   "outputs": [
    {
     "data": {
      "text/plain": [
       "51.148836770916681"
      ]
     },
     "execution_count": 67,
     "metadata": {},
     "output_type": "execute_result"
    }
   ],
   "source": [
    "pd.DataFrame(results[0]).mean().min()"
   ]
  },
  {
   "cell_type": "code",
   "execution_count": 76,
   "metadata": {},
   "outputs": [
    {
     "data": {
      "text/plain": [
       "dr         50.143053\n",
       "dw          9.510564\n",
       "fridge     36.966939\n",
       "hvac      158.750494\n",
       "mw         12.767054\n",
       "dtype: float64"
      ]
     },
     "execution_count": 76,
     "metadata": {},
     "output_type": "execute_result"
    }
   ],
   "source": [
    "pd.Series(results[4][best_order])"
   ]
  },
  {
   "cell_type": "code",
   "execution_count": 22,
   "metadata": {
    "scrolled": false
   },
   "outputs": [
    {
     "name": "stdout",
     "output_type": "stream",
     "text": [
      "0\n"
     ]
    }
   ],
   "source": [
    "gid = 0\n",
    "srv = 1\n",
    "c = 0\n",
    "cmd = {}\n",
    "test_error = {}\n",
    "num_iterations = 20000\n",
    "lr = 0.01\n",
    "p = 0\n",
    "for fold_num in range(5):\n",
    "    test_error[fold_num] = {}\n",
    "    for lr in [0.01]:\n",
    "        test_error[fold_num][lr] = {}\n",
    "        for order in list(itertools.permutations(['hvac', 'fridge', 'dr', 'dw', 'mw'])):\n",
    "\n",
    "\n",
    "            o = \"\\', \\'\".join(str(x) for x in order)\n",
    "            directory = \"../code/baseline/cnn-tree/1/{}/{}/20000/0.0/\".format(fold_num, lr)\n",
    "            filename = \"test-error-[\\'{}\\'].npy\".format(o)\n",
    "\n",
    "#             print(order)\n",
    "            full_path = directory + filename\n",
    "            my_file = Path(full_path)\n",
    "    #         print(full_path)\n",
    "            if not my_file.exists():\n",
    "    #             print(fold_num, o)\n",
    "                o = \" \".join(str(x) for x in order)\n",
    "                line = (\"CUDA_VISIBLE_DEVICES={} python cnn-tree.py 3 {} {} 0 {} {} &\".format(gid, lr, num_iterations, fold_num, o))\n",
    "                print(line)\n",
    "    # #             cmd[c] = line\n",
    "    #             with open('../code/0{}{}.sh'.format(srv, gid), 'a') as the_file:\n",
    "    #                 the_file.write(\"#!bin/bash \\n\")\n",
    "    #                 the_file.write(line)\n",
    "                c += 1\n",
    "                if c%1 == 0:\n",
    "                    gid+=1\n",
    "                if gid == 4:\n",
    "                    gid = 0\n",
    "                    srv += 1\n",
    "            else:\n",
    "                test_error[fold_num][lr][order] = np.load(full_path).item()\n",
    "\n",
    "print(c)                               "
   ]
  }
 ],
 "metadata": {
  "kernelspec": {
   "display_name": "Python [default]",
   "language": "python",
   "name": "python3"
  },
  "language_info": {
   "codemirror_mode": {
    "name": "ipython",
    "version": 3
   },
   "file_extension": ".py",
   "mimetype": "text/x-python",
   "name": "python",
   "nbconvert_exporter": "python",
   "pygments_lexer": "ipython3",
   "version": "3.6.6"
  }
 },
 "nbformat": 4,
 "nbformat_minor": 2
}
