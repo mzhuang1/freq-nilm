{
 "cells": [
  {
   "cell_type": "code",
   "execution_count": 1,
   "metadata": {},
   "outputs": [],
   "source": [
    "import torch\n",
    "from torch.autograd import Variable\n",
    "import numpy as np\n",
    "import torch.nn as nn\n",
    "from torchvision import datasets,transforms\n",
    "import torch.nn.functional as F\n",
    "import sys\n",
    "sys.path.append(\"../code/\")\n",
    "from dataloader import APPLIANCE_ORDER, get_train_test, ON_THRESHOLD\n",
    "from sklearn.metrics import mean_absolute_error\n",
    "import os\n",
    "import pandas as pd\n",
    "import sys\n",
    "import numpy as np\n",
    "import matplotlib.pyplot as plt\n",
    "sys.path.append('../code/')\n",
    "%matplotlib inline\n",
    "import itertools\n",
    "from pathlib import Path"
   ]
  },
  {
   "cell_type": "code",
   "execution_count": 2,
   "metadata": {
    "collapsed": true
   },
   "outputs": [],
   "source": [
    "def onoff_error(pred, gt, threshold):\n",
    "    abs_error = np.abs(pred-gt)\n",
    "    error = [x for x in abs_error.reshape(1, -1).tolist()[0] if x >= threshold]\n",
    "    \n",
    "    return np.mean(error)"
   ]
  },
  {
   "cell_type": "code",
   "execution_count": 3,
   "metadata": {
    "collapsed": true
   },
   "outputs": [],
   "source": [
    "tensor = np.load(\"../2015-5appliances.numpy.npy\")\n",
    "dr = tensor[:, 3]"
   ]
  },
  {
   "cell_type": "code",
   "execution_count": 4,
   "metadata": {
    "collapsed": true
   },
   "outputs": [],
   "source": [
    "# calculate gt\n",
    "test_gt = {}\n",
    "valid_gt = {}\n",
    "for fold_num in range(5):\n",
    "    test_gt[fold_num] = {}\n",
    "    valid_gt[fold_num] = {}\n",
    "    train, test = get_train_test(1, 5, fold_num)\n",
    "    valid = train[int(0.8*len(train)):].copy()\n",
    "    for idx, appliance in enumerate(APPLIANCE_ORDER[1:-1]):\n",
    "        test_gt[fold_num][appliance] = test[:, idx+1]\n",
    "        valid_gt[fold_num][appliance] = valid[:, idx+1]"
   ]
  },
  {
   "cell_type": "code",
   "execution_count": 5,
   "metadata": {},
   "outputs": [
    {
     "data": {
      "text/plain": [
       "{'dr': 419.6840723733342,\n",
       " 'dw': 93.96134298657671,\n",
       " 'fridge': 35.16710769653321,\n",
       " 'hvac': 382.4595138011259,\n",
       " 'mw': 44.04801458022174}"
      ]
     },
     "execution_count": 5,
     "metadata": {},
     "output_type": "execute_result"
    }
   ],
   "source": [
    "ON_THRESHOLD"
   ]
  },
  {
   "cell_type": "code",
   "execution_count": 6,
   "metadata": {},
   "outputs": [
    {
     "name": "stdout",
     "output_type": "stream",
     "text": [
      "hvac 1278.91522439\n",
      "fridge 90.4680514664\n",
      "dr 1411.75680957\n",
      "dw 390.600781657\n",
      "mw 86.8746588166\n"
     ]
    }
   ],
   "source": [
    "threshold = {}\n",
    "for appliance in ['hvac', 'fridge', 'dr', 'dw', 'mw']:\n",
    "    sample_list = []\n",
    "    for fold_num in range(5):\n",
    "        sample_list = np.append(sample_list, [x for x in test_gt[fold_num][appliance].reshape(1, -1).tolist()[0] if x > ON_THRESHOLD[appliance]])\n",
    "    mean = np.mean(sample_list)\n",
    "    print(appliance, mean)\n",
    "    threshold[appliance] = 0.1*mean"
   ]
  },
  {
   "cell_type": "code",
   "execution_count": 7,
   "metadata": {
    "collapsed": true
   },
   "outputs": [],
   "source": [
    "def calculate_error(pred, gt, threshold):\n",
    "    error = {}\n",
    "    overall = {}\n",
    "    num_homes = {}\n",
    "    \n",
    "    # calculte number of homes in each fold\n",
    "    for fold_num in range(5):\n",
    "        num_homes[fold_num] = gt[fold_num]['hvac'].reshape(-1, 1, 112,24).shape[0]\n",
    "    homes = pd.Series(num_homes).sum()\n",
    "    \n",
    "    for appliance in ['hvac', 'fridge', 'dr', 'dw', 'mw']:\n",
    "        error[appliance] = {}\n",
    "        overall[appliance] = 0                                                                \n",
    "        for fold_num in range(5):\n",
    "            error[appliance][fold_num] = onoff_error(pred[fold_num][appliance].reshape(-1, 24), \n",
    "                                                     gt[fold_num][appliance].reshape(-1, 24), threshold[appliance])\n",
    "            overall[appliance] += error[appliance][fold_num]*num_homes[fold_num]\n",
    "        overall[appliance] /= homes\n",
    "    \n",
    "    \n",
    "    return error, overall"
   ]
  },
  {
   "cell_type": "markdown",
   "metadata": {},
   "source": [
    "## stf"
   ]
  },
  {
   "cell_type": "code",
   "execution_count": 8,
   "metadata": {
    "collapsed": true
   },
   "outputs": [],
   "source": [
    "r = {}\n",
    "mean_r = {}\n",
    "for dataset in [1, 3]:\n",
    "    r[dataset] = {}\n",
    "    mean_r[dataset] = {}\n",
    "    for cur_fold in range(5):\n",
    "        r[dataset][cur_fold] = {}\n",
    "        mean_r[dataset][cur_fold] = {}\n",
    "        for num_latent in range(1, 21):\n",
    "            r[dataset][cur_fold][num_latent] = {}\n",
    "            mean_r[dataset][cur_fold][num_latent] = {}\n",
    "            for lr in [0.01, 0.1 ,1 ,2]:\n",
    "                lr = float(lr)\n",
    "                r[dataset][cur_fold][num_latent][lr] = {}\n",
    "                mean_r[dataset][cur_fold][num_latent][lr] = {}\n",
    "                for iters in range(100, 2600, 400):\n",
    "                    r[dataset][cur_fold][num_latent][lr][iters] = np.load(\"../code/baseline/stf/{}/valid/stf-pred-{}-{}-{}-{}-{}.npy\".format(dataset, dataset, cur_fold, num_latent, lr, iters))\n",
    "                    "
   ]
  },
  {
   "cell_type": "code",
   "execution_count": 9,
   "metadata": {
    "collapsed": true
   },
   "outputs": [],
   "source": [
    "error = {}\n",
    "best_p = {}\n",
    "for dataset in [1, 3]:\n",
    "    error[dataset] = {}\n",
    "    best_p[dataset] = {}\n",
    "    for cur_fold in range(5):\n",
    "        error[dataset][cur_fold] = np.inf\n",
    "        best_p[dataset][cur_fold] = {}\n",
    "\n",
    "        for num_latent in range(1, 21):\n",
    "            for lr in [0.01, 0.1, 1, 2]:\n",
    "                for iters in range(100, 2600, 400):\n",
    "                    cur_error = 0\n",
    "                    for idx, appliance in enumerate(APPLIANCE_ORDER[1:-1]):\n",
    "\n",
    "                        cur_error += onoff_error(r[dataset][cur_fold][num_latent][lr][iters][:, idx].reshape(-1, 1), \n",
    "                                                        valid_gt[cur_fold][appliance].reshape(-1, 1), threshold[appliance])\n",
    "                    if cur_error < error[dataset][cur_fold]:\n",
    "                        error[dataset][cur_fold] = cur_error\n",
    "                        best_p[dataset][cur_fold]['num_latent'] = num_latent\n",
    "                        best_p[dataset][cur_fold]['lr'] = lr\n",
    "                        best_p[dataset][cur_fold]['iters'] = iters"
   ]
  },
  {
   "cell_type": "code",
   "execution_count": 20,
   "metadata": {
    "collapsed": true
   },
   "outputs": [],
   "source": [
    "dataset=1\n",
    "np.save(\"../code/baseline/result/stf-new-param-{}.npy\".format(dataset), best_p[dataset])"
   ]
  },
  {
   "cell_type": "code",
   "execution_count": 10,
   "metadata": {},
   "outputs": [
    {
     "name": "stdout",
     "output_type": "stream",
     "text": [
      "python baseline-stf-nested.py 1 0 17 2 500 &\n",
      "python baseline-stf-nested.py 1 1 17 2 100 &\n",
      "python baseline-stf-nested.py 1 2 20 2 100 &\n",
      "python baseline-stf-nested.py 1 3 11 2 100 &\n",
      "python baseline-stf-nested.py 1 4 17 2 100 &\n"
     ]
    }
   ],
   "source": [
    "dataset = 1\n",
    "for i in range(5):\n",
    "    print(\"python baseline-stf-nested.py {} {} {} {} {} &\".format(dataset, i, best_p[dataset][i]['num_latent'],\n",
    "                                                                 best_p[dataset][i]['lr'],\n",
    "                                                                 best_p[dataset][i]['iters']))"
   ]
  },
  {
   "cell_type": "code",
   "execution_count": 11,
   "metadata": {},
   "outputs": [],
   "source": [
    "# get prediction for cnn individual\n",
    "stf_pred = {}\n",
    "for fold_num in range(5):\n",
    "    stf_pred[fold_num] = {}\n",
    "#     for appliance in ['hvac', 'fridge', 'dr', 'dw', 'mw']:\n",
    "        \n",
    "    num_latent = best_p[dataset][fold_num]['num_latent']\n",
    "    lr = float(best_p[dataset][fold_num]['lr'])\n",
    "    iters = best_p[dataset][fold_num]['iters']\n",
    "\n",
    "    result = np.load(\"../code/baseline/stf/{}/test/stf-test-pred-{}-{}-{}-{}-{}.npy\".format(dataset, dataset, fold_num, num_latent, lr, iters))\n",
    "    for idx, appliance in enumerate(APPLIANCE_ORDER[1:-1]): \n",
    "        stf_pred[fold_num][appliance] = result[:, idx]\n"
   ]
  },
  {
   "cell_type": "code",
   "execution_count": 12,
   "metadata": {},
   "outputs": [
    {
     "data": {
      "text/plain": [
       "dr        527.421734\n",
       "dw        145.918841\n",
       "fridge     49.744127\n",
       "hvac      450.441427\n",
       "mw         28.541396\n",
       "dtype: float64"
      ]
     },
     "execution_count": 12,
     "metadata": {},
     "output_type": "execute_result"
    }
   ],
   "source": [
    "pd.Series(calculate_error(stf_pred, test_gt, threshold)[1])"
   ]
  },
  {
   "cell_type": "code",
   "execution_count": 45,
   "metadata": {},
   "outputs": [],
   "source": [
    "# calculate the error\n",
    "stf_error = {}\n",
    "for fold_num in range(5):\n",
    "    stf_error[fold_num] = {}\n",
    "    for idx, appliance in enumerate(APPLIANCE_ORDER[1:-1]):\n",
    "        stf_error[fold_num][appliance] = onoff_error(stf_pred[fold_num][:, idx], \n",
    "                                                     test_gt[fold_num][appliance], threshold[appliance])"
   ]
  },
  {
   "cell_type": "code",
   "execution_count": 47,
   "metadata": {},
   "outputs": [
    {
     "data": {
      "text/html": [
       "<div>\n",
       "<style scoped>\n",
       "    .dataframe tbody tr th:only-of-type {\n",
       "        vertical-align: middle;\n",
       "    }\n",
       "\n",
       "    .dataframe tbody tr th {\n",
       "        vertical-align: top;\n",
       "    }\n",
       "\n",
       "    .dataframe thead th {\n",
       "        text-align: right;\n",
       "    }\n",
       "</style>\n",
       "<table border=\"1\" class=\"dataframe\">\n",
       "  <thead>\n",
       "    <tr style=\"text-align: right;\">\n",
       "      <th></th>\n",
       "      <th>0</th>\n",
       "      <th>1</th>\n",
       "      <th>2</th>\n",
       "      <th>3</th>\n",
       "      <th>4</th>\n",
       "    </tr>\n",
       "  </thead>\n",
       "  <tbody>\n",
       "    <tr>\n",
       "      <th>dr</th>\n",
       "      <td>257.359045</td>\n",
       "      <td>249.851932</td>\n",
       "      <td>248.456365</td>\n",
       "      <td>344.103572</td>\n",
       "      <td>319.657707</td>\n",
       "    </tr>\n",
       "    <tr>\n",
       "      <th>dw</th>\n",
       "      <td>112.494085</td>\n",
       "      <td>97.850823</td>\n",
       "      <td>357.493910</td>\n",
       "      <td>89.548906</td>\n",
       "      <td>121.215270</td>\n",
       "    </tr>\n",
       "    <tr>\n",
       "      <th>fridge</th>\n",
       "      <td>48.332191</td>\n",
       "      <td>53.300220</td>\n",
       "      <td>46.349932</td>\n",
       "      <td>54.892141</td>\n",
       "      <td>45.051758</td>\n",
       "    </tr>\n",
       "    <tr>\n",
       "      <th>hvac</th>\n",
       "      <td>332.491528</td>\n",
       "      <td>464.160965</td>\n",
       "      <td>427.902340</td>\n",
       "      <td>469.219663</td>\n",
       "      <td>450.743985</td>\n",
       "    </tr>\n",
       "    <tr>\n",
       "      <th>mw</th>\n",
       "      <td>16.473273</td>\n",
       "      <td>18.892953</td>\n",
       "      <td>15.944662</td>\n",
       "      <td>21.677814</td>\n",
       "      <td>23.451097</td>\n",
       "    </tr>\n",
       "  </tbody>\n",
       "</table>\n",
       "</div>"
      ],
      "text/plain": [
       "                 0           1           2           3           4\n",
       "dr      257.359045  249.851932  248.456365  344.103572  319.657707\n",
       "dw      112.494085   97.850823  357.493910   89.548906  121.215270\n",
       "fridge   48.332191   53.300220   46.349932   54.892141   45.051758\n",
       "hvac    332.491528  464.160965  427.902340  469.219663  450.743985\n",
       "mw       16.473273   18.892953   15.944662   21.677814   23.451097"
      ]
     },
     "execution_count": 47,
     "metadata": {},
     "output_type": "execute_result"
    }
   ],
   "source": [
    "pd.DataFrame(stf_error)"
   ]
  },
  {
   "cell_type": "markdown",
   "metadata": {},
   "source": [
    "## MTF"
   ]
  },
  {
   "cell_type": "code",
   "execution_count": 38,
   "metadata": {},
   "outputs": [],
   "source": [
    "r = {}\n",
    "mean_r = {}\n",
    "for dataset in [1, 3]:\n",
    "    r[dataset] = {}\n",
    "    mean_r[dataset] = {}\n",
    "    for cur_fold in range(5):\n",
    "        r[dataset][cur_fold] = {}\n",
    "        mean_r[dataset][cur_fold] = {}\n",
    "        for num_latent in range(1, 21):\n",
    "            r[dataset][cur_fold][num_latent] = {}\n",
    "            mean_r[dataset][cur_fold][num_latent] = {}\n",
    "            for lr in [0.01, 0.1 ,1 ,2]:\n",
    "                lr = float(lr)\n",
    "                r[dataset][cur_fold][num_latent][lr] = {}\n",
    "                mean_r[dataset][cur_fold][num_latent][lr] = {}\n",
    "                for iters in range(100, 2600, 400):\n",
    "                    r[dataset][cur_fold][num_latent][lr][iters] = np.load(\"../code/baseline/mtf/{}/valid/mtf-pred-{}-{}-{}-{}-{}.npy\".format(dataset, dataset, cur_fold, num_latent, lr, iters))\n",
    "                    "
   ]
  },
  {
   "cell_type": "code",
   "execution_count": 39,
   "metadata": {
    "collapsed": true
   },
   "outputs": [],
   "source": [
    "np.save(\"../code/baseline/mtf-valid-pred.npy\", r)"
   ]
  },
  {
   "cell_type": "code",
   "execution_count": 27,
   "metadata": {
    "collapsed": true
   },
   "outputs": [],
   "source": [
    "error = {}\n",
    "best_p = {}\n",
    "for dataset in [1, 3]:\n",
    "    error[dataset] = {}\n",
    "    best_p[dataset] = {}\n",
    "    for cur_fold in range(5):\n",
    "        error[dataset][cur_fold] = np.inf\n",
    "        best_p[dataset][cur_fold] = {}\n",
    "#         for idx, appliance in enumerate(APPLIANCE_ORDER[1:-1]):\n",
    "#             error[dataset][cur_fold][appliance] = np.inf\n",
    "#             best_p[dataset][cur_fold][appliance] = {}\n",
    "#             if appliance in ['hvac', 'fridge']:\n",
    "                \n",
    "#                 for num_latent in range(1, 21):\n",
    "#                     for lr in [0.01, 0.1, 1, 2]:\n",
    "#                         for iters in range(100, 2600, 400):\n",
    "\n",
    "#                             cur_error = mean_absolute_error(r[dataset][cur_fold][num_latent][lr][iters][:, idx].reshape(-1, 1), \n",
    "#                                                             valid_gt[cur_fold][appliance].reshape(-1, 1))\n",
    "#                             if cur_error < error[dataset][cur_fold][appliance]:\n",
    "#                                 error[dataset][cur_fold][appliance] = cur_error\n",
    "#                                 best_p[dataset][cur_fold][appliance]['num_latent'] = num_latent\n",
    "#                                 best_p[dataset][cur_fold][appliance]['lr'] = lr\n",
    "#                                 best_p[dataset][cur_fold][appliance]['iters'] = iters\n",
    "#             else:\n",
    "        for num_latent in range(1, 21):\n",
    "            for lr in [0.01, 0.1, 1, 2]:\n",
    "                for iters in range(100, 2600, 400):\n",
    "                    cur_error = 0\n",
    "                    for idx, appliance in enumerate(APPLIANCE_ORDER[1:-1]):\n",
    "\n",
    "                        cur_error += onoff_error(r[dataset][cur_fold][num_latent][lr][iters][:, idx].reshape(-1, 1), \n",
    "                                                        valid_gt[cur_fold][appliance].reshape(-1, 1), threshold[appliance])\n",
    "                    if cur_error < error[dataset][cur_fold]:\n",
    "                        error[dataset][cur_fold] = cur_error\n",
    "                        best_p[dataset][cur_fold]['num_latent'] = num_latent\n",
    "                        best_p[dataset][cur_fold]['lr'] = lr\n",
    "                        best_p[dataset][cur_fold]['iters'] = iters"
   ]
  },
  {
   "cell_type": "code",
   "execution_count": 28,
   "metadata": {
    "collapsed": true
   },
   "outputs": [],
   "source": [
    "for dataset in [1, 3]:\n",
    "    np.save(\"../code/baseline/result/mtf-new-param-{}-per-home.npy\".format(dataset), best_p[dataset])"
   ]
  },
  {
   "cell_type": "code",
   "execution_count": 29,
   "metadata": {},
   "outputs": [
    {
     "name": "stdout",
     "output_type": "stream",
     "text": [
      "python baseline-mtf-nested.py 1 0 19 1 500 &\n",
      "python baseline-mtf-nested.py 1 1 14 2 900 &\n",
      "python baseline-mtf-nested.py 1 2 12 2 100 &\n",
      "python baseline-mtf-nested.py 1 3 19 1 900 &\n",
      "python baseline-mtf-nested.py 1 4 19 1 500 &\n",
      "python baseline-mtf-nested.py 3 0 3 0.1 100 &\n",
      "python baseline-mtf-nested.py 3 1 20 2 1300 &\n",
      "python baseline-mtf-nested.py 3 2 11 2 100 &\n",
      "python baseline-mtf-nested.py 3 3 19 2 2100 &\n",
      "python baseline-mtf-nested.py 3 4 11 1 1300 &\n"
     ]
    }
   ],
   "source": [
    "for dataset in [1, 3]:\n",
    "    for i in range(5):\n",
    "        print(\"python baseline-mtf-nested.py {} {} {} {} {} &\".format(dataset, i, best_p[dataset][i]['num_latent'],\n",
    "                                                                     best_p[dataset][i]['lr'],\n",
    "                                                                     best_p[dataset][i]['iters']))"
   ]
  },
  {
   "cell_type": "code",
   "execution_count": 35,
   "metadata": {
    "collapsed": true
   },
   "outputs": [],
   "source": [
    "dataset=1"
   ]
  },
  {
   "cell_type": "code",
   "execution_count": 36,
   "metadata": {},
   "outputs": [],
   "source": [
    "# get prediction for cnn individual\n",
    "mtf_pred = {}\n",
    "for fold_num in range(5):\n",
    "    mtf_pred[fold_num] = {}\n",
    "#     for appliance in ['hvac', 'fridge', 'dr', 'dw', 'mw']:\n",
    "        \n",
    "    num_latent = best_p[dataset][fold_num]['num_latent']\n",
    "    lr = float(best_p[dataset][fold_num]['lr'])\n",
    "    iters = best_p[dataset][fold_num]['iters']\n",
    "\n",
    "    result = np.load(\"../code/baseline/mtf/{}/test/mtf-test-pred-{}-{}-{}-{}-{}.npy\".format(dataset, dataset, fold_num, num_latent, lr, iters))\n",
    "    for idx, appliance in enumerate(APPLIANCE_ORDER[1:-1]): \n",
    "        mtf_pred[fold_num][appliance] = result[:, idx]\n"
   ]
  },
  {
   "cell_type": "code",
   "execution_count": 34,
   "metadata": {},
   "outputs": [
    {
     "data": {
      "text/plain": [
       "3"
      ]
     },
     "execution_count": 34,
     "metadata": {},
     "output_type": "execute_result"
    }
   ],
   "source": [
    "dataset"
   ]
  },
  {
   "cell_type": "code",
   "execution_count": 37,
   "metadata": {},
   "outputs": [
    {
     "data": {
      "text/plain": [
       "dr        418.654663\n",
       "dw        127.000591\n",
       "fridge     46.103370\n",
       "hvac      425.125546\n",
       "mw         24.551167\n",
       "dtype: float64"
      ]
     },
     "execution_count": 37,
     "metadata": {},
     "output_type": "execute_result"
    }
   ],
   "source": [
    "pd.Series(calculate_error(mtf_pred, test_gt, threshold)[1])"
   ]
  }
 ],
 "metadata": {
  "kernelspec": {
   "display_name": "Python 3",
   "language": "python",
   "name": "python3"
  },
  "language_info": {
   "codemirror_mode": {
    "name": "ipython",
    "version": 3
   },
   "file_extension": ".py",
   "mimetype": "text/x-python",
   "name": "python",
   "nbconvert_exporter": "python",
   "pygments_lexer": "ipython3",
   "version": "3.6.3"
  }
 },
 "nbformat": 4,
 "nbformat_minor": 2
}
