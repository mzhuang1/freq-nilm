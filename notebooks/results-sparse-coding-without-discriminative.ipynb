{
 "cells": [
  {
   "cell_type": "code",
   "execution_count": 1,
   "metadata": {
    "collapsed": true
   },
   "outputs": [],
   "source": [
    "import sys\n",
    "import numpy as np\n",
    "import pandas as pd\n",
    "sys.path.append(\"../code/\")"
   ]
  },
  {
   "cell_type": "code",
   "execution_count": 2,
   "metadata": {
    "collapsed": true
   },
   "outputs": [],
   "source": [
    "from dataloader import APPLIANCE_ORDER, get_train_test\n",
    "from ddsc import SparseCoding, reshape_for_sc"
   ]
  },
  {
   "cell_type": "code",
   "execution_count": 3,
   "metadata": {
    "collapsed": true
   },
   "outputs": [],
   "source": [
    "num_folds = 5"
   ]
  },
  {
   "cell_type": "code",
   "execution_count": 35,
   "metadata": {
    "collapsed": true
   },
   "outputs": [],
   "source": [
    "def non_discriminative(dataset, num_latent):\n",
    "    out = []\n",
    "    for cur_fold in range(5):\n",
    "        train, test = get_train_test(dataset, num_folds=num_folds, fold_num=cur_fold)\n",
    "        train_sc, test_sc = reshape_for_sc(train), reshape_for_sc(test)\n",
    "        train_data = np.array([train_sc[:, :, i ] for i in range(1, train.shape[1])]).swapaxes(1, 2)\n",
    "        c = SparseCoding()\n",
    "        c.train(train_data, num_latent=num_latent)\n",
    "        pred = c.disaggregate(test_sc[:, :, 0].swapaxes(0, 1)).swapaxes(0, 2).swapaxes(1, 2)\n",
    "        pred = pred.reshape(pred.shape[0], pred.shape[1], -1, 24)\n",
    "        out.append(pred)\n",
    "    return np.concatenate(out)\n"
   ]
  },
  {
   "cell_type": "code",
   "execution_count": 43,
   "metadata": {},
   "outputs": [
    {
     "name": "stdout",
     "output_type": "stream",
     "text": [
      "1\n",
      "2\n",
      "3\n",
      "4\n",
      "5\n",
      "6\n",
      "7\n",
      "8\n",
      "9\n",
      "10\n",
      "11\n",
      "12\n",
      "13\n",
      "14\n",
      "15\n",
      "16\n",
      "17\n",
      "18\n",
      "19\n",
      "20\n",
      "21\n",
      "22\n",
      "23\n",
      "24\n",
      "25\n",
      "26\n",
      "27\n",
      "28\n",
      "29\n"
     ]
    }
   ],
   "source": [
    "dataset = 3\n",
    "# tensor = np.load('../2015-5appliances.numpy.npy')\n",
    "tensor = np.load(\"../2015-5appliances-subtract-true-agg.npy\")\n",
    "from sklearn.metrics import mean_absolute_error\n",
    "\n",
    "err_non_disc ={}\n",
    "gt = tensor[:, 1:, :, :]\n",
    "for num_latent in range(1, 30):\n",
    "    print(num_latent)\n",
    "    pred = non_discriminative(dataset, num_latent)\n",
    "    # Clamping prediction to aggregate\n",
    "    pred = np.minimum(pred, tensor[:, 0:1, :,:])\n",
    "    err_non_disc[num_latent] = {APPLIANCE_ORDER[i+1]:mean_absolute_error(pred[:, i,:,:].flatten(), \n",
    "                                                                       gt[:, i, :, :].flatten()) for i in range(pred.shape[1])}"
   ]
  },
  {
   "cell_type": "code",
   "execution_count": 44,
   "metadata": {},
   "outputs": [
    {
     "name": "stderr",
     "output_type": "stream",
     "text": [
      "/Library/Frameworks/Python.framework/Versions/3.5/lib/python3.5/site-packages/ipykernel/__main__.py:1: FutureWarning: 'argmin' is deprecated. Use 'idxmin' instead. The behavior of 'argmin' will be corrected to return the positional minimum in the future. Use 'series.values.argmin' to get the position of the minimum now.\n",
      "  if __name__ == '__main__':\n"
     ]
    },
    {
     "data": {
      "text/plain": [
       "26"
      ]
     },
     "execution_count": 44,
     "metadata": {},
     "output_type": "execute_result"
    }
   ],
   "source": [
    "pd.DataFrame(err_non_disc).mean().argmin()"
   ]
  },
  {
   "cell_type": "code",
   "execution_count": 45,
   "metadata": {},
   "outputs": [
    {
     "name": "stderr",
     "output_type": "stream",
     "text": [
      "/Library/Frameworks/Python.framework/Versions/3.5/lib/python3.5/site-packages/ipykernel/__main__.py:1: FutureWarning: 'argmin' is deprecated. Use 'idxmin' instead. The behavior of 'argmin' will be corrected to return the positional minimum in the future. Use 'series.values.argmin' to get the position of the minimum now.\n",
      "  if __name__ == '__main__':\n"
     ]
    },
    {
     "data": {
      "text/plain": [
       "dr        120.500508\n",
       "dw         76.699079\n",
       "fridge    371.988901\n",
       "hvac      422.649025\n",
       "mw        168.048767\n",
       "Name: 26, dtype: float64"
      ]
     },
     "execution_count": 45,
     "metadata": {},
     "output_type": "execute_result"
    }
   ],
   "source": [
    "pd.DataFrame(err_non_disc)[pd.DataFrame(err_non_disc).mean().argmin()]"
   ]
  },
  {
   "cell_type": "code",
   "execution_count": 16,
   "metadata": {},
   "outputs": [
    {
     "data": {
      "text/plain": [
       "array([[[ 473.76465099,  376.6603031 ,  327.48857859, ...,\n",
       "          399.09705103,  312.49855986,  425.57684109],\n",
       "        [ 319.4129581 ,  364.81687655,  498.61700971, ...,\n",
       "          366.98777216,  306.66593295,  300.75577944],\n",
       "        [ 300.75300844,  298.72606096,  395.19772955, ...,\n",
       "          404.81637567,  479.22669411,  375.7917511 ],\n",
       "        ...,\n",
       "        [ 406.16603749,  385.86159297,  401.22660658, ...,\n",
       "          409.05806972,  384.775062  ,  380.45823237],\n",
       "        [ 451.46647957,  340.72268739,  395.73658218, ...,\n",
       "          443.51079895,  249.89377148,  438.24458285],\n",
       "        [ 436.66664875,  393.71207217,  456.28501835, ...,\n",
       "          502.68590305,  434.32616885,  380.63380111]],\n",
       "\n",
       "       [[ 402.04602405,  283.06120234,  311.0381636 , ...,\n",
       "          300.95338692,  384.50578903,  382.55475809],\n",
       "        [ 285.16758461,  303.6810313 ,  505.71641371, ...,\n",
       "          262.64975268,  199.80390159,  196.67112103],\n",
       "        [ 196.99354154,  267.03763551,  356.28899933, ...,\n",
       "          354.90392271,  438.76890207,  395.46785776],\n",
       "        ...,\n",
       "        [ 329.63924222,  270.78232963,  337.35149027, ...,\n",
       "          398.37946676,  484.77037608,  408.9114786 ],\n",
       "        [ 415.91483641,  310.0242116 ,  354.5160036 , ...,\n",
       "          370.48961027,  208.3653886 ,  427.56944558],\n",
       "        [ 364.83171615,  355.11337582,  380.87194397, ...,\n",
       "          166.75634605,  323.09356725,  287.07332376]],\n",
       "\n",
       "       [[1075.84965503, 1356.81133215,  928.69026159, ...,\n",
       "         1280.36220663, 1545.60593632, 1003.45835507],\n",
       "        [1250.3659196 , 1161.58469892,  928.09312927, ...,\n",
       "         1241.24232355, 1111.58470137, 1029.86437418],\n",
       "        [1261.75039285, 1146.4983808 , 1087.52455365, ...,\n",
       "         1460.43616772, 1270.04265588, 1235.77156247],\n",
       "        ...,\n",
       "        [1233.85771305, 1388.80995316, 1167.75766749, ...,\n",
       "         1604.67883069, 1382.08045881, 1223.56639817],\n",
       "        [1184.69145097, 1158.66575192, 1050.6610506 , ...,\n",
       "         1493.56342834, 1409.52917436, 1081.62069823],\n",
       "        [1013.98231812, 1019.73428879, 1135.69129323, ...,\n",
       "         1738.3537799 , 1215.99715492, 1208.8209978 ]],\n",
       "\n",
       "       ...,\n",
       "\n",
       "       [[ 267.08530314,  260.73254999,  338.49625814, ...,\n",
       "          267.90111615,  369.77341572,  232.51908454],\n",
       "        [ 324.25577119,  375.91652148,  383.94399451, ...,\n",
       "          321.84764811,  302.00270666,  315.23703531],\n",
       "        [ 261.70652267,  372.81639693,  301.82591059, ...,\n",
       "          520.87039284,  451.33557694,  417.14784503],\n",
       "        ...,\n",
       "        [ 265.70723659,  207.64636098,  287.79405326, ...,\n",
       "          393.91963243,  417.14710802,  300.44357973],\n",
       "        [ 468.24219145,  398.54998779,  327.27261996, ...,\n",
       "          425.28420471,  425.00456741,  364.9833374 ],\n",
       "        [ 253.09797648,  270.79998779,  240.91120736, ...,\n",
       "          343.43751684,  352.90435635,  334.7333374 ]],\n",
       "\n",
       "       [[ 451.62343043,  480.81429444,  464.22711332, ...,\n",
       "          471.34368212,  600.38991233,  485.97723866],\n",
       "        [ 401.20431328,  518.14145286,  604.63735224, ...,\n",
       "          561.08216535,  525.84703963,  485.96384708],\n",
       "        [ 423.03652796,  632.51324334,  560.69843551, ...,\n",
       "          568.9256184 ,  548.20998636,  560.9492041 ],\n",
       "        ...,\n",
       "        [ 453.71414073,  658.65793625,  361.43157666, ...,\n",
       "          574.08073999,  602.52716659,  505.8794021 ],\n",
       "        [ 575.34818863,  554.15172387,  485.85960819, ...,\n",
       "          731.87374165,  623.02954631,  576.80390564],\n",
       "        [ 599.01472814,  501.16015981,  354.86614292, ...,\n",
       "          756.02951381,  608.43814843,  455.33394517]],\n",
       "\n",
       "       [[ 442.85153352,  446.9129589 ,  385.84413451, ...,\n",
       "          542.21900654,  490.72843849,  408.16509027],\n",
       "        [ 443.21367321,  497.14133182,  528.10038783, ...,\n",
       "          570.39027015,  533.75933288,  458.16499335],\n",
       "        [ 546.12062134,  533.05576985,  430.69174318, ...,\n",
       "          507.23902233,  514.1826738 ,  523.90792546],\n",
       "        ...,\n",
       "        [ 476.31209597,  451.38690076,  486.25723559, ...,\n",
       "          477.62831775,  543.95003914,  528.26645375],\n",
       "        [ 570.75442359,  452.08015997,  412.48544798, ...,\n",
       "          517.60100933,  550.64220396,  613.30684559],\n",
       "        [ 486.94315954,  456.22946023,  442.67484021, ...,\n",
       "          553.1643262 ,  448.21047077,  454.43498023]]])"
      ]
     },
     "execution_count": 16,
     "metadata": {},
     "output_type": "execute_result"
    }
   ],
   "source": [
    "pred[:,1]"
   ]
  }
 ],
 "metadata": {
  "kernelspec": {
   "display_name": "Python 3",
   "language": "python",
   "name": "python3"
  },
  "language_info": {
   "codemirror_mode": {
    "name": "ipython",
    "version": 3
   },
   "file_extension": ".py",
   "mimetype": "text/x-python",
   "name": "python",
   "nbconvert_exporter": "python",
   "pygments_lexer": "ipython3",
   "version": "3.5.2"
  }
 },
 "nbformat": 4,
 "nbformat_minor": 2
}
