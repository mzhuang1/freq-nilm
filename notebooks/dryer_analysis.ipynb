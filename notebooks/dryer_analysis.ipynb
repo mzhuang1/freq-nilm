{
 "cells": [
  {
   "cell_type": "code",
   "execution_count": 1,
   "metadata": {
    "collapsed": true
   },
   "outputs": [],
   "source": [
    "import numpy as np\n",
    "import itertools\n",
    "from pathlib import Path\n",
    "%matplotlib inline\n",
    "import matplotlib.pyplot as plt\n",
    "import sys\n",
    "sys.path.append(\"../code/\")\n",
    "from dataloader import get_train_test\n",
    "import pandas as pd"
   ]
  },
  {
   "cell_type": "code",
   "execution_count": 17,
   "metadata": {},
   "outputs": [],
   "source": [
    "test_error = {}\n",
    "test_pred = {}\n",
    "dataset =3\n",
    "gid = 0\n",
    "for fold_num in range(5):\n",
    "    test_error[fold_num] = {}\n",
    "    test_pred[fold_num] = {}\n",
    "    for appliance in ['dr']:\n",
    "        test_error[fold_num][appliance] = {}\n",
    "        test_pred[fold_num][appliance] = {}\n",
    "        for lr in [0.001, 0.01, 0.1]:\n",
    "            test_error[fold_num][appliance][lr] = {}\n",
    "            test_pred[fold_num][appliance][lr] = {}\n",
    "            for iters in [200000]:\n",
    "            \n",
    "                directory = \"../code/baseline/cnn-tree/{}/{}/{}/{}/0.0/\".format(dataset, fold_num, lr, iters)\n",
    "                filename = \"test-error-[\\'{}\\'].npy\".format(appliance)\n",
    "                \n",
    "                full_path = directory + filename\n",
    "                pred_path = directory + \"test-pred-[\\'{}\\'].npy\".format(appliance)\n",
    "                my_file = Path(full_path)\n",
    "                if not my_file.exists():\n",
    "                    print(\"CUDA_VISIBLE_DEVICES={} python cnn-tree.py {} {} {} 0 {} {} &\".format(gid, dataset, lr, iters, fold_num, appliance))\n",
    "                    gid += 1\n",
    "                    if gid == 4:\n",
    "                        gid = 0\n",
    "                else:\n",
    "                    for it in range(1000, 200000+1, 1000):\n",
    "                        test_error[fold_num][appliance][lr][it] = np.load(full_path).item()[it][appliance]\n",
    "                        test_pred[fold_num][appliance][lr][it] = np.array(np.load(pred_path).item()[it]).reshape(-1 ,112, 24)"
   ]
  },
  {
   "cell_type": "code",
   "execution_count": 9,
   "metadata": {},
   "outputs": [
    {
     "data": {
      "text/plain": [
       "(1, 1568, 24)"
      ]
     },
     "execution_count": 9,
     "metadata": {},
     "output_type": "execute_result"
    }
   ],
   "source": [
    "np.array(np.load(pred_path).item()[it]).shape"
   ]
  }
 ],
 "metadata": {
  "kernelspec": {
   "display_name": "Python 3",
   "language": "python",
   "name": "python3"
  },
  "language_info": {
   "codemirror_mode": {
    "name": "ipython",
    "version": 3
   },
   "file_extension": ".py",
   "mimetype": "text/x-python",
   "name": "python",
   "nbconvert_exporter": "python",
   "pygments_lexer": "ipython3",
   "version": "3.6.3"
  }
 },
 "nbformat": 4,
 "nbformat_minor": 2
}
