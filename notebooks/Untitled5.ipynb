{
 "cells": [
  {
   "cell_type": "code",
   "execution_count": 104,
   "metadata": {},
   "outputs": [],
   "source": [
    "import numpy as np\n",
    "import sys\n",
    "sys.path.append(\"../code\")\n",
    "from dataloader import APPLIANCE_ORDER, get_train_test\n",
    "from pathlib import Path\n",
    "import pandas as pd\n",
    "import matplotlib.pyplot as plt\n",
    "sys.path.append('../code/')\n",
    "%matplotlib inline\n",
    "import seaborn as sns"
   ]
  },
  {
   "cell_type": "code",
   "execution_count": 92,
   "metadata": {},
   "outputs": [
    {
     "data": {
      "text/plain": [
       "(68, 7, 112, 8)"
      ]
     },
     "execution_count": 92,
     "metadata": {},
     "output_type": "execute_result"
    }
   ],
   "source": [
    "tensor = np.load(\"../2015-5appliances-true-agg-residual-3hour.npy\")\n",
    "tensor.shape"
   ]
  },
  {
   "cell_type": "code",
   "execution_count": 121,
   "metadata": {},
   "outputs": [
    {
     "data": {
      "text/plain": [
       "<matplotlib.axes._subplots.AxesSubplot at 0x7f3e9aac59b0>"
      ]
     },
     "execution_count": 121,
     "metadata": {},
     "output_type": "execute_result"
    },
    {
     "data": {
      "image/png": "[encoded data removed]",
      "text/plain": [
       "<Figure size 432x288 with 2 Axes>"
      ]
     },
     "metadata": {
      "needs_background": "light"
     },
     "output_type": "display_data"
    }
   ],
   "source": [
    "i = 0\n",
    "sns.heatmap(tensor[i, 0])\n"
   ]
  },
  {
   "cell_type": "code",
   "execution_count": 120,
   "metadata": {},
   "outputs": [
    {
     "data": {
      "text/plain": [
       "<matplotlib.axes._subplots.AxesSubplot at 0x7f3e9abe9ba8>"
      ]
     },
     "execution_count": 120,
     "metadata": {},
     "output_type": "execute_result"
    },
    {
     "data": {
      "image/png": "[encoded data removed]",
      "text/plain": [
       "<Figure size 432x288 with 2 Axes>"
      ]
     },
     "metadata": {
      "needs_background": "light"
     },
     "output_type": "display_data"
    }
   ],
   "source": [
    "sns.heatmap(tensor[i, 3])"
   ]
  },
  {
   "cell_type": "code",
   "execution_count": 125,
   "metadata": {
    "scrolled": false
   },
   "outputs": [
    {
     "name": "stdout",
     "output_type": "stream",
     "text": [
      "python -W ignore baseline-stf-nested-valid.py 7 0 10 0.01 100 &\n",
      "python -W ignore baseline-stf-nested-valid.py 7 0 10 0.01 500 &\n",
      "python -W ignore baseline-stf-nested-valid.py 7 0 10 0.01 900 &\n",
      "python -W ignore baseline-stf-nested-valid.py 7 0 10 0.1 100 &\n",
      "python -W ignore baseline-stf-nested-valid.py 7 0 10 0.1 500 &\n",
      "python -W ignore baseline-stf-nested-valid.py 7 0 10 0.1 900 &\n",
      "python -W ignore baseline-stf-nested-valid.py 7 0 10 1.0 100 &\n",
      "python -W ignore baseline-stf-nested-valid.py 7 0 10 1.0 500 &\n",
      "python -W ignore baseline-stf-nested-valid.py 7 0 10 1.0 900 &\n",
      "python -W ignore baseline-stf-nested-valid.py 7 0 10 2.0 100 &\n",
      "python -W ignore baseline-stf-nested-valid.py 7 0 10 2.0 500 &\n",
      "python -W ignore baseline-stf-nested-valid.py 7 0 10 2.0 900 &\n",
      "python -W ignore baseline-stf-nested-valid.py 7 0 13 0.01 100 &\n",
      "python -W ignore baseline-stf-nested-valid.py 7 0 13 0.01 500 &\n",
      "python -W ignore baseline-stf-nested-valid.py 7 0 13 0.01 900 &\n",
      "python -W ignore baseline-stf-nested-valid.py 7 0 13 0.1 100 &\n",
      "python -W ignore baseline-stf-nested-valid.py 7 0 13 0.1 500 &\n",
      "python -W ignore baseline-stf-nested-valid.py 7 0 13 0.1 900 &\n",
      "python -W ignore baseline-stf-nested-valid.py 7 0 13 1.0 100 &\n",
      "python -W ignore baseline-stf-nested-valid.py 7 0 13 1.0 500 &\n",
      "python -W ignore baseline-stf-nested-valid.py 7 0 13 1.0 900 &\n",
      "python -W ignore baseline-stf-nested-valid.py 7 0 13 2.0 100 &\n",
      "python -W ignore baseline-stf-nested-valid.py 7 0 13 2.0 500 &\n",
      "python -W ignore baseline-stf-nested-valid.py 7 0 13 2.0 900 &\n",
      "python -W ignore baseline-stf-nested-valid.py 7 0 16 0.01 100 &\n",
      "python -W ignore baseline-stf-nested-valid.py 7 0 16 0.01 500 &\n",
      "python -W ignore baseline-stf-nested-valid.py 7 0 16 0.01 900 &\n",
      "python -W ignore baseline-stf-nested-valid.py 7 0 16 0.1 100 &\n",
      "python -W ignore baseline-stf-nested-valid.py 7 0 16 0.1 500 &\n",
      "python -W ignore baseline-stf-nested-valid.py 7 0 16 0.1 900 &\n",
      "python -W ignore baseline-stf-nested-valid.py 7 0 16 1.0 100 &\n",
      "python -W ignore baseline-stf-nested-valid.py 7 0 16 1.0 500 &\n",
      "python -W ignore baseline-stf-nested-valid.py 7 0 16 1.0 900 &\n",
      "python -W ignore baseline-stf-nested-valid.py 7 0 16 2.0 100 &\n",
      "python -W ignore baseline-stf-nested-valid.py 7 0 16 2.0 500 &\n",
      "python -W ignore baseline-stf-nested-valid.py 7 0 16 2.0 900 &\n",
      "python -W ignore baseline-stf-nested-valid.py 7 0 19 0.01 100 &\n",
      "python -W ignore baseline-stf-nested-valid.py 7 0 19 0.01 500 &\n",
      "python -W ignore baseline-stf-nested-valid.py 7 0 19 0.01 900 &\n",
      "python -W ignore baseline-stf-nested-valid.py 7 0 19 0.1 100 &\n",
      "python -W ignore baseline-stf-nested-valid.py 7 0 19 0.1 500 &\n",
      "python -W ignore baseline-stf-nested-valid.py 7 0 19 0.1 900 &\n",
      "python -W ignore baseline-stf-nested-valid.py 7 0 19 1.0 100 &\n",
      "python -W ignore baseline-stf-nested-valid.py 7 0 19 1.0 500 &\n",
      "python -W ignore baseline-stf-nested-valid.py 7 0 19 1.0 900 &\n",
      "python -W ignore baseline-stf-nested-valid.py 7 0 19 2.0 100 &\n",
      "python -W ignore baseline-stf-nested-valid.py 7 0 19 2.0 500 &\n",
      "python -W ignore baseline-stf-nested-valid.py 7 0 19 2.0 900 &\n",
      "python -W ignore baseline-stf-nested-valid.py 7 1 10 0.01 100 &\n",
      "python -W ignore baseline-stf-nested-valid.py 7 1 10 0.01 500 &\n",
      "python -W ignore baseline-stf-nested-valid.py 7 1 10 0.01 900 &\n",
      "python -W ignore baseline-stf-nested-valid.py 7 1 10 0.1 100 &\n",
      "python -W ignore baseline-stf-nested-valid.py 7 1 10 0.1 500 &\n",
      "python -W ignore baseline-stf-nested-valid.py 7 1 10 0.1 900 &\n",
      "python -W ignore baseline-stf-nested-valid.py 7 1 10 1.0 100 &\n",
      "python -W ignore baseline-stf-nested-valid.py 7 1 10 1.0 500 &\n",
      "python -W ignore baseline-stf-nested-valid.py 7 1 10 1.0 900 &\n",
      "python -W ignore baseline-stf-nested-valid.py 7 1 10 2.0 100 &\n",
      "python -W ignore baseline-stf-nested-valid.py 7 1 10 2.0 500 &\n",
      "python -W ignore baseline-stf-nested-valid.py 7 1 10 2.0 900 &\n",
      "python -W ignore baseline-stf-nested-valid.py 7 1 13 0.01 100 &\n",
      "python -W ignore baseline-stf-nested-valid.py 7 1 13 0.01 500 &\n",
      "python -W ignore baseline-stf-nested-valid.py 7 1 13 0.01 900 &\n",
      "python -W ignore baseline-stf-nested-valid.py 7 1 13 0.1 100 &\n",
      "python -W ignore baseline-stf-nested-valid.py 7 1 13 0.1 500 &\n",
      "python -W ignore baseline-stf-nested-valid.py 7 1 13 0.1 900 &\n",
      "python -W ignore baseline-stf-nested-valid.py 7 1 13 1.0 100 &\n",
      "python -W ignore baseline-stf-nested-valid.py 7 1 13 1.0 500 &\n",
      "python -W ignore baseline-stf-nested-valid.py 7 1 13 1.0 900 &\n",
      "python -W ignore baseline-stf-nested-valid.py 7 1 13 2.0 100 &\n",
      "python -W ignore baseline-stf-nested-valid.py 7 1 13 2.0 500 &\n",
      "python -W ignore baseline-stf-nested-valid.py 7 1 13 2.0 900 &\n",
      "python -W ignore baseline-stf-nested-valid.py 7 1 16 0.01 100 &\n",
      "python -W ignore baseline-stf-nested-valid.py 7 1 16 0.01 500 &\n",
      "python -W ignore baseline-stf-nested-valid.py 7 1 16 0.01 900 &\n",
      "python -W ignore baseline-stf-nested-valid.py 7 1 16 0.1 100 &\n",
      "python -W ignore baseline-stf-nested-valid.py 7 1 16 0.1 500 &\n",
      "python -W ignore baseline-stf-nested-valid.py 7 1 16 0.1 900 &\n",
      "python -W ignore baseline-stf-nested-valid.py 7 1 16 1.0 100 &\n",
      "python -W ignore baseline-stf-nested-valid.py 7 1 16 1.0 500 &\n",
      "python -W ignore baseline-stf-nested-valid.py 7 1 16 1.0 900 &\n",
      "python -W ignore baseline-stf-nested-valid.py 7 1 16 2.0 100 &\n",
      "python -W ignore baseline-stf-nested-valid.py 7 1 16 2.0 500 &\n",
      "python -W ignore baseline-stf-nested-valid.py 7 1 16 2.0 900 &\n",
      "python -W ignore baseline-stf-nested-valid.py 7 1 19 0.01 100 &\n",
      "python -W ignore baseline-stf-nested-valid.py 7 1 19 0.01 500 &\n",
      "python -W ignore baseline-stf-nested-valid.py 7 1 19 0.01 900 &\n",
      "python -W ignore baseline-stf-nested-valid.py 7 1 19 0.1 100 &\n",
      "python -W ignore baseline-stf-nested-valid.py 7 1 19 0.1 500 &\n",
      "python -W ignore baseline-stf-nested-valid.py 7 1 19 0.1 900 &\n",
      "python -W ignore baseline-stf-nested-valid.py 7 1 19 1.0 100 &\n",
      "python -W ignore baseline-stf-nested-valid.py 7 1 19 1.0 500 &\n",
      "python -W ignore baseline-stf-nested-valid.py 7 1 19 1.0 900 &\n",
      "python -W ignore baseline-stf-nested-valid.py 7 1 19 2.0 100 &\n",
      "python -W ignore baseline-stf-nested-valid.py 7 1 19 2.0 500 &\n",
      "python -W ignore baseline-stf-nested-valid.py 7 1 19 2.0 900 &\n",
      "python -W ignore baseline-stf-nested-valid.py 7 2 10 0.01 100 &\n",
      "python -W ignore baseline-stf-nested-valid.py 7 2 10 0.01 500 &\n",
      "python -W ignore baseline-stf-nested-valid.py 7 2 10 0.01 900 &\n",
      "python -W ignore baseline-stf-nested-valid.py 7 2 10 0.1 100 &\n",
      "python -W ignore baseline-stf-nested-valid.py 7 2 10 0.1 500 &\n",
      "python -W ignore baseline-stf-nested-valid.py 7 2 10 0.1 900 &\n",
      "python -W ignore baseline-stf-nested-valid.py 7 2 10 1.0 100 &\n",
      "python -W ignore baseline-stf-nested-valid.py 7 2 10 1.0 500 &\n",
      "python -W ignore baseline-stf-nested-valid.py 7 2 10 1.0 900 &\n",
      "python -W ignore baseline-stf-nested-valid.py 7 2 10 2.0 100 &\n",
      "python -W ignore baseline-stf-nested-valid.py 7 2 10 2.0 500 &\n",
      "python -W ignore baseline-stf-nested-valid.py 7 2 10 2.0 900 &\n",
      "python -W ignore baseline-stf-nested-valid.py 7 2 13 0.01 100 &\n",
      "python -W ignore baseline-stf-nested-valid.py 7 2 13 0.01 500 &\n",
      "python -W ignore baseline-stf-nested-valid.py 7 2 13 0.01 900 &\n",
      "python -W ignore baseline-stf-nested-valid.py 7 2 13 0.1 100 &\n",
      "python -W ignore baseline-stf-nested-valid.py 7 2 13 0.1 500 &\n",
      "python -W ignore baseline-stf-nested-valid.py 7 2 13 0.1 900 &\n",
      "python -W ignore baseline-stf-nested-valid.py 7 2 13 1.0 100 &\n",
      "python -W ignore baseline-stf-nested-valid.py 7 2 13 1.0 500 &\n",
      "python -W ignore baseline-stf-nested-valid.py 7 2 13 1.0 900 &\n",
      "python -W ignore baseline-stf-nested-valid.py 7 2 13 2.0 100 &\n",
      "python -W ignore baseline-stf-nested-valid.py 7 2 13 2.0 500 &\n",
      "python -W ignore baseline-stf-nested-valid.py 7 2 13 2.0 900 &\n",
      "python -W ignore baseline-stf-nested-valid.py 7 2 16 0.01 100 &\n",
      "python -W ignore baseline-stf-nested-valid.py 7 2 16 0.01 500 &\n",
      "python -W ignore baseline-stf-nested-valid.py 7 2 16 0.01 900 &\n",
      "python -W ignore baseline-stf-nested-valid.py 7 2 16 0.1 100 &\n",
      "python -W ignore baseline-stf-nested-valid.py 7 2 16 0.1 500 &\n",
      "python -W ignore baseline-stf-nested-valid.py 7 2 16 0.1 900 &\n",
      "python -W ignore baseline-stf-nested-valid.py 7 2 16 1.0 100 &\n",
      "python -W ignore baseline-stf-nested-valid.py 7 2 16 1.0 500 &\n",
      "python -W ignore baseline-stf-nested-valid.py 7 2 16 1.0 900 &\n",
      "python -W ignore baseline-stf-nested-valid.py 7 2 16 2.0 100 &\n",
      "python -W ignore baseline-stf-nested-valid.py 7 2 16 2.0 500 &\n",
      "python -W ignore baseline-stf-nested-valid.py 7 2 16 2.0 900 &\n",
      "python -W ignore baseline-stf-nested-valid.py 7 2 19 0.01 100 &\n",
      "python -W ignore baseline-stf-nested-valid.py 7 2 19 0.01 500 &\n",
      "python -W ignore baseline-stf-nested-valid.py 7 2 19 0.01 900 &\n",
      "python -W ignore baseline-stf-nested-valid.py 7 2 19 0.1 100 &\n",
      "python -W ignore baseline-stf-nested-valid.py 7 2 19 0.1 500 &\n",
      "python -W ignore baseline-stf-nested-valid.py 7 2 19 0.1 900 &\n",
      "python -W ignore baseline-stf-nested-valid.py 7 2 19 1.0 100 &\n",
      "python -W ignore baseline-stf-nested-valid.py 7 2 19 1.0 500 &\n",
      "python -W ignore baseline-stf-nested-valid.py 7 2 19 1.0 900 &\n",
      "python -W ignore baseline-stf-nested-valid.py 7 2 19 2.0 100 &\n",
      "python -W ignore baseline-stf-nested-valid.py 7 2 19 2.0 500 &\n",
      "python -W ignore baseline-stf-nested-valid.py 7 2 19 2.0 900 &\n",
      "python -W ignore baseline-stf-nested-valid.py 7 3 10 0.01 100 &\n",
      "python -W ignore baseline-stf-nested-valid.py 7 3 10 0.01 500 &\n",
      "python -W ignore baseline-stf-nested-valid.py 7 3 10 0.01 900 &\n",
      "python -W ignore baseline-stf-nested-valid.py 7 3 10 0.1 100 &\n",
      "python -W ignore baseline-stf-nested-valid.py 7 3 10 0.1 500 &\n",
      "python -W ignore baseline-stf-nested-valid.py 7 3 10 0.1 900 &\n",
      "python -W ignore baseline-stf-nested-valid.py 7 3 10 1.0 100 &\n",
      "python -W ignore baseline-stf-nested-valid.py 7 3 10 1.0 500 &\n",
      "python -W ignore baseline-stf-nested-valid.py 7 3 10 1.0 900 &\n",
      "python -W ignore baseline-stf-nested-valid.py 7 3 10 2.0 100 &\n",
      "python -W ignore baseline-stf-nested-valid.py 7 3 10 2.0 500 &\n",
      "python -W ignore baseline-stf-nested-valid.py 7 3 10 2.0 900 &\n",
      "python -W ignore baseline-stf-nested-valid.py 7 3 13 0.01 100 &\n",
      "python -W ignore baseline-stf-nested-valid.py 7 3 13 0.01 500 &\n",
      "python -W ignore baseline-stf-nested-valid.py 7 3 13 0.01 900 &\n",
      "python -W ignore baseline-stf-nested-valid.py 7 3 13 0.1 100 &\n",
      "python -W ignore baseline-stf-nested-valid.py 7 3 13 0.1 500 &\n",
      "python -W ignore baseline-stf-nested-valid.py 7 3 13 0.1 900 &\n",
      "python -W ignore baseline-stf-nested-valid.py 7 3 13 1.0 100 &\n",
      "python -W ignore baseline-stf-nested-valid.py 7 3 13 1.0 500 &\n",
      "python -W ignore baseline-stf-nested-valid.py 7 3 13 1.0 900 &\n",
      "python -W ignore baseline-stf-nested-valid.py 7 3 13 2.0 100 &\n",
      "python -W ignore baseline-stf-nested-valid.py 7 3 13 2.0 500 &\n",
      "python -W ignore baseline-stf-nested-valid.py 7 3 13 2.0 900 &\n",
      "python -W ignore baseline-stf-nested-valid.py 7 3 16 0.01 100 &\n",
      "python -W ignore baseline-stf-nested-valid.py 7 3 16 0.01 500 &\n",
      "python -W ignore baseline-stf-nested-valid.py 7 3 16 0.01 900 &\n",
      "python -W ignore baseline-stf-nested-valid.py 7 3 16 0.1 100 &\n",
      "python -W ignore baseline-stf-nested-valid.py 7 3 16 0.1 500 &\n",
      "python -W ignore baseline-stf-nested-valid.py 7 3 16 0.1 900 &\n",
      "python -W ignore baseline-stf-nested-valid.py 7 3 16 1.0 100 &\n",
      "python -W ignore baseline-stf-nested-valid.py 7 3 16 1.0 500 &\n",
      "python -W ignore baseline-stf-nested-valid.py 7 3 16 1.0 900 &\n"
     ]
    },
    {
     "name": "stdout",
     "output_type": "stream",
     "text": [
      "python -W ignore baseline-stf-nested-valid.py 7 3 16 2.0 100 &\n",
      "python -W ignore baseline-stf-nested-valid.py 7 3 16 2.0 500 &\n",
      "python -W ignore baseline-stf-nested-valid.py 7 3 16 2.0 900 &\n",
      "python -W ignore baseline-stf-nested-valid.py 7 3 19 0.01 100 &\n",
      "python -W ignore baseline-stf-nested-valid.py 7 3 19 0.01 500 &\n",
      "python -W ignore baseline-stf-nested-valid.py 7 3 19 0.01 900 &\n",
      "python -W ignore baseline-stf-nested-valid.py 7 3 19 0.1 100 &\n",
      "python -W ignore baseline-stf-nested-valid.py 7 3 19 0.1 500 &\n",
      "python -W ignore baseline-stf-nested-valid.py 7 3 19 0.1 900 &\n",
      "python -W ignore baseline-stf-nested-valid.py 7 3 19 1.0 100 &\n",
      "python -W ignore baseline-stf-nested-valid.py 7 3 19 1.0 500 &\n",
      "python -W ignore baseline-stf-nested-valid.py 7 3 19 1.0 900 &\n",
      "python -W ignore baseline-stf-nested-valid.py 7 3 19 2.0 100 &\n",
      "python -W ignore baseline-stf-nested-valid.py 7 3 19 2.0 500 &\n",
      "python -W ignore baseline-stf-nested-valid.py 7 3 19 2.0 900 &\n",
      "python -W ignore baseline-stf-nested-valid.py 7 4 10 0.01 100 &\n",
      "python -W ignore baseline-stf-nested-valid.py 7 4 10 0.01 500 &\n",
      "python -W ignore baseline-stf-nested-valid.py 7 4 10 0.01 900 &\n",
      "python -W ignore baseline-stf-nested-valid.py 7 4 10 0.1 100 &\n",
      "python -W ignore baseline-stf-nested-valid.py 7 4 10 0.1 500 &\n",
      "python -W ignore baseline-stf-nested-valid.py 7 4 10 0.1 900 &\n",
      "python -W ignore baseline-stf-nested-valid.py 7 4 10 1.0 100 &\n",
      "python -W ignore baseline-stf-nested-valid.py 7 4 10 1.0 500 &\n",
      "python -W ignore baseline-stf-nested-valid.py 7 4 10 1.0 900 &\n",
      "python -W ignore baseline-stf-nested-valid.py 7 4 10 2.0 100 &\n",
      "python -W ignore baseline-stf-nested-valid.py 7 4 10 2.0 500 &\n",
      "python -W ignore baseline-stf-nested-valid.py 7 4 10 2.0 900 &\n",
      "python -W ignore baseline-stf-nested-valid.py 7 4 13 0.01 100 &\n",
      "python -W ignore baseline-stf-nested-valid.py 7 4 13 0.01 500 &\n",
      "python -W ignore baseline-stf-nested-valid.py 7 4 13 0.01 900 &\n",
      "python -W ignore baseline-stf-nested-valid.py 7 4 13 0.1 100 &\n",
      "python -W ignore baseline-stf-nested-valid.py 7 4 13 0.1 500 &\n",
      "python -W ignore baseline-stf-nested-valid.py 7 4 13 0.1 900 &\n",
      "python -W ignore baseline-stf-nested-valid.py 7 4 13 1.0 100 &\n",
      "python -W ignore baseline-stf-nested-valid.py 7 4 13 1.0 500 &\n",
      "python -W ignore baseline-stf-nested-valid.py 7 4 13 1.0 900 &\n",
      "python -W ignore baseline-stf-nested-valid.py 7 4 13 2.0 100 &\n",
      "python -W ignore baseline-stf-nested-valid.py 7 4 13 2.0 500 &\n",
      "python -W ignore baseline-stf-nested-valid.py 7 4 13 2.0 900 &\n",
      "python -W ignore baseline-stf-nested-valid.py 7 4 16 0.01 100 &\n",
      "python -W ignore baseline-stf-nested-valid.py 7 4 16 0.01 500 &\n",
      "python -W ignore baseline-stf-nested-valid.py 7 4 16 0.01 900 &\n",
      "python -W ignore baseline-stf-nested-valid.py 7 4 16 0.1 100 &\n",
      "python -W ignore baseline-stf-nested-valid.py 7 4 16 0.1 500 &\n",
      "python -W ignore baseline-stf-nested-valid.py 7 4 16 0.1 900 &\n",
      "python -W ignore baseline-stf-nested-valid.py 7 4 16 1.0 100 &\n",
      "python -W ignore baseline-stf-nested-valid.py 7 4 16 1.0 500 &\n",
      "python -W ignore baseline-stf-nested-valid.py 7 4 16 1.0 900 &\n",
      "python -W ignore baseline-stf-nested-valid.py 7 4 16 2.0 100 &\n",
      "python -W ignore baseline-stf-nested-valid.py 7 4 16 2.0 500 &\n",
      "python -W ignore baseline-stf-nested-valid.py 7 4 16 2.0 900 &\n",
      "python -W ignore baseline-stf-nested-valid.py 7 4 19 0.01 100 &\n",
      "python -W ignore baseline-stf-nested-valid.py 7 4 19 0.01 500 &\n",
      "python -W ignore baseline-stf-nested-valid.py 7 4 19 0.01 900 &\n",
      "python -W ignore baseline-stf-nested-valid.py 7 4 19 0.1 100 &\n",
      "python -W ignore baseline-stf-nested-valid.py 7 4 19 0.1 500 &\n",
      "python -W ignore baseline-stf-nested-valid.py 7 4 19 0.1 900 &\n",
      "python -W ignore baseline-stf-nested-valid.py 7 4 19 1.0 100 &\n",
      "python -W ignore baseline-stf-nested-valid.py 7 4 19 1.0 500 &\n",
      "python -W ignore baseline-stf-nested-valid.py 7 4 19 1.0 900 &\n",
      "python -W ignore baseline-stf-nested-valid.py 7 4 19 2.0 100 &\n",
      "python -W ignore baseline-stf-nested-valid.py 7 4 19 2.0 500 &\n",
      "python -W ignore baseline-stf-nested-valid.py 7 4 19 2.0 900 &\n"
     ]
    }
   ],
   "source": [
    "c = 0\n",
    "for dataset in [7]:\n",
    "    for cur_fold in range(5):\n",
    "        for num_latent in range(10, 21, 3):\n",
    "            for lr in [0.01, 0.1, 1, 2]:\n",
    "                lr = float(lr)\n",
    "                for iters in range(100, 1000, 400):\n",
    "                    filename = \"stf-error-{}-{}-{}-{}-{}.npy\".format(dataset, cur_fold, num_latent, lr, iters)\n",
    "                    directory = \"../code/baseline/stf/{}/valid/\".format(dataset)\n",
    "                    full_path = directory + filename\n",
    "                    my_file = Path(full_path)\n",
    "                    if not my_file.exists():\n",
    "                        c += 1\n",
    "                        print(\"python -W ignore baseline-stf-nested-valid.py {} {} {} {} {} &\".format(dataset, cur_fold, num_latent, lr, iters))\n",
    "# print(c)"
   ]
  },
  {
   "cell_type": "code",
   "execution_count": 14,
   "metadata": {},
   "outputs": [],
   "source": [
    "train, test = get_train_test(6)"
   ]
  },
  {
   "cell_type": "code",
   "execution_count": 15,
   "metadata": {},
   "outputs": [
    {
     "data": {
      "text/plain": [
       "(54, 7, 112, 8)"
      ]
     },
     "execution_count": 15,
     "metadata": {},
     "output_type": "execute_result"
    }
   ],
   "source": [
    "train.shape"
   ]
  },
  {
   "cell_type": "code",
   "execution_count": 16,
   "metadata": {},
   "outputs": [],
   "source": [
    "tensor = np.load('../2015-5appliances-true-agg-residual.npy')"
   ]
  },
  {
   "cell_type": "code",
   "execution_count": 17,
   "metadata": {},
   "outputs": [
    {
     "data": {
      "text/plain": [
       "(68, 7, 112, 24)"
      ]
     },
     "execution_count": 17,
     "metadata": {},
     "output_type": "execute_result"
    }
   ],
   "source": [
    "tensor.shape"
   ]
  },
  {
   "cell_type": "code",
   "execution_count": 12,
   "metadata": {},
   "outputs": [],
   "source": [
    "new = tensor.reshape(68, 7, 112, 8, 3).sum(axis=4)"
   ]
  },
  {
   "cell_type": "code",
   "execution_count": 13,
   "metadata": {},
   "outputs": [],
   "source": [
    "np.save(\"../2015-5appliances-true-agg-residual-3hour.npy\", new)"
   ]
  }
 ],
 "metadata": {
  "kernelspec": {
   "display_name": "Python [default]",
   "language": "python",
   "name": "python3"
  },
  "language_info": {
   "codemirror_mode": {
    "name": "ipython",
    "version": 3
   },
   "file_extension": ".py",
   "mimetype": "text/x-python",
   "name": "python",
   "nbconvert_exporter": "python",
   "pygments_lexer": "ipython3",
   "version": "3.6.6"
  }
 },
 "nbformat": 4,
 "nbformat_minor": 2
}
