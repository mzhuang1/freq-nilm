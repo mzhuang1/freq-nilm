{
 "cells": [
  {
   "cell_type": "code",
   "execution_count": 1,
   "metadata": {},
   "outputs": [],
   "source": [
    "import torch\n",
    "from torch.autograd import Variable\n",
    "import numpy as np\n",
    "import torch.nn as nn\n",
    "from torchvision import datasets,transforms\n",
    "import torch.nn.functional as F\n",
    "import sys\n",
    "sys.path.append(\"../code/\")\n",
    "from dataloader import APPLIANCE_ORDER, get_train_test, ON_THRESHOLD\n",
    "from sklearn.metrics import mean_absolute_error\n",
    "import os\n",
    "import pandas as pd\n",
    "import sys\n",
    "import numpy as np\n",
    "import matplotlib.pyplot as plt\n",
    "sys.path.append('../code/')\n",
    "%matplotlib inline\n",
    "import itertools\n",
    "from pathlib import Path"
   ]
  },
  {
   "cell_type": "code",
   "execution_count": 2,
   "metadata": {
    "collapsed": true
   },
   "outputs": [],
   "source": [
    "tensor = np.load(\"../2015-5appliances.numpy.npy\")\n",
    "dr = tensor[:, 3]"
   ]
  },
  {
   "cell_type": "code",
   "execution_count": 3,
   "metadata": {},
   "outputs": [],
   "source": [
    "# calculate gt\n",
    "test_gt = {}\n",
    "valid_gt = {}\n",
    "for fold_num in range(5):\n",
    "    test_gt[fold_num] = {}\n",
    "    valid_gt[fold_num] = {}\n",
    "    train, test = get_train_test(1, 5, fold_num)\n",
    "    valid = train[int(0.8*len(train)):].copy()\n",
    "    for idx, appliance in enumerate(APPLIANCE_ORDER[1:-1]):\n",
    "        test_gt[fold_num][appliance] = test[:, idx+1]\n",
    "        valid_gt[fold_num][appliance] = valid[:, idx+1]"
   ]
  },
  {
   "cell_type": "code",
   "execution_count": 5,
   "metadata": {},
   "outputs": [
    {
     "name": "stderr",
     "output_type": "stream",
     "text": [
      "/zf14/yj9xs/anaconda3/lib/python3.6/site-packages/numpy/core/fromnumeric.py:2889: RuntimeWarning: Mean of empty slice.\n",
      "  out=out, **kwargs)\n",
      "/zf14/yj9xs/anaconda3/lib/python3.6/site-packages/numpy/core/_methods.py:80: RuntimeWarning: invalid value encountered in double_scalars\n",
      "  ret = ret.dtype.type(ret / rcount)\n"
     ]
    }
   ],
   "source": [
    "threshold = {}\n",
    "for fold_num in range(5):\n",
    "    threshold[fold_num] = {}\n",
    "    for appliance in ['hvac', 'fridge', 'dr', 'dw', 'mw']:\n",
    "        \n",
    "        sample_list = []\n",
    "        for i in range(test_gt[fold_num][appliance].shape[0]):\n",
    "            sample_list = np.append(sample_list, np.mean([x for x in test_gt[fold_num][appliance][i].reshape(1, -1).tolist()[0] if x > ON_THRESHOLD[appliance]]))\n",
    "        threshold[fold_num][appliance] = 0.1*sample_list"
   ]
  },
  {
   "cell_type": "code",
   "execution_count": 6,
   "metadata": {
    "collapsed": true
   },
   "outputs": [],
   "source": [
    "def calculate_error(pred, gt, threshold):\n",
    "    error = {}\n",
    "    overall = {}\n",
    "    num_homes = {}\n",
    "    \n",
    "    # calculte number of homes in each fold\n",
    "    for fold_num in range(5):\n",
    "        num_homes[fold_num] = gt[fold_num]['hvac'].reshape(-1, 1, 112,24).shape[0]\n",
    "    homes = pd.Series(num_homes).sum()\n",
    "    \n",
    "    # for Constantly On appliances: hvac and fridge\n",
    "#     for appliance in ['hvac', 'fridge']:\n",
    "#         overall[appliance] = 0\n",
    "#         error[appliance] = {}\n",
    "#         for fold_num in range(5):\n",
    "#             error[appliance][fold_num] = mean_absolute_error(pred[fold_num][appliance].reshape(-1, 24), \n",
    "#                                                              gt[fold_num][appliance].reshape(-1, 24))\n",
    "#             overall[appliance] += error[appliance][fold_num]*num_homes[fold_num]\n",
    "#         overall[appliance] /= homes\n",
    "        \n",
    "    # for ON/OFF appliances: dryer, dishwasher and microwave\n",
    "    for appliance in ['hvac', 'fridge', 'dr', 'dw', 'mw']:\n",
    "        error[appliance] = {}\n",
    "        overall[appliance] = 0                                                                \n",
    "        for fold_num in range(5):\n",
    "            error[appliance][fold_num] = onoff_error(pred[fold_num][appliance].reshape(-1, 24), \n",
    "                                                     gt[fold_num][appliance].reshape(-1, 24), threshold[fold_num][appliance])\n",
    "            overall[appliance] += error[appliance][fold_num]*num_homes[fold_num]\n",
    "        overall[appliance] /= homes\n",
    "    \n",
    "    \n",
    "    return error, overall"
   ]
  },
  {
   "cell_type": "code",
   "execution_count": 7,
   "metadata": {},
   "outputs": [],
   "source": [
    "def onoff_error(pred, gt, threshold):\n",
    "    pred = pred.reshape(-1 ,112, 24)\n",
    "    gt = gt.reshape(-1 ,112, 24)\n",
    "    homes = pred.shape[0]\n",
    "    error = {}\n",
    "    abs_error = np.abs(pred-gt)\n",
    "    if threshold == None:\n",
    "        threshold = np.zeros(homes)\n",
    "    for i in range(homes):\n",
    "        error_list = [x for x in abs_error[i].reshape(1, -1)[0] if x >= threshold[i]]\n",
    "        if len(error_list) == 0:\n",
    "            error[i] = 0\n",
    "        else:\n",
    "            error[i] = np.mean([x for x in abs_error[i].reshape(1, -1)[0] if x >= threshold[i]])\n",
    "#     print(abs_error[i])\n",
    "#     print(threshold, error)\n",
    "    \n",
    "    \n",
    "    return (pd.Series(error).mean())"
   ]
  },
  {
   "cell_type": "markdown",
   "metadata": {},
   "source": [
    "## Dataset 1: Artificial Aggregate Dataset"
   ]
  },
  {
   "cell_type": "markdown",
   "metadata": {},
   "source": [
    "### Individual RNN and TreeRNN\n",
    "#### Just use the best parameter found before as RNN always predict dryer as zero"
   ]
  },
  {
   "cell_type": "code",
   "execution_count": 26,
   "metadata": {
    "collapsed": true
   },
   "outputs": [],
   "source": [
    "dataset = 1\n",
    "best_rnn_individual = np.load(\"../code/baseline/result/rnn-individual-param-{}.npy\".format(dataset)).item()\n",
    "best_rnn_tree = np.load(\"../code/baseline/result/rnn-tree-param-{}.npy\".format(dataset)).item()"
   ]
  },
  {
   "cell_type": "code",
   "execution_count": 27,
   "metadata": {
    "collapsed": true
   },
   "outputs": [],
   "source": [
    "# get prediction for rnn individual\n",
    "rnn_individual_pred = {}\n",
    "rnn_individual_error = {}\n",
    "for fold_num in range(5):\n",
    "    rnn_individual_pred[fold_num] = {}\n",
    "    rnn_individual_error[fold_num] = {}\n",
    "    for appliance in ['hvac', 'fridge', 'dr', 'dw', 'mw']:\n",
    "        cell_type = best_rnn_individual[appliance][fold_num]['cell_type']\n",
    "        hidden_size = best_rnn_individual[appliance][fold_num]['hidden_size']\n",
    "        num_layers = best_rnn_individual[appliance][fold_num]['num_layers']\n",
    "        lr = best_rnn_individual[appliance][fold_num]['lr']\n",
    "        iters = best_rnn_individual[appliance][fold_num]['iters']\n",
    "        bidirectional = best_rnn_individual[appliance][fold_num]['bidirectional']\n",
    "\n",
    "        directory = \"../code/baseline/rnn-tree/{}/{}/{}/{}/{}/{}/{}/3000/0.0/\".format(dataset, fold_num, cell_type,\n",
    "                                                                                                    hidden_size,\n",
    "                                                                                                    num_layers,\n",
    "                                                                                                    bidirectional,\n",
    "                                                                                                    lr)\n",
    "        filename = \"test-pred-{}-{}-{}-{}-{}-{}-{}-3000-0.0-[\\'{}\\'].npy\".format(fold_num, dataset, cell_type, hidden_size, num_layers,\n",
    "                                                                                 bidirectional, lr, appliance)\n",
    "\n",
    "        full_path = directory + filename\n",
    "        rnn_individual_pred[fold_num][appliance] = np.asarray(np.load(full_path).item()[iters]).reshape(-1, 1, 112, 24)"
   ]
  },
  {
   "cell_type": "code",
   "execution_count": 28,
   "metadata": {
    "collapsed": true
   },
   "outputs": [],
   "source": [
    "# get prediction for rnn tree\n",
    "rnn_tree_pred = {}\n",
    "rnn_tree_error = {}\n",
    "for fold_num in range(5):\n",
    "    # get prediction for rnn tree\n",
    "    rnn_tree_pred[fold_num] = {}\n",
    "#     rnn_tree_error[fold_num] = {}\n",
    "    cell_type = best_rnn_tree[fold_num]['cell_type']\n",
    "    hidden_size = best_rnn_tree[fold_num]['hidden_size']\n",
    "    num_layers = best_rnn_tree[fold_num]['num_layers']\n",
    "    lr = best_rnn_tree[fold_num]['lr']\n",
    "    iters = best_rnn_tree[fold_num]['iters']\n",
    "    bidirectional = best_rnn_tree[fold_num]['bidirectional']\n",
    "    order = best_rnn_tree[fold_num]['order']\n",
    "    directory = \"../code/baseline/rnn-tree/{}/{}/{}/{}/{}/{}/{}/3000/0.0/\".format(dataset, fold_num, cell_type,\n",
    "                                                                                                hidden_size,\n",
    "                                                                                                num_layers,\n",
    "                                                                                                bidirectional,\n",
    "                                                                                                float(lr))\n",
    "    filename = \"test-pred-{}-{}-{}-{}-{}-{}-{}-3000-0.0-[\\'{}\\'].npy\".format(fold_num, dataset, cell_type, hidden_size, num_layers,\n",
    "                                                                             bidirectional, float(lr), str(order)[2:-2])\n",
    "\n",
    "    full_path = directory + filename\n",
    "    rnn_pred = np.asarray(np.load(full_path).item()[iters])\n",
    "    \n",
    "\n",
    "    for idx, appliance in enumerate(order):\n",
    "        rnn_tree_pred[fold_num][appliance] = rnn_pred[idx].reshape(-1, 1, 112,24)"
   ]
  },
  {
   "cell_type": "code",
   "execution_count": 29,
   "metadata": {},
   "outputs": [
    {
     "name": "stderr",
     "output_type": "stream",
     "text": [
      "/zf14/yj9xs/anaconda3/lib/python3.6/site-packages/ipykernel_launcher.py:7: FutureWarning: comparison to `None` will result in an elementwise object comparison in the future.\n",
      "  import sys\n"
     ]
    },
    {
     "data": {
      "text/html": [
       "<div>\n",
       "<style scoped>\n",
       "    .dataframe tbody tr th:only-of-type {\n",
       "        vertical-align: middle;\n",
       "    }\n",
       "\n",
       "    .dataframe tbody tr th {\n",
       "        vertical-align: top;\n",
       "    }\n",
       "\n",
       "    .dataframe thead th {\n",
       "        text-align: right;\n",
       "    }\n",
       "</style>\n",
       "<table border=\"1\" class=\"dataframe\">\n",
       "  <thead>\n",
       "    <tr style=\"text-align: right;\">\n",
       "      <th></th>\n",
       "      <th>dr</th>\n",
       "      <th>dw</th>\n",
       "      <th>fridge</th>\n",
       "      <th>hvac</th>\n",
       "      <th>mw</th>\n",
       "    </tr>\n",
       "  </thead>\n",
       "  <tbody>\n",
       "    <tr>\n",
       "      <th>0</th>\n",
       "      <td>1196.674072</td>\n",
       "      <td>328.679178</td>\n",
       "      <td>35.522373</td>\n",
       "      <td>395.690890</td>\n",
       "      <td>54.993966</td>\n",
       "    </tr>\n",
       "    <tr>\n",
       "      <th>1</th>\n",
       "      <td>1212.599873</td>\n",
       "      <td>377.315883</td>\n",
       "      <td>40.464959</td>\n",
       "      <td>514.588107</td>\n",
       "      <td>49.839184</td>\n",
       "    </tr>\n",
       "    <tr>\n",
       "      <th>2</th>\n",
       "      <td>1194.534857</td>\n",
       "      <td>365.774494</td>\n",
       "      <td>33.686852</td>\n",
       "      <td>472.679701</td>\n",
       "      <td>40.408460</td>\n",
       "    </tr>\n",
       "    <tr>\n",
       "      <th>3</th>\n",
       "      <td>1264.585252</td>\n",
       "      <td>358.667728</td>\n",
       "      <td>37.671813</td>\n",
       "      <td>521.152759</td>\n",
       "      <td>42.496978</td>\n",
       "    </tr>\n",
       "    <tr>\n",
       "      <th>4</th>\n",
       "      <td>1235.777338</td>\n",
       "      <td>299.161093</td>\n",
       "      <td>34.055233</td>\n",
       "      <td>389.721292</td>\n",
       "      <td>59.691091</td>\n",
       "    </tr>\n",
       "  </tbody>\n",
       "</table>\n",
       "</div>"
      ],
      "text/plain": [
       "            dr          dw     fridge        hvac         mw\n",
       "0  1196.674072  328.679178  35.522373  395.690890  54.993966\n",
       "1  1212.599873  377.315883  40.464959  514.588107  49.839184\n",
       "2  1194.534857  365.774494  33.686852  472.679701  40.408460\n",
       "3  1264.585252  358.667728  37.671813  521.152759  42.496978\n",
       "4  1235.777338  299.161093  34.055233  389.721292  59.691091"
      ]
     },
     "execution_count": 29,
     "metadata": {},
     "output_type": "execute_result"
    }
   ],
   "source": [
    "pd.DataFrame(calculate_error(rnn_individual_pred, test_gt, threshold)[0])"
   ]
  },
  {
   "cell_type": "code",
   "execution_count": 30,
   "metadata": {},
   "outputs": [
    {
     "name": "stderr",
     "output_type": "stream",
     "text": [
      "/zf14/yj9xs/anaconda3/lib/python3.6/site-packages/ipykernel_launcher.py:7: FutureWarning: comparison to `None` will result in an elementwise object comparison in the future.\n",
      "  import sys\n"
     ]
    },
    {
     "data": {
      "text/html": [
       "<div>\n",
       "<style scoped>\n",
       "    .dataframe tbody tr th:only-of-type {\n",
       "        vertical-align: middle;\n",
       "    }\n",
       "\n",
       "    .dataframe tbody tr th {\n",
       "        vertical-align: top;\n",
       "    }\n",
       "\n",
       "    .dataframe thead th {\n",
       "        text-align: right;\n",
       "    }\n",
       "</style>\n",
       "<table border=\"1\" class=\"dataframe\">\n",
       "  <thead>\n",
       "    <tr style=\"text-align: right;\">\n",
       "      <th></th>\n",
       "      <th>dr</th>\n",
       "      <th>dw</th>\n",
       "      <th>fridge</th>\n",
       "      <th>hvac</th>\n",
       "      <th>mw</th>\n",
       "    </tr>\n",
       "  </thead>\n",
       "  <tbody>\n",
       "    <tr>\n",
       "      <th>0</th>\n",
       "      <td>1196.672115</td>\n",
       "      <td>328.678510</td>\n",
       "      <td>34.257107</td>\n",
       "      <td>382.245507</td>\n",
       "      <td>54.908629</td>\n",
       "    </tr>\n",
       "    <tr>\n",
       "      <th>1</th>\n",
       "      <td>1212.302904</td>\n",
       "      <td>377.381632</td>\n",
       "      <td>40.610597</td>\n",
       "      <td>511.111714</td>\n",
       "      <td>48.244586</td>\n",
       "    </tr>\n",
       "    <tr>\n",
       "      <th>2</th>\n",
       "      <td>1197.009230</td>\n",
       "      <td>365.774494</td>\n",
       "      <td>31.512746</td>\n",
       "      <td>462.168769</td>\n",
       "      <td>40.321809</td>\n",
       "    </tr>\n",
       "    <tr>\n",
       "      <th>3</th>\n",
       "      <td>1264.523766</td>\n",
       "      <td>358.806769</td>\n",
       "      <td>37.284580</td>\n",
       "      <td>523.286864</td>\n",
       "      <td>42.528929</td>\n",
       "    </tr>\n",
       "    <tr>\n",
       "      <th>4</th>\n",
       "      <td>1235.772468</td>\n",
       "      <td>299.160486</td>\n",
       "      <td>35.801542</td>\n",
       "      <td>403.642787</td>\n",
       "      <td>59.828349</td>\n",
       "    </tr>\n",
       "  </tbody>\n",
       "</table>\n",
       "</div>"
      ],
      "text/plain": [
       "            dr          dw     fridge        hvac         mw\n",
       "0  1196.672115  328.678510  34.257107  382.245507  54.908629\n",
       "1  1212.302904  377.381632  40.610597  511.111714  48.244586\n",
       "2  1197.009230  365.774494  31.512746  462.168769  40.321809\n",
       "3  1264.523766  358.806769  37.284580  523.286864  42.528929\n",
       "4  1235.772468  299.160486  35.801542  403.642787  59.828349"
      ]
     },
     "execution_count": 30,
     "metadata": {},
     "output_type": "execute_result"
    }
   ],
   "source": [
    "pd.DataFrame(calculate_error(rnn_tree_pred, test_gt, threshold)[0])"
   ]
  },
  {
   "cell_type": "markdown",
   "metadata": {},
   "source": [
    "## Individual CNN and TreeCNN"
   ]
  },
  {
   "cell_type": "code",
   "execution_count": 51,
   "metadata": {
    "collapsed": true
   },
   "outputs": [],
   "source": [
    "dataset = 3"
   ]
  },
  {
   "cell_type": "code",
   "execution_count": 52,
   "metadata": {},
   "outputs": [
    {
     "name": "stdout",
     "output_type": "stream",
     "text": [
      "0\n"
     ]
    }
   ],
   "source": [
    "cnn_individual_valid_pred = {}\n",
    "gid = 0\n",
    "c = 0\n",
    "for fold_num in range(5):\n",
    "    cnn_individual_valid_pred[fold_num] = {}\n",
    "    for appliance in ['hvac', 'fridge', 'dr', 'dw', 'mw']:\n",
    "        cnn_individual_valid_pred[fold_num][appliance] = {}\n",
    "        for lr in [0.001, 0.01, 0.1]:\n",
    "            cnn_individual_valid_pred[fold_num][appliance][lr] = {}\n",
    "            for iters in [200000]:\n",
    "            \n",
    "                directory = \"../code/baseline/cnn-tree/{}/{}/{}/{}/0.0/\".format(dataset, fold_num, lr, iters)\n",
    "                filename = \"valid-pred-[\\'{}\\'].npy\".format(appliance)\n",
    "                \n",
    "                full_path = directory + filename\n",
    "                my_file = Path(full_path)\n",
    "                if not my_file.exists():\n",
    "                    print(\"CUDA_VISIBLE_DEVICES={} python cnn-tree.py {} {} {} 0 {} {} &\".format(gid, dataset, lr, iters, fold_num, appliance))\n",
    "                    gid += 1\n",
    "                    if gid == 4:\n",
    "                        gid = 0\n",
    "                    c += 1\n",
    "                else:\n",
    "#                     continue\n",
    "                    k = np.load(full_path).item()\n",
    "                    for it in range(1000, 200000+1, 1000):\n",
    "                        cnn_individual_valid_pred[fold_num][appliance][lr][it] = k[it][0]\n",
    "print(c)"
   ]
  },
  {
   "cell_type": "code",
   "execution_count": 53,
   "metadata": {
    "collapsed": true
   },
   "outputs": [],
   "source": [
    "np.save(\"../code/baseline/cnn_individual_valid_pred_3.npy\", cnn_individual_valid_pred)"
   ]
  },
  {
   "cell_type": "code",
   "execution_count": 32,
   "metadata": {
    "collapsed": true
   },
   "outputs": [],
   "source": [
    "# cnn_individual_best_param = {}\n",
    "# for fold_num in range(5):\n",
    "#     cnn_individual_best_param[fold_num] = {}\n",
    "#     for appliance in ['hvac', 'fridge']:\n",
    "#         cnn_individual_best_param[fold_num][appliance] = {}\n",
    "#         min_error = np.inf\n",
    "#         for lr in [0.001, 0.01, 0.1]:\n",
    "#             for it in range(1000, 200000+1, 1000):\n",
    "#                 error = mean_absolute_error(cnn_individual_valid_pred[fold_num][appliance][lr][it].reshape(-1, 24), valid_gt[fold_num][appliance].reshape(-1, 24))\n",
    "#                 if error < min_error:\n",
    "#                     cnn_individual_best_param[fold_num][appliance]['lr'] = lr\n",
    "#                     cnn_individual_best_param[fold_num][appliance]['iters'] = it\n",
    "#                     min_error = error"
   ]
  },
  {
   "cell_type": "code",
   "execution_count": 33,
   "metadata": {},
   "outputs": [
    {
     "name": "stderr",
     "output_type": "stream",
     "text": [
      "/zf14/yj9xs/anaconda3/lib/python3.6/site-packages/ipykernel_launcher.py:7: FutureWarning: comparison to `None` will result in an elementwise object comparison in the future.\n",
      "  import sys\n"
     ]
    }
   ],
   "source": [
    "cnn_individual_best_param = {}\n",
    "\n",
    "for fold_num in range(5):\n",
    "    cnn_individual_best_param[fold_num] = {}\n",
    "\n",
    "    for appliance in ['hvac', 'fridge', 'dr', 'dw', 'mw']:\n",
    "        cnn_individual_best_param[fold_num][appliance] = {}\n",
    "        min_error = np.inf\n",
    "        for lr in [0.001, 0.01, 0.1]:\n",
    "            for it in range(1000, 200000+1, 1000):\n",
    "                error = onoff_error(cnn_individual_valid_pred[fold_num][appliance][lr][it].reshape(-1, 24), valid_gt[fold_num][appliance].reshape(-1, 24), threshold[fold_num][appliance])\n",
    "                if error < min_error:\n",
    "                    cnn_individual_best_param[fold_num][appliance]['lr'] = lr\n",
    "                    cnn_individual_best_param[fold_num][appliance]['iters'] = it\n",
    "                    min_error = error"
   ]
  },
  {
   "cell_type": "code",
   "execution_count": 34,
   "metadata": {
    "collapsed": true
   },
   "outputs": [],
   "source": [
    "np.save(\"../code/baseline/result/cnn-individual-new-param-{}-per-home.npy\".format(dataset), cnn_individual_best_param)"
   ]
  },
  {
   "cell_type": "code",
   "execution_count": 35,
   "metadata": {
    "scrolled": true
   },
   "outputs": [
    {
     "name": "stdout",
     "output_type": "stream",
     "text": [
      "0\n"
     ]
    }
   ],
   "source": [
    "gid = 0\n",
    "srv = 1\n",
    "c = 0\n",
    "cmd = {}\n",
    "cnn_tree_valid_pred = {}\n",
    "num_iterations = 20000\n",
    "lr = 0.01\n",
    "p = 0\n",
    "for fold_num in range(5):\n",
    "    cnn_tree_valid_pred[fold_num] = {}\n",
    "    for lr in [0.01]:\n",
    "        cnn_tree_valid_pred[fold_num][lr] = {}\n",
    "        for order in list(itertools.permutations(['hvac', 'fridge', 'dr', 'dw', 'mw'])):\n",
    "            \n",
    "            if order[0] == 'hvac':\n",
    "                continue\n",
    "            \n",
    "            cnn_tree_valid_pred[fold_num][lr][order] = {}\n",
    "\n",
    "\n",
    "            o = \"\\', \\'\".join(str(x) for x in order)\n",
    "            directory = \"../code/baseline/cnn-tree/{}/{}/{}/20000/0.0/\".format(dataset, fold_num, lr)\n",
    "            filename = \"valid-pred-[\\'{}\\'].npy\".format(o)\n",
    "\n",
    "            full_path = directory + filename\n",
    "            my_file = Path(full_path)\n",
    "            if not my_file.exists():\n",
    "                o = \" \".join(str(x) for x in order)\n",
    "                line = (\"CUDA_VISIBLE_DEVICES={} python cnn-tree.py 3 {} {} 0 {} {} &\".format(gid, lr, num_iterations, fold_num, o))\n",
    "                print(line)\n",
    "\n",
    "                c += 1\n",
    "                if c%1 == 0:\n",
    "                    gid+=1\n",
    "                if gid == 4:\n",
    "                    gid = 0\n",
    "                    srv += 1\n",
    "            else:\n",
    "                k = np.load(full_path).item()\n",
    "                for it in range(1000, 20001, 1000):\n",
    "                    cnn_tree_valid_pred[fold_num][lr][order][it] = {}\n",
    "                    for idx, appliance in enumerate(order):\n",
    "                        cnn_tree_valid_pred[fold_num][lr][order][it][appliance] = k[it][idx]\n",
    "\n",
    "print(c)                               "
   ]
  },
  {
   "cell_type": "code",
   "execution_count": 36,
   "metadata": {},
   "outputs": [
    {
     "name": "stderr",
     "output_type": "stream",
     "text": [
      "/zf14/yj9xs/anaconda3/lib/python3.6/site-packages/ipykernel_launcher.py:7: FutureWarning: comparison to `None` will result in an elementwise object comparison in the future.\n",
      "  import sys\n"
     ]
    }
   ],
   "source": [
    "cnn_tree_best_param = {}\n",
    "for fold_num in range(5):\n",
    "    cnn_tree_best_param[fold_num] = {}\n",
    "    min_error = np.inf\n",
    "    for lr in [0.01]:\n",
    "        for order in list(itertools.permutations(['hvac', 'fridge', 'dr', 'dw', 'mw'])):\n",
    "            if order[0] == 'hvac':\n",
    "                continue\n",
    "            for it in range(1000, 20001, 1000):\n",
    "                error = 0\n",
    "                for idx, appliance in enumerate(order):\n",
    "#                     if appliance in ['hvac', 'fridge']:\n",
    "#                         error += mean_absolute_error(cnn_tree_valid_pred[fold_num][lr][order][it][appliance].reshape(-1, 24),\n",
    "#                                                     valid_gt[fold_num][appliance].reshape(-1, 24))\n",
    "#                     else:\n",
    "                    error += onoff_error(cnn_tree_valid_pred[fold_num][lr][order][it][appliance].reshape(-1, 24),\n",
    "                                                valid_gt[fold_num][appliance].reshape(-1, 24), threshold[fold_num][appliance])\n",
    "                if error < min_error:\n",
    "                    min_error = error\n",
    "                    cnn_tree_best_param[fold_num]['lr'] = lr\n",
    "                    cnn_tree_best_param[fold_num]['order'] = order\n",
    "                    cnn_tree_best_param[fold_num]['iters'] = it\n",
    "                \n",
    "                    "
   ]
  },
  {
   "cell_type": "code",
   "execution_count": 37,
   "metadata": {
    "collapsed": true
   },
   "outputs": [],
   "source": [
    "np.save(\"../code/baseline/result/cnn-tree-new-param-{}-per-home.npy\".format(dataset), cnn_tree_best_param)"
   ]
  },
  {
   "cell_type": "code",
   "execution_count": 43,
   "metadata": {
    "collapsed": true
   },
   "outputs": [],
   "source": [
    "# load the best for cnn model\n",
    "dataset = 3\n",
    "best_cnn_individual = np.load(\"../code/baseline/result/cnn-individual-new-param-{}-per-home.npy\".format(dataset)).item()\n",
    "best_cnn_tree = np.load(\"../code/baseline/result/cnn-tree-new-param-{}-per-home.npy\".format(dataset)).item()"
   ]
  },
  {
   "cell_type": "code",
   "execution_count": 44,
   "metadata": {
    "collapsed": true
   },
   "outputs": [],
   "source": [
    "# get prediction for cnn individual\n",
    "cnn_individual_pred = {}\n",
    "for fold_num in range(5):\n",
    "    cnn_individual_pred[fold_num] = {}\n",
    "    for appliance in ['hvac', 'fridge', 'dr', 'dw', 'mw']:\n",
    "        \n",
    "        lr = best_cnn_individual[fold_num][appliance]['lr']\n",
    "        iters = best_cnn_individual[fold_num][appliance]['iters']\n",
    "\n",
    "        directory = \"../code/baseline/cnn-tree/{}/{}/{}/200000/0.0/\".format(dataset, fold_num,lr)\n",
    "        filename = \"test-pred-[\\'{}\\'].npy\".format(appliance)\n",
    "\n",
    "        full_path = directory + filename\n",
    "        cnn_individual_pred[fold_num][appliance] = np.asarray(np.load(full_path).item()[iters]).reshape(-1, 1, 112, 24)"
   ]
  },
  {
   "cell_type": "code",
   "execution_count": 45,
   "metadata": {
    "collapsed": true
   },
   "outputs": [],
   "source": [
    "# get prediction for cnn tree\n",
    "cnn_tree_pred = {}\n",
    "for fold_num in range(5):\n",
    "    cnn_tree_pred[fold_num] = {}\n",
    "        \n",
    "    lr = best_cnn_tree[fold_num]['lr']\n",
    "    iters = best_cnn_tree[fold_num]['iters']\n",
    "    order = best_cnn_tree[fold_num]['order']\n",
    "\n",
    "    o = \"\\', \\'\".join(str(x) for x in order)\n",
    "    directory = \"../code/baseline/cnn-tree/{}/{}/{}/20000/0.0/\".format(dataset, fold_num,lr)\n",
    "    filename = \"test-pred-[\\'{}\\'].npy\".format(o)\n",
    "\n",
    "    full_path = directory + filename\n",
    "    cnn_pred = np.asarray(np.load(full_path).item()[iters])\n",
    "    \n",
    "    for idx, appliance in enumerate(order):\n",
    "        cnn_tree_pred[fold_num][appliance] = cnn_pred[idx].reshape(-1, 1, 112,24)\n",
    "    "
   ]
  },
  {
   "cell_type": "code",
   "execution_count": 46,
   "metadata": {},
   "outputs": [
    {
     "name": "stderr",
     "output_type": "stream",
     "text": [
      "/zf14/yj9xs/anaconda3/lib/python3.6/site-packages/ipykernel_launcher.py:7: FutureWarning: comparison to `None` will result in an elementwise object comparison in the future.\n",
      "  import sys\n"
     ]
    }
   ],
   "source": [
    "new_error = {}\n",
    "new_error['Individual RNN'] = calculate_error(rnn_individual_pred, test_gt, threshold)[1]\n",
    "new_error['Tree RNN'] = calculate_error(rnn_tree_pred, test_gt, threshold)[1]\n",
    "new_error['Individual CNN'] = calculate_error(cnn_individual_pred, test_gt, threshold)[1]\n",
    "new_error['Tree CNN'] = calculate_error(cnn_tree_pred, test_gt, threshold)[1]"
   ]
  },
  {
   "cell_type": "code",
   "execution_count": 47,
   "metadata": {},
   "outputs": [
    {
     "data": {
      "text/html": [
       "<div>\n",
       "<style scoped>\n",
       "    .dataframe tbody tr th:only-of-type {\n",
       "        vertical-align: middle;\n",
       "    }\n",
       "\n",
       "    .dataframe tbody tr th {\n",
       "        vertical-align: top;\n",
       "    }\n",
       "\n",
       "    .dataframe thead th {\n",
       "        text-align: right;\n",
       "    }\n",
       "</style>\n",
       "<table border=\"1\" class=\"dataframe\">\n",
       "  <thead>\n",
       "    <tr style=\"text-align: right;\">\n",
       "      <th></th>\n",
       "      <th>Individual CNN</th>\n",
       "      <th>Individual RNN</th>\n",
       "      <th>Tree CNN</th>\n",
       "      <th>Tree RNN</th>\n",
       "    </tr>\n",
       "  </thead>\n",
       "  <tbody>\n",
       "    <tr>\n",
       "      <th>dr</th>\n",
       "      <td>1030.008292</td>\n",
       "      <td>1219.971131</td>\n",
       "      <td>909.256618</td>\n",
       "      <td>1220.406332</td>\n",
       "    </tr>\n",
       "    <tr>\n",
       "      <th>dw</th>\n",
       "      <td>337.914037</td>\n",
       "      <td>346.419830</td>\n",
       "      <td>333.676081</td>\n",
       "      <td>346.459694</td>\n",
       "    </tr>\n",
       "    <tr>\n",
       "      <th>fridge</th>\n",
       "      <td>37.347658</td>\n",
       "      <td>36.292503</td>\n",
       "      <td>39.160847</td>\n",
       "      <td>35.874204</td>\n",
       "    </tr>\n",
       "    <tr>\n",
       "      <th>hvac</th>\n",
       "      <td>408.062568</td>\n",
       "      <td>458.864477</td>\n",
       "      <td>409.262905</td>\n",
       "      <td>456.286019</td>\n",
       "    </tr>\n",
       "    <tr>\n",
       "      <th>mw</th>\n",
       "      <td>40.917312</td>\n",
       "      <td>49.438639</td>\n",
       "      <td>40.151385</td>\n",
       "      <td>49.107279</td>\n",
       "    </tr>\n",
       "  </tbody>\n",
       "</table>\n",
       "</div>"
      ],
      "text/plain": [
       "        Individual CNN  Individual RNN    Tree CNN     Tree RNN\n",
       "dr         1030.008292     1219.971131  909.256618  1220.406332\n",
       "dw          337.914037      346.419830  333.676081   346.459694\n",
       "fridge       37.347658       36.292503   39.160847    35.874204\n",
       "hvac        408.062568      458.864477  409.262905   456.286019\n",
       "mw           40.917312       49.438639   40.151385    49.107279"
      ]
     },
     "execution_count": 47,
     "metadata": {},
     "output_type": "execute_result"
    }
   ],
   "source": [
    "pd.DataFrame(new_error)"
   ]
  },
  {
   "cell_type": "code",
   "execution_count": 178,
   "metadata": {},
   "outputs": [
    {
     "data": {
      "text/html": [
       "<div>\n",
       "<style scoped>\n",
       "    .dataframe tbody tr th:only-of-type {\n",
       "        vertical-align: middle;\n",
       "    }\n",
       "\n",
       "    .dataframe tbody tr th {\n",
       "        vertical-align: top;\n",
       "    }\n",
       "\n",
       "    .dataframe thead th {\n",
       "        text-align: right;\n",
       "    }\n",
       "</style>\n",
       "<table border=\"1\" class=\"dataframe\">\n",
       "  <thead>\n",
       "    <tr style=\"text-align: right;\">\n",
       "      <th></th>\n",
       "      <th>dr</th>\n",
       "      <th>dw</th>\n",
       "      <th>fridge</th>\n",
       "      <th>hvac</th>\n",
       "      <th>mw</th>\n",
       "    </tr>\n",
       "  </thead>\n",
       "  <tbody>\n",
       "    <tr>\n",
       "      <th>0</th>\n",
       "      <td>310.504847</td>\n",
       "      <td>96.143893</td>\n",
       "      <td>31.031232</td>\n",
       "      <td>180.355370</td>\n",
       "      <td>10.083670</td>\n",
       "    </tr>\n",
       "    <tr>\n",
       "      <th>1</th>\n",
       "      <td>523.179778</td>\n",
       "      <td>248.991752</td>\n",
       "      <td>36.696303</td>\n",
       "      <td>138.862061</td>\n",
       "      <td>13.908121</td>\n",
       "    </tr>\n",
       "    <tr>\n",
       "      <th>2</th>\n",
       "      <td>533.766609</td>\n",
       "      <td>288.867558</td>\n",
       "      <td>35.966973</td>\n",
       "      <td>147.254607</td>\n",
       "      <td>8.970281</td>\n",
       "    </tr>\n",
       "    <tr>\n",
       "      <th>3</th>\n",
       "      <td>231.743222</td>\n",
       "      <td>157.640404</td>\n",
       "      <td>35.664400</td>\n",
       "      <td>181.893883</td>\n",
       "      <td>7.568580</td>\n",
       "    </tr>\n",
       "    <tr>\n",
       "      <th>4</th>\n",
       "      <td>281.008578</td>\n",
       "      <td>104.027361</td>\n",
       "      <td>35.186277</td>\n",
       "      <td>170.603921</td>\n",
       "      <td>17.477861</td>\n",
       "    </tr>\n",
       "  </tbody>\n",
       "</table>\n",
       "</div>"
      ],
      "text/plain": [
       "           dr          dw     fridge        hvac         mw\n",
       "0  310.504847   96.143893  31.031232  180.355370  10.083670\n",
       "1  523.179778  248.991752  36.696303  138.862061  13.908121\n",
       "2  533.766609  288.867558  35.966973  147.254607   8.970281\n",
       "3  231.743222  157.640404  35.664400  181.893883   7.568580\n",
       "4  281.008578  104.027361  35.186277  170.603921  17.477861"
      ]
     },
     "execution_count": 178,
     "metadata": {},
     "output_type": "execute_result"
    }
   ],
   "source": [
    "pd.DataFrame(calculate_error(cnn_tree_pred, test_gt, threshold)[0])"
   ]
  },
  {
   "cell_type": "code",
   "execution_count": 124,
   "metadata": {},
   "outputs": [
    {
     "data": {
      "text/plain": [
       "dr        1195.133984\n",
       "dw         345.890323\n",
       "fridge      27.901909\n",
       "hvac       130.851865\n",
       "mw          52.699242\n",
       "dtype: float64"
      ]
     },
     "execution_count": 124,
     "metadata": {},
     "output_type": "execute_result"
    }
   ],
   "source": [
    "pd.Series(calculate_error(rnn_individual_pred, test_gt, threshold)[1])"
   ]
  },
  {
   "cell_type": "code",
   "execution_count": 125,
   "metadata": {},
   "outputs": [
    {
     "data": {
      "text/html": [
       "<div>\n",
       "<style scoped>\n",
       "    .dataframe tbody tr th:only-of-type {\n",
       "        vertical-align: middle;\n",
       "    }\n",
       "\n",
       "    .dataframe tbody tr th {\n",
       "        vertical-align: top;\n",
       "    }\n",
       "\n",
       "    .dataframe thead th {\n",
       "        text-align: right;\n",
       "    }\n",
       "</style>\n",
       "<table border=\"1\" class=\"dataframe\">\n",
       "  <thead>\n",
       "    <tr style=\"text-align: right;\">\n",
       "      <th></th>\n",
       "      <th>dr</th>\n",
       "      <th>dw</th>\n",
       "      <th>fridge</th>\n",
       "      <th>hvac</th>\n",
       "      <th>mw</th>\n",
       "    </tr>\n",
       "  </thead>\n",
       "  <tbody>\n",
       "    <tr>\n",
       "      <th>0</th>\n",
       "      <td>1113.821826</td>\n",
       "      <td>344.085752</td>\n",
       "      <td>32.386288</td>\n",
       "      <td>90.562519</td>\n",
       "      <td>34.026531</td>\n",
       "    </tr>\n",
       "    <tr>\n",
       "      <th>1</th>\n",
       "      <td>835.608889</td>\n",
       "      <td>352.366163</td>\n",
       "      <td>30.798445</td>\n",
       "      <td>109.945964</td>\n",
       "      <td>34.165309</td>\n",
       "    </tr>\n",
       "    <tr>\n",
       "      <th>2</th>\n",
       "      <td>967.544036</td>\n",
       "      <td>361.354331</td>\n",
       "      <td>25.768721</td>\n",
       "      <td>101.670040</td>\n",
       "      <td>29.484331</td>\n",
       "    </tr>\n",
       "    <tr>\n",
       "      <th>3</th>\n",
       "      <td>953.552660</td>\n",
       "      <td>369.728983</td>\n",
       "      <td>28.358526</td>\n",
       "      <td>131.728544</td>\n",
       "      <td>28.449334</td>\n",
       "    </tr>\n",
       "    <tr>\n",
       "      <th>4</th>\n",
       "      <td>862.044121</td>\n",
       "      <td>300.189794</td>\n",
       "      <td>28.586311</td>\n",
       "      <td>99.395924</td>\n",
       "      <td>69.898952</td>\n",
       "    </tr>\n",
       "  </tbody>\n",
       "</table>\n",
       "</div>"
      ],
      "text/plain": [
       "            dr          dw     fridge        hvac         mw\n",
       "0  1113.821826  344.085752  32.386288   90.562519  34.026531\n",
       "1   835.608889  352.366163  30.798445  109.945964  34.165309\n",
       "2   967.544036  361.354331  25.768721  101.670040  29.484331\n",
       "3   953.552660  369.728983  28.358526  131.728544  28.449334\n",
       "4   862.044121  300.189794  28.586311   99.395924  69.898952"
      ]
     },
     "execution_count": 125,
     "metadata": {},
     "output_type": "execute_result"
    }
   ],
   "source": [
    "pd.DataFrame(calculate_error(rnn_tree_pred, test_gt, threshold)[0])"
   ]
  },
  {
   "cell_type": "code",
   "execution_count": 126,
   "metadata": {},
   "outputs": [
    {
     "data": {
      "text/html": [
       "<div>\n",
       "<style scoped>\n",
       "    .dataframe tbody tr th:only-of-type {\n",
       "        vertical-align: middle;\n",
       "    }\n",
       "\n",
       "    .dataframe tbody tr th {\n",
       "        vertical-align: top;\n",
       "    }\n",
       "\n",
       "    .dataframe thead th {\n",
       "        text-align: right;\n",
       "    }\n",
       "</style>\n",
       "<table border=\"1\" class=\"dataframe\">\n",
       "  <thead>\n",
       "    <tr style=\"text-align: right;\">\n",
       "      <th></th>\n",
       "      <th>dr</th>\n",
       "      <th>dw</th>\n",
       "      <th>fridge</th>\n",
       "      <th>hvac</th>\n",
       "      <th>mw</th>\n",
       "    </tr>\n",
       "  </thead>\n",
       "  <tbody>\n",
       "    <tr>\n",
       "      <th>0</th>\n",
       "      <td>418.190039</td>\n",
       "      <td>339.861556</td>\n",
       "      <td>28.517904</td>\n",
       "      <td>175.616321</td>\n",
       "      <td>35.287017</td>\n",
       "    </tr>\n",
       "    <tr>\n",
       "      <th>1</th>\n",
       "      <td>582.483109</td>\n",
       "      <td>336.303458</td>\n",
       "      <td>34.600568</td>\n",
       "      <td>135.859949</td>\n",
       "      <td>40.802098</td>\n",
       "    </tr>\n",
       "    <tr>\n",
       "      <th>2</th>\n",
       "      <td>635.744956</td>\n",
       "      <td>355.839423</td>\n",
       "      <td>27.424491</td>\n",
       "      <td>160.653717</td>\n",
       "      <td>31.898192</td>\n",
       "    </tr>\n",
       "    <tr>\n",
       "      <th>3</th>\n",
       "      <td>558.069406</td>\n",
       "      <td>339.532500</td>\n",
       "      <td>32.630367</td>\n",
       "      <td>163.393771</td>\n",
       "      <td>34.496536</td>\n",
       "    </tr>\n",
       "    <tr>\n",
       "      <th>4</th>\n",
       "      <td>532.558061</td>\n",
       "      <td>276.159278</td>\n",
       "      <td>30.406227</td>\n",
       "      <td>151.497976</td>\n",
       "      <td>53.638239</td>\n",
       "    </tr>\n",
       "  </tbody>\n",
       "</table>\n",
       "</div>"
      ],
      "text/plain": [
       "           dr          dw     fridge        hvac         mw\n",
       "0  418.190039  339.861556  28.517904  175.616321  35.287017\n",
       "1  582.483109  336.303458  34.600568  135.859949  40.802098\n",
       "2  635.744956  355.839423  27.424491  160.653717  31.898192\n",
       "3  558.069406  339.532500  32.630367  163.393771  34.496536\n",
       "4  532.558061  276.159278  30.406227  151.497976  53.638239"
      ]
     },
     "execution_count": 126,
     "metadata": {},
     "output_type": "execute_result"
    }
   ],
   "source": [
    "pd.DataFrame(calculate_error(cnn_individual_pred, test_gt, threshold)[0])"
   ]
  },
  {
   "cell_type": "code",
   "execution_count": 127,
   "metadata": {},
   "outputs": [
    {
     "data": {
      "text/html": [
       "<div>\n",
       "<style scoped>\n",
       "    .dataframe tbody tr th:only-of-type {\n",
       "        vertical-align: middle;\n",
       "    }\n",
       "\n",
       "    .dataframe tbody tr th {\n",
       "        vertical-align: top;\n",
       "    }\n",
       "\n",
       "    .dataframe thead th {\n",
       "        text-align: right;\n",
       "    }\n",
       "</style>\n",
       "<table border=\"1\" class=\"dataframe\">\n",
       "  <thead>\n",
       "    <tr style=\"text-align: right;\">\n",
       "      <th></th>\n",
       "      <th>dr</th>\n",
       "      <th>dw</th>\n",
       "      <th>fridge</th>\n",
       "      <th>hvac</th>\n",
       "      <th>mw</th>\n",
       "    </tr>\n",
       "  </thead>\n",
       "  <tbody>\n",
       "    <tr>\n",
       "      <th>0</th>\n",
       "      <td>380.361517</td>\n",
       "      <td>221.357761</td>\n",
       "      <td>40.789443</td>\n",
       "      <td>183.317879</td>\n",
       "      <td>32.954544</td>\n",
       "    </tr>\n",
       "    <tr>\n",
       "      <th>1</th>\n",
       "      <td>654.570013</td>\n",
       "      <td>308.036766</td>\n",
       "      <td>36.696303</td>\n",
       "      <td>138.862061</td>\n",
       "      <td>38.031077</td>\n",
       "    </tr>\n",
       "    <tr>\n",
       "      <th>2</th>\n",
       "      <td>832.800544</td>\n",
       "      <td>348.930867</td>\n",
       "      <td>35.966973</td>\n",
       "      <td>147.254607</td>\n",
       "      <td>29.218336</td>\n",
       "    </tr>\n",
       "    <tr>\n",
       "      <th>3</th>\n",
       "      <td>396.865739</td>\n",
       "      <td>338.646366</td>\n",
       "      <td>45.409241</td>\n",
       "      <td>176.136952</td>\n",
       "      <td>34.278379</td>\n",
       "    </tr>\n",
       "    <tr>\n",
       "      <th>4</th>\n",
       "      <td>337.580422</td>\n",
       "      <td>191.665894</td>\n",
       "      <td>39.705588</td>\n",
       "      <td>171.053769</td>\n",
       "      <td>57.125152</td>\n",
       "    </tr>\n",
       "  </tbody>\n",
       "</table>\n",
       "</div>"
      ],
      "text/plain": [
       "           dr          dw     fridge        hvac         mw\n",
       "0  380.361517  221.357761  40.789443  183.317879  32.954544\n",
       "1  654.570013  308.036766  36.696303  138.862061  38.031077\n",
       "2  832.800544  348.930867  35.966973  147.254607  29.218336\n",
       "3  396.865739  338.646366  45.409241  176.136952  34.278379\n",
       "4  337.580422  191.665894  39.705588  171.053769  57.125152"
      ]
     },
     "execution_count": 127,
     "metadata": {},
     "output_type": "execute_result"
    }
   ],
   "source": [
    "pd.DataFrame(calculate_error(cnn_tree_pred, test_gt, threshold)[0])"
   ]
  }
 ],
 "metadata": {
  "kernelspec": {
   "display_name": "Python 3",
   "language": "python",
   "name": "python3"
  },
  "language_info": {
   "codemirror_mode": {
    "name": "ipython",
    "version": 3
   },
   "file_extension": ".py",
   "mimetype": "text/x-python",
   "name": "python",
   "nbconvert_exporter": "python",
   "pygments_lexer": "ipython3",
   "version": "3.6.3"
  }
 },
 "nbformat": 4,
 "nbformat_minor": 2
}
