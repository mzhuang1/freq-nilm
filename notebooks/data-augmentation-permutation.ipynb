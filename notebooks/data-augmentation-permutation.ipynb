{
 "cells": [
  {
   "cell_type": "code",
   "execution_count": 1,
   "metadata": {
    "collapsed": true
   },
   "outputs": [],
   "source": [
    "import torch\n",
    "from torch.autograd import Variable\n",
    "import numpy as np\n",
    "import torch.nn as nn\n",
    "from torchvision import datasets,transforms\n",
    "import torch.nn.functional as F\n",
    "import sys\n",
    "sys.path.append(\"../code/\")\n",
    "from dataloader import APPLIANCE_ORDER, get_train_test, ON_THRESHOLD\n",
    "from sklearn.metrics import mean_absolute_error\n",
    "import os\n",
    "import pandas as pd\n",
    "import sys\n",
    "import numpy as np\n",
    "import matplotlib.pyplot as plt\n",
    "sys.path.append('../code/')\n",
    "%matplotlib inline\n",
    "import itertools\n",
    "from pathlib import Path"
   ]
  },
  {
   "cell_type": "code",
   "execution_count": 3,
   "metadata": {
    "collapsed": true
   },
   "outputs": [],
   "source": [
    "dataset = 5\n",
    "num_folds = 5\n",
    "fold_num = 0"
   ]
  },
  {
   "cell_type": "code",
   "execution_count": 4,
   "metadata": {
    "collapsed": true
   },
   "outputs": [],
   "source": [
    "train, test = get_train_test(dataset, num_folds=num_folds, fold_num=fold_num)\n",
    "valid = train[int(0.8*len(train)):].copy()\n",
    "train = train[:int(0.8 * len(train))].copy()\n",
    "train_aggregate = train[:, 0, :, :].reshape(train.shape[0], 1, -1, 24)\n",
    "valid_aggregate = valid[:, 0, :, :].reshape(valid.shape[0], 1, -1, 24)\n",
    "test_aggregate = test[:, 0, :, :].reshape(test.shape[0], 1, -1, 24)"
   ]
  },
  {
   "cell_type": "code",
   "execution_count": 50,
   "metadata": {
    "collapsed": true
   },
   "outputs": [],
   "source": [
    "def create_fake_homes(train, num_homes, num_appliance):\n",
    "    fake_home = np.zeros((num_homes, 7, 112, 24))\n",
    "    homd_id = np.random.choice(14, num_homes, False)\n",
    "    \n",
    "    for i in range(num_homes):\n",
    "        fake_home[i] = train[home_id[i]]\n",
    "        app_id = np.random.choice([1, 2, 3 ,4, 5], num_appliance, False)\n",
    "        for j in range(num_appliance):\n",
    "            permu = np.random.permutation(range(8))\n",
    "            for k in range(8):\n",
    "                fake_home[i][app_id[j]][k*14:(k+1)*14] = train[home_id[i]][app_id[j]][d[k]*14:(d[k]+1)*14]\n",
    "    return fake_home"
   ]
  },
  {
   "cell_type": "code",
   "execution_count": 51,
   "metadata": {
    "collapsed": true
   },
   "outputs": [],
   "source": [
    "fake_home = create_fake_homes(train, 5, 3)"
   ]
  },
  {
   "cell_type": "code",
   "execution_count": 52,
   "metadata": {},
   "outputs": [
    {
     "data": {
      "text/plain": [
       "(5, 7, 112, 24)"
      ]
     },
     "execution_count": 52,
     "metadata": {},
     "output_type": "execute_result"
    }
   ],
   "source": [
    "fake_home.shape"
   ]
  },
  {
   "cell_type": "code",
   "execution_count": 56,
   "metadata": {},
   "outputs": [
    {
     "data": {
      "text/plain": [
       "(48, 7, 112, 24)"
      ]
     },
     "execution_count": 56,
     "metadata": {},
     "output_type": "execute_result"
    }
   ],
   "source": [
    "np.vstack((train, fake_home)).shape"
   ]
  }
 ],
 "metadata": {
  "kernelspec": {
   "display_name": "Python 3",
   "language": "python",
   "name": "python3"
  },
  "language_info": {
   "codemirror_mode": {
    "name": "ipython",
    "version": 2
   },
   "file_extension": ".py",
   "mimetype": "text/x-python",
   "name": "python",
   "nbconvert_exporter": "python",
   "pygments_lexer": "ipython2",
   "version": "2.7.13"
  }
 },
 "nbformat": 4,
 "nbformat_minor": 2
}
