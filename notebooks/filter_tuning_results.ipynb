{
 "cells": [
  {
   "cell_type": "code",
   "execution_count": 51,
   "metadata": {},
   "outputs": [],
   "source": [
    "import numpy as np\n",
    "from pathlib import Path\n",
    "import pandas as pd"
   ]
  },
  {
   "cell_type": "code",
   "execution_count": 20,
   "metadata": {},
   "outputs": [],
   "source": [
    "best_order = {}\n",
    "for i in [3, 7, 8]:\n",
    "    best_order[i] = ('fridge', 'hvac', 'dw', 'dr', 'mw')\n",
    "best_order[12] = ('dw', 'hvac', 'fridge', 'dr', 'mw')"
   ]
  },
  {
   "cell_type": "code",
   "execution_count": 16,
   "metadata": {},
   "outputs": [
    {
     "data": {
      "text/plain": [
       "\"fridge', 'hvac', 'dw', 'dr', 'mw\""
      ]
     },
     "execution_count": 16,
     "metadata": {},
     "output_type": "execute_result"
    }
   ],
   "source": [
    "o = \"\\', \\'\".join(str(x) for x in best_order[mode])\n",
    "o"
   ]
  },
  {
   "cell_type": "code",
   "execution_count": 34,
   "metadata": {},
   "outputs": [],
   "source": [
    "test_error = {}\n",
    "dataset = 1\n",
    "for mode in [3, 7, 8, 12]:\n",
    "    test_error[mode] = {}\n",
    "    for fold_num in range(5):\n",
    "        test_error[mode][fold_num] = {}\n",
    "        for lr in [0.001, 0.01, 0.1, 1.0]:\n",
    "            test_error[mode][fold_num][lr] = {}\n",
    "            \n",
    "            \n",
    "            f_name = '7_{}'.format(mode)\n",
    "            o = \"\\', \\'\".join(str(x) for x in best_order[mode])\n",
    "            directory = \"../code/baseline/cnn-tree/{}/{}/{}/{}/20000/0.0/\".format(f_name, dataset, fold_num, lr)\n",
    "            filename = \"valid-error-[\\'{}\\'].npy\".format(o)\n",
    "            full_path = directory + filename\n",
    "            my_file = Path(full_path)\n",
    "#             print(filename)\n",
    "            e = np.load(full_path).item()\n",
    "            test_error[mode][fold_num][lr]= {}\n",
    "            for iters in range(1000, 20001, 1000):\n",
    "                test_error[mode][fold_num][lr][iters] = pd.Series(e[iters]).mean()"
   ]
  },
  {
   "cell_type": "code",
   "execution_count": 52,
   "metadata": {},
   "outputs": [],
   "source": [
    "# find the best parameter for each mode\n",
    "param = {}\n",
    "for mode in [3, 7, 8, 12]:\n",
    "    param[mode] = {}\n",
    "    for fold_num in range(5):\n",
    "        param[mode][fold_num] = {}\n",
    "        \n",
    "        min_value = np.inf\n",
    "        for lr in [0.001, 0.01, 0.1, 1.0]:\n",
    "            for iters in range(1000, 20001, 1000):\n",
    "                if test_error[mode][fold_num][lr][iters] < min_value:\n",
    "                    min_value = test_error[mode][fold_num][lr][iters]\n",
    "                    param[mode][fold_num]['lr'] = lr\n",
    "                    param[mode][fold_num]['iters'] = iters"
   ]
  },
  {
   "cell_type": "code",
   "execution_count": 54,
   "metadata": {},
   "outputs": [],
   "source": [
    "# get the results\n",
    "best_error = {}\n",
    "for mode in [3, 7, 8, 12]:\n",
    "    best_error[mode] = {}\n",
    "    for fold_num in range(5):\n",
    "        f_name = '7_{}'.format(mode)\n",
    "        lr = param[mode][fold_num]['lr']\n",
    "        o = \"\\', \\'\".join(str(x) for x in best_order[mode])\n",
    "        directory = \"../code/baseline/cnn-tree/{}/{}/{}/{}/20000/0.0/\".format(f_name, dataset, fold_num, lr)\n",
    "        filename = \"test-error-[\\'{}\\'].npy\".format(o)\n",
    "        full_path = directory + filename\n",
    "        my_file = Path(full_path)\n",
    "        e = np.load(full_path).item()\n",
    "        best_error[mode][fold_num] =  pd.Series(e[iters])"
   ]
  },
  {
   "cell_type": "code",
   "execution_count": 67,
   "metadata": {},
   "outputs": [
    {
     "data": {
      "text/plain": [
       "dr         89.563016\n",
       "dw         15.715216\n",
       "fridge     78.855606\n",
       "hvac      216.633688\n",
       "mw          8.860690\n",
       "dtype: float64"
      ]
     },
     "execution_count": 67,
     "metadata": {},
     "output_type": "execute_result"
    }
   ],
   "source": [
    "pd.DataFrame(best_error[8]).mean(axis=1)"
   ]
  },
  {
   "cell_type": "code",
   "execution_count": 68,
   "metadata": {},
   "outputs": [
    {
     "data": {
      "text/plain": [
       "dr         83.784092\n",
       "dw         15.557206\n",
       "fridge     41.177983\n",
       "hvac      157.226817\n",
       "mw          8.372080\n",
       "dtype: float64"
      ]
     },
     "execution_count": 68,
     "metadata": {},
     "output_type": "execute_result"
    }
   ],
   "source": [
    "pd.DataFrame(best_error[7]).mean(axis=1)"
   ]
  },
  {
   "cell_type": "code",
   "execution_count": 69,
   "metadata": {},
   "outputs": [
    {
     "data": {
      "text/plain": [
       "dr         70.206563\n",
       "dw         17.305112\n",
       "fridge     35.450528\n",
       "hvac      196.851761\n",
       "mw          8.676760\n",
       "dtype: float64"
      ]
     },
     "execution_count": 69,
     "metadata": {},
     "output_type": "execute_result"
    }
   ],
   "source": [
    "pd.DataFrame(best_error[12]).mean(axis=1)"
   ]
  },
  {
   "cell_type": "code",
   "execution_count": 70,
   "metadata": {},
   "outputs": [
    {
     "data": {
      "text/plain": [
       "dr         59.744043\n",
       "dw         24.273401\n",
       "fridge     41.917410\n",
       "hvac      182.370569\n",
       "mw         47.127661\n",
       "dtype: float64"
      ]
     },
     "execution_count": 70,
     "metadata": {},
     "output_type": "execute_result"
    }
   ],
   "source": [
    "pd.DataFrame(best_error[3]).mean(axis=1)"
   ]
  }
 ],
 "metadata": {
  "kernelspec": {
   "display_name": "Python [default]",
   "language": "python",
   "name": "python3"
  },
  "language_info": {
   "codemirror_mode": {
    "name": "ipython",
    "version": 3
   },
   "file_extension": ".py",
   "mimetype": "text/x-python",
   "name": "python",
   "nbconvert_exporter": "python",
   "pygments_lexer": "ipython3",
   "version": "3.6.6"
  }
 },
 "nbformat": 4,
 "nbformat_minor": 2
}
