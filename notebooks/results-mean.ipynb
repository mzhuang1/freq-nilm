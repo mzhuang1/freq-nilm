{
 "cells": [
  {
   "cell_type": "code",
   "execution_count": 1,
   "metadata": {
    "collapsed": true
   },
   "outputs": [],
   "source": [
    "import sys\n",
    "import numpy as np\n",
    "import pandas as pd\n",
    "sys.path.append(\"../code/\")"
   ]
  },
  {
   "cell_type": "code",
   "execution_count": 2,
   "metadata": {
    "collapsed": true
   },
   "outputs": [],
   "source": [
    "from dataloader import APPLIANCE_ORDER, get_train_test\n",
    "from ddsc import SparseCoding, reshape_for_sc"
   ]
  },
  {
   "cell_type": "code",
   "execution_count": 3,
   "metadata": {
    "collapsed": true
   },
   "outputs": [],
   "source": [
    "num_folds = 5"
   ]
  },
  {
   "cell_type": "code",
   "execution_count": 5,
   "metadata": {
    "collapsed": true
   },
   "outputs": [],
   "source": [
    "def mean_predictions(dataset):\n",
    "    out = []\n",
    "    for cur_fold in range(5):\n",
    "        train, test = get_train_test(dataset, num_folds=num_folds, fold_num=cur_fold)\n",
    "        pred = np.zeros_like(test[:, 1:, :, :])\n",
    "        print(pred.shape)\n",
    "        \n",
    "        for appliance in range(test.shape[1]-1):\n",
    "            for day in range(test.shape[2]):\n",
    "                pred[:, appliance, day, :] = train[:, appliance+1, day, :].mean(axis=0)\n",
    "        print(pred[0, 1, 0, 20])\n",
    "        out.append(pred)\n",
    "    return np.concatenate(out)\n"
   ]
  },
  {
   "cell_type": "code",
   "execution_count": 24,
   "metadata": {},
   "outputs": [
    {
     "name": "stdout",
     "output_type": "stream",
     "text": [
      "(14, 5, 112, 24)\n",
      "98.77932131731951\n",
      "(14, 5, 112, 24)\n",
      "100.11327157197175\n",
      "(14, 5, 112, 24)\n",
      "94.51203770107693\n",
      "(13, 5, 112, 24)\n",
      "95.58969712690873\n",
      "(13, 5, 112, 24)\n",
      "102.55484854958274\n"
     ]
    }
   ],
   "source": [
    "# tensor = np.load('../2015-5appliances.npy')\n",
    "tensor = {}\n",
    "tensor[1] = np.load('../2015-5appliances.numpy.npy')\n",
    "tensor[3] = np.load('../2015-5appliances-subtract-true-agg.npy')\n",
    "from sklearn.metrics import mean_absolute_error\n",
    "\n",
    "dataset = 1\n",
    "err_mean ={}\n",
    "gt = tensor[dataset][:, 1:, :, :]\n",
    "pred = mean_predictions(dataset)\n",
    "# Clamping prediction to aggregate\n",
    "pred = np.minimum(pred, tensor[dataset][:, 0:1, :,:])\n",
    "err_mean = {APPLIANCE_ORDER[i+1]:mean_absolute_error(pred[:, i,:,:].flatten(), \n",
    "                                                                       gt[:, i, :, :].flatten()) for i in range(pred.shape[1])}"
   ]
  },
  {
   "cell_type": "code",
   "execution_count": 26,
   "metadata": {
    "collapsed": true
   },
   "outputs": [],
   "source": [
    "np.save(\"../code/baseline/mean-pred-1.npy\", pred)"
   ]
  },
  {
   "cell_type": "code",
   "execution_count": 25,
   "metadata": {},
   "outputs": [
    {
     "data": {
      "text/plain": [
       "dr        117.771762\n",
       "dw         28.627193\n",
       "fridge     28.091365\n",
       "hvac      316.009448\n",
       "mw         11.219023\n",
       "dtype: float64"
      ]
     },
     "execution_count": 25,
     "metadata": {},
     "output_type": "execute_result"
    }
   ],
   "source": [
    "pd.Series(err_mean)"
   ]
  },
  {
   "cell_type": "code",
   "execution_count": 27,
   "metadata": {
    "collapsed": true
   },
   "outputs": [],
   "source": [
    "active_threshold = {'hvac':230, 'fridge':20, 'dr':250, 'dw':55, 'mw':10}"
   ]
  },
  {
   "cell_type": "code",
   "execution_count": null,
   "metadata": {
    "collapsed": true
   },
   "outputs": [],
   "source": []
  },
  {
   "cell_type": "code",
   "execution_count": 32,
   "metadata": {},
   "outputs": [
    {
     "name": "stdout",
     "output_type": "stream",
     "text": [
      "hvac 391.28006550483127 102.77426772733615\n",
      "fridge 27.359565929657403 60.34629937305342\n",
      "dr 1203.862740561384 61.06450047429224\n",
      "dw 348.7786252402309 15.037175843772241\n",
      "mw 48.86999702530569 6.404008685337049\n"
     ]
    }
   ],
   "source": [
    "for idx, appliance in enumerate(APPLIANCE_ORDER[1:-1]):\n",
    "    abs_error = np.abs(pred[:, idx] - tensor[dataset][:, idx+1])\n",
    "    mask = 1*(tensor[dataset][:, idx+1] > active_threshold[appliance])\n",
    "    active_error = abs_error[mask == 1].mean()\n",
    "    inactive_error = abs_error[mask == 0].mean()\n",
    "    print(appliance, active_error, inactive_error)"
   ]
  }
 ],
 "metadata": {
  "kernelspec": {
   "display_name": "Python 3",
   "language": "python",
   "name": "python3"
  },
  "language_info": {
   "codemirror_mode": {
    "name": "ipython",
    "version": 3
   },
   "file_extension": ".py",
   "mimetype": "text/x-python",
   "name": "python",
   "nbconvert_exporter": "python",
   "pygments_lexer": "ipython3",
   "version": "3.5.2"
  }
 },
 "nbformat": 4,
 "nbformat_minor": 2
}
