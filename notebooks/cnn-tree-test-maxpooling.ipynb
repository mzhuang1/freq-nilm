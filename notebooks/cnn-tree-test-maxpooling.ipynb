{
 "cells": [
  {
   "cell_type": "code",
   "execution_count": 1,
   "metadata": {
    "collapsed": true
   },
   "outputs": [],
   "source": [
    "import torch\n",
    "from torch.autograd import Variable\n",
    "import numpy as np\n",
    "import torch.nn as nn\n",
    "from torchvision import datasets,transforms\n",
    "import torch.nn.functional as F\n",
    "import sys\n",
    "sys.path.append(\"../code/\")\n",
    "from dataloader import APPLIANCE_ORDER, get_train_test"
   ]
  },
  {
   "cell_type": "code",
   "execution_count": 92,
   "metadata": {
    "collapsed": true
   },
   "outputs": [],
   "source": [
    "torch.manual_seed(0)\n",
    "np.random.seed(0)\n",
    "\n",
    "class CustomCNN(nn.Module):\n",
    "    def __init__(self):\n",
    "        super(CustomCNN, self).__init__()\n",
    "        self.conv1 = nn.Conv2d(1, 20, kernel_size=5, stride=1, padding=2)\n",
    "        self.bn1 = nn.BatchNorm2d(20)\n",
    "\n",
    "        self.conv2 = nn.Conv2d(20, 16, kernel_size=3, stride=1, padding=1)\n",
    "        self.bn2 = nn.BatchNorm2d(16)\n",
    "\n",
    "        self.conv3 = nn.Conv2d(16, 64, kernel_size=7, stride=1, padding=3)\n",
    "        self.bn3 = nn.BatchNorm2d(64)\n",
    "\n",
    "        self.conv4 = nn.ConvTranspose2d(64, 16, kernel_size=7, stride=1, padding=3)\n",
    "        self.bn4 = nn.BatchNorm2d(16)\n",
    "\n",
    "        self.conv5 = nn.ConvTranspose2d(16, 6, kernel_size=3, stride=1, padding=1)\n",
    "        self.bn5 = nn.BatchNorm2d(6)\n",
    "\n",
    "        self.conv6 = nn.ConvTranspose2d(6, 1, kernel_size=5, stride=1, padding=2) \n",
    "        \n",
    "        self.maxpool = nn.MaxPool2d(kernel_size=2,return_indices=True)\n",
    "        self.avgpool = nn.AvgPool2d(kernel_size=2)\n",
    "        self.unpool = nn.MaxUnpool2d(2)\n",
    "        \n",
    "        self.act = nn.ReLU()\n",
    "        \n",
    "    # forward method\n",
    "    def forward(self, input):\n",
    "    \n",
    "        pred = self.conv1(input)\n",
    "        pred = self.bn1(self.act(pred))\n",
    "        layer1 = pred.clone()\n",
    "        \n",
    "        pred = self.conv2(pred)\n",
    "        pred = self.bn2(self.act(pred))\n",
    "        layer2 = pred.clone()\n",
    "        \n",
    "        \n",
    "        pred, indices = self.maxpool(pred)\n",
    "        pred = self.unpool(pred, indices)\n",
    "        maxlayer = pred.clone()\n",
    "        \n",
    "        pred = self.conv5(pred)\n",
    "        pred = self.bn5(self.act(pred))\n",
    "        layer5 = pred.clone()\n",
    "        \n",
    "        pred = self.conv6(pred)\n",
    "        \n",
    "        return pred\n",
    "\n",
    "\n"
   ]
  },
  {
   "cell_type": "code",
   "execution_count": 93,
   "metadata": {
    "collapsed": true
   },
   "outputs": [],
   "source": [
    "class AppliancesCNN(nn.Module):\n",
    "    def __init__(self, num_appliance):\n",
    "        super(AppliancesCNN, self).__init__()\n",
    "        self.num_appliance = num_appliance\n",
    "        self.preds = {}\n",
    "        self.order = ORDER\n",
    "        for appliance in range(self.num_appliance):\n",
    "            if cuda_av:\n",
    "                setattr(self, \"Appliance_\" + str(appliance), CustomCNN().cuda())\n",
    "            else:\n",
    "                setattr(self, \"Appliance_\" + str(appliance), CustomCNN())\n",
    "\n",
    "    def forward(self, *args):\n",
    "        agg_current = args[0]\n",
    "        flag = False\n",
    "        if np.random.random() > args[1]:\n",
    "            flag = True\n",
    "        else:\n",
    "            pass\n",
    "        for appliance in range(self.num_appliance):\n",
    "            self.preds[appliance] = getattr(self, \"Appliance_\" + str(appliance))(agg_current)\n",
    "            if flag:\n",
    "                agg_current = agg_current - self.preds[appliance]\n",
    "            else:\n",
    "                agg_current = agg_current - args[2 + appliance]\n",
    "\n",
    "        return torch.cat([self.preds[a] for a in range(self.num_appliance)])"
   ]
  },
  {
   "cell_type": "code",
   "execution_count": 182,
   "metadata": {
    "collapsed": true
   },
   "outputs": [],
   "source": [
    "torch.manual_seed(0)\n",
    "num_folds = 5\n",
    "dataset = 3\n",
    "fold_num = 2\n",
    "lr = 0.1\n",
    "train, test = get_train_test(dataset, num_folds=num_folds, fold_num=fold_num)"
   ]
  },
  {
   "cell_type": "code",
   "execution_count": 183,
   "metadata": {
    "collapsed": true
   },
   "outputs": [],
   "source": [
    "valid = train[int(0.8*len(train)):].copy()\n",
    "train = train[:int(0.8 * len(train))].copy()\n",
    "\n",
    "train_aggregate = train[:, 0, :, :].reshape(train.shape[0], 1, -1, 24)\n",
    "valid_aggregate = valid[:, 0, :, :].reshape(valid.shape[0], 1, -1, 24)\n",
    "test_aggregate = test[:, 0, :, :].reshape(test.shape[0], 1, -1, 24)"
   ]
  },
  {
   "cell_type": "code",
   "execution_count": 184,
   "metadata": {
    "collapsed": true
   },
   "outputs": [],
   "source": [
    "# ORDER = ['hvac', 'dr', 'fridge', 'dw', 'mw']\n",
    "ORDER = ['dr']\n",
    "# ORDER = ['dw', 'mw', 'fridge', 'hvac', 'dr']\n",
    "cuda_av = False\n",
    "if torch.cuda.is_available():\n",
    "    cuda_av = True"
   ]
  },
  {
   "cell_type": "code",
   "execution_count": 185,
   "metadata": {},
   "outputs": [
    {
     "data": {
      "text/plain": [
       "['dr']"
      ]
     },
     "execution_count": 185,
     "metadata": {},
     "output_type": "execute_result"
    }
   ],
   "source": [
    "ORDER"
   ]
  },
  {
   "cell_type": "code",
   "execution_count": 186,
   "metadata": {
    "collapsed": true
   },
   "outputs": [],
   "source": [
    "out_train = [None for temp in range(len(ORDER))]\n",
    "for a_num, appliance in enumerate(ORDER):\n",
    "    out_train[a_num] = Variable(\n",
    "        torch.Tensor(train[:, APPLIANCE_ORDER.index(appliance), :, :].reshape((train.shape[0], 1, -1, 24))))\n",
    "    if cuda_av:\n",
    "        out_train[a_num] = out_train[a_num].cuda()\n",
    "\n",
    "out_valid = [None for temp in range(len(ORDER))]\n",
    "for a_num, appliance in enumerate(ORDER):\n",
    "    out_valid[a_num] = Variable(\n",
    "        torch.Tensor(valid[:, APPLIANCE_ORDER.index(appliance), :, :].reshape((valid.shape[0], 1, -1, 24))))\n",
    "    if cuda_av:\n",
    "        out_valid[a_num] = out_valid[a_num].cuda()\n",
    "        \n",
    "out_test = [None for temp in range(len(ORDER))]\n",
    "for a_num, appliance in enumerate(ORDER):\n",
    "    out_test[a_num] = Variable(\n",
    "        torch.Tensor(test[:, APPLIANCE_ORDER.index(appliance), :, :].reshape((test.shape[0], 1, -1, 24))))\n",
    "    if cuda_av:\n",
    "        out_test[a_num] = out_test[a_num].cuda()"
   ]
  },
  {
   "cell_type": "code",
   "execution_count": 187,
   "metadata": {
    "collapsed": true
   },
   "outputs": [],
   "source": [
    "loss_func = nn.L1Loss()\n",
    "model = AppliancesCNN(len(ORDER))\n",
    "optimizer = torch.optim.Adam(model.parameters(), lr=lr)\n",
    "optimizer = torch.optim.Adam(model.parameters(), lr=lr)\n",
    "\n",
    "if cuda_av:\n",
    "    model = model.cuda()\n",
    "    loss_func = loss_func.cuda()"
   ]
  },
  {
   "cell_type": "code",
   "execution_count": 188,
   "metadata": {
    "collapsed": true
   },
   "outputs": [],
   "source": [
    "inp = Variable(torch.Tensor(train_aggregate).type(torch.FloatTensor),\n",
    "               requires_grad=True)\n",
    "\n",
    "inp = Variable(torch.Tensor(train_aggregate), requires_grad=False)\n",
    "if cuda_av:\n",
    "    inp = inp.cuda()\n",
    "\n",
    "valid_inp = Variable(torch.Tensor(valid_aggregate), requires_grad=False)\n",
    "if cuda_av:\n",
    "    valid_inp = valid_inp.cuda()\n",
    "\n",
    "test_inp = Variable(torch.Tensor(test_aggregate), requires_grad=False)\n",
    "if cuda_av:\n",
    "    test_inp = test_inp.cuda()\n",
    "\n",
    "valid_pred = {}\n",
    "train_pred = {}\n",
    "test_pred = {}\n",
    "test_losses = {}\n",
    "valid_losses = {}"
   ]
  },
  {
   "cell_type": "code",
   "execution_count": 189,
   "metadata": {},
   "outputs": [
    {
     "data": {
      "text/plain": [
       "(11, 1, 112, 24)"
      ]
     },
     "execution_count": 189,
     "metadata": {},
     "output_type": "execute_result"
    }
   ],
   "source": [
    "valid_aggregate.shape"
   ]
  },
  {
   "cell_type": "code",
   "execution_count": 190,
   "metadata": {},
   "outputs": [],
   "source": [
    "valid_out = torch.cat([out_valid[appliance_num] for appliance_num, appliance in enumerate(ORDER)])\n",
    "test_out = torch.cat([out_test[appliance_num] for appliance_num, appliance in enumerate(ORDER)])\n",
    "train_out = torch.cat([out_train[appliance_num] for appliance_num, appliance in enumerate(ORDER)])"
   ]
  },
  {
   "cell_type": "code",
   "execution_count": 191,
   "metadata": {},
   "outputs": [
    {
     "name": "stdout",
     "output_type": "stream",
     "text": [
      "Round: 200 Training Error: 66.61253356933594 Validation Error: 63.02429962158203 Test Error: 71.01471710205078\n",
      "Round: 400 Training Error: 66.62625122070312 Validation Error: 63.06496810913086 Test Error: 71.03795623779297\n",
      "Round: 600 Training Error: 66.62981414794922 Validation Error: 63.07412338256836 Test Error: 71.0433578491211\n",
      "Round: 800 Training Error: 66.62284088134766 Validation Error: 63.05595016479492 Test Error: 71.03147888183594\n",
      "Round: 1000 Training Error: 66.6077651977539 Validation Error: 63.006771087646484 Test Error: 71.01158142089844\n",
      "Round: 1200 Training Error: 66.6402816772461 Validation Error: 63.03800582885742 Test Error: 71.04084014892578\n",
      "Round: 1400 Training Error: 66.61962890625 Validation Error: 63.044620513916016 Test Error: 71.03158569335938\n",
      "Round: 1600 Training Error: 66.65812683105469 Validation Error: 63.055912017822266 Test Error: 71.0630874633789\n",
      "Round: 1800 Training Error: 66.6247787475586 Validation Error: 63.05930709838867 Test Error: 71.04017639160156\n",
      "Round: 2000 Training Error: 66.6114501953125 Validation Error: 63.018959045410156 Test Error: 71.01602172851562\n",
      "Round: 2200 Training Error: 66.67118072509766 Validation Error: 63.06901931762695 Test Error: 71.0736312866211\n",
      "Round: 2400 Training Error: 66.62246704101562 Validation Error: 63.05241775512695 Test Error: 71.03120422363281\n",
      "Round: 2600 Training Error: 66.60969543457031 Validation Error: 63.01304244995117 Test Error: 71.0100326538086\n",
      "Round: 2800 Training Error: 66.61917877197266 Validation Error: 63.04301071166992 Test Error: 71.02572631835938\n",
      "Round: 3000 Training Error: 66.62142181396484 Validation Error: 63.0496711730957 Test Error: 71.02935791015625\n",
      "Round: 3200 Training Error: 66.61172485351562 Validation Error: 63.01992416381836 Test Error: 71.01299285888672\n",
      "Round: 3400 Training Error: 66.6260757446289 Validation Error: 63.0626335144043 Test Error: 71.0374526977539\n",
      "Round: 3600 Training Error: 66.61367797851562 Validation Error: 63.026241302490234 Test Error: 71.01783752441406\n",
      "Round: 3800 Training Error: 66.61699676513672 Validation Error: 63.036155700683594 Test Error: 71.02233123779297\n",
      "Round: 4000 Training Error: 66.63578796386719 Validation Error: 63.08911895751953 Test Error: 71.05316162109375\n",
      "Round: 4200 Training Error: 66.62455749511719 Validation Error: 63.05917739868164 Test Error: 71.0350112915039\n",
      "Round: 4400 Training Error: 66.61414337158203 Validation Error: 63.02776336669922 Test Error: 71.01909637451172\n",
      "Round: 4600 Training Error: 66.6140365600586 Validation Error: 63.027503967285156 Test Error: 71.01716613769531\n",
      "Round: 4800 Training Error: 66.62076568603516 Validation Error: 63.0476188659668 Test Error: 71.02972412109375\n",
      "Round: 5000 Training Error: 66.61499786376953 Validation Error: 63.03030014038086 Test Error: 71.01976013183594\n",
      "Round: 5200 Training Error: 66.61557006835938 Validation Error: 63.03251647949219 Test Error: 71.02055358886719\n",
      "Round: 5400 Training Error: 66.60990142822266 Validation Error: 63.013790130615234 Test Error: 71.01068878173828\n",
      "Round: 5600 Training Error: 66.6231689453125 Validation Error: 63.05448532104492 Test Error: 71.03221893310547\n",
      "Round: 5800 Training Error: 66.61344146728516 Validation Error: 63.025718688964844 Test Error: 71.0167236328125\n",
      "Round: 6000 Training Error: 66.80187225341797 Validation Error: 63.19963455200195 Test Error: 71.20126342773438\n",
      "Round: 6200 Training Error: 66.61427307128906 Validation Error: 63.02787399291992 Test Error: 71.01753234863281\n",
      "Round: 6400 Training Error: 66.62913513183594 Validation Error: 63.07176208496094 Test Error: 71.04315185546875\n",
      "Round: 6600 Training Error: 66.60991668701172 Validation Error: 63.00999450683594 Test Error: 71.00794982910156\n",
      "Round: 6800 Training Error: 66.61518096923828 Validation Error: 63.03052520751953 Test Error: 71.0191879272461\n",
      "Round: 7000 Training Error: 66.61711883544922 Validation Error: 63.03657531738281 Test Error: 71.02194213867188\n",
      "Round: 7200 Training Error: 66.61380004882812 Validation Error: 63.01437759399414 Test Error: 71.01419830322266\n",
      "Round: 7400 Training Error: 66.67681884765625 Validation Error: 63.074562072753906 Test Error: 71.08323669433594\n",
      "Round: 7600 Training Error: 66.61231994628906 Validation Error: 63.02156448364258 Test Error: 71.01519775390625\n",
      "Round: 7800 Training Error: 66.6164321899414 Validation Error: 63.035221099853516 Test Error: 71.02143096923828\n",
      "Round: 8000 Training Error: 66.64009857177734 Validation Error: 63.10089874267578 Test Error: 71.05878448486328\n",
      "Round: 8200 Training Error: 66.63795471191406 Validation Error: 63.09461975097656 Test Error: 71.05550384521484\n",
      "Round: 8400 Training Error: 66.63021087646484 Validation Error: 63.074195861816406 Test Error: 71.04393005371094\n",
      "Round: 8600 Training Error: 66.62501525878906 Validation Error: 63.061012268066406 Test Error: 71.03759765625\n",
      "Round: 8800 Training Error: 66.61095428466797 Validation Error: 63.0091552734375 Test Error: 71.00902557373047\n",
      "Round: 9000 Training Error: 66.61013793945312 Validation Error: 63.01386642456055 Test Error: 71.01051330566406\n",
      "Round: 9200 Training Error: 66.60782623291016 Validation Error: 63.00731658935547 Test Error: 71.00627899169922\n",
      "Round: 9400 Training Error: 66.65448760986328 Validation Error: 63.052223205566406 Test Error: 71.05126953125\n",
      "Round: 9600 Training Error: 66.63240814208984 Validation Error: 63.08003616333008 Test Error: 71.0494613647461\n",
      "Round: 9800 Training Error: 66.61038970947266 Validation Error: 63.01573181152344 Test Error: 71.01129150390625\n",
      "Round: 10000 Training Error: 66.6095199584961 Validation Error: 63.01296615600586 Test Error: 71.0098876953125\n",
      "Round: 10200 Training Error: 66.61288452148438 Validation Error: 63.02328872680664 Test Error: 71.01538848876953\n",
      "Round: 10400 Training Error: 66.620361328125 Validation Error: 63.04634475708008 Test Error: 71.0283432006836\n",
      "Round: 10600 Training Error: 66.70039367675781 Validation Error: 63.098114013671875 Test Error: 71.0969467163086\n",
      "Round: 10800 Training Error: 66.62425231933594 Validation Error: 63.0577392578125 Test Error: 71.03411865234375\n",
      "Round: 11000 Training Error: 66.61746978759766 Validation Error: 63.03801727294922 Test Error: 71.02301025390625\n",
      "Round: 11200 Training Error: 66.62350463867188 Validation Error: 63.05550765991211 Test Error: 71.0328598022461\n",
      "Round: 11400 Training Error: 66.6142349243164 Validation Error: 63.02804946899414 Test Error: 71.01765441894531\n",
      "Round: 11600 Training Error: 66.61544799804688 Validation Error: 63.01569366455078 Test Error: 71.01290893554688\n",
      "Round: 11800 Training Error: 66.61763763427734 Validation Error: 63.038211822509766 Test Error: 71.02397918701172\n",
      "Round: 12000 Training Error: 66.67925262451172 Validation Error: 63.07756805419922 Test Error: 71.07965087890625\n",
      "Round: 12200 Training Error: 66.7049331665039 Validation Error: 63.24877166748047 Test Error: 71.1502914428711\n",
      "Round: 12400 Training Error: 66.8604965209961 Validation Error: 63.2686653137207 Test Error: 71.25889587402344\n",
      "Round: 12600 Training Error: 66.6075439453125 Validation Error: 63.00593185424805 Test Error: 71.01085662841797\n",
      "Round: 12800 Training Error: 66.61237335205078 Validation Error: 63.02231216430664 Test Error: 71.0167236328125\n",
      "Round: 13000 Training Error: 66.61283874511719 Validation Error: 63.01055908203125 Test Error: 71.01268005371094\n",
      "Round: 13200 Training Error: 66.61582946777344 Validation Error: 63.033782958984375 Test Error: 71.02229309082031\n",
      "Round: 13400 Training Error: 66.61157989501953 Validation Error: 63.0199089050293 Test Error: 71.01473236083984\n",
      "Round: 13600 Training Error: 66.60771179199219 Validation Error: 63.00716018676758 Test Error: 71.0079574584961\n",
      "Round: 13800 Training Error: 66.60832214355469 Validation Error: 63.00665283203125 Test Error: 71.0068130493164\n",
      "Round: 14000 Training Error: 66.6135025024414 Validation Error: 63.025779724121094 Test Error: 71.01670837402344\n",
      "Round: 14200 Training Error: 66.6141586303711 Validation Error: 63.027732849121094 Test Error: 71.01751708984375\n",
      "Round: 14400 Training Error: 66.60969543457031 Validation Error: 63.01246643066406 Test Error: 71.01042938232422\n",
      "Round: 14600 Training Error: 66.60935974121094 Validation Error: 63.01246643066406 Test Error: 71.00968933105469\n",
      "Round: 14800 Training Error: 66.6249771118164 Validation Error: 63.059635162353516 Test Error: 71.0381851196289\n"
     ]
    },
    {
     "name": "stdout",
     "output_type": "stream",
     "text": [
      "Round: 15000 Training Error: 66.62130737304688 Validation Error: 63.0498161315918 Test Error: 71.03239440917969\n",
      "Round: 15200 Training Error: 66.63349914550781 Validation Error: 63.03125 Test Error: 71.03387451171875\n",
      "Round: 15400 Training Error: 66.61148071289062 Validation Error: 63.01926803588867 Test Error: 71.015869140625\n",
      "Round: 15600 Training Error: 66.60868072509766 Validation Error: 63.01062774658203 Test Error: 71.0107650756836\n",
      "Round: 15800 Training Error: 66.63322448730469 Validation Error: 63.030967712402344 Test Error: 71.03292083740234\n",
      "Round: 16000 Training Error: 66.60874938964844 Validation Error: 63.009769439697266 Test Error: 71.01090240478516\n",
      "Round: 16200 Training Error: 66.61316680908203 Validation Error: 63.025054931640625 Test Error: 71.01942443847656\n",
      "Round: 16400 Training Error: 66.61418914794922 Validation Error: 63.02806854248047 Test Error: 71.02119445800781\n",
      "Round: 16600 Training Error: 66.61556243896484 Validation Error: 63.031578063964844 Test Error: 71.02359771728516\n",
      "Round: 16800 Training Error: 66.61896514892578 Validation Error: 63.04280090332031 Test Error: 71.03038787841797\n",
      "Round: 17000 Training Error: 66.61808776855469 Validation Error: 63.040077209472656 Test Error: 71.02783966064453\n",
      "Round: 17200 Training Error: 66.61235809326172 Validation Error: 63.02207565307617 Test Error: 71.01721954345703\n",
      "Round: 17400 Training Error: 66.60987091064453 Validation Error: 63.014347076416016 Test Error: 71.01305389404297\n",
      "Round: 17600 Training Error: 66.61316680908203 Validation Error: 63.02524948120117 Test Error: 71.01801300048828\n",
      "Round: 17800 Training Error: 66.62171936035156 Validation Error: 63.05011749267578 Test Error: 71.03178405761719\n",
      "Round: 18000 Training Error: 66.61455535888672 Validation Error: 63.028717041015625 Test Error: 71.01882934570312\n",
      "Round: 18200 Training Error: 66.60983276367188 Validation Error: 63.01255416870117 Test Error: 71.00984191894531\n",
      "Round: 18400 Training Error: 66.61336517333984 Validation Error: 63.02480697631836 Test Error: 71.01698303222656\n",
      "Round: 18600 Training Error: 66.61700439453125 Validation Error: 63.036529541015625 Test Error: 71.02365112304688\n",
      "Round: 18800 Training Error: 66.62013244628906 Validation Error: 63.04607009887695 Test Error: 71.02947235107422\n",
      "Round: 19000 Training Error: 66.62567901611328 Validation Error: 63.02341079711914 Test Error: 71.02555084228516\n",
      "Round: 19200 Training Error: 66.62300109863281 Validation Error: 63.05449295043945 Test Error: 71.03290557861328\n",
      "Round: 19400 Training Error: 66.61813354492188 Validation Error: 63.03989028930664 Test Error: 71.02465057373047\n",
      "Round: 19600 Training Error: 66.61404418945312 Validation Error: 63.028385162353516 Test Error: 71.01873779296875\n",
      "Round: 19800 Training Error: 66.63156127929688 Validation Error: 63.0777702331543 Test Error: 71.04608154296875\n",
      "Round: 20000 Training Error: 66.633056640625 Validation Error: 63.08100891113281 Test Error: 71.04808807373047\n",
      "Round: 20200 Training Error: 66.62049102783203 Validation Error: 63.04694366455078 Test Error: 71.02813720703125\n",
      "Round: 20400 Training Error: 66.60993194580078 Validation Error: 63.01413345336914 Test Error: 71.00969696044922\n",
      "Round: 20600 Training Error: 66.62398529052734 Validation Error: 63.05603790283203 Test Error: 71.03404998779297\n",
      "Round: 20800 Training Error: 66.65882110595703 Validation Error: 63.057315826416016 Test Error: 71.05548858642578\n",
      "Round: 21000 Training Error: 66.61605834960938 Validation Error: 63.032379150390625 Test Error: 71.02101135253906\n",
      "Round: 21200 Training Error: 66.62960815429688 Validation Error: 63.07248306274414 Test Error: 71.04405212402344\n",
      "Round: 21400 Training Error: 66.62589263916016 Validation Error: 63.06193161010742 Test Error: 71.0374755859375\n",
      "Round: 21600 Training Error: 66.61962890625 Validation Error: 63.043609619140625 Test Error: 71.02832794189453\n",
      "Round: 21800 Training Error: 66.61294555664062 Validation Error: 63.02397537231445 Test Error: 71.0155258178711\n",
      "Round: 22000 Training Error: 66.6239242553711 Validation Error: 63.05647659301758 Test Error: 71.03359985351562\n",
      "Round: 22200 Training Error: 66.62108612060547 Validation Error: 63.04853820800781 Test Error: 71.02889251708984\n",
      "Round: 22400 Training Error: 66.61483764648438 Validation Error: 63.02969741821289 Test Error: 71.01870727539062\n",
      "Round: 22600 Training Error: 66.61447143554688 Validation Error: 63.02884292602539 Test Error: 71.01829528808594\n",
      "Round: 22800 Training Error: 66.62041473388672 Validation Error: 63.04639434814453 Test Error: 71.02860260009766\n",
      "Round: 23000 Training Error: 66.61253356933594 Validation Error: 63.02082443237305 Test Error: 71.01554870605469\n",
      "Round: 23200 Training Error: 66.6197509765625 Validation Error: 63.044918060302734 Test Error: 71.02738952636719\n",
      "Round: 23400 Training Error: 66.6169204711914 Validation Error: 63.036399841308594 Test Error: 71.0231704711914\n",
      "Round: 23600 Training Error: 66.61520385742188 Validation Error: 63.031044006347656 Test Error: 71.02025604248047\n",
      "Round: 23800 Training Error: 66.62643432617188 Validation Error: 63.06362533569336 Test Error: 71.03788757324219\n",
      "Round: 24000 Training Error: 66.66214752197266 Validation Error: 63.060462951660156 Test Error: 71.05867004394531\n",
      "Round: 24200 Training Error: 66.7103271484375 Validation Error: 63.10808181762695 Test Error: 71.10662841796875\n",
      "Round: 24400 Training Error: 66.66240692138672 Validation Error: 63.06013870239258 Test Error: 71.06090545654297\n",
      "Round: 24600 Training Error: 66.61981201171875 Validation Error: 63.044124603271484 Test Error: 71.02670288085938\n",
      "Round: 24800 Training Error: 66.64580535888672 Validation Error: 63.04369354248047 Test Error: 71.04443359375\n"
     ]
    },
    {
     "ename": "RuntimeError",
     "evalue": "cuda runtime error (2) : out of memory at /opt/conda/conda-bld/pytorch_1512386481460/work/torch/lib/THC/generic/THCStorage.cu:58",
     "output_type": "error",
     "traceback": [
      "\u001b[0;31m---------------------------------------------------------------------------\u001b[0m",
      "\u001b[0;31mRuntimeError\u001b[0m                              Traceback (most recent call last)",
      "\u001b[0;32m<ipython-input-191-b44dbe02f12e>\u001b[0m in \u001b[0;36m<module>\u001b[0;34m()\u001b[0m\n\u001b[1;32m     30\u001b[0m         \u001b[0;32mfor\u001b[0m \u001b[0mi\u001b[0m \u001b[0;32min\u001b[0m \u001b[0mrange\u001b[0m\u001b[0;34m(\u001b[0m\u001b[0mlen\u001b[0m\u001b[0;34m(\u001b[0m\u001b[0mORDER\u001b[0m\u001b[0;34m)\u001b[0m\u001b[0;34m)\u001b[0m\u001b[0;34m:\u001b[0m\u001b[0;34m\u001b[0m\u001b[0m\n\u001b[1;32m     31\u001b[0m             \u001b[0mtest_params\u001b[0m\u001b[0;34m.\u001b[0m\u001b[0mappend\u001b[0m\u001b[0;34m(\u001b[0m\u001b[0;32mNone\u001b[0m\u001b[0;34m)\u001b[0m\u001b[0;34m\u001b[0m\u001b[0m\n\u001b[0;32m---> 32\u001b[0;31m         \u001b[0mtest_pr\u001b[0m \u001b[0;34m=\u001b[0m \u001b[0mmodel\u001b[0m\u001b[0;34m(\u001b[0m\u001b[0;34m*\u001b[0m\u001b[0mtest_params\u001b[0m\u001b[0;34m)\u001b[0m\u001b[0;34m\u001b[0m\u001b[0m\n\u001b[0m\u001b[1;32m     33\u001b[0m         \u001b[0mtest_loss\u001b[0m \u001b[0;34m=\u001b[0m \u001b[0mloss_func\u001b[0m\u001b[0;34m(\u001b[0m\u001b[0mtest_pr\u001b[0m\u001b[0;34m,\u001b[0m \u001b[0mtest_out\u001b[0m\u001b[0;34m)\u001b[0m\u001b[0;34m\u001b[0m\u001b[0m\n\u001b[1;32m     34\u001b[0m \u001b[0;34m\u001b[0m\u001b[0m\n",
      "\u001b[0;32m~/anaconda3/lib/python3.6/site-packages/torch/nn/modules/module.py\u001b[0m in \u001b[0;36m__call__\u001b[0;34m(self, *input, **kwargs)\u001b[0m\n\u001b[1;32m    323\u001b[0m         \u001b[0;32mfor\u001b[0m \u001b[0mhook\u001b[0m \u001b[0;32min\u001b[0m \u001b[0mself\u001b[0m\u001b[0;34m.\u001b[0m\u001b[0m_forward_pre_hooks\u001b[0m\u001b[0;34m.\u001b[0m\u001b[0mvalues\u001b[0m\u001b[0;34m(\u001b[0m\u001b[0;34m)\u001b[0m\u001b[0;34m:\u001b[0m\u001b[0;34m\u001b[0m\u001b[0m\n\u001b[1;32m    324\u001b[0m             \u001b[0mhook\u001b[0m\u001b[0;34m(\u001b[0m\u001b[0mself\u001b[0m\u001b[0;34m,\u001b[0m \u001b[0minput\u001b[0m\u001b[0;34m)\u001b[0m\u001b[0;34m\u001b[0m\u001b[0m\n\u001b[0;32m--> 325\u001b[0;31m         \u001b[0mresult\u001b[0m \u001b[0;34m=\u001b[0m \u001b[0mself\u001b[0m\u001b[0;34m.\u001b[0m\u001b[0mforward\u001b[0m\u001b[0;34m(\u001b[0m\u001b[0;34m*\u001b[0m\u001b[0minput\u001b[0m\u001b[0;34m,\u001b[0m \u001b[0;34m**\u001b[0m\u001b[0mkwargs\u001b[0m\u001b[0;34m)\u001b[0m\u001b[0;34m\u001b[0m\u001b[0m\n\u001b[0m\u001b[1;32m    326\u001b[0m         \u001b[0;32mfor\u001b[0m \u001b[0mhook\u001b[0m \u001b[0;32min\u001b[0m \u001b[0mself\u001b[0m\u001b[0;34m.\u001b[0m\u001b[0m_forward_hooks\u001b[0m\u001b[0;34m.\u001b[0m\u001b[0mvalues\u001b[0m\u001b[0;34m(\u001b[0m\u001b[0;34m)\u001b[0m\u001b[0;34m:\u001b[0m\u001b[0;34m\u001b[0m\u001b[0m\n\u001b[1;32m    327\u001b[0m             \u001b[0mhook_result\u001b[0m \u001b[0;34m=\u001b[0m \u001b[0mhook\u001b[0m\u001b[0;34m(\u001b[0m\u001b[0mself\u001b[0m\u001b[0;34m,\u001b[0m \u001b[0minput\u001b[0m\u001b[0;34m,\u001b[0m \u001b[0mresult\u001b[0m\u001b[0;34m)\u001b[0m\u001b[0;34m\u001b[0m\u001b[0m\n",
      "\u001b[0;32m<ipython-input-93-3e12a04d414b>\u001b[0m in \u001b[0;36mforward\u001b[0;34m(self, *args)\u001b[0m\n\u001b[1;32m     19\u001b[0m             \u001b[0;32mpass\u001b[0m\u001b[0;34m\u001b[0m\u001b[0m\n\u001b[1;32m     20\u001b[0m         \u001b[0;32mfor\u001b[0m \u001b[0mappliance\u001b[0m \u001b[0;32min\u001b[0m \u001b[0mrange\u001b[0m\u001b[0;34m(\u001b[0m\u001b[0mself\u001b[0m\u001b[0;34m.\u001b[0m\u001b[0mnum_appliance\u001b[0m\u001b[0;34m)\u001b[0m\u001b[0;34m:\u001b[0m\u001b[0;34m\u001b[0m\u001b[0m\n\u001b[0;32m---> 21\u001b[0;31m             \u001b[0mself\u001b[0m\u001b[0;34m.\u001b[0m\u001b[0mpreds\u001b[0m\u001b[0;34m[\u001b[0m\u001b[0mappliance\u001b[0m\u001b[0;34m]\u001b[0m \u001b[0;34m=\u001b[0m \u001b[0mgetattr\u001b[0m\u001b[0;34m(\u001b[0m\u001b[0mself\u001b[0m\u001b[0;34m,\u001b[0m \u001b[0;34m\"Appliance_\"\u001b[0m \u001b[0;34m+\u001b[0m \u001b[0mstr\u001b[0m\u001b[0;34m(\u001b[0m\u001b[0mappliance\u001b[0m\u001b[0;34m)\u001b[0m\u001b[0;34m)\u001b[0m\u001b[0;34m(\u001b[0m\u001b[0magg_current\u001b[0m\u001b[0;34m)\u001b[0m\u001b[0;34m\u001b[0m\u001b[0m\n\u001b[0m\u001b[1;32m     22\u001b[0m             \u001b[0;32mif\u001b[0m \u001b[0mflag\u001b[0m\u001b[0;34m:\u001b[0m\u001b[0;34m\u001b[0m\u001b[0m\n\u001b[1;32m     23\u001b[0m                 \u001b[0magg_current\u001b[0m \u001b[0;34m=\u001b[0m \u001b[0magg_current\u001b[0m \u001b[0;34m-\u001b[0m \u001b[0mself\u001b[0m\u001b[0;34m.\u001b[0m\u001b[0mpreds\u001b[0m\u001b[0;34m[\u001b[0m\u001b[0mappliance\u001b[0m\u001b[0;34m]\u001b[0m\u001b[0;34m\u001b[0m\u001b[0m\n",
      "\u001b[0;32m~/anaconda3/lib/python3.6/site-packages/torch/nn/modules/module.py\u001b[0m in \u001b[0;36m__call__\u001b[0;34m(self, *input, **kwargs)\u001b[0m\n\u001b[1;32m    323\u001b[0m         \u001b[0;32mfor\u001b[0m \u001b[0mhook\u001b[0m \u001b[0;32min\u001b[0m \u001b[0mself\u001b[0m\u001b[0;34m.\u001b[0m\u001b[0m_forward_pre_hooks\u001b[0m\u001b[0;34m.\u001b[0m\u001b[0mvalues\u001b[0m\u001b[0;34m(\u001b[0m\u001b[0;34m)\u001b[0m\u001b[0;34m:\u001b[0m\u001b[0;34m\u001b[0m\u001b[0m\n\u001b[1;32m    324\u001b[0m             \u001b[0mhook\u001b[0m\u001b[0;34m(\u001b[0m\u001b[0mself\u001b[0m\u001b[0;34m,\u001b[0m \u001b[0minput\u001b[0m\u001b[0;34m)\u001b[0m\u001b[0;34m\u001b[0m\u001b[0m\n\u001b[0;32m--> 325\u001b[0;31m         \u001b[0mresult\u001b[0m \u001b[0;34m=\u001b[0m \u001b[0mself\u001b[0m\u001b[0;34m.\u001b[0m\u001b[0mforward\u001b[0m\u001b[0;34m(\u001b[0m\u001b[0;34m*\u001b[0m\u001b[0minput\u001b[0m\u001b[0;34m,\u001b[0m \u001b[0;34m**\u001b[0m\u001b[0mkwargs\u001b[0m\u001b[0;34m)\u001b[0m\u001b[0;34m\u001b[0m\u001b[0m\n\u001b[0m\u001b[1;32m    326\u001b[0m         \u001b[0;32mfor\u001b[0m \u001b[0mhook\u001b[0m \u001b[0;32min\u001b[0m \u001b[0mself\u001b[0m\u001b[0;34m.\u001b[0m\u001b[0m_forward_hooks\u001b[0m\u001b[0;34m.\u001b[0m\u001b[0mvalues\u001b[0m\u001b[0;34m(\u001b[0m\u001b[0;34m)\u001b[0m\u001b[0;34m:\u001b[0m\u001b[0;34m\u001b[0m\u001b[0m\n\u001b[1;32m    327\u001b[0m             \u001b[0mhook_result\u001b[0m \u001b[0;34m=\u001b[0m \u001b[0mhook\u001b[0m\u001b[0;34m(\u001b[0m\u001b[0mself\u001b[0m\u001b[0;34m,\u001b[0m \u001b[0minput\u001b[0m\u001b[0;34m,\u001b[0m \u001b[0mresult\u001b[0m\u001b[0;34m)\u001b[0m\u001b[0;34m\u001b[0m\u001b[0m\n",
      "\u001b[0;32m<ipython-input-92-2e7644de652c>\u001b[0m in \u001b[0;36mforward\u001b[0;34m(self, input)\u001b[0m\n\u001b[1;32m     36\u001b[0m \u001b[0;34m\u001b[0m\u001b[0m\n\u001b[1;32m     37\u001b[0m         \u001b[0mpred\u001b[0m \u001b[0;34m=\u001b[0m \u001b[0mself\u001b[0m\u001b[0;34m.\u001b[0m\u001b[0mconv2\u001b[0m\u001b[0;34m(\u001b[0m\u001b[0mpred\u001b[0m\u001b[0;34m)\u001b[0m\u001b[0;34m\u001b[0m\u001b[0m\n\u001b[0;32m---> 38\u001b[0;31m         \u001b[0mpred\u001b[0m \u001b[0;34m=\u001b[0m \u001b[0mself\u001b[0m\u001b[0;34m.\u001b[0m\u001b[0mbn2\u001b[0m\u001b[0;34m(\u001b[0m\u001b[0mself\u001b[0m\u001b[0;34m.\u001b[0m\u001b[0mact\u001b[0m\u001b[0;34m(\u001b[0m\u001b[0mpred\u001b[0m\u001b[0;34m)\u001b[0m\u001b[0;34m)\u001b[0m\u001b[0;34m\u001b[0m\u001b[0m\n\u001b[0m\u001b[1;32m     39\u001b[0m         \u001b[0mlayer2\u001b[0m \u001b[0;34m=\u001b[0m \u001b[0mpred\u001b[0m\u001b[0;34m.\u001b[0m\u001b[0mclone\u001b[0m\u001b[0;34m(\u001b[0m\u001b[0;34m)\u001b[0m\u001b[0;34m\u001b[0m\u001b[0m\n\u001b[1;32m     40\u001b[0m \u001b[0;34m\u001b[0m\u001b[0m\n",
      "\u001b[0;32m~/anaconda3/lib/python3.6/site-packages/torch/nn/modules/module.py\u001b[0m in \u001b[0;36m__call__\u001b[0;34m(self, *input, **kwargs)\u001b[0m\n\u001b[1;32m    323\u001b[0m         \u001b[0;32mfor\u001b[0m \u001b[0mhook\u001b[0m \u001b[0;32min\u001b[0m \u001b[0mself\u001b[0m\u001b[0;34m.\u001b[0m\u001b[0m_forward_pre_hooks\u001b[0m\u001b[0;34m.\u001b[0m\u001b[0mvalues\u001b[0m\u001b[0;34m(\u001b[0m\u001b[0;34m)\u001b[0m\u001b[0;34m:\u001b[0m\u001b[0;34m\u001b[0m\u001b[0m\n\u001b[1;32m    324\u001b[0m             \u001b[0mhook\u001b[0m\u001b[0;34m(\u001b[0m\u001b[0mself\u001b[0m\u001b[0;34m,\u001b[0m \u001b[0minput\u001b[0m\u001b[0;34m)\u001b[0m\u001b[0;34m\u001b[0m\u001b[0m\n\u001b[0;32m--> 325\u001b[0;31m         \u001b[0mresult\u001b[0m \u001b[0;34m=\u001b[0m \u001b[0mself\u001b[0m\u001b[0;34m.\u001b[0m\u001b[0mforward\u001b[0m\u001b[0;34m(\u001b[0m\u001b[0;34m*\u001b[0m\u001b[0minput\u001b[0m\u001b[0;34m,\u001b[0m \u001b[0;34m**\u001b[0m\u001b[0mkwargs\u001b[0m\u001b[0;34m)\u001b[0m\u001b[0;34m\u001b[0m\u001b[0m\n\u001b[0m\u001b[1;32m    326\u001b[0m         \u001b[0;32mfor\u001b[0m \u001b[0mhook\u001b[0m \u001b[0;32min\u001b[0m \u001b[0mself\u001b[0m\u001b[0;34m.\u001b[0m\u001b[0m_forward_hooks\u001b[0m\u001b[0;34m.\u001b[0m\u001b[0mvalues\u001b[0m\u001b[0;34m(\u001b[0m\u001b[0;34m)\u001b[0m\u001b[0;34m:\u001b[0m\u001b[0;34m\u001b[0m\u001b[0m\n\u001b[1;32m    327\u001b[0m             \u001b[0mhook_result\u001b[0m \u001b[0;34m=\u001b[0m \u001b[0mhook\u001b[0m\u001b[0;34m(\u001b[0m\u001b[0mself\u001b[0m\u001b[0;34m,\u001b[0m \u001b[0minput\u001b[0m\u001b[0;34m,\u001b[0m \u001b[0mresult\u001b[0m\u001b[0;34m)\u001b[0m\u001b[0;34m\u001b[0m\u001b[0m\n",
      "\u001b[0;32m~/anaconda3/lib/python3.6/site-packages/torch/nn/modules/batchnorm.py\u001b[0m in \u001b[0;36mforward\u001b[0;34m(self, input)\u001b[0m\n\u001b[1;32m     35\u001b[0m         return F.batch_norm(\n\u001b[1;32m     36\u001b[0m             \u001b[0minput\u001b[0m\u001b[0;34m,\u001b[0m \u001b[0mself\u001b[0m\u001b[0;34m.\u001b[0m\u001b[0mrunning_mean\u001b[0m\u001b[0;34m,\u001b[0m \u001b[0mself\u001b[0m\u001b[0;34m.\u001b[0m\u001b[0mrunning_var\u001b[0m\u001b[0;34m,\u001b[0m \u001b[0mself\u001b[0m\u001b[0;34m.\u001b[0m\u001b[0mweight\u001b[0m\u001b[0;34m,\u001b[0m \u001b[0mself\u001b[0m\u001b[0;34m.\u001b[0m\u001b[0mbias\u001b[0m\u001b[0;34m,\u001b[0m\u001b[0;34m\u001b[0m\u001b[0m\n\u001b[0;32m---> 37\u001b[0;31m             self.training, self.momentum, self.eps)\n\u001b[0m\u001b[1;32m     38\u001b[0m \u001b[0;34m\u001b[0m\u001b[0m\n\u001b[1;32m     39\u001b[0m     \u001b[0;32mdef\u001b[0m \u001b[0m__repr__\u001b[0m\u001b[0;34m(\u001b[0m\u001b[0mself\u001b[0m\u001b[0;34m)\u001b[0m\u001b[0;34m:\u001b[0m\u001b[0;34m\u001b[0m\u001b[0m\n",
      "\u001b[0;32m~/anaconda3/lib/python3.6/site-packages/torch/nn/functional.py\u001b[0m in \u001b[0;36mbatch_norm\u001b[0;34m(input, running_mean, running_var, weight, bias, training, momentum, eps)\u001b[0m\n\u001b[1;32m   1011\u001b[0m             \u001b[0;32mraise\u001b[0m \u001b[0mValueError\u001b[0m\u001b[0;34m(\u001b[0m\u001b[0;34m'Expected more than 1 value per channel when training, got input size {}'\u001b[0m\u001b[0;34m.\u001b[0m\u001b[0mformat\u001b[0m\u001b[0;34m(\u001b[0m\u001b[0msize\u001b[0m\u001b[0;34m)\u001b[0m\u001b[0;34m)\u001b[0m\u001b[0;34m\u001b[0m\u001b[0m\n\u001b[1;32m   1012\u001b[0m     \u001b[0mf\u001b[0m \u001b[0;34m=\u001b[0m \u001b[0mtorch\u001b[0m\u001b[0;34m.\u001b[0m\u001b[0m_C\u001b[0m\u001b[0;34m.\u001b[0m\u001b[0m_functions\u001b[0m\u001b[0;34m.\u001b[0m\u001b[0mBatchNorm\u001b[0m\u001b[0;34m(\u001b[0m\u001b[0mrunning_mean\u001b[0m\u001b[0;34m,\u001b[0m \u001b[0mrunning_var\u001b[0m\u001b[0;34m,\u001b[0m \u001b[0mtraining\u001b[0m\u001b[0;34m,\u001b[0m \u001b[0mmomentum\u001b[0m\u001b[0;34m,\u001b[0m \u001b[0meps\u001b[0m\u001b[0;34m,\u001b[0m \u001b[0mtorch\u001b[0m\u001b[0;34m.\u001b[0m\u001b[0mbackends\u001b[0m\u001b[0;34m.\u001b[0m\u001b[0mcudnn\u001b[0m\u001b[0;34m.\u001b[0m\u001b[0menabled\u001b[0m\u001b[0;34m)\u001b[0m\u001b[0;34m\u001b[0m\u001b[0m\n\u001b[0;32m-> 1013\u001b[0;31m     \u001b[0;32mreturn\u001b[0m \u001b[0mf\u001b[0m\u001b[0;34m(\u001b[0m\u001b[0minput\u001b[0m\u001b[0;34m,\u001b[0m \u001b[0mweight\u001b[0m\u001b[0;34m,\u001b[0m \u001b[0mbias\u001b[0m\u001b[0;34m)\u001b[0m\u001b[0;34m\u001b[0m\u001b[0m\n\u001b[0m\u001b[1;32m   1014\u001b[0m \u001b[0;34m\u001b[0m\u001b[0m\n\u001b[1;32m   1015\u001b[0m \u001b[0;34m\u001b[0m\u001b[0m\n",
      "\u001b[0;31mRuntimeError\u001b[0m: cuda runtime error (2) : out of memory at /opt/conda/conda-bld/pytorch_1512386481460/work/torch/lib/THC/generic/THCStorage.cu:58"
     ]
    }
   ],
   "source": [
    "p = 0\n",
    "num_iterations = 200000\n",
    "params = [inp, p]\n",
    "for a_num, appliance in enumerate(ORDER):\n",
    "    params.append(out_train[a_num])\n",
    "        \n",
    "for t in range(1, num_iterations+1):\n",
    "  \n",
    "    if cuda_av:\n",
    "        train_out = train_out.cuda()\n",
    "\n",
    "    \n",
    "    pred = model(*params)\n",
    "\n",
    "    optimizer.zero_grad()\n",
    "    loss = loss_func(pred, train_out)\n",
    "    if t % 200 == 0:\n",
    "\n",
    "        if cuda_av:\n",
    "            valid_inp = valid_inp.cuda()\n",
    "        valid_params = [valid_inp, -2]\n",
    "        for i in range(len(ORDER)):\n",
    "            valid_params.append(None)\n",
    "        valid_pr = model(*valid_params)\n",
    "        valid_loss = loss_func(valid_pr, valid_out)\n",
    "\n",
    "        if cuda_av:\n",
    "            test_inp = test_inp.cuda()\n",
    "        test_params = [test_inp, -2]\n",
    "        for i in range(len(ORDER)):\n",
    "            test_params.append(None)\n",
    "        test_pr = model(*test_params)\n",
    "        test_loss = loss_func(test_pr, test_out)\n",
    "\n",
    "        test_losses[t] = test_loss.data[0]\n",
    "        valid_losses[t] = valid_loss.data[0]\n",
    "        # np.save(\"./baseline/p_50_loss\")\n",
    "\n",
    "        if t % 200 == 0:\n",
    "            valid_pr = torch.clamp(valid_pr, min=0.)\n",
    "            valid_pred[t] = valid_pr\n",
    "            test_pr = torch.clamp(test_pr, min=0.)\n",
    "            test_pred[t] = test_pr\n",
    "            train_pr = pred\n",
    "            train_pr = torch.clamp(train_pr, min=0.)\n",
    "            train_pred[t] = train_pr\n",
    "\n",
    "        print(\"Round:\", t, \"Training Error:\", loss.data[0], \"Validation Error:\", valid_loss.data[0], \"Test Error:\", test_loss.data[0])\n",
    "\n",
    "    loss.backward()\n",
    "    optimizer.step()\n",
    "\n"
   ]
  },
  {
   "cell_type": "code",
   "execution_count": 192,
   "metadata": {
    "collapsed": true
   },
   "outputs": [],
   "source": [
    "from sklearn.metrics import mean_absolute_error\n",
    "num_iterations = 24800"
   ]
  },
  {
   "cell_type": "code",
   "execution_count": 193,
   "metadata": {},
   "outputs": [],
   "source": [
    "\n",
    "train_fold = {}\n",
    "for t in range(200, num_iterations + 1, 200):\n",
    "    train_pred[t] = torch.split(train_pred[t], train_aggregate.shape[0])\n",
    "    train_fold[t] = [None for x in range(len(ORDER))]\n",
    "    if cuda_av:\n",
    "        for appliance_num, appliance in enumerate(ORDER):\n",
    "            train_fold[t][appliance_num] = train_pred[t][appliance_num].cpu().data.numpy().reshape(-1, 24)\n",
    "    else:\n",
    "        for appliance_num, appliance in enumerate(ORDER):\n",
    "            train_fold[t][appliance_num] = train_pred[t][appliance_num].data.numpy().reshape(-1, 24)\n",
    "            \n",
    "valid_fold = {}\n",
    "for t in range(200, num_iterations + 1, 200):\n",
    "\n",
    "    valid_pred[t] = torch.split(valid_pred[t], valid_aggregate.shape[0])\n",
    "    valid_fold[t] = [None for x in range(len(ORDER))]\n",
    "    if cuda_av:\n",
    "        for appliance_num, appliance in enumerate(ORDER):\n",
    "            valid_fold[t][appliance_num] = valid_pred[t][appliance_num].cpu().data.numpy().reshape(-1, 24)\n",
    "    else:\n",
    "        for appliance_num, appliance in enumerate(ORDER):\n",
    "            valid_fold[t][appliance_num] = valid_pred[t][appliance_num].data.numpy().reshape(-1, 24)\n",
    "\n",
    "test_fold = {}\n",
    "for t in range(200, num_iterations + 1, 200):\n",
    "\n",
    "    test_pred[t] = torch.split(test_pred[t], test_aggregate.shape[0])\n",
    "    test_fold[t] = [None for x in range(len(ORDER))]\n",
    "    if cuda_av:\n",
    "        for appliance_num, appliance in enumerate(ORDER):\n",
    "            test_fold[t][appliance_num] = test_pred[t][appliance_num].cpu().data.numpy().reshape(-1, 24)\n",
    "    else:\n",
    "        for appliance_num, appliance in enumerate(ORDER):\n",
    "            test_fold[t][appliance_num] = test_pred[t][appliance_num].data.numpy().reshape(-1, 24)\n",
    "\n",
    "# store ground truth of validation set\n",
    "valid_gt_fold = [None for x in range(len(ORDER))]\n",
    "for appliance_num, appliance in enumerate(ORDER):\n",
    "    valid_gt_fold[appliance_num] = valid[:, APPLIANCE_ORDER.index(appliance), :, :].reshape(\n",
    "        valid_aggregate.shape[0],\n",
    "        -1, 1).reshape(-1, 24)\n",
    "\n",
    "test_gt_fold = [None for x in range(len(ORDER))]\n",
    "for appliance_num, appliance in enumerate(ORDER):\n",
    "    test_gt_fold[appliance_num] = test[:, APPLIANCE_ORDER.index(appliance), :, :].reshape(\n",
    "        test_aggregate.shape[0],\n",
    "        -1, 1).reshape(-1, 24)\n",
    "\n",
    "# calcualte the error of validation set\n",
    "valid_error = {}\n",
    "for t in range(200, num_iterations + 1, 200):\n",
    "    valid_error[t] = {}\n",
    "    for appliance_num, appliance in enumerate(ORDER):\n",
    "        valid_error[t][appliance] = mean_absolute_error(valid_fold[t][appliance_num], valid_gt_fold[appliance_num])\n",
    "\n",
    "test_error = {}\n",
    "for t in range(200, num_iterations + 1, 200):\n",
    "    test_error[t] = {}\n",
    "    for appliance_num, appliance in enumerate(ORDER):\n",
    "        test_error[t][appliance] = mean_absolute_error(test_fold[t][appliance_num], test_gt_fold[appliance_num])"
   ]
  },
  {
   "cell_type": "code",
   "execution_count": 194,
   "metadata": {
    "collapsed": true
   },
   "outputs": [],
   "source": [
    "train_gt_fold = [None for x in range(len(ORDER))]\n",
    "for appliance_num, appliance in enumerate(ORDER):\n",
    "    train_gt_fold[appliance_num] = train[:, APPLIANCE_ORDER.index(appliance), :, :].reshape(\n",
    "        train_aggregate.shape[0],\n",
    "        -1, 1).reshape(-1, 24)"
   ]
  },
  {
   "cell_type": "code",
   "execution_count": 195,
   "metadata": {},
   "outputs": [],
   "source": [
    "train_error = {}\n",
    "for t in range(200, num_iterations+1, 200):\n",
    "    train_error[t] = {}\n",
    "    for appliance_num, appliance in enumerate(ORDER):\n",
    "        train_error[t][appliance] = mean_absolute_error(train_fold[t][appliance_num], train_gt_fold[appliance_num])"
   ]
  },
  {
   "cell_type": "code",
   "execution_count": 196,
   "metadata": {
    "collapsed": true
   },
   "outputs": [],
   "source": [
    "import seaborn as sns\n",
    "import matplotlib.pyplot as plt\n",
    "import pandas as pd\n",
    "%matplotlib inline"
   ]
  },
  {
   "cell_type": "code",
   "execution_count": 197,
   "metadata": {},
   "outputs": [
    {
     "data": {
      "text/plain": [
       "(14, 1, 112, 24)"
      ]
     },
     "execution_count": 197,
     "metadata": {},
     "output_type": "execute_result"
    }
   ],
   "source": [
    "test_aggregate.shape"
   ]
  },
  {
   "cell_type": "code",
   "execution_count": 198,
   "metadata": {},
   "outputs": [
    {
     "data": {
      "text/plain": [
       "<matplotlib.axes._subplots.AxesSubplot at 0x7fc65b796c18>"
      ]
     },
     "execution_count": 198,
     "metadata": {},
     "output_type": "execute_result"
    },
    {
     "data": {
      "image/png": "[encoded data removed]",
      "text/plain": [
       "<matplotlib.figure.Figure at 0x7fc65b796eb8>"
      ]
     },
     "metadata": {},
     "output_type": "display_data"
    }
   ],
   "source": [
    "sns.heatmap(pd.DataFrame(test_aggregate[0][0]), cmap='Greens')"
   ]
  },
  {
   "cell_type": "code",
   "execution_count": 202,
   "metadata": {},
   "outputs": [
    {
     "data": {
      "text/plain": [
       "<matplotlib.axes._subplots.AxesSubplot at 0x7fc65b4423c8>"
      ]
     },
     "execution_count": 202,
     "metadata": {},
     "output_type": "execute_result"
    },
    {
     "data": {
      "image/png": "[encoded data removed]",
      "text/plain": [
       "<matplotlib.figure.Figure at 0x7fc65b449860>"
      ]
     },
     "metadata": {},
     "output_type": "display_data"
    }
   ],
   "source": [
    "sns.heatmap(pd.DataFrame(test_fold[2800][0].reshape(-1, 112, 24)[5]), cmap='Greens')"
   ]
  },
  {
   "cell_type": "code",
   "execution_count": 200,
   "metadata": {},
   "outputs": [
    {
     "data": {
      "text/plain": [
       "<matplotlib.axes._subplots.AxesSubplot at 0x7fc65b674550>"
      ]
     },
     "execution_count": 200,
     "metadata": {},
     "output_type": "execute_result"
    },
    {
     "data": {
      "image/png": "[encoded data removed]",
      "text/plain": [
       "<matplotlib.figure.Figure at 0x7fc65b805748>"
      ]
     },
     "metadata": {},
     "output_type": "display_data"
    }
   ],
   "source": [
    "sns.heatmap(pd.DataFrame(test_gt_fold[0].reshape(-1, 112, 24)[5]), cmap='Greens')"
   ]
  },
  {
   "cell_type": "code",
   "execution_count": 180,
   "metadata": {
    "collapsed": true
   },
   "outputs": [],
   "source": [
    "def onoff_error(pred, gt, threshold):\n",
    "    abs_error = np.abs(pred-gt)\n",
    "    error = [x for x in abs_error.reshape(1, -1).tolist()[0] if x >= threshold]\n",
    "    \n",
    "    return np.mean(error)"
   ]
  },
  {
   "cell_type": "code",
   "execution_count": 203,
   "metadata": {
    "scrolled": false
   },
   "outputs": [
    {
     "name": "stdout",
     "output_type": "stream",
     "text": [
      "200 1063.17543576\n",
      "400 1063.94259795\n",
      "600 1063.93326878\n",
      "800 1063.97075715\n",
      "1000 1061.96431481\n",
      "1200 1061.95977987\n",
      "1400 1062.73604499\n",
      "1600 1061.54603325\n",
      "1800 1063.13253497\n",
      "2000 1061.94429575\n",
      "2200 1061.95896398\n",
      "2400 1063.97005991\n",
      "2600 1063.19382195\n",
      "2800 1063.56351157\n",
      "3000 1063.55132026\n",
      "3200 1063.18204011\n",
      "3400 1063.95279368\n",
      "3600 1063.16854866\n",
      "3800 1063.1544597\n",
      "4000 1063.90606362\n",
      "4200 1063.95660095\n",
      "4400 1063.16735982\n",
      "4600 1063.1686905\n",
      "4800 1063.55414578\n",
      "5000 1063.16244559\n",
      "5200 1063.15795332\n",
      "5400 1063.19152787\n",
      "5600 1063.96662131\n",
      "5800 1063.17109256\n",
      "6000 1062.78614689\n",
      "6200 1063.16834259\n",
      "6400 1063.93223355\n",
      "6600 1063.20477026\n",
      "6800 1063.16389795\n",
      "7000 1063.15418247\n",
      "7200 1063.20508319\n",
      "7400 1062.78616456\n",
      "7600 1063.17995565\n",
      "7800 1063.1536081\n",
      "8000 1063.8824483\n",
      "8200 1063.89780374\n",
      "8400 1063.93207345\n",
      "8600 1063.94593893\n",
      "8800 1063.20773224\n",
      "9000 1063.19459706\n",
      "9200 1063.20339337\n",
      "9400 1062.78615443\n",
      "9600 1063.92248762\n",
      "9800 1063.18892197\n",
      "10000 1063.19380257\n",
      "10200 1063.1787738\n",
      "10400 1063.55821753\n",
      "10600 1062.78616713\n",
      "10800 1063.96026827\n",
      "11000 1063.14929362\n",
      "11200 1063.96470323\n",
      "11400 1063.16697358\n",
      "11600 1063.2051212\n",
      "11800 1063.15052942\n",
      "12000 1063.20764808\n",
      "12200 1064.9091523\n",
      "12400 1063.19745686\n",
      "12600 1059.00835773\n",
      "12800 1062.75479203\n",
      "13000 1062.36475453\n",
      "13200 1062.73337657\n",
      "13400 1063.17961791\n",
      "13600 1062.78251078\n",
      "13800 1063.20767849\n",
      "14000 1063.17212507\n",
      "14200 1063.16750789\n",
      "14400 1063.19693385\n",
      "14600 1063.19333722\n",
      "14800 1060.18244148\n",
      "15000 1062.70908763\n",
      "15200 1061.94541767\n",
      "15400 1062.33915835\n",
      "15600 1061.93353791\n",
      "15800 1061.52442677\n",
      "16000 1061.93967546\n",
      "16200 1061.06932967\n",
      "16400 1059.80808197\n",
      "16600 1059.38266347\n",
      "16800 1059.36580519\n",
      "17000 1058.94871943\n",
      "17200 1062.75644095\n",
      "17400 1061.92970172\n",
      "17600 1061.90993211\n",
      "17800 1063.13004066\n",
      "18000 1063.16750989\n",
      "18200 1063.19943549\n",
      "18400 1062.75260911\n",
      "18600 1063.15227572\n",
      "18800 1061.87317441\n",
      "19000 1062.36463349\n",
      "19200 1063.96462424\n",
      "19400 1063.14571351\n",
      "19600 1063.16154203\n",
      "19800 1063.92635842\n",
      "20000 1063.92709795\n",
      "20200 1063.55605517\n",
      "20400 1063.19286305\n",
      "20600 1063.96658398\n",
      "20800 1063.20732162\n",
      "21000 1063.16315686\n",
      "21200 1063.93521248\n",
      "21400 1063.95550133\n",
      "21600 1063.14009439\n",
      "21800 1063.17420155\n",
      "22000 1063.9652248\n",
      "22200 1063.55407028\n",
      "22400 1063.1653899\n",
      "22600 1063.1653112\n",
      "22800 1063.55835119\n",
      "23000 1063.18254456\n",
      "23200 1063.55912368\n",
      "23400 1063.15043626\n",
      "23600 1063.16092478\n",
      "23800 1063.9524171\n",
      "24000 1063.20759644\n",
      "24200 1062.78614183\n",
      "24400 1062.78616713\n",
      "24600 1063.14267843\n",
      "24800 1062.78602029\n"
     ]
    }
   ],
   "source": [
    "for t in range(200, num_iterations+1, 200):\n",
    "\n",
    "    print(t, onoff_error(test_fold[t][0], test_gt_fold[0], 10))"
   ]
  },
  {
   "cell_type": "code",
   "execution_count": 49,
   "metadata": {},
   "outputs": [
    {
     "data": {
      "text/plain": [
       "array([[ 0.2       ,  0.26666668,  0.2       , ...,  1.41666663,\n",
       "         1.26666665,  2.6833334 ],\n",
       "       [ 1.64999998,  1.36666667,  0.64999998, ...,  0.33333334,\n",
       "         1.64999998,  1.68333328],\n",
       "       [ 0.63333333,  0.55000001,  0.98333335, ...,  1.63333333,\n",
       "         0.64999998,  0.66666669],\n",
       "       ..., \n",
       "       [ 0.        ,  0.        ,  0.        , ...,  0.        ,\n",
       "         0.        ,  0.        ],\n",
       "       [ 0.        ,  0.        ,  0.        , ...,  0.2       ,\n",
       "         0.        ,  0.        ],\n",
       "       [ 0.        ,  0.        ,  0.        , ...,  0.        ,\n",
       "         0.        ,  0.        ]])"
      ]
     },
     "execution_count": 49,
     "metadata": {},
     "output_type": "execute_result"
    }
   ],
   "source": [
    "train_gt_fold[2]"
   ]
  },
  {
   "cell_type": "code",
   "execution_count": 47,
   "metadata": {},
   "outputs": [
    {
     "data": {
      "text/plain": [
       "array([[ 0.        ,  0.        ,  0.        , ...,  0.00033851,\n",
       "         0.        ,  0.        ],\n",
       "       [ 0.00239093,  0.00081312,  0.        , ...,  0.        ,\n",
       "         0.        ,  0.        ],\n",
       "       [ 0.        ,  0.        ,  0.        , ...,  0.0097909 ,\n",
       "         0.        ,  0.        ],\n",
       "       ..., \n",
       "       [ 0.        ,  0.        ,  0.        , ...,  0.        ,\n",
       "         0.        ,  0.        ],\n",
       "       [ 0.00337324,  0.        ,  0.00121355, ...,  0.        ,\n",
       "         0.        ,  0.        ],\n",
       "       [ 0.        ,  0.        ,  0.        , ...,  0.        ,\n",
       "         0.        ,  0.0051079 ]], dtype=float32)"
      ]
     },
     "execution_count": 47,
     "metadata": {},
     "output_type": "execute_result"
    }
   ],
   "source": [
    "train_fold[200][2]"
   ]
  },
  {
   "cell_type": "code",
   "execution_count": 37,
   "metadata": {},
   "outputs": [
    {
     "data": {
      "text/html": [
       "<div>\n",
       "<style scoped>\n",
       "    .dataframe tbody tr th:only-of-type {\n",
       "        vertical-align: middle;\n",
       "    }\n",
       "\n",
       "    .dataframe tbody tr th {\n",
       "        vertical-align: top;\n",
       "    }\n",
       "\n",
       "    .dataframe thead th {\n",
       "        text-align: right;\n",
       "    }\n",
       "</style>\n",
       "<table border=\"1\" class=\"dataframe\">\n",
       "  <thead>\n",
       "    <tr style=\"text-align: right;\">\n",
       "      <th></th>\n",
       "      <th>200</th>\n",
       "      <th>400</th>\n",
       "      <th>600</th>\n",
       "      <th>800</th>\n",
       "      <th>1000</th>\n",
       "      <th>1200</th>\n",
       "      <th>1400</th>\n",
       "      <th>1600</th>\n",
       "      <th>1800</th>\n",
       "      <th>2000</th>\n",
       "    </tr>\n",
       "  </thead>\n",
       "  <tbody>\n",
       "    <tr>\n",
       "      <th>dr</th>\n",
       "      <td>71.004390</td>\n",
       "      <td>71.168054</td>\n",
       "      <td>72.256811</td>\n",
       "      <td>74.267883</td>\n",
       "      <td>76.755139</td>\n",
       "      <td>77.602587</td>\n",
       "      <td>78.730931</td>\n",
       "      <td>79.122479</td>\n",
       "      <td>79.205312</td>\n",
       "      <td>79.504459</td>\n",
       "    </tr>\n",
       "    <tr>\n",
       "      <th>dw</th>\n",
       "      <td>19.549013</td>\n",
       "      <td>19.556208</td>\n",
       "      <td>19.538995</td>\n",
       "      <td>19.558140</td>\n",
       "      <td>19.540490</td>\n",
       "      <td>19.538111</td>\n",
       "      <td>19.538131</td>\n",
       "      <td>19.537917</td>\n",
       "      <td>19.552066</td>\n",
       "      <td>19.537951</td>\n",
       "    </tr>\n",
       "    <tr>\n",
       "      <th>fridge</th>\n",
       "      <td>30.020225</td>\n",
       "      <td>31.739404</td>\n",
       "      <td>33.176804</td>\n",
       "      <td>34.401962</td>\n",
       "      <td>35.232226</td>\n",
       "      <td>35.295100</td>\n",
       "      <td>35.884477</td>\n",
       "      <td>36.351166</td>\n",
       "      <td>36.610283</td>\n",
       "      <td>36.548123</td>\n",
       "    </tr>\n",
       "    <tr>\n",
       "      <th>hvac</th>\n",
       "      <td>345.626050</td>\n",
       "      <td>332.520962</td>\n",
       "      <td>326.693016</td>\n",
       "      <td>329.828265</td>\n",
       "      <td>336.977560</td>\n",
       "      <td>335.423433</td>\n",
       "      <td>338.235341</td>\n",
       "      <td>343.442527</td>\n",
       "      <td>343.997589</td>\n",
       "      <td>344.967933</td>\n",
       "    </tr>\n",
       "    <tr>\n",
       "      <th>mw</th>\n",
       "      <td>6.838494</td>\n",
       "      <td>7.412712</td>\n",
       "      <td>7.580235</td>\n",
       "      <td>7.464459</td>\n",
       "      <td>7.741110</td>\n",
       "      <td>8.077630</td>\n",
       "      <td>8.831316</td>\n",
       "      <td>9.520062</td>\n",
       "      <td>9.599482</td>\n",
       "      <td>9.821674</td>\n",
       "    </tr>\n",
       "  </tbody>\n",
       "</table>\n",
       "</div>"
      ],
      "text/plain": [
       "              200         400         600         800         1000  \\\n",
       "dr       71.004390   71.168054   72.256811   74.267883   76.755139   \n",
       "dw       19.549013   19.556208   19.538995   19.558140   19.540490   \n",
       "fridge   30.020225   31.739404   33.176804   34.401962   35.232226   \n",
       "hvac    345.626050  332.520962  326.693016  329.828265  336.977560   \n",
       "mw        6.838494    7.412712    7.580235    7.464459    7.741110   \n",
       "\n",
       "              1200        1400        1600        1800        2000  \n",
       "dr       77.602587   78.730931   79.122479   79.205312   79.504459  \n",
       "dw       19.538111   19.538131   19.537917   19.552066   19.537951  \n",
       "fridge   35.295100   35.884477   36.351166   36.610283   36.548123  \n",
       "hvac    335.423433  338.235341  343.442527  343.997589  344.967933  \n",
       "mw        8.077630    8.831316    9.520062    9.599482    9.821674  "
      ]
     },
     "execution_count": 37,
     "metadata": {},
     "output_type": "execute_result"
    }
   ],
   "source": [
    "pd.DataFrame(test_error)"
   ]
  },
  {
   "cell_type": "code",
   "execution_count": 14,
   "metadata": {},
   "outputs": [
    {
     "data": {
      "text/plain": [
       "{1000: {'dr': 104.51486100150184,\n",
       "  'dw': 11.024693286003417,\n",
       "  'fridge': 43.628079512353146,\n",
       "  'hvac': 170.66594519918587,\n",
       "  'mw': 7.1834119964077372},\n",
       " 2000: {'dr': 132.7653845653841,\n",
       "  'dw': 11.024307860026147,\n",
       "  'fridge': 47.901991705041326,\n",
       "  'hvac': 181.09079424734418,\n",
       "  'mw': 7.1065447021710924},\n",
       " 3000: {'dr': 139.08151216003162,\n",
       "  'dw': 11.024774495282799,\n",
       "  'fridge': 47.871046935981276,\n",
       "  'hvac': 183.52738505555899,\n",
       "  'mw': 7.2129953022498627},\n",
       " 4000: {'dr': 143.52523411012223,\n",
       "  'dw': 11.024311092145034,\n",
       "  'fridge': 47.957222381518989,\n",
       "  'hvac': 183.53725180561787,\n",
       "  'mw': 7.3162178633638364},\n",
       " 5000: {'dr': 147.3578787644916,\n",
       "  'dw': 11.024311247478749,\n",
       "  'fridge': 46.48262682793203,\n",
       "  'hvac': 182.57096604425192,\n",
       "  'mw': 7.3999224717760086},\n",
       " 6000: {'dr': 149.68912326295776,\n",
       "  'dw': 11.024307778145825,\n",
       "  'fridge': 47.255146366351035,\n",
       "  'hvac': 181.87193982892714,\n",
       "  'mw': 7.3724442526361926},\n",
       " 7000: {'dr': 151.1437072533798,\n",
       "  'dw': 11.024307853860456,\n",
       "  'fridge': 46.717229327915732,\n",
       "  'hvac': 181.48665810607824,\n",
       "  'mw': 7.3207172355333467},\n",
       " 8000: {'dr': 152.31718285382053,\n",
       "  'dw': 11.025932603573244,\n",
       "  'fridge': 46.855993559501066,\n",
       "  'hvac': 182.9256162134968,\n",
       "  'mw': 7.2582059045950649},\n",
       " 9000: {'dr': 152.37787066138117,\n",
       "  'dw': 11.024422628325672,\n",
       "  'fridge': 46.689493621713972,\n",
       "  'hvac': 180.6533794534383,\n",
       "  'mw': 7.3147285351374096},\n",
       " 10000: {'dr': 154.46815952176937,\n",
       "  'dw': 11.024907508884889,\n",
       "  'fridge': 45.760092951826401,\n",
       "  'hvac': 180.84976314583136,\n",
       "  'mw': 7.2884722027231135},\n",
       " 11000: {'dr': 154.75650227582003,\n",
       "  'dw': 11.0246821908064,\n",
       "  'fridge': 46.960906693159302,\n",
       "  'hvac': 181.43210881061009,\n",
       "  'mw': 7.3886169309042424},\n",
       " 12000: {'dr': 154.94893909795672,\n",
       "  'dw': 11.024307778420505,\n",
       "  'fridge': 47.065166255988402,\n",
       "  'hvac': 182.12049901952381,\n",
       "  'mw': 7.3165841984723343},\n",
       " 13000: {'dr': 156.39963615045318,\n",
       "  'dw': 11.024466538241564,\n",
       "  'fridge': 46.729634126791062,\n",
       "  'hvac': 182.11279849723573,\n",
       "  'mw': 7.3000256407492765},\n",
       " 14000: {'dr': 155.6760498978359,\n",
       "  'dw': 11.025475895993253,\n",
       "  'fridge': 46.738337796908638,\n",
       "  'hvac': 182.26614527594404,\n",
       "  'mw': 7.3659191848803225},\n",
       " 15000: {'dr': 156.22652940058524,\n",
       "  'dw': 11.024801901400798,\n",
       "  'fridge': 45.832806986446379,\n",
       "  'hvac': 181.65740219521766,\n",
       "  'mw': 7.3436302799796032},\n",
       " 16000: {'dr': 157.36149376351031,\n",
       "  'dw': 11.02431131483681,\n",
       "  'fridge': 45.031742190514727,\n",
       "  'hvac': 181.10976547662767,\n",
       "  'mw': 7.347034767833752},\n",
       " 17000: {'dr': 158.37191575285851,\n",
       "  'dw': 11.024918507342079,\n",
       "  'fridge': 44.620204522097232,\n",
       "  'hvac': 180.5102650107012,\n",
       "  'mw': 7.431757078687407},\n",
       " 18000: {'dr': 157.87068188760301,\n",
       "  'dw': 11.025061503524313,\n",
       "  'fridge': 44.342206117420083,\n",
       "  'hvac': 181.6346876079449,\n",
       "  'mw': 7.461338231840756},\n",
       " 19000: {'dr': 157.75774157997719,\n",
       "  'dw': 11.024616647986397,\n",
       "  'fridge': 43.828741595919006,\n",
       "  'hvac': 181.67620563579649,\n",
       "  'mw': 7.479609761449673},\n",
       " 20000: {'dr': 159.08375126381898,\n",
       "  'dw': 11.026767597495676,\n",
       "  'fridge': 43.792015141285013,\n",
       "  'hvac': 180.38080306910783,\n",
       "  'mw': 7.4739426774765549}}"
      ]
     },
     "execution_count": 14,
     "metadata": {},
     "output_type": "execute_result"
    }
   ],
   "source": [
    "test_error"
   ]
  },
  {
   "cell_type": "code",
   "execution_count": null,
   "metadata": {
    "collapsed": true
   },
   "outputs": [],
   "source": []
  }
 ],
 "metadata": {
  "kernelspec": {
   "display_name": "Python 3",
   "language": "python",
   "name": "python3"
  },
  "language_info": {
   "codemirror_mode": {
    "name": "ipython",
    "version": 3
   },
   "file_extension": ".py",
   "mimetype": "text/x-python",
   "name": "python",
   "nbconvert_exporter": "python",
   "pygments_lexer": "ipython3",
   "version": "3.6.3"
  }
 },
 "nbformat": 4,
 "nbformat_minor": 2
}
