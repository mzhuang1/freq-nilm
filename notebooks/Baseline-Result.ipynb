{
 "cells": [
  {
   "cell_type": "code",
   "execution_count": 1,
   "metadata": {
    "collapsed": true
   },
   "outputs": [],
   "source": [
    "import numpy as np\n",
    "import pandas as pd"
   ]
  },
  {
   "cell_type": "markdown",
   "metadata": {},
   "source": [
    "# SC"
   ]
  },
  {
   "cell_type": "code",
   "execution_count": 5,
   "metadata": {
    "collapsed": true
   },
   "outputs": [],
   "source": [
    "dataset = 3\n",
    "r = {}\n",
    "mean_r = {}\n",
    "for dataset in [3]:\n",
    "    r[dataset] = {}\n",
    "    mean_r[dataset] = {}\n",
    "    for cur_fold in range(5):\n",
    "        r[dataset][cur_fold] = {}\n",
    "        mean_r[dataset][cur_fold] = {}\n",
    "        for num_latent in range(1, 51):\n",
    "            r[dataset][cur_fold][num_latent] = np.load(\"../code/baseline/sc-non-nested/{}/sc-non-valid-error-{}-{}-{}.npy\".format(dataset, dataset, cur_fold, num_latent)).item()\n",
    "            mean_r[dataset][cur_fold][num_latent] = pd.Series(r[dataset][cur_fold][num_latent]).mean()"
   ]
  },
  {
   "cell_type": "code",
   "execution_count": 6,
   "metadata": {
    "collapsed": true
   },
   "outputs": [],
   "source": [
    "best_result = {}\n",
    "best_param = {}\n",
    "best_mean = {}\n",
    "for cluster in [3]:\n",
    "    best_result[cluster] = {}\n",
    "    best_mean[cluster] = {}\n",
    "    best_param[cluster] = {}\n",
    "    for cur_fold in range(5):\n",
    "        best_result[cluster][cur_fold] = {} "
   ]
  },
  {
   "cell_type": "code",
   "execution_count": 7,
   "metadata": {
    "collapsed": true
   },
   "outputs": [],
   "source": [
    "for dataset in [3]:\n",
    "    for cur_fold in range(5):\n",
    "        best_param[dataset][cur_fold] = pd.Series(mean_r[dataset][cur_fold]).idxmin()\n",
    "        best_result[dataset][cur_fold] = r[dataset][cur_fold][best_param[dataset][cur_fold]]\n",
    "        best_mean[dataset][cur_fold] = mean_r[dataset][cur_fold][best_param[dataset][cur_fold]]"
   ]
  },
  {
   "cell_type": "code",
   "execution_count": 9,
   "metadata": {
    "collapsed": true
   },
   "outputs": [],
   "source": [
    "np.save(\"../code/baseline/result/sc-non-disc-param.npy\", best_param)"
   ]
  },
  {
   "cell_type": "code",
   "execution_count": 10,
   "metadata": {},
   "outputs": [
    {
     "name": "stdout",
     "output_type": "stream",
     "text": [
      "python baseline-sc-without-disc-nested.py 3 0 2&\n",
      "python baseline-sc-without-disc-nested.py 3 1 45&\n",
      "python baseline-sc-without-disc-nested.py 3 2 37&\n",
      "python baseline-sc-without-disc-nested.py 3 3 33&\n",
      "python baseline-sc-without-disc-nested.py 3 4 3&\n"
     ]
    }
   ],
   "source": [
    "for dataset in [3]:\n",
    "    for cur_fold in range(5):\n",
    "        print(\"python baseline-sc-without-disc-nested.py {} {} {}&\".format(dataset, cur_fold, best_param[dataset][cur_fold]))"
   ]
  },
  {
   "cell_type": "code",
   "execution_count": 11,
   "metadata": {
    "collapsed": true
   },
   "outputs": [],
   "source": [
    "sc_non_best_param = best_param.copy()\n",
    "sc_non_pred = {}\n",
    "sc_non_gt = {}\n",
    "sc_non_error = {}\n",
    "for cluster in [3]:\n",
    "    sc_non_pred[cluster] = {}\n",
    "    sc_non_gt[cluster] = {}\n",
    "    sc_non_error[cluster] = {}\n",
    "    for cur_fold in range(5):\n",
    "        num_latent = sc_non_best_param[cluster][cur_fold]\n",
    "        sc_non_pred[cluster][cur_fold] = np.load(\"../code/baseline/sc-non-nested/{}/sc-non-test-pred-{}-{}-{}.npy\".format(cluster, cluster, cur_fold, num_latent))\n",
    "        sc_non_error[cluster][cur_fold] = np.load(\"../code/baseline/sc-non-nested/{}/sc-non-test-error-{}-{}-{}.npy\".format(cluster, cluster, cur_fold, num_latent)).item()"
   ]
  },
  {
   "cell_type": "code",
   "execution_count": 12,
   "metadata": {
    "collapsed": true
   },
   "outputs": [],
   "source": [
    "np.save(\"../code/baseline/result/sc-non-disc-pred.npy\", sc_non_pred)\n",
    "np.save(\"../code/baseline/result/sc-non-disc-error.npy\", sc_non_error)"
   ]
  },
  {
   "cell_type": "code",
   "execution_count": 13,
   "metadata": {},
   "outputs": [
    {
     "data": {
      "text/plain": [
       "dr        103.761267\n",
       "dw         56.512676\n",
       "fridge    322.067512\n",
       "hvac      104.721319\n",
       "mw         82.017740\n",
       "dtype: float64"
      ]
     },
     "execution_count": 13,
     "metadata": {},
     "output_type": "execute_result"
    }
   ],
   "source": [
    "pd.DataFrame(sc_non_error[3]).mean(axis=1)"
   ]
  },
  {
   "cell_type": "markdown",
   "metadata": {},
   "source": [
    "# DSC"
   ]
  },
  {
   "cell_type": "code",
   "execution_count": 22,
   "metadata": {
    "collapsed": true,
    "scrolled": false
   },
   "outputs": [],
   "source": [
    "r = {}\n",
    "mean_r = {}\n",
    "for dataset in [1, 2]:\n",
    "    r[dataset] = {}\n",
    "    mean_r[dataset] = {}\n",
    "    for cur_fold in range(5):\n",
    "        r[dataset][cur_fold] = {}\n",
    "        mean_r[dataset][cur_fold] = {}\n",
    "        for num_latent in range(1, 51):\n",
    "            r[dataset][cur_fold][num_latent] = {}\n",
    "            mean_r[dataset][cur_fold][num_latent] = {}\n",
    "            for iters in range(10, 110, 10):\n",
    "                r[dataset][cur_fold][num_latent][iters] = np.load(\"../code/baseline/sc-with-nested/{}/sc-with-valid-error-{}-{}-{}-{}.npy\".format(dataset, dataset, cur_fold, num_latent, iters)).item()\n",
    "                mean_r[dataset][cur_fold][num_latent][iters] = pd.Series(r[dataset][cur_fold][num_latent][iters]).mean()"
   ]
  },
  {
   "cell_type": "code",
   "execution_count": 35,
   "metadata": {
    "collapsed": true
   },
   "outputs": [],
   "source": [
    "best_result = {}\n",
    "best_param = {}\n",
    "best_mean = {}\n",
    "for cluster in [1, 2]:\n",
    "    best_result[cluster] = {}\n",
    "    best_mean[cluster] = {}\n",
    "    best_param[cluster] = {}\n",
    "    for cur_fold in range(5):\n",
    "        best_result[cluster][cur_fold] = {} \n",
    "        best_param[cluster][cur_fold] = {}\n"
   ]
  },
  {
   "cell_type": "code",
   "execution_count": 38,
   "metadata": {
    "collapsed": true
   },
   "outputs": [],
   "source": [
    "for cluster in [1,2]:\n",
    "    for cur_fold in range(5):\n",
    "        \n",
    "        #find the best\n",
    "#         temp = pd.DataFrame(mean_r[cluster][cur_fold]).idxmin(axis=1)\n",
    "        best_error = np.Inf\n",
    "        for latent in range(1, 51):\n",
    "            for iters in range(10, 110, 10):\n",
    "                error = mean_r[cluster][cur_fold][latent][iters]\n",
    "                if error < best_error:\n",
    "                    best_error = error\n",
    "                    best_iters = iters\n",
    "                    best_latent = latent\n",
    "            best_param[cluster][cur_fold]['num_latent'] = best_latent\n",
    "            best_param[cluster][cur_fold]['iters'] = best_iters\n",
    "\n",
    "            best_result[cluster][cur_fold] = r[cluster][cur_fold][best_latent][best_iters]\n",
    "            best_mean[cluster][cur_fold] = mean_r[cluster][cur_fold][best_latent][best_iters]"
   ]
  },
  {
   "cell_type": "code",
   "execution_count": 39,
   "metadata": {
    "collapsed": true
   },
   "outputs": [],
   "source": [
    "np.save(\"../code/baseline/result/sc-with-disc-param.npy\", best_param)"
   ]
  },
  {
   "cell_type": "code",
   "execution_count": 42,
   "metadata": {},
   "outputs": [
    {
     "name": "stdout",
     "output_type": "stream",
     "text": [
      "python baseline-sc-with-disc-nested.py 1 0 1 10&\n",
      "python baseline-sc-with-disc-nested.py 1 1 1 10&\n",
      "python baseline-sc-with-disc-nested.py 1 2 1 10&\n",
      "python baseline-sc-with-disc-nested.py 1 3 1 10&\n",
      "python baseline-sc-with-disc-nested.py 1 4 1 60&\n",
      "python baseline-sc-with-disc-nested.py 2 0 7 20&\n",
      "python baseline-sc-with-disc-nested.py 2 1 7 10&\n",
      "python baseline-sc-with-disc-nested.py 2 2 6 10&\n",
      "python baseline-sc-with-disc-nested.py 2 3 1 20&\n",
      "python baseline-sc-with-disc-nested.py 2 4 3 10&\n"
     ]
    }
   ],
   "source": [
    "for dataset in [1, 2]:\n",
    "    for cur_fold in range(5):\n",
    "        num_latent = best_param[dataset][cur_fold]['num_latent']\n",
    "        iters = best_param[dataset][cur_fold]['iters']\n",
    "        print(\"python baseline-sc-with-disc-nested.py {} {} {} {}&\".format(dataset, cur_fold, num_latent, iters))"
   ]
  },
  {
   "cell_type": "code",
   "execution_count": 46,
   "metadata": {
    "collapsed": true
   },
   "outputs": [],
   "source": [
    "sc_with_best_param = best_param.copy()\n",
    "sc_with_pred = {}\n",
    "sc_with_gt = {}\n",
    "sc_with_error = {}\n",
    "for cluster in [1, 2]:\n",
    "    sc_with_pred[cluster] = {}\n",
    "    sc_with_gt[cluster] = {}\n",
    "    sc_with_error[cluster] = {}\n",
    "    for cur_fold in range(5):\n",
    "        num_latent = sc_with_best_param[cluster][cur_fold]['num_latent']\n",
    "        iters = sc_with_best_param[cluster][cur_fold]['iters']\n",
    "        sc_with_pred[cluster][cur_fold] = np.load(\"../code/baseline/sc-with-nested/{}/sc-with-test-pred-{}-{}-{}-{}.npy\".format(cluster, cluster, cur_fold, num_latent, iters))\n",
    "        sc_with_error[cluster][cur_fold] = np.load(\"../code/baseline/sc-with-nested/{}/sc-with-test-error-{}-{}-{}-{}.npy\".format(cluster, cluster, cur_fold, num_latent, iters)).item()"
   ]
  },
  {
   "cell_type": "code",
   "execution_count": 90,
   "metadata": {
    "collapsed": true
   },
   "outputs": [],
   "source": [
    "np.save(\"../code/baseline/result/DSC-pred.npy\", sc_with_pred)\n",
    "np.save(\"../code/baseline/result/DSC-error.npy\", sc_with_error)"
   ]
  },
  {
   "cell_type": "code",
   "execution_count": 88,
   "metadata": {},
   "outputs": [
    {
     "data": {
      "text/plain": [
       "dr        92.060578\n",
       "dw        29.128687\n",
       "fridge    98.204278\n",
       "hvac      47.914340\n",
       "mw        22.252275\n",
       "dtype: float64"
      ]
     },
     "execution_count": 88,
     "metadata": {},
     "output_type": "execute_result"
    }
   ],
   "source": [
    "pd.DataFrame(sc_with_error[2]).mean(axis=1)"
   ]
  },
  {
   "cell_type": "markdown",
   "metadata": {},
   "source": [
    "# STF"
   ]
  },
  {
   "cell_type": "code",
   "execution_count": 2,
   "metadata": {
    "collapsed": true
   },
   "outputs": [],
   "source": [
    "r = {}\n",
    "mean_r = {}\n",
    "for dataset in [1, 2]:\n",
    "    r[dataset] = {}\n",
    "    mean_r[dataset] = {}\n",
    "    for cur_fold in range(5):\n",
    "        r[dataset][cur_fold] = {}\n",
    "        mean_r[dataset][cur_fold] = {}\n",
    "        for num_latent in range(1, 21):\n",
    "            r[dataset][cur_fold][num_latent] = {}\n",
    "            mean_r[dataset][cur_fold][num_latent] = {}\n",
    "            for lr in [0.01, 0.1 ,1 ,2]:\n",
    "                lr = float(lr)\n",
    "                r[dataset][cur_fold][num_latent][lr] = {}\n",
    "                mean_r[dataset][cur_fold][num_latent][lr] = {}\n",
    "                for iters in range(100, 2600, 400):\n",
    "                    r[dataset][cur_fold][num_latent][lr][iters] = np.load(\"../code/baseline/stf/{}/valid/stf-error-{}-{}-{}-{}-{}.npy\".format(dataset, dataset, cur_fold, num_latent, lr, iters)).item()\n",
    "                    mean_r[dataset][cur_fold][num_latent][lr][iters] = pd.Series(r[dataset][cur_fold][num_latent][lr][iters]).mean()"
   ]
  },
  {
   "cell_type": "code",
   "execution_count": 3,
   "metadata": {
    "collapsed": true
   },
   "outputs": [],
   "source": [
    "best_result = {}\n",
    "best_param = {}\n",
    "best_mean = {}\n",
    "for cluster in [1, 2]:\n",
    "    best_result[cluster] = {}\n",
    "    best_mean[cluster] = {}\n",
    "    best_param[cluster] = {}\n",
    "    for cur_fold in range(5):\n",
    "        best_result[cluster][cur_fold] = {} \n",
    "        best_param[cluster][cur_fold] = {}"
   ]
  },
  {
   "cell_type": "code",
   "execution_count": 4,
   "metadata": {
    "collapsed": true
   },
   "outputs": [],
   "source": [
    "for dataset in [1, 2]:\n",
    "    for cur_fold in range(5):\n",
    "        \n",
    "        #find the best\n",
    "        best_error = np.Inf\n",
    "        for num_latent in range(1, 21):\n",
    "            for lr in [0.01, 0.1, 1, 2]:\n",
    "                lr = float(lr)\n",
    "                for iters in range(100, 2600, 400):\n",
    "                    error = mean_r[dataset][cur_fold][num_latent][lr][iters]\n",
    "                    if error < best_error:\n",
    "                        best_error = error\n",
    "                        best_lr = lr\n",
    "                        best_iters = iters\n",
    "                        best_latent = num_latent\n",
    "        \n",
    "        best_param[dataset][cur_fold]['num_latent'] = best_latent\n",
    "        best_param[dataset][cur_fold]['iters'] = best_iters\n",
    "        best_param[dataset][cur_fold]['lr'] = best_lr\n",
    "\n",
    "\n",
    "        \n",
    "        best_result[dataset][cur_fold] = r[dataset][cur_fold][best_latent][best_lr][best_iters]\n",
    "        best_mean[dataset][cur_fold] = mean_r[dataset][cur_fold][best_latent][best_lr][best_iters]"
   ]
  },
  {
   "cell_type": "code",
   "execution_count": 5,
   "metadata": {
    "collapsed": true
   },
   "outputs": [],
   "source": [
    "np.save(\"../code/baseline/result/stf-param.npy\", best_param)"
   ]
  },
  {
   "cell_type": "code",
   "execution_count": 6,
   "metadata": {},
   "outputs": [
    {
     "name": "stdout",
     "output_type": "stream",
     "text": [
      "python baseline-stf-nested.py 1 0 18 0.1 2500 &\n",
      "python baseline-stf-nested.py 1 1 14 2.0 900 &\n",
      "python baseline-stf-nested.py 1 2 15 2.0 500 &\n",
      "python baseline-stf-nested.py 1 3 20 0.1 2500 &\n",
      "python baseline-stf-nested.py 1 4 13 2.0 500 &\n",
      "python baseline-stf-nested.py 2 0 14 1.0 1700 &\n",
      "python baseline-stf-nested.py 2 1 15 2.0 2500 &\n",
      "python baseline-stf-nested.py 2 2 16 2.0 2100 &\n",
      "python baseline-stf-nested.py 2 3 10 1.0 2500 &\n",
      "python baseline-stf-nested.py 2 4 12 2.0 2100 &\n"
     ]
    }
   ],
   "source": [
    "for dataset in [1, 2]:\n",
    "    for cur_fold in range(5):\n",
    "        num_latent = best_param[dataset][cur_fold]['num_latent'] \n",
    "        iters = best_param[dataset][cur_fold]['iters']\n",
    "        lr = best_param[dataset][cur_fold]['lr']\n",
    "        print(\"python baseline-stf-nested.py {} {} {} {} {} &\".format(dataset, cur_fold, num_latent, lr, iters))"
   ]
  },
  {
   "cell_type": "code",
   "execution_count": 7,
   "metadata": {
    "collapsed": true
   },
   "outputs": [],
   "source": [
    "stf_best_param = best_param.copy()\n",
    "stf_pred = {}\n",
    "stf_gt = {}\n",
    "stf_error = {}\n",
    "for cluster in [1, 2]:\n",
    "    stf_pred[cluster] = {}\n",
    "    stf_gt[cluster] = {}\n",
    "    stf_error[cluster] = {}\n",
    "    for cur_fold in range(5):\n",
    "        num_latent = stf_best_param[cluster][cur_fold]['num_latent']\n",
    "        iters = stf_best_param[cluster][cur_fold]['iters']\n",
    "        lr = stf_best_param[cluster][cur_fold]['lr']\n",
    "        stf_pred[cluster][cur_fold] = np.load(\"../code/baseline/stf/{}/test/stf-test-pred-{}-{}-{}-{}-{}.npy\".format(cluster, cluster, cur_fold, num_latent, lr , iters))\n",
    "        stf_error[cluster][cur_fold] = np.load(\"../code/baseline/stf/{}/test/stf-test-error-{}-{}-{}-{}-{}.npy\".format(cluster, cluster, cur_fold, num_latent, lr, iters)).item()"
   ]
  },
  {
   "cell_type": "code",
   "execution_count": 8,
   "metadata": {
    "collapsed": true
   },
   "outputs": [],
   "source": [
    "np.save(\"../code/baseline/result/stf-pred-12.npy\", stf_pred)"
   ]
  },
  {
   "cell_type": "markdown",
   "metadata": {},
   "source": [
    "# MTF"
   ]
  },
  {
   "cell_type": "code",
   "execution_count": 9,
   "metadata": {
    "collapsed": true
   },
   "outputs": [],
   "source": [
    "r = {}\n",
    "mean_r = {}\n",
    "for dataset in [1, 2]:\n",
    "    r[dataset] = {}\n",
    "    mean_r[dataset] = {}\n",
    "    for cur_fold in range(5):\n",
    "        r[dataset][cur_fold] = {}\n",
    "        mean_r[dataset][cur_fold] = {}\n",
    "        for num_latent in range(1, 21):\n",
    "            r[dataset][cur_fold][num_latent] = {}\n",
    "            mean_r[dataset][cur_fold][num_latent] = {}\n",
    "            for lr in [0.01, 0.1 ,1 ,2]:\n",
    "                lr = float(lr)\n",
    "                r[dataset][cur_fold][num_latent][lr] = {}\n",
    "                mean_r[dataset][cur_fold][num_latent][lr] = {}\n",
    "                for iters in range(100, 2600, 400):\n",
    "                    r[dataset][cur_fold][num_latent][lr][iters] = np.load(\"../code/baseline/mtf/{}/valid/mtf-error-{}-{}-{}-{}-{}.npy\".format(dataset, dataset, cur_fold, num_latent, lr, iters)).item()\n",
    "                    mean_r[dataset][cur_fold][num_latent][lr][iters] = pd.Series(r[dataset][cur_fold][num_latent][lr][iters]).mean()"
   ]
  },
  {
   "cell_type": "code",
   "execution_count": 10,
   "metadata": {
    "collapsed": true
   },
   "outputs": [],
   "source": [
    "best_result = {}\n",
    "best_param = {}\n",
    "best_mean = {}\n",
    "for cluster in [1, 2]:\n",
    "    best_result[cluster] = {}\n",
    "    best_mean[cluster] = {}\n",
    "    best_param[cluster] = {}\n",
    "    for cur_fold in range(5):\n",
    "        best_result[cluster][cur_fold] = {} \n",
    "        best_param[cluster][cur_fold] = {}"
   ]
  },
  {
   "cell_type": "code",
   "execution_count": 11,
   "metadata": {
    "collapsed": true
   },
   "outputs": [],
   "source": [
    "for dataset in [1, 2]:\n",
    "    for cur_fold in range(5):\n",
    "        \n",
    "        #find the best\n",
    "        best_error = np.Inf\n",
    "        for num_latent in range(1, 21):\n",
    "            for lr in [0.01, 0.1, 1, 2]:\n",
    "                lr = float(lr)\n",
    "                for iters in range(100, 2600, 400):\n",
    "                    error = mean_r[dataset][cur_fold][num_latent][lr][iters]\n",
    "                    if error < best_error:\n",
    "                        best_error = error\n",
    "                        best_lr = lr\n",
    "                        best_iters = iters\n",
    "                        best_latent = num_latent\n",
    "        \n",
    "        best_param[dataset][cur_fold]['num_latent'] = best_latent\n",
    "        best_param[dataset][cur_fold]['iters'] = best_iters\n",
    "        best_param[dataset][cur_fold]['lr'] = best_lr\n",
    "\n",
    "\n",
    "        \n",
    "        best_result[dataset][cur_fold] = r[dataset][cur_fold][best_latent][best_lr][best_iters]\n",
    "        best_mean[dataset][cur_fold] = mean_r[dataset][cur_fold][best_latent][best_lr][best_iters]"
   ]
  },
  {
   "cell_type": "code",
   "execution_count": 12,
   "metadata": {
    "collapsed": true
   },
   "outputs": [],
   "source": [
    "np.save(\"../code/baseline/result/mtf-param.npy\", best_param)"
   ]
  },
  {
   "cell_type": "code",
   "execution_count": 13,
   "metadata": {},
   "outputs": [
    {
     "name": "stdout",
     "output_type": "stream",
     "text": [
      "python baseline-mtf-nested.py 1 0 20 0.1 1700 &\n",
      "python baseline-mtf-nested.py 1 1 15 1.0 900 &\n",
      "python baseline-mtf-nested.py 1 2 19 2.0 2500 &\n",
      "python baseline-mtf-nested.py 1 3 7 2.0 100 &\n",
      "python baseline-mtf-nested.py 1 4 13 2.0 2100 &\n",
      "python baseline-mtf-nested.py 2 0 17 1.0 900 &\n",
      "python baseline-mtf-nested.py 2 1 13 2.0 2500 &\n",
      "python baseline-mtf-nested.py 2 2 8 2.0 2100 &\n",
      "python baseline-mtf-nested.py 2 3 11 2.0 2500 &\n",
      "python baseline-mtf-nested.py 2 4 16 1.0 1300 &\n"
     ]
    }
   ],
   "source": [
    "for dataset in [1, 2]:\n",
    "    for cur_fold in range(5):\n",
    "        num_latent = best_param[dataset][cur_fold]['num_latent'] \n",
    "        iters = best_param[dataset][cur_fold]['iters']\n",
    "        lr = best_param[dataset][cur_fold]['lr']\n",
    "        print(\"python baseline-mtf-nested.py {} {} {} {} {} &\".format(dataset, cur_fold, num_latent, lr, iters))"
   ]
  },
  {
   "cell_type": "code",
   "execution_count": 14,
   "metadata": {
    "collapsed": true
   },
   "outputs": [],
   "source": [
    "mtf_best_param = best_param.copy()\n",
    "mtf_pred = {}\n",
    "mtf_gt = {}\n",
    "mtf_error = {}\n",
    "for cluster in [1, 2]:\n",
    "    mtf_pred[cluster] = {}\n",
    "    mtf_gt[cluster] = {}\n",
    "    mtf_error[cluster] = {}\n",
    "    for cur_fold in range(5):\n",
    "        num_latent = mtf_best_param[cluster][cur_fold]['num_latent']\n",
    "        iters = mtf_best_param[cluster][cur_fold]['iters']\n",
    "        lr = mtf_best_param[cluster][cur_fold]['lr']\n",
    "        mtf_pred[cluster][cur_fold] = np.load(\"../code/baseline/mtf/{}/test/mtf-test-pred-{}-{}-{}-{}-{}.npy\".format(cluster, cluster, cur_fold, num_latent, lr , iters))\n",
    "        mtf_error[cluster][cur_fold] = np.load(\"../code/baseline/mtf/{}/test/mtf-test-error-{}-{}-{}-{}-{}.npy\".format(cluster, cluster, cur_fold, num_latent, lr, iters)).item()"
   ]
  },
  {
   "cell_type": "code",
   "execution_count": 15,
   "metadata": {
    "collapsed": true
   },
   "outputs": [],
   "source": [
    "np.save(\"../code/baseline/result/mtf-pred-12.npy\", mtf_pred)"
   ]
  }
 ],
 "metadata": {
  "kernelspec": {
   "display_name": "Python 3",
   "language": "python",
   "name": "python3"
  },
  "language_info": {
   "codemirror_mode": {
    "name": "ipython",
    "version": 3
   },
   "file_extension": ".py",
   "mimetype": "text/x-python",
   "name": "python",
   "nbconvert_exporter": "python",
   "pygments_lexer": "ipython3",
   "version": "3.6.3"
  }
 },
 "nbformat": 4,
 "nbformat_minor": 2
}
