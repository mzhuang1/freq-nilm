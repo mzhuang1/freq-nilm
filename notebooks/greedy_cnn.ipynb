{
 "cells": [
  {
   "cell_type": "code",
   "execution_count": 62,
   "metadata": {
    "collapsed": true
   },
   "outputs": [],
   "source": [
    "import torch\n",
    "from torch.autograd import Variable\n",
    "import numpy as np\n",
    "import torch.nn as nn\n",
    "from torchvision import datasets,transforms\n",
    "import torch.nn.functional as F\n",
    "import sys\n",
    "sys.path.append(\"../code/\")\n",
    "from dataloader import APPLIANCE_ORDER, get_train_test\n",
    "from sklearn.metrics import mean_absolute_error\n",
    "import os\n",
    "import pandas as pd\n",
    "import sys\n",
    "import numpy as np\n",
    "import matplotlib.pyplot as plt\n",
    "sys.path.append('../code/')\n",
    "%matplotlib inline\n",
    "import itertools\n",
    "from pathlib import Path"
   ]
  },
  {
   "cell_type": "code",
   "execution_count": 204,
   "metadata": {},
   "outputs": [],
   "source": [
    "gid = 0\n",
    "srv = 8\n",
    "c = 0\n",
    "k = 0\n",
    "dataset = 3\n",
    "test_error = {}\n",
    "for fold_num in range(5):\n",
    "    test_error[fold_num] = {}\n",
    "    for lr in [0.001, 0.01, 0.1]:\n",
    "        test_error[fold_num][lr] = {}\n",
    "        for iters in [20000]:\n",
    "            for order in list(itertools.permutations(['hvac', 'fridge', 'dr', 'dw', 'mw'], 3)):\n",
    "                for p in [0.0]:\n",
    "                    \n",
    "                    try:\n",
    "                        o = \"\\', \\'\".join(str(x) for x in order)\n",
    "\n",
    "                        directory = \"../code/baseline/cnn-tree/{}/{}/{}/{}/{}/\".format(dataset, fold_num, lr, iters, p)\n",
    "                        filename = \"test-error-[\\'{}\\'].npy\".format(o)\n",
    "                        full_path = directory + filename\n",
    "                        my_file = Path(full_path)\n",
    "    #                     print(full_path)\n",
    "                        e = np.load(full_path).item()\n",
    "                        test_error[fold_num][lr][order] = {}\n",
    "                        for iters in range(1000, 20001, 1000):\n",
    "                            test_error[fold_num][lr][order][iters] = e[iters]\n",
    "                    except:\n",
    "#                         print(\"except\")\n",
    "                        continue"
   ]
  },
  {
   "cell_type": "code",
   "execution_count": 205,
   "metadata": {
    "collapsed": true
   },
   "outputs": [],
   "source": [
    "appliance_contri = {'hvac':0.83003428, 'fridge':0.0827564, 'dr':0.06381463, 'dw':0.01472098, 'mw':0.00867371}"
   ]
  },
  {
   "cell_type": "code",
   "execution_count": 206,
   "metadata": {},
   "outputs": [],
   "source": [
    "error = {}\n",
    "\n",
    "for fold_num in range(5):\n",
    "    error[fold_num] = {}\n",
    "    for lr in [0.001 ,0.01, 0.1]:\n",
    "        error[fold_num][lr] = {}\n",
    "        for order in test_error[fold_num][lr].keys():\n",
    "            error[fold_num][lr][order] = {}\n",
    "            for iters in range(1000, 20001, 1000):\n",
    "                apps = test_error[fold_num][lr][order][iters].keys()\n",
    "                error[fold_num][lr][order][iters] = 0\n",
    "                for k in apps:\n",
    "                    error[fold_num][lr][order][iters] += test_error[fold_num][lr][order][iters][k]/appliance_contri[k]"
   ]
  },
  {
   "cell_type": "code",
   "execution_count": 207,
   "metadata": {
    "collapsed": true
   },
   "outputs": [],
   "source": [
    "b_error = {}\n",
    "for fold_num in range(5):\n",
    "    b_error[fold_num] = {}\n",
    "    for lr in [0.001 ,0.01, 0.1]:\n",
    "        b_error[fold_num][lr] = {}\n",
    "        for order in test_error[fold_num][lr].keys():\n",
    "#             b_error[fold_num][lr][order] = {}\n",
    "#             for iters in range(1000, 100001, 1000):\n",
    "            b_error[fold_num][lr][order] = pd.Series(error[fold_num][lr][order]).min()"
   ]
  },
  {
   "cell_type": "code",
   "execution_count": 210,
   "metadata": {},
   "outputs": [
    {
     "data": {
      "text/plain": [
       "mw      fridge  hvac    1484.358404\n",
       "fridge  hvac    mw      1524.857902\n",
       "hvac    fridge  mw      1533.993993\n",
       "dtype: float64"
      ]
     },
     "execution_count": 210,
     "metadata": {},
     "output_type": "execute_result"
    }
   ],
   "source": [
    "pd.DataFrame(b_error[3]).T.min().nsmallest(3)"
   ]
  },
  {
   "cell_type": "code",
   "execution_count": 211,
   "metadata": {},
   "outputs": [],
   "source": [
    "cand = {}\n",
    "for fold_num in range(5):\n",
    "    c = pd.DataFrame(b_error[fold_num]).T.min().nsmallest(3).keys()\n",
    "    cand[fold_num] = []\n",
    "    for o in c:\n",
    "        k = [x for x in APPLIANCE_ORDER[1:-1] if x not in o]\n",
    "        a = o + (k[0],)\n",
    "        cand[fold_num].append(a)"
   ]
  },
  {
   "cell_type": "code",
   "execution_count": 222,
   "metadata": {},
   "outputs": [
    {
     "data": {
      "text/plain": [
       "[('dw', 'fridge', 'hvac', 'dr'),\n",
       " ('fridge', 'hvac', 'dw', 'dr'),\n",
       " ('hvac', 'fridge', 'dw', 'dr')]"
      ]
     },
     "execution_count": 222,
     "metadata": {},
     "output_type": "execute_result"
    }
   ],
   "source": [
    "cand[4]"
   ]
  },
  {
   "cell_type": "code",
   "execution_count": 213,
   "metadata": {},
   "outputs": [
    {
     "name": "stdout",
     "output_type": "stream",
     "text": [
      "CUDA_VISIBLE_DEVICES=0 python cnn-tree.py 3 0.01 20000 0.0 0 dw hvac fridge dr &\n",
      "CUDA_VISIBLE_DEVICES=1 python cnn-tree.py 3 0.01 20000 0.0 0 fridge hvac dw dr &\n",
      "CUDA_VISIBLE_DEVICES=2 python cnn-tree.py 3 0.01 20000 0.0 0 hvac fridge dw dr &\n",
      "CUDA_VISIBLE_DEVICES=3 python cnn-tree.py 3 0.001 20000 0.0 0 dw hvac fridge dr &\n",
      "CUDA_VISIBLE_DEVICES=0 python cnn-tree.py 3 0.001 20000 0.0 0 fridge hvac dw dr &\n",
      "CUDA_VISIBLE_DEVICES=1 python cnn-tree.py 3 0.001 20000 0.0 0 hvac fridge dw dr &\n",
      "CUDA_VISIBLE_DEVICES=2 python cnn-tree.py 3 0.1 20000 0.0 0 dw hvac fridge dr &\n",
      "CUDA_VISIBLE_DEVICES=3 python cnn-tree.py 3 0.1 20000 0.0 0 fridge hvac dw dr &\n",
      "CUDA_VISIBLE_DEVICES=0 python cnn-tree.py 3 0.1 20000 0.0 0 hvac fridge dw dr &\n",
      "CUDA_VISIBLE_DEVICES=1 python cnn-tree.py 3 0.01 20000 0.0 1 dr hvac fridge dw &\n",
      "CUDA_VISIBLE_DEVICES=2 python cnn-tree.py 3 0.001 20000 0.0 1 dr hvac fridge dw &\n",
      "CUDA_VISIBLE_DEVICES=3 python cnn-tree.py 3 0.1 20000 0.0 1 dr hvac fridge dw &\n",
      "CUDA_VISIBLE_DEVICES=0 python cnn-tree.py 3 0.01 20000 0.0 2 fridge hvac mw dr &\n",
      "CUDA_VISIBLE_DEVICES=1 python cnn-tree.py 3 0.01 20000 0.0 2 hvac fridge mw dr &\n",
      "CUDA_VISIBLE_DEVICES=2 python cnn-tree.py 3 0.001 20000 0.0 2 fridge hvac mw dr &\n",
      "CUDA_VISIBLE_DEVICES=3 python cnn-tree.py 3 0.001 20000 0.0 2 hvac fridge mw dr &\n",
      "CUDA_VISIBLE_DEVICES=0 python cnn-tree.py 3 0.1 20000 0.0 2 fridge hvac mw dr &\n",
      "CUDA_VISIBLE_DEVICES=1 python cnn-tree.py 3 0.1 20000 0.0 2 hvac fridge mw dr &\n",
      "CUDA_VISIBLE_DEVICES=2 python cnn-tree.py 3 0.01 20000 0.0 3 fridge hvac mw dr &\n",
      "CUDA_VISIBLE_DEVICES=3 python cnn-tree.py 3 0.01 20000 0.0 3 hvac fridge mw dr &\n",
      "CUDA_VISIBLE_DEVICES=0 python cnn-tree.py 3 0.001 20000 0.0 3 fridge hvac mw dr &\n",
      "CUDA_VISIBLE_DEVICES=1 python cnn-tree.py 3 0.001 20000 0.0 3 hvac fridge mw dr &\n",
      "CUDA_VISIBLE_DEVICES=2 python cnn-tree.py 3 0.1 20000 0.0 3 fridge hvac mw dr &\n",
      "CUDA_VISIBLE_DEVICES=3 python cnn-tree.py 3 0.1 20000 0.0 3 hvac fridge mw dr &\n",
      "CUDA_VISIBLE_DEVICES=0 python cnn-tree.py 3 0.01 20000 0.0 4 dw fridge hvac dr &\n",
      "CUDA_VISIBLE_DEVICES=1 python cnn-tree.py 3 0.01 20000 0.0 4 fridge hvac dw dr &\n",
      "CUDA_VISIBLE_DEVICES=2 python cnn-tree.py 3 0.01 20000 0.0 4 hvac fridge dw dr &\n",
      "CUDA_VISIBLE_DEVICES=3 python cnn-tree.py 3 0.001 20000 0.0 4 dw fridge hvac dr &\n",
      "CUDA_VISIBLE_DEVICES=0 python cnn-tree.py 3 0.001 20000 0.0 4 fridge hvac dw dr &\n",
      "CUDA_VISIBLE_DEVICES=1 python cnn-tree.py 3 0.001 20000 0.0 4 hvac fridge dw dr &\n",
      "CUDA_VISIBLE_DEVICES=2 python cnn-tree.py 3 0.1 20000 0.0 4 dw fridge hvac dr &\n",
      "CUDA_VISIBLE_DEVICES=3 python cnn-tree.py 3 0.1 20000 0.0 4 fridge hvac dw dr &\n",
      "CUDA_VISIBLE_DEVICES=0 python cnn-tree.py 3 0.1 20000 0.0 4 hvac fridge dw dr &\n"
     ]
    }
   ],
   "source": [
    "gid = 0\n",
    "srv = 8\n",
    "c = 0\n",
    "k = 0\n",
    "dataset = 3\n",
    "test_error = {}\n",
    "for fold_num in range(5):\n",
    "    test_error[fold_num] = {}\n",
    "    for lr in [0.01, 0.001, 0.1]:\n",
    "        test_error[fold_num][lr] = {}\n",
    "        for iters in [20000]:\n",
    "            for order in cand[fold_num]:\n",
    "                for p in [0.0]:\n",
    "                    \n",
    "                    try:\n",
    "                        o = \"\\', \\'\".join(str(x) for x in order)\n",
    "                        \n",
    "                        directory = \"../code/baseline/cnn-tree/{}/{}/{}/{}/{}/\".format(dataset, fold_num, lr, iters, p)\n",
    "                        filename = \"test-error-[\\'{}\\'].npy\".format(o)\n",
    "#                         print(filename)\n",
    "                        full_path = directory + filename\n",
    "                        my_file = Path(full_path)\n",
    "#                         print(full_path)\n",
    "                        e = np.load(full_path).item()\n",
    "                        test_error[fold_num][lr][order] = {}\n",
    "                        for iters in range(1000, 20001, 1000):\n",
    "                            test_error[fold_num][lr][order][iters] = e[iters]\n",
    "                    except:\n",
    "                        o = \" \".join(str(x) for x in order)\n",
    "                        line = (\"CUDA_VISIBLE_DEVICES={} python cnn-tree.py 3 {} {} {} {} {} &\".format(gid, lr, 20000, p, fold_num, o))\n",
    "                        print(line)\n",
    "                        gid += 1\n",
    "                        if gid == 4:\n",
    "                            gid = 0"
   ]
  },
  {
   "cell_type": "code",
   "execution_count": 214,
   "metadata": {},
   "outputs": [],
   "source": [
    "error = {}\n",
    "\n",
    "for fold_num in range(5):\n",
    "    error[fold_num] = {}\n",
    "    for lr in [0.01]:\n",
    "        error[fold_num][lr] = {}\n",
    "        for order in test_error[fold_num][lr].keys():\n",
    "            error[fold_num][lr][order] = {}\n",
    "            for iters in range(1000, 20001, 1000):\n",
    "                apps = test_error[fold_num][lr][order][iters].keys()\n",
    "                error[fold_num][lr][order][iters] = 0\n",
    "                for k in apps:\n",
    "                    error[fold_num][lr][order][iters] += test_error[fold_num][lr][order][iters][k]/appliance_contri[k]"
   ]
  },
  {
   "cell_type": "code",
   "execution_count": 215,
   "metadata": {},
   "outputs": [
    {
     "name": "stderr",
     "output_type": "stream",
     "text": [
      "/zf14/yj9xs/anaconda3/lib/python3.6/site-packages/ipykernel_launcher.py:13: FutureWarning: 'argmin' is deprecated. Use 'idxmin' instead. The behavior of 'argmin' will be corrected to return the positional minimum in the future. Use 'series.values.argmin' to get the position of the minimum now.\n",
      "  del sys.path[0]\n"
     ]
    }
   ],
   "source": [
    "b_error = {}\n",
    "iters = {}\n",
    "for fold_num in range(5):\n",
    "    b_error[fold_num] = {}\n",
    "    iters[fold_num] = {}\n",
    "    for lr in [0.01]:\n",
    "        b_error[fold_num][lr] = {}\n",
    "        iters[fold_num][lr] = {}\n",
    "        for order in test_error[fold_num][lr].keys():\n",
    "#             b_error[fold_num][lr][order] = {}\n",
    "#             for iters in range(1000, 100001, 1000):\n",
    "            b_error[fold_num][lr][order] = pd.Series(error[fold_num][lr][order]).min()\n",
    "            iters[fold_num][lr][order] = pd.Series(error[fold_num][lr][order]).argmin()\n",
    "        "
   ]
  },
  {
   "cell_type": "code",
   "execution_count": 216,
   "metadata": {},
   "outputs": [
    {
     "data": {
      "text/html": [
       "<div>\n",
       "<style scoped>\n",
       "    .dataframe tbody tr th:only-of-type {\n",
       "        vertical-align: middle;\n",
       "    }\n",
       "\n",
       "    .dataframe tbody tr th {\n",
       "        vertical-align: top;\n",
       "    }\n",
       "\n",
       "    .dataframe thead th {\n",
       "        text-align: right;\n",
       "    }\n",
       "</style>\n",
       "<table border=\"1\" class=\"dataframe\">\n",
       "  <thead>\n",
       "    <tr style=\"text-align: right;\">\n",
       "      <th></th>\n",
       "      <th></th>\n",
       "      <th></th>\n",
       "      <th></th>\n",
       "      <th>0.01</th>\n",
       "    </tr>\n",
       "  </thead>\n",
       "  <tbody>\n",
       "    <tr>\n",
       "      <th>mw</th>\n",
       "      <th>fridge</th>\n",
       "      <th>hvac</th>\n",
       "      <th>dr</th>\n",
       "      <td>2730.886539</td>\n",
       "    </tr>\n",
       "  </tbody>\n",
       "</table>\n",
       "</div>"
      ],
      "text/plain": [
       "                          0.01\n",
       "mw fridge hvac dr  2730.886539"
      ]
     },
     "execution_count": 216,
     "metadata": {},
     "output_type": "execute_result"
    }
   ],
   "source": [
    "pd.DataFrame(b_error[2])"
   ]
  },
  {
   "cell_type": "code",
   "execution_count": 217,
   "metadata": {},
   "outputs": [
    {
     "data": {
      "text/html": [
       "<div>\n",
       "<style scoped>\n",
       "    .dataframe tbody tr th:only-of-type {\n",
       "        vertical-align: middle;\n",
       "    }\n",
       "\n",
       "    .dataframe tbody tr th {\n",
       "        vertical-align: top;\n",
       "    }\n",
       "\n",
       "    .dataframe thead th {\n",
       "        text-align: right;\n",
       "    }\n",
       "</style>\n",
       "<table border=\"1\" class=\"dataframe\">\n",
       "  <thead>\n",
       "    <tr style=\"text-align: right;\">\n",
       "      <th></th>\n",
       "      <th>0.01</th>\n",
       "    </tr>\n",
       "  </thead>\n",
       "  <tbody>\n",
       "  </tbody>\n",
       "</table>\n",
       "</div>"
      ],
      "text/plain": [
       "Empty DataFrame\n",
       "Columns: [0.01]\n",
       "Index: []"
      ]
     },
     "execution_count": 217,
     "metadata": {},
     "output_type": "execute_result"
    }
   ],
   "source": [
    "pd.DataFrame(iters[0])"
   ]
  },
  {
   "cell_type": "code",
   "execution_count": 225,
   "metadata": {},
   "outputs": [],
   "source": [
    "cnn_tree_params = {}\n",
    "cnn_tree_params[1] = np.load(\"../code/baseline/result/cnn-tree-new-param-1.npy\").item()\n",
    "cnn_tree_params[3] = np.load(\"../code/baseline/result/cnn-tree-final-param-3.npy\").item()"
   ]
  },
  {
   "cell_type": "code",
   "execution_count": 232,
   "metadata": {},
   "outputs": [],
   "source": [
    "# get prediction for cnn tree\n",
    "cnn_tree_error= {}\n",
    "for dataset in [1, 3]:\n",
    "    cnn_tree_error[dataset] = {}\n",
    "    for fold_num in range(5):\n",
    "#         cnn_tree_error[dataset][fold_num] = {}\n",
    "\n",
    "        lr = cnn_tree_params[dataset][fold_num]['lr']\n",
    "        iters = cnn_tree_params[dataset][fold_num]['iters']\n",
    "        order = cnn_tree_params[dataset][fold_num]['order']\n",
    "\n",
    "        o = \"\\', \\'\".join(str(x) for x in order)\n",
    "        directory = \"../code/baseline/cnn-tree/{}/{}/{}/20000/0.0/\".format(dataset, fold_num,lr)\n",
    "        filename = \"test-error-[\\'{}\\'].npy\".format(o)\n",
    "\n",
    "        full_path = directory + filename\n",
    "        cnn_tree_error[dataset][fold_num] = np.load(full_path).item()[iters]\n",
    "\n",
    "#         for idx, appliance in enumerate(order):\n",
    "#             cnn_tree_error[dataset][fold_num][appliance] = cnn_pred[idx]\n",
    "    "
   ]
  },
  {
   "cell_type": "code",
   "execution_count": 240,
   "metadata": {},
   "outputs": [],
   "source": [
    "error = {}\n",
    "error[1] = {}\n",
    "error[1][0] = np.load(\"../code/baseline/cnn-tree/1/0/0.01/20000/0.0/test-error-['dr', 'hvac', 'fridge', 'mw', 'dw'].npy\").item()\n",
    "error[1][1] = np.load(\"../code/baseline/cnn-tree/1/0/0.01/20000/0.0/test-error-['hvac', 'dr', 'fridge', 'dw', 'mw'].npy\").item()\n",
    "error[1][2] = np.load(\"../code/baseline/cnn-tree/1/0/0.01/20000/0.0/test-error-['fridge', 'hvac', 'mw', 'dw', 'dr'].npy\").item()\n",
    "error[1][3] = np.load(\"../code/baseline/cnn-tree/1/0/0.01/20000/0.0/test-error-['hvac', 'mw', 'fridge', 'dw', 'dr'].npy\").item()\n",
    "error[1][4] = np.load(\"../code/baseline/cnn-tree/1/0/0.01/20000/0.0/test-error-['fridge', 'hvac', 'dw', 'mw', 'dr'].npy\").item()"
   ]
  },
  {
   "cell_type": "code",
   "execution_count": 249,
   "metadata": {},
   "outputs": [],
   "source": [
    "k = pd.DataFrame(error[1][0]).mean().min()*14 + pd.DataFrame(error[1][1]).mean().min()*14 + pd.DataFrame(error[1][2]).mean().min()*14 + pd.DataFrame(error[1][3]).mean().min()*13 + pd.DataFrame(error[1][4]).mean().min()*13"
   ]
  },
  {
   "cell_type": "code",
   "execution_count": 250,
   "metadata": {},
   "outputs": [
    {
     "data": {
      "text/plain": [
       "62.03123642656481"
      ]
     },
     "execution_count": 250,
     "metadata": {},
     "output_type": "execute_result"
    }
   ],
   "source": [
    "k/68"
   ]
  },
  {
   "cell_type": "code",
   "execution_count": 257,
   "metadata": {
    "collapsed": true
   },
   "outputs": [],
   "source": [
    "error = {}\n",
    "error[1] = {}\n",
    "error[1][0] = np.load(\"../code/baseline/cnn-tree/3/0/0.01/20000/0.0/test-error-['dw', 'hvac', 'fridge', 'dr', 'mw'].npy\").item()\n",
    "error[1][1] = np.load(\"../code/baseline/cnn-tree/3/0/0.01/20000/0.0/test-error-['fridge', 'hvac', 'dr', 'dw', 'mw'].npy\").item()\n",
    "error[1][2] = np.load(\"../code/baseline/cnn-tree/3/0/0.01/20000/0.0/test-error-['mw', 'fridge', 'hvac', 'dr', 'dw'].npy\").item()\n",
    "error[1][3] = np.load(\"../code/baseline/cnn-tree/3/0/0.01/20000/0.0/test-error-['hvac', 'fridge', 'mw', 'dr', 'dw'].npy\").item()\n",
    "error[1][4] = np.load(\"../code/baseline/cnn-tree/3/0/0.01/20000/0.0/test-error-['fridge', 'hvac', 'dw', 'dr', 'mw'].npy\").item()"
   ]
  },
  {
   "cell_type": "code",
   "execution_count": 258,
   "metadata": {
    "collapsed": true
   },
   "outputs": [],
   "source": [
    "k = pd.DataFrame(error[1][0]).mean().min()*14 + pd.DataFrame(error[1][1]).mean().min()*14 + pd.DataFrame(error[1][2]).mean().min()*14 + pd.DataFrame(error[1][3]).mean().min()*13 + pd.DataFrame(error[1][4]).mean().min()*13"
   ]
  },
  {
   "cell_type": "code",
   "execution_count": 264,
   "metadata": {},
   "outputs": [
    {
     "data": {
      "text/plain": [
       "77.416244615561567"
      ]
     },
     "execution_count": 264,
     "metadata": {},
     "output_type": "execute_result"
    }
   ],
   "source": [
    "pd.DataFrame(error[1][1]).mean().min()"
   ]
  }
 ],
 "metadata": {
  "kernelspec": {
   "display_name": "Python 3",
   "language": "python",
   "name": "python3"
  },
  "language_info": {
   "codemirror_mode": {
    "name": "ipython",
    "version": 3
   },
   "file_extension": ".py",
   "mimetype": "text/x-python",
   "name": "python",
   "nbconvert_exporter": "python",
   "pygments_lexer": "ipython3",
   "version": "3.6.3"
  }
 },
 "nbformat": 4,
 "nbformat_minor": 2
}
