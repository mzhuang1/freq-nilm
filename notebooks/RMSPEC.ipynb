{
 "cells": [
  {
   "cell_type": "code",
   "execution_count": 69,
   "metadata": {},
   "outputs": [],
   "source": [
    "import torch\n",
    "from torch.autograd import Variable\n",
    "import numpy as np\n",
    "import torch.nn as nn\n",
    "from torchvision import datasets,transforms\n",
    "import torch.nn.functional as F\n",
    "import sys\n",
    "sys.path.append(\"../code/\")\n",
    "from dataloader import APPLIANCE_ORDER, get_train_test\n",
    "from sklearn.metrics import mean_absolute_error,mean_squared_error\n",
    "\n",
    "import os\n",
    "import pandas as pd\n",
    "import sys\n",
    "import numpy as np\n",
    "import matplotlib.pyplot as plt\n",
    "sys.path.append('../code/')\n",
    "%matplotlib inline\n",
    "import itertools\n",
    "from pathlib import Path"
   ]
  },
  {
   "cell_type": "code",
   "execution_count": 107,
   "metadata": {},
   "outputs": [],
   "source": [
    "frac = {}\n",
    "for idx, appliance in enumerate(APPLIANCE_ORDER[:-1]):\n",
    "#     print(appliance, mean_appliance[idx]/mean_appliance[0])\n",
    "    frac[appliance] = mean_appliance[idx]/mean_appliance[0]"
   ]
  },
  {
   "cell_type": "code",
   "execution_count": 42,
   "metadata": {
    "collapsed": true
   },
   "outputs": [],
   "source": [
    "# calculate gt\n",
    "test_gt = {}\n",
    "valid_gt = {}\n",
    "for dataset in [1, 3]:\n",
    "    test_gt[dataset] = {}\n",
    "    valid_gt[dataset] = {}\n",
    "    for fold_num in range(5):\n",
    "        test_gt[dataset][fold_num] = {}\n",
    "        valid_gt[dataset][fold_num] = {}\n",
    "        train, test = get_train_test(dataset, 5, fold_num)\n",
    "        valid = train[int(0.8*len(train)):].copy()\n",
    "        for idx, appliance in enumerate(APPLIANCE_ORDER[:-1]):\n",
    "            test_gt[dataset][fold_num][appliance] = test[:, idx]\n",
    "            valid_gt[dataset][fold_num][appliance] = valid[:, idx]"
   ]
  },
  {
   "cell_type": "code",
   "execution_count": 154,
   "metadata": {
    "collapsed": true
   },
   "outputs": [],
   "source": [
    "def compute_rms_pec(pred, gt, agg):\n",
    "    \n",
    "    pred_frac = np.divide(pred.sum(axis=2), agg.sum(axis=2))*100\n",
    "    gt_frac = np.divide(gt.sum(axis=2), agg.sum(axis=2))*100\n",
    "    \n",
    "    return mean_squared_error(pred_frac, gt_frac)"
   ]
  },
  {
   "cell_type": "code",
   "execution_count": 155,
   "metadata": {
    "collapsed": true
   },
   "outputs": [],
   "source": [
    "def calculate_error(pred, gt):\n",
    "    error = {}\n",
    "    overall = {}\n",
    "    num_homes = {}\n",
    "    \n",
    "    # calculte number of homes in each fold\n",
    "    for fold_num in range(5):\n",
    "        num_homes[fold_num] = gt[fold_num]['aggregate'].reshape(-1, 1, 112,24).shape[0]\n",
    "    homes = pd.Series(num_homes).sum()\n",
    "    \n",
    "    for appliance in ['hvac', 'fridge', 'dr', 'dw', 'mw']:\n",
    "        error[appliance] = {}\n",
    "        overall[appliance] = 0                                                                \n",
    "        for fold_num in range(5):\n",
    "            error[appliance][fold_num] = compute_rms_pec(pred[fold_num][appliance].reshape(-1, 112, 24), \n",
    "                                                     gt[fold_num][appliance].reshape(-1,112, 24), \n",
    "                                                        gt[fold_num]['aggregate'].reshape(-1, 112, 24))\n",
    "            overall[appliance] += error[appliance][fold_num]*num_homes[fold_num]\n",
    "        overall[appliance] /= homes\n",
    "    \n",
    "    model_error = 0\n",
    "    for appliance in ['hvac', 'fridge', 'dr', 'dw', 'mw']:\n",
    "        model_error += overall[appliance]*frac[appliance]\n",
    "    \n",
    "    return error, overall, model_error"
   ]
  },
  {
   "cell_type": "markdown",
   "metadata": {},
   "source": [
    "# STF"
   ]
  },
  {
   "cell_type": "code",
   "execution_count": 28,
   "metadata": {
    "collapsed": true
   },
   "outputs": [],
   "source": [
    "r = {}\n",
    "mean_r = {}\n",
    "for dataset in [1, 3]:\n",
    "    r[dataset] = {}\n",
    "    mean_r[dataset] = {}\n",
    "    for cur_fold in range(5):\n",
    "        r[dataset][cur_fold] = {}\n",
    "        mean_r[dataset][cur_fold] = {}\n",
    "        for num_latent in range(1, 21):\n",
    "            r[dataset][cur_fold][num_latent] = {}\n",
    "            mean_r[dataset][cur_fold][num_latent] = {}\n",
    "            for lr in [0.01, 0.1 ,1 ,2]:\n",
    "                lr = float(lr)\n",
    "                r[dataset][cur_fold][num_latent][lr] = {}\n",
    "                mean_r[dataset][cur_fold][num_latent][lr] = {}\n",
    "                for iters in range(100, 2600, 400):\n",
    "                    r[dataset][cur_fold][num_latent][lr][iters] = np.load(\"../code/baseline/stf/{}/valid/stf-pred-{}-{}-{}-{}-{}.npy\".format(dataset, dataset, cur_fold, num_latent, lr, iters))\n",
    "                    "
   ]
  },
  {
   "cell_type": "code",
   "execution_count": 108,
   "metadata": {},
   "outputs": [],
   "source": [
    "error = {}\n",
    "best_p = {}\n",
    "for dataset in [1, 3]:\n",
    "    error[dataset] = {}\n",
    "    best_p[dataset] = {}\n",
    "    for cur_fold in range(5):\n",
    "        error[dataset][cur_fold] = np.inf\n",
    "        best_p[dataset][cur_fold] = {}\n",
    "\n",
    "        for num_latent in range(1, 21):\n",
    "            for lr in [0.01, 0.1, 1, 2]:\n",
    "                for iters in range(100, 2600, 400):\n",
    "                    cur_error = 0\n",
    "                    for idx, appliance in enumerate(APPLIANCE_ORDER[1:-1]):\n",
    "\n",
    "                        cur_error += frac[appliance]*compute_rms_pec(r[dataset][cur_fold][num_latent][lr][iters][:, idx],\n",
    "                                                    valid_gt[dataset][cur_fold][appliance], valid_gt[dataset][cur_fold]['aggregate'])\n",
    "                        \n",
    "                    if cur_error < error[dataset][cur_fold]:\n",
    "                        error[dataset][cur_fold] = cur_error\n",
    "                        best_p[dataset][cur_fold]['num_latent'] = num_latent\n",
    "                        best_p[dataset][cur_fold]['lr'] = lr\n",
    "                        best_p[dataset][cur_fold]['iters'] = iters"
   ]
  },
  {
   "cell_type": "code",
   "execution_count": 137,
   "metadata": {},
   "outputs": [],
   "source": [
    "test_pred = {}\n",
    "for dataset in [1, 3]:\n",
    "    test_pred[dataset] = {}\n",
    "    for cur_fold in range(5):\n",
    "        test_pred[dataset][cur_fold] = {}\n",
    "        num_latent = best_p[dataset][cur_fold]['num_latent']\n",
    "        lr = float(best_p[dataset][cur_fold]['lr'])\n",
    "        iters = best_p[dataset][cur_fold]['iters'] \n",
    "        \n",
    "#         print(\"python baseline-stf-nested.py {} {} {} {} {} &\".format(dataset, cur_fold, num_latent, lr, iters))\n",
    "        pred = np.load(\"../code/baseline/stf/{}/test/stf-test-pred-{}-{}-{}-{}-{}.npy\".format(dataset, dataset, cur_fold, num_latent, lr, iters))\n",
    "        for idx, appliance in enumerate(APPLIANCE_ORDER[1:-1]):\n",
    "            test_pred[dataset][cur_fold][appliance] = pred[:, idx]\n",
    "        "
   ]
  },
  {
   "cell_type": "code",
   "execution_count": 140,
   "metadata": {},
   "outputs": [
    {
     "data": {
      "text/plain": [
       "{1: {0: 29.571722018336072,\n",
       "  1: 39.613530039506877,\n",
       "  2: 36.737164497131957,\n",
       "  3: 35.640345654782415,\n",
       "  4: 7.0789894516840253},\n",
       " 3: {0: 3.5350599938579426,\n",
       "  1: 3.1145544050109448,\n",
       "  2: 3.3687931658135155,\n",
       "  3: 3.4706774548585657,\n",
       "  4: 3.2146343109090236}}"
      ]
     },
     "execution_count": 140,
     "metadata": {},
     "output_type": "execute_result"
    }
   ],
   "source": [
    "error"
   ]
  },
  {
   "cell_type": "code",
   "execution_count": 159,
   "metadata": {},
   "outputs": [
    {
     "data": {
      "text/plain": [
       "2400.5244493336786"
      ]
     },
     "execution_count": 159,
     "metadata": {},
     "output_type": "execute_result"
    }
   ],
   "source": [
    "calculate_error(test_pred[1], test_gt[1])[2]"
   ]
  },
  {
   "cell_type": "markdown",
   "metadata": {},
   "source": [
    "# MTF"
   ]
  },
  {
   "cell_type": "code",
   "execution_count": 113,
   "metadata": {
    "collapsed": true
   },
   "outputs": [],
   "source": [
    "mtf_r = {}\n",
    "mean_r = {}\n",
    "for dataset in [1, 3]:\n",
    "    mtf_r[dataset] = {}\n",
    "    for cur_fold in range(5):\n",
    "        mtf_r[dataset][cur_fold] = {}\n",
    "        for num_latent in range(1, 21):\n",
    "            mtf_r[dataset][cur_fold][num_latent] = {}\n",
    "            for lr in [0.01, 0.1 ,1 ,2]:\n",
    "                lr = float(lr)\n",
    "                mtf_r[dataset][cur_fold][num_latent][lr] = {}\n",
    "                for iters in range(100, 2600, 400):\n",
    "                    mtf_r[dataset][cur_fold][num_latent][lr][iters] = np.load(\"../code/baseline/mtf/{}/valid/mtf-pred-{}-{}-{}-{}-{}.npy\".format(dataset, dataset, cur_fold, num_latent, lr, iters))\n",
    "                    "
   ]
  },
  {
   "cell_type": "code",
   "execution_count": 114,
   "metadata": {
    "collapsed": true
   },
   "outputs": [],
   "source": [
    "mtf_error = {}\n",
    "mtf_best_p = {}\n",
    "for dataset in [1, 3]:\n",
    "    mtf_error[dataset] = {}\n",
    "    mtf_best_p[dataset] = {}\n",
    "    for cur_fold in range(5):\n",
    "        mtf_error[dataset][cur_fold] = np.inf\n",
    "        mtf_best_p[dataset][cur_fold] = {}\n",
    "\n",
    "        for num_latent in range(1, 21):\n",
    "            for lr in [0.01, 0.1, 1, 2]:\n",
    "                for iters in range(100, 2600, 400):\n",
    "                    cur_error = 0\n",
    "                    for idx, appliance in enumerate(APPLIANCE_ORDER[1:-1]):\n",
    "\n",
    "                        cur_error += frac[appliance]*compute_rms_pec(mtf_r[dataset][cur_fold][num_latent][lr][iters][:, idx],\n",
    "                                                    valid_gt[dataset][cur_fold][appliance], valid_gt[dataset][cur_fold]['aggregate'])\n",
    "                        \n",
    "                    if cur_error < mtf_error[dataset][cur_fold]:\n",
    "                        mtf_error[dataset][cur_fold] = cur_error\n",
    "                        mtf_best_p[dataset][cur_fold]['num_latent'] = num_latent\n",
    "                        mtf_best_p[dataset][cur_fold]['lr'] = lr\n",
    "                        mtf_best_p[dataset][cur_fold]['iters'] = iters"
   ]
  },
  {
   "cell_type": "code",
   "execution_count": 166,
   "metadata": {},
   "outputs": [],
   "source": [
    "test_pred = {}\n",
    "for dataset in [1, 3]:\n",
    "    test_pred[dataset] = {}\n",
    "    for cur_fold in range(5):\n",
    "        test_pred[dataset][cur_fold] = {}\n",
    "        num_latent = mtf_best_p[dataset][cur_fold]['num_latent']\n",
    "        lr = float(mtf_best_p[dataset][cur_fold]['lr'])\n",
    "        iters = mtf_best_p[dataset][cur_fold]['iters'] \n",
    "        \n",
    "#         print(\"python baseline-stf-nested.py {} {} {} {} {} &\".format(dataset, cur_fold, num_latent, lr, iters))\n",
    "        pred = np.load(\"../code/baseline/mtf/{}/test/mtf-test-pred-{}-{}-{}-{}-{}.npy\".format(dataset, dataset, cur_fold, num_latent, lr, iters))\n",
    "        for idx, appliance in enumerate(APPLIANCE_ORDER[1:-1]):\n",
    "            test_pred[dataset][cur_fold][appliance] = pred[:, idx]\n",
    "        "
   ]
  },
  {
   "cell_type": "code",
   "execution_count": 170,
   "metadata": {},
   "outputs": [
    {
     "data": {
      "text/plain": [
       "{'dr': 104.97141649747095,\n",
       " 'dw': 6.934563450065399,\n",
       " 'fridge': 50.901917697789699,\n",
       " 'hvac': 2301.2214597610496,\n",
       " 'mw': 1.9560603450885887}"
      ]
     },
     "execution_count": 170,
     "metadata": {},
     "output_type": "execute_result"
    }
   ],
   "source": [
    "calculate_error(test_pred[1], test_gt[1])[1]"
   ]
  },
  {
   "cell_type": "markdown",
   "metadata": {},
   "source": [
    "# SC"
   ]
  },
  {
   "cell_type": "code",
   "execution_count": 172,
   "metadata": {},
   "outputs": [],
   "source": [
    "sc_r = {}\n",
    "for dataset in [1, 3]:\n",
    "    sc_r[dataset] = {}\n",
    "    for cur_fold in range(5):\n",
    "        sc_r[dataset][cur_fold] = {}\n",
    "        for num_latent in range(1, 51):\n",
    "            sc_r[dataset][cur_fold][num_latent] = np.load(\"../code/baseline/sc-non-nested/{}/sc-non-valid-pred-{}-{}-{}.npy\".format(dataset, dataset, cur_fold, num_latent))\n"
   ]
  },
  {
   "cell_type": "code",
   "execution_count": 175,
   "metadata": {},
   "outputs": [
    {
     "data": {
      "text/plain": [
       "(11, 5, 112, 24)"
      ]
     },
     "execution_count": 175,
     "metadata": {},
     "output_type": "execute_result"
    }
   ],
   "source": [
    "sc_r[1][0][1].shape"
   ]
  },
  {
   "cell_type": "code",
   "execution_count": 182,
   "metadata": {},
   "outputs": [],
   "source": [
    "sc_best_p = {}\n",
    "sc_best_error = {}\n",
    "for dataset in [1, 3]:\n",
    "    sc_best_p[dataset] = {}\n",
    "    sc_best_error[dataset] = {}\n",
    "    for cur_fold in range(5):\n",
    "        sc_best_p[dataset][cur_fold] = {}\n",
    "        sc_best_error[dataset][cur_fold] = np.inf\n",
    "        for num_latent in range(1, 51):\n",
    "            cur_error = 0\n",
    "            for idx, appliance in enumerate(APPLIANCE_ORDER[1:-1]):\n",
    "\n",
    "                cur_error += frac[appliance]*compute_rms_pec(sc_r[dataset][cur_fold][num_latent][:, idx],\n",
    "                                            valid_gt[dataset][cur_fold][appliance], valid_gt[dataset][cur_fold]['aggregate'])\n",
    "\n",
    "            if cur_error < sc_best_error[dataset][cur_fold]:\n",
    "                sc_best_error[dataset][cur_fold] = cur_error\n",
    "                sc_best_p[dataset][cur_fold]['num_latent'] = num_latent\n"
   ]
  },
  {
   "cell_type": "code",
   "execution_count": 184,
   "metadata": {},
   "outputs": [],
   "source": [
    "test_pred = {}\n",
    "for dataset in [1, 3]:\n",
    "    test_pred[dataset] = {}\n",
    "    for cur_fold in range(5):\n",
    "        test_pred[dataset][cur_fold] = {}\n",
    "        num_latent = sc_best_p[dataset][cur_fold]['num_latent']\n",
    "\n",
    "#         print(\"python baseline-stf-nested.py {} {} {} {} {} &\".format(dataset, cur_fold, num_latent, lr, iters))\n",
    "        pred = np.load(\"../code/baseline/sc-non-nested/{}/sc-non-test-pred-{}-{}-{}.npy\".format(dataset, dataset, cur_fold, num_latent))\n",
    "        for idx, appliance in enumerate(APPLIANCE_ORDER[1:-1]):\n",
    "            test_pred[dataset][cur_fold][appliance] = pred[:, idx]\n",
    "        "
   ]
  },
  {
   "cell_type": "code",
   "execution_count": 186,
   "metadata": {},
   "outputs": [
    {
     "data": {
      "text/plain": [
       "499.82534730931604"
      ]
     },
     "execution_count": 186,
     "metadata": {},
     "output_type": "execute_result"
    }
   ],
   "source": [
    "calculate_error(test_pred[1], test_gt[1])[2]"
   ]
  },
  {
   "cell_type": "markdown",
   "metadata": {},
   "source": [
    "# DSC"
   ]
  },
  {
   "cell_type": "code",
   "execution_count": 187,
   "metadata": {
    "collapsed": true
   },
   "outputs": [],
   "source": [
    "dsc_r = {}\n",
    "for dataset in [1, 3]:\n",
    "    dsc_r[dataset] = {}\n",
    "    for cur_fold in range(5):\n",
    "        dsc_r[dataset][cur_fold] = {}\n",
    "        for num_latent in range(1, 51):\n",
    "            dsc_r[dataset][cur_fold][num_latent] = {}\n",
    "            for iters in range(10, 110, 10):\n",
    "                dsc_r[dataset][cur_fold][num_latent][iters] = np.load(\"../code/baseline/sc-with-nested/{}/sc-with-valid-pred-{}-{}-{}-{}.npy\".format(dataset, dataset, cur_fold, num_latent, iters))\n"
   ]
  },
  {
   "cell_type": "code",
   "execution_count": null,
   "metadata": {
    "collapsed": true
   },
   "outputs": [],
   "source": [
    "dsc_best_p = {}\n",
    "dsc_best_error = {}\n",
    "for dataset in [1, 3]:\n",
    "    dsc_best_p[dataset] = {}\n",
    "    dsc_best_error[dataset] = {}\n",
    "    for cur_fold in range(5):\n",
    "        dsc_best_p[dataset][cur_fold] = {}\n",
    "        dsc_best_error[dataset][cur_fold] = np.inf\n",
    "        for num_latent in range(1, 51):\n",
    "            for iters in range(10, 110, 10):\n",
    "                cur_error = 0\n",
    "                for idx, appliance in enumerate(APPLIANCE_ORDER[1:-1]):\n",
    "\n",
    "                    cur_error += frac[appliance]*compute_rms_pec(dsc_r[dataset][cur_fold][num_latent][iters][:, idx],\n",
    "                                                valid_gt[dataset][cur_fold][appliance], valid_gt[dataset][cur_fold]['aggregate'])\n",
    "\n",
    "                if cur_error < dsc_best_error[dataset][cur_fold]:\n",
    "                    dsc_best_error[dataset][cur_fold] = cur_error\n",
    "                    dsc_best_p[dataset][cur_fold]['num_latent'] = num_latent\n",
    "                    dsc_best_p[dataset][cur_fold]['iters'] = iters\n"
   ]
  },
  {
   "cell_type": "code",
   "execution_count": null,
   "metadata": {
    "collapsed": true
   },
   "outputs": [],
   "source": [
    "test_pred = {}\n",
    "for dataset in [1, 3]:\n",
    "    test_pred[dataset] = {}\n",
    "    for cur_fold in range(5):\n",
    "        test_pred[dataset][cur_fold] = {}\n",
    "        num_latent = mtf_best_p[dataset][cur_fold]['num_latent']\n",
    "\n",
    "#         print(\"python baseline-stf-nested.py {} {} {} {} {} &\".format(dataset, cur_fold, num_latent, lr, iters))\n",
    "        pred = np.load(\"../code/baseline/sc-non-nested/{}/sc-non-test-pred-{}-{}-{}.npy\".format(dataset, dataset, cur_fold, num_latent))\n",
    "        for idx, appliance in enumerate(APPLIANCE_ORDER[1:-1]):\n",
    "            test_pred[dataset][cur_fold][appliance] = pred[:, idx]\n",
    "        "
   ]
  },
  {
   "cell_type": "markdown",
   "metadata": {},
   "source": [
    "# Individual CNN"
   ]
  },
  {
   "cell_type": "markdown",
   "metadata": {},
   "source": [
    "# Tree CNN"
   ]
  }
 ],
 "metadata": {
  "kernelspec": {
   "display_name": "Python 3",
   "language": "python",
   "name": "python3"
  },
  "language_info": {
   "codemirror_mode": {
    "name": "ipython",
    "version": 3
   },
   "file_extension": ".py",
   "mimetype": "text/x-python",
   "name": "python",
   "nbconvert_exporter": "python",
   "pygments_lexer": "ipython3",
   "version": "3.6.3"
  }
 },
 "nbformat": 4,
 "nbformat_minor": 2
}
