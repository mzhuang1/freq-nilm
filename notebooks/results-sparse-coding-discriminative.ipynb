{
 "cells": [
  {
   "cell_type": "code",
   "execution_count": 1,
   "metadata": {
    "collapsed": true
   },
   "outputs": [],
   "source": [
    "import sys\n",
    "import numpy as np\n",
    "import pandas as pd\n",
    "sys.path.append(\"../code/\")"
   ]
  },
  {
   "cell_type": "code",
   "execution_count": 2,
   "metadata": {
    "collapsed": true
   },
   "outputs": [],
   "source": [
    "from dataloader import APPLIANCE_ORDER, get_train_test\n",
    "from ddsc import SparseCoding, reshape_for_sc"
   ]
  },
  {
   "cell_type": "code",
   "execution_count": 3,
   "metadata": {
    "collapsed": true
   },
   "outputs": [],
   "source": [
    "num_folds = 5"
   ]
  },
  {
   "cell_type": "code",
   "execution_count": 4,
   "metadata": {
    "collapsed": true
   },
   "outputs": [],
   "source": [
    "def discriminative(dataset, num_latent, num_iterations):\n",
    "    print(num_iterations)\n",
    "    out = []\n",
    "    for cur_fold in range(5):\n",
    "        train, test = get_train_test(dataset, num_folds=num_folds, fold_num=cur_fold)\n",
    "        train_sc, test_sc = reshape_for_sc(train), reshape_for_sc(test)\n",
    "        train_data = np.array([train_sc[:, :, i ] for i in range(1, train.shape[1])]).swapaxes(1, 2)\n",
    "        c = SparseCoding()\n",
    "        c.train(train_data, num_latent=num_latent)\n",
    "        pred = c.disaggregate_discriminative(train_sc[:, :, 0].swapaxes(0, 1), \n",
    "                                             test_sc[:, :, 0].swapaxes(0, 1),\n",
    "                                             num_iter=num_iterations)\n",
    "        pred = pred[-1, :, :, :]\n",
    "        pred = pred.swapaxes(0, 2).swapaxes(1, 2)\n",
    "        print(pred.shape)\n",
    "        pred = pred.reshape(pred.shape[0], pred.shape[1], -1, 24)\n",
    "        out.append(pred)\n",
    "    return np.concatenate(out)\n"
   ]
  },
  {
   "cell_type": "code",
   "execution_count": 23,
   "metadata": {},
   "outputs": [
    {
     "name": "stdout",
     "output_type": "stream",
     "text": [
      "5 10\n",
      "10\n",
      "(14, 5, 2688)\n",
      "(14, 5, 2688)\n",
      "(14, 5, 2688)\n",
      "(13, 5, 2688)\n",
      "(13, 5, 2688)\n",
      "5 20\n",
      "20\n",
      "(14, 5, 2688)\n",
      "(14, 5, 2688)\n",
      "(14, 5, 2688)\n",
      "(13, 5, 2688)\n",
      "(13, 5, 2688)\n",
      "5 50\n",
      "50\n",
      "(14, 5, 2688)\n",
      "(14, 5, 2688)\n",
      "(14, 5, 2688)\n",
      "(13, 5, 2688)\n",
      "(13, 5, 2688)\n",
      "5 80\n",
      "80\n",
      "(14, 5, 2688)\n",
      "(14, 5, 2688)\n",
      "(14, 5, 2688)\n",
      "(13, 5, 2688)\n",
      "(13, 5, 2688)\n",
      "6 10\n",
      "10\n",
      "(14, 5, 2688)\n",
      "(14, 5, 2688)\n",
      "(14, 5, 2688)\n",
      "(13, 5, 2688)\n",
      "(13, 5, 2688)\n",
      "6 20\n",
      "20\n",
      "(14, 5, 2688)\n",
      "(14, 5, 2688)\n",
      "(14, 5, 2688)\n",
      "(13, 5, 2688)\n",
      "(13, 5, 2688)\n",
      "6 50\n",
      "50\n",
      "(14, 5, 2688)\n",
      "(14, 5, 2688)\n",
      "(14, 5, 2688)\n",
      "(13, 5, 2688)\n",
      "(13, 5, 2688)\n",
      "6 80\n",
      "80\n",
      "(14, 5, 2688)\n",
      "(14, 5, 2688)\n",
      "(14, 5, 2688)\n",
      "(13, 5, 2688)\n",
      "(13, 5, 2688)\n"
     ]
    }
   ],
   "source": [
    "# tensor = np.load('../2015-5appliances.numpy.npy')\n",
    "tensor = np.load(\"../2015-5appliances-subtract-true-agg.npy\")\n",
    "dataset = 3\n",
    "from sklearn.metrics import mean_absolute_error\n",
    "\n",
    "err_disc ={}\n",
    "gt = tensor[:, 1:, :, :]\n",
    "# should be varied from [1, 30]\n",
    "pred = {}\n",
    "for num_latent in range(5,7):\n",
    "    err_disc[num_latent] = {}\n",
    "    pred[num_latent] = {}\n",
    "    # Should be upto 100 or so iterations.\n",
    "    for num_iterations in [10, 20, 50, 80]:\n",
    "        print(num_latent, num_iterations)\n",
    "        pred[num_latent][num_iterations] = discriminative(dataset, num_latent, num_iterations)\n",
    "        # Clamping prediction to aggregate\n",
    "        pred[num_latent][num_iterations] = np.minimum(pred[num_latent][num_iterations], tensor[:, 0:1, :,:])\n",
    "        err_disc[num_latent][num_iterations] = {APPLIANCE_ORDER[i+1]:mean_absolute_error(pred[num_latent][num_iterations][:, i,:,:].flatten(), \n",
    "                                                                       gt[:, i, :, :].flatten()) for i in range(pred[num_latent][num_iterations].shape[1])}"
   ]
  },
  {
   "cell_type": "code",
   "execution_count": 28,
   "metadata": {},
   "outputs": [
    {
     "data": {
      "text/html": [
       "<div>\n",
       "<style scoped>\n",
       "    .dataframe tbody tr th:only-of-type {\n",
       "        vertical-align: middle;\n",
       "    }\n",
       "\n",
       "    .dataframe tbody tr th {\n",
       "        vertical-align: top;\n",
       "    }\n",
       "\n",
       "    .dataframe thead th {\n",
       "        text-align: right;\n",
       "    }\n",
       "</style>\n",
       "<table border=\"1\" class=\"dataframe\">\n",
       "  <thead>\n",
       "    <tr style=\"text-align: right;\">\n",
       "      <th></th>\n",
       "      <th>5</th>\n",
       "      <th>6</th>\n",
       "    </tr>\n",
       "  </thead>\n",
       "  <tbody>\n",
       "    <tr>\n",
       "      <th>10</th>\n",
       "      <td>185.476551</td>\n",
       "      <td>187.126524</td>\n",
       "    </tr>\n",
       "    <tr>\n",
       "      <th>20</th>\n",
       "      <td>183.929598</td>\n",
       "      <td>190.365883</td>\n",
       "    </tr>\n",
       "    <tr>\n",
       "      <th>50</th>\n",
       "      <td>187.766286</td>\n",
       "      <td>186.539268</td>\n",
       "    </tr>\n",
       "    <tr>\n",
       "      <th>80</th>\n",
       "      <td>192.487479</td>\n",
       "      <td>187.825474</td>\n",
       "    </tr>\n",
       "  </tbody>\n",
       "</table>\n",
       "</div>"
      ],
      "text/plain": [
       "             5           6\n",
       "10  185.476551  187.126524\n",
       "20  183.929598  190.365883\n",
       "50  187.766286  186.539268\n",
       "80  192.487479  187.825474"
      ]
     },
     "execution_count": 28,
     "metadata": {},
     "output_type": "execute_result"
    }
   ],
   "source": [
    "pd.Panel(err_disc).mean()"
   ]
  },
  {
   "cell_type": "code",
   "execution_count": 29,
   "metadata": {},
   "outputs": [
    {
     "data": {
      "text/html": [
       "<div>\n",
       "<style scoped>\n",
       "    .dataframe tbody tr th:only-of-type {\n",
       "        vertical-align: middle;\n",
       "    }\n",
       "\n",
       "    .dataframe tbody tr th {\n",
       "        vertical-align: top;\n",
       "    }\n",
       "\n",
       "    .dataframe thead th {\n",
       "        text-align: right;\n",
       "    }\n",
       "</style>\n",
       "<table border=\"1\" class=\"dataframe\">\n",
       "  <thead>\n",
       "    <tr style=\"text-align: right;\">\n",
       "      <th></th>\n",
       "      <th>10</th>\n",
       "      <th>20</th>\n",
       "      <th>50</th>\n",
       "      <th>80</th>\n",
       "    </tr>\n",
       "  </thead>\n",
       "  <tbody>\n",
       "    <tr>\n",
       "      <th>dr</th>\n",
       "      <td>107.174086</td>\n",
       "      <td>112.152993</td>\n",
       "      <td>111.398619</td>\n",
       "      <td>113.162509</td>\n",
       "    </tr>\n",
       "    <tr>\n",
       "      <th>dw</th>\n",
       "      <td>38.092549</td>\n",
       "      <td>48.621393</td>\n",
       "      <td>47.670876</td>\n",
       "      <td>49.599447</td>\n",
       "    </tr>\n",
       "    <tr>\n",
       "      <th>fridge</th>\n",
       "      <td>177.144817</td>\n",
       "      <td>110.391784</td>\n",
       "      <td>130.978013</td>\n",
       "      <td>172.687560</td>\n",
       "    </tr>\n",
       "    <tr>\n",
       "      <th>hvac</th>\n",
       "      <td>557.152371</td>\n",
       "      <td>573.158100</td>\n",
       "      <td>552.965780</td>\n",
       "      <td>543.500960</td>\n",
       "    </tr>\n",
       "    <tr>\n",
       "      <th>mw</th>\n",
       "      <td>56.068799</td>\n",
       "      <td>107.505148</td>\n",
       "      <td>89.683051</td>\n",
       "      <td>60.176896</td>\n",
       "    </tr>\n",
       "  </tbody>\n",
       "</table>\n",
       "</div>"
      ],
      "text/plain": [
       "                10          20          50          80\n",
       "dr      107.174086  112.152993  111.398619  113.162509\n",
       "dw       38.092549   48.621393   47.670876   49.599447\n",
       "fridge  177.144817  110.391784  130.978013  172.687560\n",
       "hvac    557.152371  573.158100  552.965780  543.500960\n",
       "mw       56.068799  107.505148   89.683051   60.176896"
      ]
     },
     "execution_count": 29,
     "metadata": {},
     "output_type": "execute_result"
    }
   ],
   "source": [
    "err_disc[6]"
   ]
  },
  {
   "cell_type": "code",
   "execution_count": null,
   "metadata": {
    "collapsed": true
   },
   "outputs": [],
   "source": [
    "# Min occurs at #latent =1, # iterations = 3"
   ]
  },
  {
   "cell_type": "code",
   "execution_count": 10,
   "metadata": {
    "collapsed": true
   },
   "outputs": [],
   "source": [
    "res_sparse_disc = err_disc[1][3]"
   ]
  },
  {
   "cell_type": "code",
   "execution_count": 11,
   "metadata": {},
   "outputs": [
    {
     "data": {
      "text/plain": [
       "dr         85.580721\n",
       "dw         15.711825\n",
       "fridge     85.830357\n",
       "hvac      677.510031\n",
       "mw          9.274755\n",
       "Name: 3, dtype: float64"
      ]
     },
     "execution_count": 11,
     "metadata": {},
     "output_type": "execute_result"
    }
   ],
   "source": [
    "res_sparse_disc"
   ]
  },
  {
   "cell_type": "code",
   "execution_count": null,
   "metadata": {
    "collapsed": true
   },
   "outputs": [],
   "source": []
  }
 ],
 "metadata": {
  "kernelspec": {
   "display_name": "Python 3",
   "language": "python",
   "name": "python3"
  },
  "language_info": {
   "codemirror_mode": {
    "name": "ipython",
    "version": 3
   },
   "file_extension": ".py",
   "mimetype": "text/x-python",
   "name": "python",
   "nbconvert_exporter": "python",
   "pygments_lexer": "ipython3",
   "version": "3.5.2"
  }
 },
 "nbformat": 4,
 "nbformat_minor": 2
}
