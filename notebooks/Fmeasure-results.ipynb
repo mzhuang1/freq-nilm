{
 "cells": [
  {
   "cell_type": "code",
   "execution_count": 1,
   "metadata": {
    "collapsed": true
   },
   "outputs": [],
   "source": [
    "import numpy as np\n",
    "import sys\n",
    "sys.path.append(\"../code/\")\n",
    "from dataloader import APPLIANCE_ORDER, get_train_test\n"
   ]
  },
  {
   "cell_type": "code",
   "execution_count": 307,
   "metadata": {
    "collapsed": true
   },
   "outputs": [],
   "source": [
    "predictions = {}"
   ]
  },
  {
   "cell_type": "code",
   "execution_count": 308,
   "metadata": {
    "collapsed": true
   },
   "outputs": [],
   "source": [
    "stf_pred = {}\n",
    "stf_pred[1] = np.load(\"../code/baseline/result/stf-pred-12.npy\").item()[1]\n",
    "stf_pred[3] = np.load(\"../code/baseline/result/stf-pred-34.npy\").item()[3]\n",
    "predictions['stf'] = stf_pred"
   ]
  },
  {
   "cell_type": "code",
   "execution_count": 309,
   "metadata": {
    "collapsed": true
   },
   "outputs": [],
   "source": [
    "mtf_pred = {}\n",
    "mtf_pred[1] = np.load(\"../code/baseline/result/mtf-pred-12.npy\").item()[1]\n",
    "mtf_pred[3] = np.load(\"../code/baseline/result/mtf-pred-34.npy\").item()[3]\n",
    "predictions['mtf'] = mtf_pred"
   ]
  },
  {
   "cell_type": "code",
   "execution_count": 310,
   "metadata": {
    "collapsed": true
   },
   "outputs": [],
   "source": [
    "active_threshold = {'hvac':230, 'fridge':20, 'dr':250, 'dw':55, 'mw':10}"
   ]
  },
  {
   "cell_type": "code",
   "execution_count": 311,
   "metadata": {
    "collapsed": true
   },
   "outputs": [],
   "source": [
    "num_homes = {0:14, 1:14, 2:14, 3:13, 4:13}"
   ]
  },
  {
   "cell_type": "code",
   "execution_count": 312,
   "metadata": {
    "collapsed": true
   },
   "outputs": [],
   "source": [
    "# calculate gt\n",
    "test_gt = {}\n",
    "valid_gt = {}\n",
    "for fold_num in range(5):\n",
    "    test_gt[fold_num] = {}\n",
    "    valid_gt[fold_num] = {}\n",
    "    train, test = get_train_test(1, 5, fold_num)\n",
    "    valid = train[int(0.8*len(train)):].copy()\n",
    "    for idx, appliance in enumerate(APPLIANCE_ORDER[1:-1]):\n",
    "        test_gt[fold_num][appliance] = test[:, idx+1]\n",
    "        valid_gt[fold_num][appliance] = valid[:, idx+1]"
   ]
  },
  {
   "cell_type": "code",
   "execution_count": 313,
   "metadata": {
    "collapsed": true
   },
   "outputs": [],
   "source": [
    "active = {}\n",
    "for dataset in [1, 3]:\n",
    "    active[dataset] = {}\n",
    "    for fold_num in range(5):\n",
    "        active[dataset][fold_num] = {}\n",
    "        for idx, appliance in enumerate(APPLIANCE_ORDER[1:-1]):\n",
    "            active[dataset][fold_num][appliance] = (test_gt[fold_num][appliance] > active_threshold[appliance])*1"
   ]
  },
  {
   "cell_type": "code",
   "execution_count": 314,
   "metadata": {
    "collapsed": true
   },
   "outputs": [],
   "source": [
    "TP = {}\n",
    "TP_FP = {}\n",
    "TP_FN = {}\n",
    "for dataset in [1, 3]:\n",
    "    TP[dataset] = {}\n",
    "    TP_FP[dataset] = {}\n",
    "    TP_FN[dataset] = {}\n",
    "    for idx, appliance in enumerate(APPLIANCE_ORDER[1:-1]):\n",
    "        TP[dataset][appliance] = 0\n",
    "        TP_FP[dataset][appliance] = 0\n",
    "        TP_FN[dataset][appliance] = 0\n",
    "        for fold_num in range(5):\n",
    "            test_active = (stf_pred[dataset][fold_num][:, idx] > active_threshold[appliance])*1\n",
    "            TP[dataset][appliance] += np.multiply(test_active, active[dataset][fold_num][appliance]).sum()\n",
    "            TP_FP[dataset][appliance] += test_active.sum()\n",
    "            TP_FN[dataset][appliance] += active[dataset][fold_num][appliance].sum()"
   ]
  },
  {
   "cell_type": "code",
   "execution_count": 315,
   "metadata": {},
   "outputs": [
    {
     "name": "stdout",
     "output_type": "stream",
     "text": [
      "hvac Precision:  0.811093983185 Recall:  0.977586308995\n",
      "fridge Precision:  0.978629785109 Recall:  0.920857835046\n",
      "dr Precision:  0.125 Recall:  0.05203969129\n",
      "dw Precision:  0.0887822435513 Recall:  0.0397689103856\n",
      "mw Precision:  0.174036595509 Recall:  0.484632086852\n",
      "hvac Precision:  0.796154888292 Recall:  0.956993545331\n",
      "fridge Precision:  0.977819653745 Recall:  0.96098003122\n",
      "dr Precision:  0.113482056256 Recall:  0.0386990077178\n",
      "dw Precision:  0.0626020685901 Recall:  0.0463522773075\n",
      "mw Precision:  0.15893247776 Recall:  0.262919179735\n"
     ]
    }
   ],
   "source": [
    "for dataset in [1, 3]:\n",
    "    for idx, appliance in enumerate(APPLIANCE_ORDER[1:-1]):\n",
    "        pr = TP[dataset][appliance]/TP_FP[dataset][appliance]\n",
    "        recall = TP[dataset][appliance]/TP_FN[dataset][appliance]\n",
    "        \n",
    "        print(appliance, \"Precision: \", pr, \"Recall: \", recall)\n"
   ]
  },
  {
   "cell_type": "code",
   "execution_count": 316,
   "metadata": {
    "collapsed": true
   },
   "outputs": [],
   "source": [
    "TP = {}\n",
    "TP_FP = {}\n",
    "TP_FN = {}\n",
    "for dataset in [1, 3]:\n",
    "    TP[dataset] = {}\n",
    "    TP_FP[dataset] = {}\n",
    "    TP_FN[dataset] = {}\n",
    "    for idx, appliance in enumerate(APPLIANCE_ORDER[1:-1]):\n",
    "        TP[dataset][appliance] = 0\n",
    "        TP_FP[dataset][appliance] = 0\n",
    "        TP_FN[dataset][appliance] = 0\n",
    "        for fold_num in range(5):\n",
    "            test_active = (mtf_pred[dataset][fold_num][:, idx] > active_threshold[appliance])*1\n",
    "            TP[dataset][appliance] += np.multiply(test_active, active[dataset][fold_num][appliance]).sum()\n",
    "            TP_FP[dataset][appliance] += test_active.sum()\n",
    "            TP_FN[dataset][appliance] += active[dataset][fold_num][appliance].sum()"
   ]
  },
  {
   "cell_type": "code",
   "execution_count": 317,
   "metadata": {},
   "outputs": [
    {
     "name": "stdout",
     "output_type": "stream",
     "text": [
      "hvac Precision:  0.816622527261 Recall:  0.972323384852\n",
      "fridge Precision:  0.978581370906 Recall:  0.96372161205\n",
      "dr Precision:  0.125177003682 Recall:  0.0487320837927\n",
      "dw Precision:  0.0813429472735 Recall:  0.0485019481392\n",
      "mw Precision:  0.20485015241 Recall:  0.366417370326\n",
      "hvac Precision:  0.795939687083 Recall:  0.975676555931\n",
      "fridge Precision:  0.978608407768 Recall:  0.985699019185\n",
      "dr Precision:  0.106988783434 Recall:  0.0410143329658\n",
      "dw Precision:  0.0734101579172 Recall:  0.0693268843208\n",
      "mw Precision:  0.212929915639 Recall:  0.379975874548\n"
     ]
    }
   ],
   "source": [
    "for dataset in [1, 3]:\n",
    "    for idx, appliance in enumerate(APPLIANCE_ORDER[1:-1]):\n",
    "        pr = TP[dataset][appliance]/TP_FP[dataset][appliance]\n",
    "        recall = TP[dataset][appliance]/TP_FN[dataset][appliance]\n",
    "        \n",
    "        print(appliance, \"Precision: \", pr, \"Recall: \", recall)\n"
   ]
  },
  {
   "cell_type": "code",
   "execution_count": 318,
   "metadata": {
    "collapsed": true
   },
   "outputs": [],
   "source": [
    "sc_pred = np.load(\"../code/baseline/result/sc-non-disc-pred.npy\").item()\n",
    "predictions['sc'] = sc_pred"
   ]
  },
  {
   "cell_type": "code",
   "execution_count": 319,
   "metadata": {
    "collapsed": true
   },
   "outputs": [],
   "source": [
    "TP = {}\n",
    "TP_FP = {}\n",
    "TP_FN = {}\n",
    "for dataset in [1, 3]:\n",
    "    TP[dataset] = {}\n",
    "    TP_FP[dataset] = {}\n",
    "    TP_FN[dataset] = {}\n",
    "    for idx, appliance in enumerate(APPLIANCE_ORDER[1:-1]):\n",
    "        TP[dataset][appliance] = 0\n",
    "        TP_FP[dataset][appliance] = 0\n",
    "        TP_FN[dataset][appliance] = 0\n",
    "        for fold_num in range(5):\n",
    "            test_active = (sc_pred[dataset][fold_num][:, idx] > active_threshold[appliance])*1\n",
    "            TP[dataset][appliance] += np.multiply(test_active, active[dataset][fold_num][appliance]).sum()\n",
    "            TP_FP[dataset][appliance] += test_active.sum()\n",
    "            TP_FN[dataset][appliance] += active[dataset][fold_num][appliance].sum()"
   ]
  },
  {
   "cell_type": "code",
   "execution_count": 320,
   "metadata": {},
   "outputs": [
    {
     "name": "stdout",
     "output_type": "stream",
     "text": [
      "hvac Precision:  1.0 Recall:  0.924735003257\n",
      "fridge Precision:  0.983653614 Recall:  0.615462515876\n",
      "dr Precision:  0.179126572909 Recall:  0.0266813671444\n",
      "dw Precision:  0.0703951506834 Recall:  0.16539029961\n",
      "mw Precision:  0.1330680745 Recall:  0.414716525935\n",
      "hvac Precision:  1.0 Recall:  0.955786995914\n",
      "fridge Precision:  0.978929010105 Recall:  0.807110205954\n",
      "dr Precision:  0.136469221835 Recall:  0.15545755237\n",
      "dw Precision:  0.0717382110383 Recall:  0.364637914819\n",
      "mw Precision:  0.126826346266 Recall:  0.704897466828\n"
     ]
    }
   ],
   "source": [
    "for dataset in [1, 3]:\n",
    "    for idx, appliance in enumerate(APPLIANCE_ORDER[1:-1]):\n",
    "        pr = TP[dataset][appliance]/TP_FP[dataset][appliance]\n",
    "        recall = TP[dataset][appliance]/TP_FN[dataset][appliance]\n",
    "        \n",
    "        print(appliance, \"Precision: \", pr, \"Recall: \", recall)\n"
   ]
  },
  {
   "cell_type": "code",
   "execution_count": 321,
   "metadata": {
    "collapsed": true
   },
   "outputs": [],
   "source": [
    "dsc_pred = np.load(\"../code/baseline/result/DSC-pred.npy\").item()\n",
    "predictions['dsc'] = dsc_pred"
   ]
  },
  {
   "cell_type": "code",
   "execution_count": 322,
   "metadata": {
    "collapsed": true
   },
   "outputs": [],
   "source": [
    "TP = {}\n",
    "TP_FP = {}\n",
    "TP_FN = {}\n",
    "for dataset in [1, 3]:\n",
    "    TP[dataset] = {}\n",
    "    TP_FP[dataset] = {}\n",
    "    TP_FN[dataset] = {}\n",
    "    for idx, appliance in enumerate(APPLIANCE_ORDER[1:-1]):\n",
    "        TP[dataset][appliance] = 0\n",
    "        TP_FP[dataset][appliance] = 0\n",
    "        TP_FN[dataset][appliance] = 0\n",
    "        for fold_num in range(5):\n",
    "            test_active = (dsc_pred[dataset][fold_num][:, idx] > active_threshold[appliance])*1\n",
    "            TP[dataset][appliance] += np.multiply(test_active, active[dataset][fold_num][appliance]).sum()\n",
    "            TP_FP[dataset][appliance] += test_active.sum()\n",
    "            TP_FN[dataset][appliance] += active[dataset][fold_num][appliance].sum()"
   ]
  },
  {
   "cell_type": "code",
   "execution_count": 323,
   "metadata": {},
   "outputs": [
    {
     "name": "stdout",
     "output_type": "stream",
     "text": [
      "hvac Precision:  1.0 Recall:  0.979414638479\n",
      "fridge Precision:  0.984273170267 Recall:  0.462224932719\n",
      "dr Precision:  0.14131501472 Recall:  0.0158765159868\n",
      "dw Precision:  0.0785828449654 Recall:  0.0396345559586\n",
      "mw Precision:  0.176894833464 Recall:  0.195271411339\n",
      "hvac Precision:  1.0 Recall:  0.981139337952\n",
      "fridge Precision:  0.98356771308 Recall:  0.392499258654\n",
      "dr Precision:  0.12187088274 Recall:  0.0407938257993\n",
      "dw Precision:  0.0633285797285 Recall:  0.161090957947\n",
      "mw Precision:  0.171051089759 Recall:  0.281737032569\n"
     ]
    }
   ],
   "source": [
    "for dataset in [1, 3]:\n",
    "    for idx, appliance in enumerate(APPLIANCE_ORDER[1:-1]):\n",
    "        pr = TP[dataset][appliance]/TP_FP[dataset][appliance]\n",
    "        recall = TP[dataset][appliance]/TP_FN[dataset][appliance]\n",
    "        \n",
    "        print(appliance, \"Precision: \", pr, \"Recall: \", recall)\n"
   ]
  },
  {
   "cell_type": "code",
   "execution_count": 324,
   "metadata": {
    "collapsed": true
   },
   "outputs": [],
   "source": [
    "cnn_ind_params = {}\n",
    "cnn_ind_params[1] = np.load(\"../code/baseline/result/cnn-individual-new-param-1.npy\").item()\n",
    "cnn_ind_params[3] = np.load(\"../code/baseline/result/cnn-individual-new-param-3.npy\").item()\n"
   ]
  },
  {
   "cell_type": "code",
   "execution_count": 347,
   "metadata": {
    "collapsed": true,
    "scrolled": false
   },
   "outputs": [],
   "source": [
    "cnn_ind_pred = {}\n",
    "for dataset in [1, 3]:\n",
    "    cnn_ind_pred[dataset] = {}\n",
    "    for fold_num in range(5):\n",
    "        cnn_ind_pred[dataset][fold_num] = {}\n",
    "        iters = cnn_ind_params[dataset][fold_num]['iters']\n",
    "        lr = cnn_ind_params[dataset][fold_num]['lr']\n",
    "        for appliance in APPLIANCE_ORDER[1:-1]:\n",
    "            directory = \"../code/baseline/cnn-tree/{}/{}/{}/200000/0.0/\".format(dataset, fold_num, lr)\n",
    "            filename = \"test-pred-[\\'{}\\'].npy\".format(appliance)\n",
    "            try:\n",
    "                cnn_ind_pred[dataset][fold_num][appliance] = np.load(directory+filename).item()[iters][0].reshape(-1, 112, 24)\n",
    "            except:\n",
    "                print(\"CUDA_VISIBLE_DEVICES={} python cnn-tree-save-test.py {} {} 200000 0 {} {} &\".format(fold_num, dataset, lr, fold_num, appliance))\n",
    "\n"
   ]
  },
  {
   "cell_type": "code",
   "execution_count": 348,
   "metadata": {
    "collapsed": true
   },
   "outputs": [],
   "source": [
    "predictions['ind cnn'] = cnn_ind_pred"
   ]
  },
  {
   "cell_type": "code",
   "execution_count": 349,
   "metadata": {
    "collapsed": true
   },
   "outputs": [],
   "source": [
    "TP = {}\n",
    "TP_FP = {}\n",
    "TP_FN = {}\n",
    "for dataset in [1, 3]:\n",
    "    TP[dataset] = {}\n",
    "    TP_FP[dataset] = {}\n",
    "    TP_FN[dataset] = {}\n",
    "    for idx, appliance in enumerate(APPLIANCE_ORDER[1:-1]):\n",
    "        TP[dataset][appliance] = 0\n",
    "        TP_FP[dataset][appliance] = 0\n",
    "        TP_FN[dataset][appliance] = 0\n",
    "        for fold_num in range(5):\n",
    "            test_active = (cnn_ind_pred[dataset][fold_num][appliance] > active_threshold[appliance])*1\n",
    "            TP[dataset][appliance] += np.multiply(test_active, active[dataset][fold_num][appliance]).sum()\n",
    "            TP_FP[dataset][appliance] += test_active.sum()\n",
    "            TP_FN[dataset][appliance] += active[dataset][fold_num][appliance].sum()"
   ]
  },
  {
   "cell_type": "code",
   "execution_count": 350,
   "metadata": {},
   "outputs": [
    {
     "name": "stdout",
     "output_type": "stream",
     "text": [
      "0.972634274886\n",
      "0.996044290518\n",
      "0.457221609702\n",
      "0.000537417707913\n",
      "0.00617611580217\n",
      "0.956016462368\n",
      "0.996743673383\n",
      "0.0901874310915\n",
      "0.00201531640468\n",
      "0.00598311218335\n"
     ]
    }
   ],
   "source": [
    "for dataset in [1, 3]:\n",
    "    for idx, appliance in enumerate(APPLIANCE_ORDER[1:-1]):\n",
    "        pr = TP[dataset][appliance]/TP_FP[dataset][appliance]\n",
    "        recall = TP[dataset][appliance]/TP_FN[dataset][appliance]\n",
    "        \n",
    "        print(recall)\n"
   ]
  },
  {
   "cell_type": "code",
   "execution_count": 351,
   "metadata": {
    "collapsed": true
   },
   "outputs": [],
   "source": [
    "cnn_tree_params = {}\n",
    "cnn_tree_params[1] = np.load(\"../code/baseline/result/cnn-tree-new-param-1.npy\").item()\n",
    "cnn_tree_params[3] = np.load(\"../code/baseline/result/cnn-tree-final-param-3.npy\").item()"
   ]
  },
  {
   "cell_type": "code",
   "execution_count": 352,
   "metadata": {
    "collapsed": true
   },
   "outputs": [],
   "source": [
    "# get prediction for cnn tree\n",
    "cnn_tree_pred = {}\n",
    "for dataset in [1, 3]:\n",
    "    cnn_tree_pred[dataset] = {}\n",
    "    for fold_num in range(5):\n",
    "        cnn_tree_pred[dataset][fold_num] = {}\n",
    "\n",
    "        lr = cnn_tree_params[dataset][fold_num]['lr']\n",
    "        iters = cnn_tree_params[dataset][fold_num]['iters']\n",
    "        order = cnn_tree_params[dataset][fold_num]['order']\n",
    "\n",
    "        o = \"\\', \\'\".join(str(x) for x in order)\n",
    "        directory = \"../code/baseline/cnn-tree/{}/{}/{}/20000/0.0/\".format(dataset, fold_num,lr)\n",
    "        filename = \"test-pred-[\\'{}\\'].npy\".format(o)\n",
    "\n",
    "        full_path = directory + filename\n",
    "        cnn_pred = np.asarray(np.load(full_path).item()[iters])\n",
    "\n",
    "        for idx, appliance in enumerate(order):\n",
    "            cnn_tree_pred[dataset][fold_num][appliance] = cnn_pred[idx].reshape(-1, 112,24)\n",
    "    "
   ]
  },
  {
   "cell_type": "code",
   "execution_count": 361,
   "metadata": {
    "collapsed": true
   },
   "outputs": [],
   "source": [
    "predictions['tree cnn'] = cnn_tree_pred"
   ]
  },
  {
   "cell_type": "code",
   "execution_count": 353,
   "metadata": {},
   "outputs": [
    {
     "name": "stdout",
     "output_type": "stream",
     "text": [
      "87.5339624734\n",
      "163.315904141\n",
      "8.63536474212\n",
      "16.4218572378\n",
      "37.7565564686\n",
      "69.0058276011\n",
      "306.384807266\n",
      "9.00085921228\n",
      "15.4479628075\n",
      "33.7374402039\n"
     ]
    }
   ],
   "source": [
    "for dataset in [1,3]:\n",
    "    for idx, appliance in enumerate(order):\n",
    "        error = 0\n",
    "        for fold_num in range(5):\n",
    "        \n",
    "            abs_error = np.abs(cnn_tree_pred[dataset][fold_num][appliance] - test_gt[fold_num][appliance])\n",
    "            error += abs_error.mean()*num_homes[fold_num]\n",
    "        print(error/68)"
   ]
  },
  {
   "cell_type": "code",
   "execution_count": 354,
   "metadata": {
    "collapsed": true
   },
   "outputs": [],
   "source": [
    "TP = {}\n",
    "TP_FP = {}\n",
    "TP_FN = {}\n",
    "for dataset in [1, 3]:\n",
    "    TP[dataset] = {}\n",
    "    TP_FP[dataset] = {}\n",
    "    TP_FN[dataset] = {}\n",
    "    for idx, appliance in enumerate(APPLIANCE_ORDER[1:-1]):\n",
    "        TP[dataset][appliance] = 0\n",
    "        TP_FP[dataset][appliance] = 0\n",
    "        TP_FN[dataset][appliance] = 0\n",
    "        for fold_num in range(5):\n",
    "            test_active = (cnn_tree_pred[dataset][fold_num][appliance] > active_threshold[appliance])*1\n",
    "            TP[dataset][appliance] += np.multiply(test_active, active[dataset][fold_num][appliance]).sum()\n",
    "            TP_FP[dataset][appliance] += test_active.sum()\n",
    "            TP_FN[dataset][appliance] += active[dataset][fold_num][appliance].sum()"
   ]
  },
  {
   "cell_type": "code",
   "execution_count": 355,
   "metadata": {},
   "outputs": [
    {
     "name": "stdout",
     "output_type": "stream",
     "text": [
      "0.969777047433\n",
      "0.969730709622\n",
      "0.492613009923\n",
      "0.000537417707913\n",
      "0.0135102533172\n",
      "0.959036536981\n",
      "0.991607405625\n",
      "0.148732083793\n",
      "0.0\n",
      "0.0248974668275\n"
     ]
    },
    {
     "name": "stderr",
     "output_type": "stream",
     "text": [
      "/zf14/yj9xs/anaconda3/lib/python3.6/site-packages/ipykernel_launcher.py:3: RuntimeWarning: invalid value encountered in long_scalars\n",
      "  This is separate from the ipykernel package so we can avoid doing imports until\n"
     ]
    }
   ],
   "source": [
    "for dataset in [1, 3]:\n",
    "    for idx, appliance in enumerate(APPLIANCE_ORDER[1:-1]):\n",
    "        pr = TP[dataset][appliance]/TP_FP[dataset][appliance]\n",
    "        recall = TP[dataset][appliance]/TP_FN[dataset][appliance]\n",
    "        \n",
    "        print(recall)\n"
   ]
  },
  {
   "cell_type": "code",
   "execution_count": 356,
   "metadata": {
    "collapsed": true
   },
   "outputs": [],
   "source": [
    "num_folds=5\n",
    "def mean_predictions(dataset):\n",
    "    out = []\n",
    "    for cur_fold in range(5):\n",
    "        train, test = get_train_test(dataset, num_folds=num_folds, fold_num=cur_fold)\n",
    "        pred = np.zeros_like(test[:, 1:, :, :])\n",
    "#         print(pred.shape)\n",
    "        \n",
    "        for appliance in range(test.shape[1]-1):\n",
    "            for day in range(test.shape[2]):\n",
    "                pred[:, appliance, day, :] = train[:, appliance+1, day, :].mean(axis=0)\n",
    "#         print(pred[0, 1, 0, 20])\n",
    "        out.append(pred)\n",
    "#     return np.concatenate(out)\n",
    "    return out\n"
   ]
  },
  {
   "cell_type": "code",
   "execution_count": 362,
   "metadata": {
    "collapsed": true
   },
   "outputs": [],
   "source": [
    "tensor = np.load('../2015-5appliances-true-agg.npy')\n",
    "# tensor = np.load('../2015-5appliances.numpy.npy')\n",
    "from sklearn.metrics import mean_absolute_error\n",
    "\n",
    "dataset = 1\n",
    "mean_pred = {}\n",
    "for dataset in [1, 3]:\n",
    "\n",
    "    gt = tensor[:, 1:, :, :]\n",
    "    mean_pred[dataset] = mean_predictions(dataset)\n",
    "# Clamping prediction to aggregate\n",
    "predictions['mean'] = mean_pred"
   ]
  },
  {
   "cell_type": "code",
   "execution_count": 358,
   "metadata": {
    "collapsed": true
   },
   "outputs": [],
   "source": [
    "TP = {}\n",
    "TP_FP = {}\n",
    "TP_FN = {}\n",
    "for dataset in [1, 3]:\n",
    "    TP[dataset] = {}\n",
    "    TP_FP[dataset] = {}\n",
    "    TP_FN[dataset] = {}\n",
    "    for idx, appliance in enumerate(APPLIANCE_ORDER[1:-1]):\n",
    "        TP[dataset][appliance] = 0\n",
    "        TP_FP[dataset][appliance] = 0\n",
    "        TP_FN[dataset][appliance] = 0\n",
    "        for fold_num in range(5):\n",
    "            test_active = (mean_pred[dataset][fold_num][:, idx] > active_threshold[appliance])*1\n",
    "            TP[dataset][appliance] += np.multiply(test_active, active[dataset][fold_num][appliance]).sum()\n",
    "            TP_FP[dataset][appliance] += test_active.sum()\n",
    "            TP_FN[dataset][appliance] += active[dataset][fold_num][appliance].sum()"
   ]
  },
  {
   "cell_type": "code",
   "execution_count": 359,
   "metadata": {},
   "outputs": [
    {
     "name": "stdout",
     "output_type": "stream",
     "text": [
      "hvac Precision:  0.753081105573 Recall:  0.984218629715\n",
      "fridge Precision:  0.977815344888 Recall:  1.0\n",
      "dr Precision:  0.10296474359 Recall:  0.0283351708931\n",
      "dw Precision:  0.0756002595717 Recall:  0.031304581486\n",
      "mw Precision:  0.170584519218 Recall:  0.495102533172\n",
      "hvac Precision:  0.753081105573 Recall:  0.984218629715\n",
      "fridge Precision:  0.977815344888 Recall:  1.0\n",
      "dr Precision:  0.10296474359 Recall:  0.0283351708931\n",
      "dw Precision:  0.0756002595717 Recall:  0.031304581486\n",
      "mw Precision:  0.170584519218 Recall:  0.495102533172\n"
     ]
    }
   ],
   "source": [
    "for dataset in [1, 3]:\n",
    "    for idx, appliance in enumerate(APPLIANCE_ORDER[1:-1]):\n",
    "        pr = TP[dataset][appliance]/TP_FP[dataset][appliance]\n",
    "        recall = TP[dataset][appliance]/TP_FN[dataset][appliance]\n",
    "        \n",
    "        print(appliance, \"Precision: \", pr, \"Recall: \", recall)\n"
   ]
  },
  {
   "cell_type": "code",
   "execution_count": 360,
   "metadata": {
    "collapsed": true
   },
   "outputs": [],
   "source": [
    "# error of active parts"
   ]
  },
  {
   "cell_type": "code",
   "execution_count": 399,
   "metadata": {
    "scrolled": false
   },
   "outputs": [
    {
     "name": "stdout",
     "output_type": "stream",
     "text": [
      "Dataset  1\n",
      "hvac\n",
      "active error 312.920953713\n",
      "inactive error 352.311600154\n",
      "fridge\n",
      "active error 43.4001747279\n",
      "inactive error 46.7066317886\n",
      "dr\n",
      "active error 1198.99797076\n",
      "inactive error 60.3982116189\n",
      "dw\n",
      "active error 348.461856826\n",
      "inactive error 14.4282359396\n",
      "mw\n",
      "active error 48.1898233036\n",
      "inactive error 6.68728489695\n",
      "Dataset  1\n",
      "hvac\n",
      "active error 318.125981413\n",
      "inactive error 347.42875228\n",
      "fridge\n",
      "active error 40.2023032729\n",
      "inactive error 55.4443076088\n",
      "dr\n",
      "active error 1198.64924853\n",
      "inactive error 61.8406305985\n",
      "dw\n",
      "active error 347.193082631\n",
      "inactive error 15.0063319151\n",
      "mw\n",
      "active error 50.3314639219\n",
      "inactive error 4.93792805665\n",
      "Dataset  1\n",
      "hvac\n",
      "active error 276.623251431\n",
      "inactive error 4.35813867811\n",
      "fridge\n",
      "active error 118.957349014\n",
      "inactive error 79.8034176483\n",
      "dr\n",
      "active error 1259.90720008\n",
      "inactive error 19.2902113243\n",
      "dw\n",
      "active error 341.543323579\n",
      "inactive error 17.7608014526\n",
      "mw\n",
      "active error 62.6150733512\n",
      "inactive error 21.8516790999\n",
      "Dataset  1\n",
      "hvac\n",
      "active error 233.605222874\n",
      "inactive error 0.744150186756\n",
      "fridge\n",
      "active error 78.1503528416\n",
      "inactive error 40.6662496421\n",
      "dr\n",
      "active error 1263.60993866\n",
      "inactive error 21.764351783\n",
      "dw\n",
      "active error 360.617896232\n",
      "inactive error 5.46510584216\n",
      "mw\n",
      "active error 56.3310011241\n",
      "inactive error 6.48834104249\n",
      "Dataset  1\n",
      "hvac\n",
      "active error 504.154868521\n",
      "inactive error 545.658364764\n",
      "fridge\n",
      "active error 29.3474797739\n",
      "inactive error 76.3532301219\n",
      "dr\n",
      "active error 1203.86274056\n",
      "inactive error 64.4488590566\n",
      "dw\n",
      "active error 348.77862524\n",
      "inactive error 15.0710541356\n",
      "mw\n",
      "active error 48.8699970253\n",
      "inactive error 6.41180356169\n",
      "Dataset  3\n",
      "hvac\n",
      "active error 426.313193948\n",
      "inactive error 379.392614859\n",
      "fridge\n",
      "active error 43.7248956157\n",
      "inactive error 50.4695610142\n",
      "dr\n",
      "active error 1200.47968559\n",
      "inactive error 64.4270450936\n",
      "dw\n",
      "active error 346.933681884\n",
      "inactive error 16.483511261\n",
      "mw\n",
      "active error 52.5926753832\n",
      "inactive error 4.70543229874\n",
      "Dataset  3\n",
      "hvac\n",
      "active error 432.109158174\n",
      "inactive error 398.627881985\n",
      "fridge\n",
      "active error 39.7686615269\n",
      "inactive error 53.3625228179\n",
      "dr\n",
      "active error 1195.46518692\n",
      "inactive error 64.5755994055\n",
      "dw\n",
      "active error 344.318157456\n",
      "inactive error 17.3837717808\n",
      "mw\n",
      "active error 49.986632424\n",
      "inactive error 5.07781266759\n",
      "Dataset  3\n",
      "hvac\n",
      "active error 140.428817522\n",
      "inactive error 2.86333914801\n",
      "fridge\n",
      "active error 324.388610493\n",
      "inactive error 235.392334421\n",
      "dr\n",
      "active error 1191.55688484\n",
      "inactive error 46.8058662678\n",
      "dw\n",
      "active error 315.851352021\n",
      "inactive error 45.5558396425\n",
      "mw\n",
      "active error 120.709259599\n",
      "inactive error 77.3248589532\n",
      "Dataset  3\n",
      "hvac\n",
      "active error 72.634162031\n",
      "inactive error 1.27553389359\n",
      "fridge\n",
      "active error 87.9679407581\n",
      "inactive error 24.1815622641\n",
      "dr\n",
      "active error 1261.4699669\n",
      "inactive error 24.1334347151\n",
      "dw\n",
      "active error 343.426494895\n",
      "inactive error 20.923858413\n",
      "mw\n",
      "active error 60.2718448559\n",
      "inactive error 10.5528834307\n",
      "Dataset  3\n",
      "hvac\n",
      "active error 504.154868521\n",
      "inactive error 545.658364764\n",
      "fridge\n",
      "active error 29.3474797739\n",
      "inactive error 76.3532301219\n",
      "dr\n",
      "active error 1203.86274056\n",
      "inactive error 64.4488590566\n",
      "dw\n",
      "active error 348.77862524\n",
      "inactive error 15.0710541356\n",
      "mw\n",
      "active error 48.8699970253\n",
      "inactive error 6.41180356169\n"
     ]
    }
   ],
   "source": [
    "error = {}\n",
    "for dataset in [1, 3]:\n",
    "    error[dataset] = {}\n",
    "    for method in ['stf', 'mtf', 'sc', 'dsc', 'mean']:\n",
    "        error[dataset][method] = {}\n",
    "        print(\"Dataset \", dataset)\n",
    "        for idx, appliance in enumerate(APPLIANCE_ORDER[1:-1]):\n",
    "            active_error = []\n",
    "            inactive_error = []\n",
    "            print(appliance)\n",
    "            for fold_num in range(5):\n",
    "                abs_error = np.abs(predictions[method][dataset][fold_num][:, idx]-test_gt[fold_num][appliance])\n",
    "                active_error.append(abs_error[active[dataset][fold_num][appliance] == 1])\n",
    "                inactive_error.append(abs_error[active[dataset][fold_num][appliance] == 0])\n",
    "    #             print(appliance, fold_num, abs_error[active[dataset][fold_num][appliance] == 1].mean())\n",
    "            print(\"active error\", np.hstack(active_error).mean())\n",
    "            print(\"inactive error\", np.hstack(inactive_error).mean())\n"
   ]
  },
  {
   "cell_type": "code",
   "execution_count": 173,
   "metadata": {},
   "outputs": [
    {
     "data": {
      "text/plain": [
       "[array([ 0.,  0.,  0., ...,  0.,  0.,  0.]),\n",
       " array([ 0.,  0.,  0., ...,  0.,  0.,  0.]),\n",
       " array([ 0.,  0.,  0., ...,  0.,  0.,  0.]),\n",
       " array([ 0.,  0.,  0., ...,  0.,  0.,  0.]),\n",
       " array([ 0.,  0.,  0., ...,  0.,  0.,  0.])]"
      ]
     },
     "execution_count": 173,
     "metadata": {},
     "output_type": "execute_result"
    }
   ],
   "source": [
    "active_error"
   ]
  }
 ],
 "metadata": {
  "kernelspec": {
   "display_name": "Python 3",
   "language": "python",
   "name": "python3"
  },
  "language_info": {
   "codemirror_mode": {
    "name": "ipython",
    "version": 3
   },
   "file_extension": ".py",
   "mimetype": "text/x-python",
   "name": "python",
   "nbconvert_exporter": "python",
   "pygments_lexer": "ipython3",
   "version": "3.6.3"
  }
 },
 "nbformat": 4,
 "nbformat_minor": 2
}
