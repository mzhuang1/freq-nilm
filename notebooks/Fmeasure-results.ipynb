{
 "cells": [
  {
   "cell_type": "code",
   "execution_count": 1,
   "metadata": {
    "collapsed": true
   },
   "outputs": [],
   "source": [
    "import numpy as np\n",
    "import sys\n",
    "sys.path.append(\"../code/\")\n",
    "from dataloader import APPLIANCE_ORDER, get_train_test\n"
   ]
  },
  {
   "cell_type": "code",
   "execution_count": 2,
   "metadata": {
    "collapsed": true
   },
   "outputs": [],
   "source": [
    "stf_pred = {}\n",
    "stf_pred[1] = np.load(\"../code/baseline/result/stf-pred-12.npy\").item()[1]\n",
    "stf_pred[3] = np.load(\"../code/baseline/result/stf-pred-34.npy\").item()[3]"
   ]
  },
  {
   "cell_type": "code",
   "execution_count": 3,
   "metadata": {
    "collapsed": true
   },
   "outputs": [],
   "source": [
    "mtf_pred = {}\n",
    "mtf_pred[1] = np.load(\"../code/baseline/result/mtf-pred-12.npy\").item()[1]\n",
    "mtf_pred[3] = np.load(\"../code/baseline/result/mtf-pred-34.npy\").item()[3]"
   ]
  },
  {
   "cell_type": "code",
   "execution_count": 5,
   "metadata": {
    "collapsed": true
   },
   "outputs": [],
   "source": [
    "active_threshold = {'hvac':230, 'fridge':20, 'dr':250, 'dw':55, 'mw':10}"
   ]
  },
  {
   "cell_type": "code",
   "execution_count": 6,
   "metadata": {
    "collapsed": true
   },
   "outputs": [],
   "source": [
    "num_homes = {0:14, 1:14, 2:14, 3:13, 4:13}"
   ]
  },
  {
   "cell_type": "code",
   "execution_count": 7,
   "metadata": {
    "collapsed": true
   },
   "outputs": [],
   "source": [
    "# calculate gt\n",
    "test_gt = {}\n",
    "valid_gt = {}\n",
    "for fold_num in range(5):\n",
    "    test_gt[fold_num] = {}\n",
    "    valid_gt[fold_num] = {}\n",
    "    train, test = get_train_test(1, 5, fold_num)\n",
    "    valid = train[int(0.8*len(train)):].copy()\n",
    "    for idx, appliance in enumerate(APPLIANCE_ORDER[1:-1]):\n",
    "        test_gt[fold_num][appliance] = test[:, idx+1]\n",
    "        valid_gt[fold_num][appliance] = valid[:, idx+1]"
   ]
  },
  {
   "cell_type": "code",
   "execution_count": 8,
   "metadata": {
    "collapsed": true
   },
   "outputs": [],
   "source": [
    "active = {}\n",
    "for dataset in [1, 3]:\n",
    "    active[dataset] = {}\n",
    "    for fold_num in range(5):\n",
    "        active[dataset][fold_num] = {}\n",
    "        for idx, appliance in enumerate(APPLIANCE_ORDER[1:-1]):\n",
    "            active[dataset][fold_num][appliance] = (test_gt[fold_num][appliance] > active_threshold[appliance])*1"
   ]
  },
  {
   "cell_type": "code",
   "execution_count": 9,
   "metadata": {
    "collapsed": true
   },
   "outputs": [],
   "source": [
    "TP = {}\n",
    "TP_FP = {}\n",
    "TP_FN = {}\n",
    "for dataset in [1, 3]:\n",
    "    TP[dataset] = {}\n",
    "    TP_FP[dataset] = {}\n",
    "    TP_FN[dataset] = {}\n",
    "    for idx, appliance in enumerate(APPLIANCE_ORDER[1:-1]):\n",
    "        TP[dataset][appliance] = 0\n",
    "        TP_FP[dataset][appliance] = 0\n",
    "        TP_FN[dataset][appliance] = 0\n",
    "        for fold_num in range(5):\n",
    "            test_active = (stf_pred[dataset][fold_num][:, idx] > active_threshold[appliance])*1\n",
    "            TP[dataset][appliance] += np.multiply(test_active, active[dataset][fold_num][appliance]).sum()\n",
    "            TP_FP[dataset][appliance] += test_active.sum()\n",
    "            TP_FN[dataset][appliance] += active[dataset][fold_num][appliance].sum()"
   ]
  },
  {
   "cell_type": "code",
   "execution_count": 10,
   "metadata": {},
   "outputs": [
    {
     "name": "stdout",
     "output_type": "stream",
     "text": [
      "hvac Precision:  0.811093983185 Recall:  0.977586308995\n",
      "fridge Precision:  0.978629785109 Recall:  0.920857835046\n",
      "dr Precision:  0.125 Recall:  0.05203969129\n",
      "dw Precision:  0.0887822435513 Recall:  0.0397689103856\n",
      "mw Precision:  0.174036595509 Recall:  0.484632086852\n",
      "hvac Precision:  0.796154888292 Recall:  0.956993545331\n",
      "fridge Precision:  0.977819653745 Recall:  0.96098003122\n",
      "dr Precision:  0.113482056256 Recall:  0.0386990077178\n",
      "dw Precision:  0.0626020685901 Recall:  0.0463522773075\n",
      "mw Precision:  0.15893247776 Recall:  0.262919179735\n"
     ]
    }
   ],
   "source": [
    "for dataset in [1, 3]:\n",
    "    for idx, appliance in enumerate(APPLIANCE_ORDER[1:-1]):\n",
    "        pr = TP[dataset][appliance]/TP_FP[dataset][appliance]\n",
    "        recall = TP[dataset][appliance]/TP_FN[dataset][appliance]\n",
    "        \n",
    "        print(appliance, \"Precision: \", pr, \"Recall: \", recall)\n"
   ]
  },
  {
   "cell_type": "code",
   "execution_count": 11,
   "metadata": {
    "collapsed": true
   },
   "outputs": [],
   "source": [
    "TP = {}\n",
    "TP_FP = {}\n",
    "TP_FN = {}\n",
    "for dataset in [1, 3]:\n",
    "    TP[dataset] = {}\n",
    "    TP_FP[dataset] = {}\n",
    "    TP_FN[dataset] = {}\n",
    "    for idx, appliance in enumerate(APPLIANCE_ORDER[1:-1]):\n",
    "        TP[dataset][appliance] = 0\n",
    "        TP_FP[dataset][appliance] = 0\n",
    "        TP_FN[dataset][appliance] = 0\n",
    "        for fold_num in range(5):\n",
    "            test_active = (mtf_pred[dataset][fold_num][:, idx] > active_threshold[appliance])*1\n",
    "            TP[dataset][appliance] += np.multiply(test_active, active[dataset][fold_num][appliance]).sum()\n",
    "            TP_FP[dataset][appliance] += test_active.sum()\n",
    "            TP_FN[dataset][appliance] += active[dataset][fold_num][appliance].sum()"
   ]
  },
  {
   "cell_type": "code",
   "execution_count": 12,
   "metadata": {},
   "outputs": [
    {
     "name": "stdout",
     "output_type": "stream",
     "text": [
      "hvac Precision:  0.816622527261 Recall:  0.972323384852\n",
      "fridge Precision:  0.978581370906 Recall:  0.96372161205\n",
      "dr Precision:  0.125177003682 Recall:  0.0487320837927\n",
      "dw Precision:  0.0813429472735 Recall:  0.0485019481392\n",
      "mw Precision:  0.20485015241 Recall:  0.366417370326\n",
      "hvac Precision:  0.795939687083 Recall:  0.975676555931\n",
      "fridge Precision:  0.978608407768 Recall:  0.985699019185\n",
      "dr Precision:  0.106988783434 Recall:  0.0410143329658\n",
      "dw Precision:  0.0734101579172 Recall:  0.0693268843208\n",
      "mw Precision:  0.212929915639 Recall:  0.379975874548\n"
     ]
    }
   ],
   "source": [
    "for dataset in [1, 3]:\n",
    "    for idx, appliance in enumerate(APPLIANCE_ORDER[1:-1]):\n",
    "        pr = TP[dataset][appliance]/TP_FP[dataset][appliance]\n",
    "        recall = TP[dataset][appliance]/TP_FN[dataset][appliance]\n",
    "        \n",
    "        print(appliance, \"Precision: \", pr, \"Recall: \", recall)\n"
   ]
  },
  {
   "cell_type": "code",
   "execution_count": 13,
   "metadata": {
    "collapsed": true
   },
   "outputs": [],
   "source": [
    "sc_pred = np.load(\"../code/baseline/result/sc-non-disc-pred.npy\").item()"
   ]
  },
  {
   "cell_type": "code",
   "execution_count": 14,
   "metadata": {
    "collapsed": true
   },
   "outputs": [],
   "source": [
    "TP = {}\n",
    "TP_FP = {}\n",
    "TP_FN = {}\n",
    "for dataset in [1, 3]:\n",
    "    TP[dataset] = {}\n",
    "    TP_FP[dataset] = {}\n",
    "    TP_FN[dataset] = {}\n",
    "    for idx, appliance in enumerate(APPLIANCE_ORDER[1:-1]):\n",
    "        TP[dataset][appliance] = 0\n",
    "        TP_FP[dataset][appliance] = 0\n",
    "        TP_FN[dataset][appliance] = 0\n",
    "        for fold_num in range(5):\n",
    "            test_active = (sc_pred[dataset][fold_num][:, idx] > active_threshold[appliance])*1\n",
    "            TP[dataset][appliance] += np.multiply(test_active, active[dataset][fold_num][appliance]).sum()\n",
    "            TP_FP[dataset][appliance] += test_active.sum()\n",
    "            TP_FN[dataset][appliance] += active[dataset][fold_num][appliance].sum()"
   ]
  },
  {
   "cell_type": "code",
   "execution_count": 15,
   "metadata": {},
   "outputs": [
    {
     "name": "stdout",
     "output_type": "stream",
     "text": [
      "hvac Precision:  1.0 Recall:  0.924735003257\n",
      "fridge Precision:  0.983653614 Recall:  0.615462515876\n",
      "dr Precision:  0.179126572909 Recall:  0.0266813671444\n",
      "dw Precision:  0.0703951506834 Recall:  0.16539029961\n",
      "mw Precision:  0.1330680745 Recall:  0.414716525935\n",
      "hvac Precision:  1.0 Recall:  0.955786995914\n",
      "fridge Precision:  0.978929010105 Recall:  0.807110205954\n",
      "dr Precision:  0.136469221835 Recall:  0.15545755237\n",
      "dw Precision:  0.0717382110383 Recall:  0.364637914819\n",
      "mw Precision:  0.126826346266 Recall:  0.704897466828\n"
     ]
    }
   ],
   "source": [
    "for dataset in [1, 3]:\n",
    "    for idx, appliance in enumerate(APPLIANCE_ORDER[1:-1]):\n",
    "        pr = TP[dataset][appliance]/TP_FP[dataset][appliance]\n",
    "        recall = TP[dataset][appliance]/TP_FN[dataset][appliance]\n",
    "        \n",
    "        print(appliance, \"Precision: \", pr, \"Recall: \", recall)\n"
   ]
  },
  {
   "cell_type": "code",
   "execution_count": 16,
   "metadata": {
    "collapsed": true
   },
   "outputs": [],
   "source": [
    "dsc_pred = np.load(\"../code/baseline/result/DSC-pred.npy\").item()"
   ]
  },
  {
   "cell_type": "code",
   "execution_count": 17,
   "metadata": {
    "collapsed": true
   },
   "outputs": [],
   "source": [
    "TP = {}\n",
    "TP_FP = {}\n",
    "TP_FN = {}\n",
    "for dataset in [1, 3]:\n",
    "    TP[dataset] = {}\n",
    "    TP_FP[dataset] = {}\n",
    "    TP_FN[dataset] = {}\n",
    "    for idx, appliance in enumerate(APPLIANCE_ORDER[1:-1]):\n",
    "        TP[dataset][appliance] = 0\n",
    "        TP_FP[dataset][appliance] = 0\n",
    "        TP_FN[dataset][appliance] = 0\n",
    "        for fold_num in range(5):\n",
    "            test_active = (dsc_pred[dataset][fold_num][:, idx] > active_threshold[appliance])*1\n",
    "            TP[dataset][appliance] += np.multiply(test_active, active[dataset][fold_num][appliance]).sum()\n",
    "            TP_FP[dataset][appliance] += test_active.sum()\n",
    "            TP_FN[dataset][appliance] += active[dataset][fold_num][appliance].sum()"
   ]
  },
  {
   "cell_type": "code",
   "execution_count": 18,
   "metadata": {},
   "outputs": [
    {
     "name": "stdout",
     "output_type": "stream",
     "text": [
      "hvac Precision:  1.0 Recall:  0.979414638479\n",
      "fridge Precision:  0.984273170267 Recall:  0.462224932719\n",
      "dr Precision:  0.14131501472 Recall:  0.0158765159868\n",
      "dw Precision:  0.0785828449654 Recall:  0.0396345559586\n",
      "mw Precision:  0.176894833464 Recall:  0.195271411339\n",
      "hvac Precision:  1.0 Recall:  0.981139337952\n",
      "fridge Precision:  0.98356771308 Recall:  0.392499258654\n",
      "dr Precision:  0.12187088274 Recall:  0.0407938257993\n",
      "dw Precision:  0.0633285797285 Recall:  0.161090957947\n",
      "mw Precision:  0.171051089759 Recall:  0.281737032569\n"
     ]
    }
   ],
   "source": [
    "for dataset in [1, 3]:\n",
    "    for idx, appliance in enumerate(APPLIANCE_ORDER[1:-1]):\n",
    "        pr = TP[dataset][appliance]/TP_FP[dataset][appliance]\n",
    "        recall = TP[dataset][appliance]/TP_FN[dataset][appliance]\n",
    "        \n",
    "        print(appliance, \"Precision: \", pr, \"Recall: \", recall)\n"
   ]
  },
  {
   "cell_type": "code",
   "execution_count": 19,
   "metadata": {
    "collapsed": true
   },
   "outputs": [],
   "source": [
    "cnn_ind_params = {}\n",
    "cnn_ind_params[1] = np.load(\"../code/baseline/result/cnn-individual-new-param-1.npy\").item()\n",
    "cnn_ind_params[3] = np.load(\"../code/baseline/result/cnn-individual-new-param-3.npy\").item()"
   ]
  },
  {
   "cell_type": "code",
   "execution_count": 20,
   "metadata": {
    "collapsed": true
   },
   "outputs": [],
   "source": [
    "cnn_ind_pred = {}\n",
    "for dataset in [1, 3]:\n",
    "    cnn_ind_pred[dataset] = {}\n",
    "    for fold_num in range(5):\n",
    "        cnn_ind_pred[dataset][fold_num] = {}\n",
    "        iters = cnn_ind_params[dataset][fold_num]['iters']\n",
    "        lr = cnn_ind_params[dataset][fold_num]['lr']\n",
    "        for appliance in APPLIANCE_ORDER[1:-1]:\n",
    "            directory = \"../code/baseline/cnn-tree/{}/{}/{}/200000/0.0/\".format(dataset, fold_num, lr)\n",
    "            filename = \"test-pred-[\\'{}\\'].npy\".format(appliance)\n",
    "            cnn_ind_pred[dataset][fold_num][appliance] = np.load(directory+filename).item()[iters][0].reshape(-1, 112, 24)"
   ]
  },
  {
   "cell_type": "code",
   "execution_count": 21,
   "metadata": {
    "collapsed": true
   },
   "outputs": [],
   "source": [
    "TP = {}\n",
    "TP_FP = {}\n",
    "TP_FN = {}\n",
    "for dataset in [1, 3]:\n",
    "    TP[dataset] = {}\n",
    "    TP_FP[dataset] = {}\n",
    "    TP_FN[dataset] = {}\n",
    "    for idx, appliance in enumerate(APPLIANCE_ORDER[1:-1]):\n",
    "        TP[dataset][appliance] = 0\n",
    "        TP_FP[dataset][appliance] = 0\n",
    "        TP_FN[dataset][appliance] = 0\n",
    "        for fold_num in range(5):\n",
    "            test_active = (cnn_ind_pred[dataset][fold_num][appliance] > active_threshold[appliance])*1\n",
    "            TP[dataset][appliance] += np.multiply(test_active, active[dataset][fold_num][appliance]).sum()\n",
    "            TP_FP[dataset][appliance] += test_active.sum()\n",
    "            TP_FN[dataset][appliance] += active[dataset][fold_num][appliance].sum()"
   ]
  },
  {
   "cell_type": "code",
   "execution_count": 22,
   "metadata": {},
   "outputs": [
    {
     "name": "stdout",
     "output_type": "stream",
     "text": [
      "0.974499615089\n",
      "0.994393746958\n",
      "0.474751929438\n",
      "0.000671772134892\n",
      "0.00279855247286\n",
      "0.959132764849\n",
      "0.995484784226\n",
      "0.094046306505\n",
      "0.000671772134892\n",
      "0.0086369119421\n"
     ]
    }
   ],
   "source": [
    "for dataset in [1, 3]:\n",
    "    for idx, appliance in enumerate(APPLIANCE_ORDER[1:-1]):\n",
    "        pr = TP[dataset][appliance]/TP_FP[dataset][appliance]\n",
    "        recall = TP[dataset][appliance]/TP_FN[dataset][appliance]\n",
    "        \n",
    "        print(recall)\n"
   ]
  },
  {
   "cell_type": "code",
   "execution_count": 65,
   "metadata": {
    "collapsed": true
   },
   "outputs": [],
   "source": [
    "cnn_tree_params = {}\n",
    "cnn_tree_params[1] = np.load(\"../code/baseline/result/cnn-tree-new-param-1.npy\").item()\n",
    "old = np.load(\"../code/baseline/result/cnn-tree-param-3.npy\").item()\n",
    "cnn_tree_params[3] = np.load(\"../code/baseline/result/cnn-tree-new-param-3.npy\").item()\n",
    "cnn_tree_params[3][1] = old[1]\n",
    "cnn_tree_params[3][0] = old[0]\n",
    "np.save(\"../code/baseline/result/cnn-tree-final-param-3.npy\", cnn_tree_params[3])"
   ]
  },
  {
   "cell_type": "code",
   "execution_count": 62,
   "metadata": {
    "collapsed": true
   },
   "outputs": [],
   "source": [
    "# get prediction for cnn tree\n",
    "cnn_tree_pred = {}\n",
    "for dataset in [1, 3]:\n",
    "    cnn_tree_pred[dataset] = {}\n",
    "    for fold_num in range(5):\n",
    "        cnn_tree_pred[dataset][fold_num] = {}\n",
    "\n",
    "        lr = cnn_tree_params[dataset][fold_num]['lr']\n",
    "        iters = cnn_tree_params[dataset][fold_num]['iters']\n",
    "        order = cnn_tree_params[dataset][fold_num]['order']\n",
    "\n",
    "        o = \"\\', \\'\".join(str(x) for x in order)\n",
    "        directory = \"../code/baseline/cnn-tree/{}/{}/{}/20000/0.0/\".format(dataset, fold_num,lr)\n",
    "        filename = \"test-pred-[\\'{}\\'].npy\".format(o)\n",
    "\n",
    "        full_path = directory + filename\n",
    "        cnn_pred = np.asarray(np.load(full_path).item()[iters])\n",
    "\n",
    "        for idx, appliance in enumerate(order):\n",
    "            cnn_tree_pred[dataset][fold_num][appliance] = cnn_pred[idx].reshape(-1, 112,24)\n",
    "    "
   ]
  },
  {
   "cell_type": "code",
   "execution_count": 63,
   "metadata": {},
   "outputs": [
    {
     "name": "stdout",
     "output_type": "stream",
     "text": [
      "1 dw 16.9272695286\n",
      "1 mw 8.83644152799\n",
      "1 fridge 37.6140060996\n",
      "1 hvac 160.52208062\n",
      "1 dr 84.695233387\n",
      "3 dw 15.4570965801\n",
      "3 mw 8.59158332172\n",
      "3 fridge 32.1216416746\n",
      "3 hvac 295.321373472\n",
      "3 dr 71.1248191545\n"
     ]
    }
   ],
   "source": [
    "for dataset in [1,3]:\n",
    "    for idx, appliance in enumerate(order):\n",
    "        error = 0\n",
    "        for fold_num in range(5):\n",
    "        \n",
    "            abs_error = np.abs(cnn_tree_pred[dataset][fold_num][appliance] - test_gt[fold_num][appliance])\n",
    "            error += abs_error.mean()*num_homes[fold_num]\n",
    "        print(dataset, appliance, error/68)"
   ]
  },
  {
   "cell_type": "code",
   "execution_count": 48,
   "metadata": {
    "collapsed": true
   },
   "outputs": [],
   "source": [
    "TP = {}\n",
    "TP_FP = {}\n",
    "TP_FN = {}\n",
    "for dataset in [1, 3]:\n",
    "    TP[dataset] = {}\n",
    "    TP_FP[dataset] = {}\n",
    "    TP_FN[dataset] = {}\n",
    "    for idx, appliance in enumerate(APPLIANCE_ORDER[1:-1]):\n",
    "        TP[dataset][appliance] = 0\n",
    "        TP_FP[dataset][appliance] = 0\n",
    "        TP_FN[dataset][appliance] = 0\n",
    "        for fold_num in range(5):\n",
    "            test_active = (cnn_tree_pred[dataset][fold_num][appliance] > active_threshold[appliance])*1\n",
    "            TP[dataset][appliance] += np.multiply(test_active, active[dataset][fold_num][appliance]).sum()\n",
    "            TP_FP[dataset][appliance] += test_active.sum()\n",
    "            TP_FN[dataset][appliance] += active[dataset][fold_num][appliance].sum()"
   ]
  },
  {
   "cell_type": "code",
   "execution_count": 49,
   "metadata": {},
   "outputs": [
    {
     "name": "stdout",
     "output_type": "stream",
     "text": [
      "0.974662462249\n",
      "0.994125183938\n",
      "0.535060639471\n",
      "0.00107483541583\n",
      "0.00487334137515\n",
      "0.96435127613\n",
      "0.998366241628\n",
      "0.113450937155\n",
      "0.0\n",
      "0.00902291917973\n"
     ]
    }
   ],
   "source": [
    "for dataset in [1, 3]:\n",
    "    for idx, appliance in enumerate(APPLIANCE_ORDER[1:-1]):\n",
    "        pr = TP[dataset][appliance]/TP_FP[dataset][appliance]\n",
    "        recall = TP[dataset][appliance]/TP_FN[dataset][appliance]\n",
    "        \n",
    "        print(recall)\n"
   ]
  },
  {
   "cell_type": "code",
   "execution_count": 28,
   "metadata": {
    "collapsed": true
   },
   "outputs": [],
   "source": [
    "num_folds=5\n",
    "def mean_predictions(dataset):\n",
    "    out = []\n",
    "    for cur_fold in range(5):\n",
    "        train, test = get_train_test(dataset, num_folds=num_folds, fold_num=cur_fold)\n",
    "        pred = np.zeros_like(test[:, 1:, :, :])\n",
    "#         print(pred.shape)\n",
    "        \n",
    "        for appliance in range(test.shape[1]-1):\n",
    "            for day in range(test.shape[2]):\n",
    "                pred[:, appliance, day, :] = train[:, appliance+1, day, :].mean(axis=0)\n",
    "#         print(pred[0, 1, 0, 20])\n",
    "        out.append(pred)\n",
    "#     return np.concatenate(out)\n",
    "    return out\n"
   ]
  },
  {
   "cell_type": "code",
   "execution_count": 29,
   "metadata": {
    "collapsed": true
   },
   "outputs": [],
   "source": [
    "tensor = np.load('../2015-5appliances-true-agg.npy')\n",
    "# tensor = np.load('../2015-5appliances.numpy.npy')\n",
    "from sklearn.metrics import mean_absolute_error\n",
    "\n",
    "dataset = 1\n",
    "mean_pred = {}\n",
    "for dataset in [1, 3]:\n",
    "\n",
    "    gt = tensor[:, 1:, :, :]\n",
    "    mean_pred[dataset] = mean_predictions(dataset)\n",
    "# Clamping prediction to aggregate\n",
    "# pred = np.minimum(pred, tensor[:, 0:1, :,:])"
   ]
  },
  {
   "cell_type": "code",
   "execution_count": 30,
   "metadata": {
    "collapsed": true
   },
   "outputs": [],
   "source": [
    "TP = {}\n",
    "TP_FP = {}\n",
    "TP_FN = {}\n",
    "for dataset in [1, 3]:\n",
    "    TP[dataset] = {}\n",
    "    TP_FP[dataset] = {}\n",
    "    TP_FN[dataset] = {}\n",
    "    for idx, appliance in enumerate(APPLIANCE_ORDER[1:-1]):\n",
    "        TP[dataset][appliance] = 0\n",
    "        TP_FP[dataset][appliance] = 0\n",
    "        TP_FN[dataset][appliance] = 0\n",
    "        for fold_num in range(5):\n",
    "            test_active = (mean_pred[dataset][fold_num][:, idx] > active_threshold[appliance])*1\n",
    "            TP[dataset][appliance] += np.multiply(test_active, active[dataset][fold_num][appliance]).sum()\n",
    "            TP_FP[dataset][appliance] += test_active.sum()\n",
    "            TP_FN[dataset][appliance] += active[dataset][fold_num][appliance].sum()"
   ]
  },
  {
   "cell_type": "code",
   "execution_count": 31,
   "metadata": {},
   "outputs": [
    {
     "name": "stdout",
     "output_type": "stream",
     "text": [
      "hvac Precision:  0.753081105573 Recall:  0.984218629715\n",
      "fridge Precision:  0.977815344888 Recall:  1.0\n",
      "dr Precision:  0.10296474359 Recall:  0.0283351708931\n",
      "dw Precision:  0.0756002595717 Recall:  0.031304581486\n",
      "mw Precision:  0.170584519218 Recall:  0.495102533172\n",
      "hvac Precision:  0.753081105573 Recall:  0.984218629715\n",
      "fridge Precision:  0.977815344888 Recall:  1.0\n",
      "dr Precision:  0.10296474359 Recall:  0.0283351708931\n",
      "dw Precision:  0.0756002595717 Recall:  0.031304581486\n",
      "mw Precision:  0.170584519218 Recall:  0.495102533172\n"
     ]
    }
   ],
   "source": [
    "for dataset in [1, 3]:\n",
    "    for idx, appliance in enumerate(APPLIANCE_ORDER[1:-1]):\n",
    "        pr = TP[dataset][appliance]/TP_FP[dataset][appliance]\n",
    "        recall = TP[dataset][appliance]/TP_FN[dataset][appliance]\n",
    "        \n",
    "        print(appliance, \"Precision: \", pr, \"Recall: \", recall)\n"
   ]
  },
  {
   "cell_type": "code",
   "execution_count": 32,
   "metadata": {
    "collapsed": true
   },
   "outputs": [],
   "source": [
    "# error of active parts"
   ]
  },
  {
   "cell_type": "code",
   "execution_count": 33,
   "metadata": {
    "collapsed": true
   },
   "outputs": [],
   "source": [
    "abs_error = np.abs(stf_pred[dataset][fold_num][:, idx]-test_gt[fold_num][appliance])"
   ]
  },
  {
   "cell_type": "code",
   "execution_count": 34,
   "metadata": {},
   "outputs": [
    {
     "data": {
      "text/plain": [
       "980.56664810992038"
      ]
     },
     "execution_count": 34,
     "metadata": {},
     "output_type": "execute_result"
    }
   ],
   "source": [
    "np.abs(stf_pred[dataset][fold_num][:, idx]-test_gt[fold_num][appliance]).max()"
   ]
  },
  {
   "cell_type": "code",
   "execution_count": 64,
   "metadata": {
    "scrolled": true
   },
   "outputs": [
    {
     "name": "stdout",
     "output_type": "stream",
     "text": [
      "Dataset  1\n",
      "hvac\n",
      "hvac 0 194.13674726\n",
      "hvac 1 159.118105919\n",
      "hvac 2 169.007843804\n",
      "hvac 3 176.360991486\n",
      "hvac 4 184.139576609\n",
      "active error 176.436298401\n",
      "inactive error 115.438471216\n",
      "fridge\n",
      "fridge 0 28.8022936862\n",
      "fridge 1 35.091349074\n",
      "fridge 2 37.3948973481\n",
      "fridge 3 44.3679040643\n",
      "fridge 4 38.5968764369\n",
      "active error 36.6734136473\n",
      "inactive error 79.0717492334\n",
      "dr\n",
      "dr 0 622.724176234\n",
      "dr 1 744.711464732\n",
      "dr 2 915.363937066\n",
      "dr 3 791.169497376\n",
      "dr 4 731.920390773\n",
      "active error 771.590475905\n",
      "inactive error 48.830882502\n",
      "dw\n",
      "dw 0 359.327432925\n",
      "dw 1 365.375875751\n",
      "dw 2 376.280565561\n",
      "dw 3 405.975707885\n",
      "dw 4 305.434503399\n",
      "active error 368.189719854\n",
      "inactive error 2.01663015866\n",
      "mw\n",
      "mw 0 57.5962811233\n",
      "mw 1 53.0954948565\n",
      "mw 2 45.928476903\n",
      "mw 3 46.3591332354\n",
      "mw 4 69.1066954808\n",
      "active error 55.9928463533\n",
      "inactive error 2.80582002591\n",
      "Dataset  3\n",
      "hvac\n",
      "hvac 0 289.660056822\n",
      "hvac 1 281.504357024\n",
      "hvac 2 343.192664416\n",
      "hvac 3 395.58757321\n",
      "hvac 4 321.080489515\n",
      "active error 324.857342539\n",
      "inactive error 211.648514954\n",
      "fridge\n",
      "fridge 0 26.4034507409\n",
      "fridge 1 33.3520535702\n",
      "fridge 2 31.4455566553\n",
      "fridge 3 33.2128073182\n",
      "fridge 4 32.0555161075\n",
      "active error 31.2287251948\n",
      "inactive error 71.478009002\n",
      "dr\n",
      "dr 0 1044.48185514\n",
      "dr 1 1049.08867595\n",
      "dr 2 1130.3673259\n",
      "dr 3 1230.3436182\n",
      "dr 4 1096.60726167\n",
      "active error 1114.88209045\n",
      "inactive error 16.627896335\n",
      "dw\n",
      "dw 0 359.317441752\n",
      "dw 1 365.854891568\n",
      "dw 2 376.236650193\n",
      "dw 3 407.043493336\n",
      "dw 4 312.477187381\n",
      "active error 369.524146888\n",
      "inactive error 0.427405546904\n",
      "mw\n",
      "mw 0 57.2616835092\n",
      "mw 1 53.0050239248\n",
      "mw 2 46.3038617539\n",
      "mw 3 46.2095901249\n",
      "mw 4 68.7306106439\n",
      "active error 55.8563188082\n",
      "inactive error 2.54710789637\n"
     ]
    }
   ],
   "source": [
    "for dataset in [1, 3]:\n",
    "    print(\"Dataset \", dataset)\n",
    "    for idx, appliance in enumerate(APPLIANCE_ORDER[1:-1]):\n",
    "        active_error = []\n",
    "        inactive_error = []\n",
    "        print(appliance)\n",
    "        for fold_num in range(5):\n",
    "            abs_error = np.abs(cnn_tree_pred[dataset][fold_num][appliance]-test_gt[fold_num][appliance])\n",
    "            active_error.append(abs_error[active[dataset][fold_num][appliance] == 1])\n",
    "            inactive_error.append(abs_error[active[dataset][fold_num][appliance] == 0])\n",
    "            print(appliance, fold_num, abs_error[active[dataset][fold_num][appliance] == 1].mean())\n",
    "        print(\"active error\", np.hstack(active_error).mean())\n",
    "        print(\"inactive error\", np.hstack(inactive_error).mean())\n"
   ]
  },
  {
   "cell_type": "code",
   "execution_count": 173,
   "metadata": {},
   "outputs": [
    {
     "data": {
      "text/plain": [
       "[array([ 0.,  0.,  0., ...,  0.,  0.,  0.]),\n",
       " array([ 0.,  0.,  0., ...,  0.,  0.,  0.]),\n",
       " array([ 0.,  0.,  0., ...,  0.,  0.,  0.]),\n",
       " array([ 0.,  0.,  0., ...,  0.,  0.,  0.]),\n",
       " array([ 0.,  0.,  0., ...,  0.,  0.,  0.])]"
      ]
     },
     "execution_count": 173,
     "metadata": {},
     "output_type": "execute_result"
    }
   ],
   "source": [
    "active_error"
   ]
  }
 ],
 "metadata": {
  "kernelspec": {
   "display_name": "Python 3",
   "language": "python",
   "name": "python3"
  },
  "language_info": {
   "codemirror_mode": {
    "name": "ipython",
    "version": 3
   },
   "file_extension": ".py",
   "mimetype": "text/x-python",
   "name": "python",
   "nbconvert_exporter": "python",
   "pygments_lexer": "ipython3",
   "version": "3.6.3"
  }
 },
 "nbformat": 4,
 "nbformat_minor": 2
}
