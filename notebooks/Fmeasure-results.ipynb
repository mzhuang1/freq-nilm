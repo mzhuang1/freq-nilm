{
 "cells": [
  {
   "cell_type": "code",
   "execution_count": 18,
   "metadata": {},
   "outputs": [],
   "source": [
    "import numpy as np\n",
    "import sys\n",
    "sys.path.append(\"../code/\")\n",
    "from dataloader import APPLIANCE_ORDER, get_train_test\n"
   ]
  },
  {
   "cell_type": "code",
   "execution_count": 178,
   "metadata": {
    "collapsed": true
   },
   "outputs": [],
   "source": [
    "stf_pred = {}\n",
    "stf_pred[1] = np.load(\"../code/baseline/result/stf-pred-12.npy\").item()[1]\n",
    "stf_pred[3] = np.load(\"../code/baseline/result/stf-pred-34.npy\").item()[3]"
   ]
  },
  {
   "cell_type": "code",
   "execution_count": 179,
   "metadata": {
    "collapsed": true
   },
   "outputs": [],
   "source": [
    "mtf_pred = {}\n",
    "mtf_pred[1] = np.load(\"../code/baseline/result/mtf-pred-12.npy\").item()[1]\n",
    "mtf_pred[3] = np.load(\"../code/baseline/result/mtf-pred-34.npy\").item()[3]"
   ]
  },
  {
   "cell_type": "code",
   "execution_count": 180,
   "metadata": {
    "collapsed": true
   },
   "outputs": [],
   "source": [
    "active_threshold = {'hvac':230, 'fridge':20, 'dr':250, 'dw':55, 'mw':10}"
   ]
  },
  {
   "cell_type": "code",
   "execution_count": 181,
   "metadata": {
    "collapsed": true
   },
   "outputs": [],
   "source": [
    "num_homes = {0:14, 1:14, 2:14, 3:13, 4:13}"
   ]
  },
  {
   "cell_type": "code",
   "execution_count": 182,
   "metadata": {
    "collapsed": true
   },
   "outputs": [],
   "source": [
    "# calculate gt\n",
    "test_gt = {}\n",
    "valid_gt = {}\n",
    "for fold_num in range(5):\n",
    "    test_gt[fold_num] = {}\n",
    "    valid_gt[fold_num] = {}\n",
    "    train, test = get_train_test(1, 5, fold_num)\n",
    "    valid = train[int(0.8*len(train)):].copy()\n",
    "    for idx, appliance in enumerate(APPLIANCE_ORDER[1:-1]):\n",
    "        test_gt[fold_num][appliance] = test[:, idx+1]\n",
    "        valid_gt[fold_num][appliance] = valid[:, idx+1]"
   ]
  },
  {
   "cell_type": "code",
   "execution_count": 183,
   "metadata": {},
   "outputs": [],
   "source": [
    "active = {}\n",
    "for dataset in [1, 3]:\n",
    "    active[dataset] = {}\n",
    "    for fold_num in range(5):\n",
    "        active[dataset][fold_num] = {}\n",
    "        for idx, appliance in enumerate(APPLIANCE_ORDER[1:-1]):\n",
    "            active[dataset][fold_num][appliance] = (test_gt[fold_num][appliance] > active_threshold[appliance])*1"
   ]
  },
  {
   "cell_type": "code",
   "execution_count": 184,
   "metadata": {},
   "outputs": [],
   "source": [
    "TP = {}\n",
    "TP_FP = {}\n",
    "TP_FN = {}\n",
    "for dataset in [1, 3]:\n",
    "    TP[dataset] = {}\n",
    "    TP_FP[dataset] = {}\n",
    "    TP_FN[dataset] = {}\n",
    "    for idx, appliance in enumerate(APPLIANCE_ORDER[1:-1]):\n",
    "        TP[dataset][appliance] = 0\n",
    "        TP_FP[dataset][appliance] = 0\n",
    "        TP_FN[dataset][appliance] = 0\n",
    "        for fold_num in range(5):\n",
    "            test_active = (stf_pred[dataset][fold_num][:, idx] > active_threshold[appliance])*1\n",
    "            TP[dataset][appliance] += np.multiply(test_active, active[dataset][fold_num][appliance]).sum()\n",
    "            TP_FP[dataset][appliance] += test_active.sum()\n",
    "            TP_FN[dataset][appliance] += active[dataset][fold_num][appliance].sum()"
   ]
  },
  {
   "cell_type": "code",
   "execution_count": 185,
   "metadata": {},
   "outputs": [
    {
     "name": "stdout",
     "output_type": "stream",
     "text": [
      "hvac Precision:  0.811093983185 Recall:  0.977586308995\n",
      "fridge Precision:  0.978629785109 Recall:  0.920857835046\n",
      "dr Precision:  0.125 Recall:  0.05203969129\n",
      "dw Precision:  0.0887822435513 Recall:  0.0397689103856\n",
      "mw Precision:  0.174036595509 Recall:  0.484632086852\n",
      "hvac Precision:  0.796154888292 Recall:  0.956993545331\n",
      "fridge Precision:  0.977819653745 Recall:  0.96098003122\n",
      "dr Precision:  0.113482056256 Recall:  0.0386990077178\n",
      "dw Precision:  0.0626020685901 Recall:  0.0463522773075\n",
      "mw Precision:  0.15893247776 Recall:  0.262919179735\n"
     ]
    }
   ],
   "source": [
    "for dataset in [1, 3]:\n",
    "    for idx, appliance in enumerate(APPLIANCE_ORDER[1:-1]):\n",
    "        pr = TP[dataset][appliance]/TP_FP[dataset][appliance]\n",
    "        recall = TP[dataset][appliance]/TP_FN[dataset][appliance]\n",
    "        \n",
    "        print(appliance, \"Precision: \", pr, \"Recall: \", recall)\n"
   ]
  },
  {
   "cell_type": "code",
   "execution_count": 186,
   "metadata": {
    "collapsed": true
   },
   "outputs": [],
   "source": [
    "TP = {}\n",
    "TP_FP = {}\n",
    "TP_FN = {}\n",
    "for dataset in [1, 3]:\n",
    "    TP[dataset] = {}\n",
    "    TP_FP[dataset] = {}\n",
    "    TP_FN[dataset] = {}\n",
    "    for idx, appliance in enumerate(APPLIANCE_ORDER[1:-1]):\n",
    "        TP[dataset][appliance] = 0\n",
    "        TP_FP[dataset][appliance] = 0\n",
    "        TP_FN[dataset][appliance] = 0\n",
    "        for fold_num in range(5):\n",
    "            test_active = (mtf_pred[dataset][fold_num][:, idx] > active_threshold[appliance])*1\n",
    "            TP[dataset][appliance] += np.multiply(test_active, active[dataset][fold_num][appliance]).sum()\n",
    "            TP_FP[dataset][appliance] += test_active.sum()\n",
    "            TP_FN[dataset][appliance] += active[dataset][fold_num][appliance].sum()"
   ]
  },
  {
   "cell_type": "code",
   "execution_count": 187,
   "metadata": {},
   "outputs": [
    {
     "name": "stdout",
     "output_type": "stream",
     "text": [
      "hvac Precision:  0.816622527261 Recall:  0.972323384852\n",
      "fridge Precision:  0.978581370906 Recall:  0.96372161205\n",
      "dr Precision:  0.125177003682 Recall:  0.0487320837927\n",
      "dw Precision:  0.0813429472735 Recall:  0.0485019481392\n",
      "mw Precision:  0.20485015241 Recall:  0.366417370326\n",
      "hvac Precision:  0.795939687083 Recall:  0.975676555931\n",
      "fridge Precision:  0.978608407768 Recall:  0.985699019185\n",
      "dr Precision:  0.106988783434 Recall:  0.0410143329658\n",
      "dw Precision:  0.0734101579172 Recall:  0.0693268843208\n",
      "mw Precision:  0.212929915639 Recall:  0.379975874548\n"
     ]
    }
   ],
   "source": [
    "for dataset in [1, 3]:\n",
    "    for idx, appliance in enumerate(APPLIANCE_ORDER[1:-1]):\n",
    "        pr = TP[dataset][appliance]/TP_FP[dataset][appliance]\n",
    "        recall = TP[dataset][appliance]/TP_FN[dataset][appliance]\n",
    "        \n",
    "        print(appliance, \"Precision: \", pr, \"Recall: \", recall)\n"
   ]
  },
  {
   "cell_type": "code",
   "execution_count": 188,
   "metadata": {
    "collapsed": true
   },
   "outputs": [],
   "source": [
    "sc_pred = np.load(\"../code/baseline/result/sc-non-disc-pred.npy\").item()"
   ]
  },
  {
   "cell_type": "code",
   "execution_count": 189,
   "metadata": {},
   "outputs": [],
   "source": [
    "TP = {}\n",
    "TP_FP = {}\n",
    "TP_FN = {}\n",
    "for dataset in [1, 3]:\n",
    "    TP[dataset] = {}\n",
    "    TP_FP[dataset] = {}\n",
    "    TP_FN[dataset] = {}\n",
    "    for idx, appliance in enumerate(APPLIANCE_ORDER[1:-1]):\n",
    "        TP[dataset][appliance] = 0\n",
    "        TP_FP[dataset][appliance] = 0\n",
    "        TP_FN[dataset][appliance] = 0\n",
    "        for fold_num in range(5):\n",
    "            test_active = (sc_pred[dataset][fold_num][:, idx] > active_threshold[appliance])*1\n",
    "            TP[dataset][appliance] += np.multiply(test_active, active[dataset][fold_num][appliance]).sum()\n",
    "            TP_FP[dataset][appliance] += test_active.sum()\n",
    "            TP_FN[dataset][appliance] += active[dataset][fold_num][appliance].sum()"
   ]
  },
  {
   "cell_type": "code",
   "execution_count": 190,
   "metadata": {},
   "outputs": [
    {
     "name": "stdout",
     "output_type": "stream",
     "text": [
      "hvac Precision:  1.0 Recall:  0.924735003257\n",
      "fridge Precision:  0.983653614 Recall:  0.615462515876\n",
      "dr Precision:  0.179126572909 Recall:  0.0266813671444\n",
      "dw Precision:  0.0703951506834 Recall:  0.16539029961\n",
      "mw Precision:  0.1330680745 Recall:  0.414716525935\n",
      "hvac Precision:  1.0 Recall:  0.955786995914\n",
      "fridge Precision:  0.978929010105 Recall:  0.807110205954\n",
      "dr Precision:  0.136469221835 Recall:  0.15545755237\n",
      "dw Precision:  0.0717382110383 Recall:  0.364637914819\n",
      "mw Precision:  0.126826346266 Recall:  0.704897466828\n"
     ]
    }
   ],
   "source": [
    "for dataset in [1, 3]:\n",
    "    for idx, appliance in enumerate(APPLIANCE_ORDER[1:-1]):\n",
    "        pr = TP[dataset][appliance]/TP_FP[dataset][appliance]\n",
    "        recall = TP[dataset][appliance]/TP_FN[dataset][appliance]\n",
    "        \n",
    "        print(appliance, \"Precision: \", pr, \"Recall: \", recall)\n"
   ]
  },
  {
   "cell_type": "code",
   "execution_count": 191,
   "metadata": {
    "collapsed": true
   },
   "outputs": [],
   "source": [
    "dsc_pred = np.load(\"../code/baseline/result/DSC-pred.npy\").item()"
   ]
  },
  {
   "cell_type": "code",
   "execution_count": 192,
   "metadata": {},
   "outputs": [],
   "source": [
    "TP = {}\n",
    "TP_FP = {}\n",
    "TP_FN = {}\n",
    "for dataset in [1, 3]:\n",
    "    TP[dataset] = {}\n",
    "    TP_FP[dataset] = {}\n",
    "    TP_FN[dataset] = {}\n",
    "    for idx, appliance in enumerate(APPLIANCE_ORDER[1:-1]):\n",
    "        TP[dataset][appliance] = 0\n",
    "        TP_FP[dataset][appliance] = 0\n",
    "        TP_FN[dataset][appliance] = 0\n",
    "        for fold_num in range(5):\n",
    "            test_active = (dsc_pred[dataset][fold_num][:, idx] > active_threshold[appliance])*1\n",
    "            TP[dataset][appliance] += np.multiply(test_active, active[dataset][fold_num][appliance]).sum()\n",
    "            TP_FP[dataset][appliance] += test_active.sum()\n",
    "            TP_FN[dataset][appliance] += active[dataset][fold_num][appliance].sum()"
   ]
  },
  {
   "cell_type": "code",
   "execution_count": 193,
   "metadata": {},
   "outputs": [
    {
     "name": "stdout",
     "output_type": "stream",
     "text": [
      "hvac Precision:  1.0 Recall:  0.979414638479\n",
      "fridge Precision:  0.984273170267 Recall:  0.462224932719\n",
      "dr Precision:  0.14131501472 Recall:  0.0158765159868\n",
      "dw Precision:  0.0785828449654 Recall:  0.0396345559586\n",
      "mw Precision:  0.176894833464 Recall:  0.195271411339\n",
      "hvac Precision:  1.0 Recall:  0.981139337952\n",
      "fridge Precision:  0.98356771308 Recall:  0.392499258654\n",
      "dr Precision:  0.12187088274 Recall:  0.0407938257993\n",
      "dw Precision:  0.0633285797285 Recall:  0.161090957947\n",
      "mw Precision:  0.171051089759 Recall:  0.281737032569\n"
     ]
    }
   ],
   "source": [
    "for dataset in [1, 3]:\n",
    "    for idx, appliance in enumerate(APPLIANCE_ORDER[1:-1]):\n",
    "        pr = TP[dataset][appliance]/TP_FP[dataset][appliance]\n",
    "        recall = TP[dataset][appliance]/TP_FN[dataset][appliance]\n",
    "        \n",
    "        print(appliance, \"Precision: \", pr, \"Recall: \", recall)\n"
   ]
  },
  {
   "cell_type": "code",
   "execution_count": 232,
   "metadata": {
    "collapsed": true
   },
   "outputs": [],
   "source": [
    "cnn_ind_params = {}\n",
    "cnn_ind_params[1] = np.load(\"../code/baseline/result/cnn-individual-new-param-1.npy\").item()\n",
    "cnn_ind_params[3] = np.load(\"../code/baseline/result/cnn-individual-new-param-3.npy\").item()"
   ]
  },
  {
   "cell_type": "code",
   "execution_count": 233,
   "metadata": {},
   "outputs": [],
   "source": [
    "cnn_ind_pred = {}\n",
    "for dataset in [1, 3]:\n",
    "    cnn_ind_pred[dataset] = {}\n",
    "    for fold_num in range(5):\n",
    "        cnn_ind_pred[dataset][fold_num] = {}\n",
    "        iters = cnn_ind_params[dataset][fold_num]['iters']\n",
    "        lr = cnn_ind_params[dataset][fold_num]['lr']\n",
    "        for appliance in APPLIANCE_ORDER[1:-1]:\n",
    "            directory = \"../code/baseline/cnn-tree/{}/{}/{}/200000/0.0/\".format(dataset, fold_num, lr)\n",
    "            filename = \"test-pred-[\\'{}\\'].npy\".format(appliance)\n",
    "            cnn_ind_pred[dataset][fold_num][appliance] = np.load(directory+filename).item()[iters][0].reshape(-1, 112, 24)"
   ]
  },
  {
   "cell_type": "code",
   "execution_count": 234,
   "metadata": {},
   "outputs": [],
   "source": [
    "TP = {}\n",
    "TP_FP = {}\n",
    "TP_FN = {}\n",
    "for dataset in [1, 3]:\n",
    "    TP[dataset] = {}\n",
    "    TP_FP[dataset] = {}\n",
    "    TP_FN[dataset] = {}\n",
    "    for idx, appliance in enumerate(APPLIANCE_ORDER[1:-1]):\n",
    "        TP[dataset][appliance] = 0\n",
    "        TP_FP[dataset][appliance] = 0\n",
    "        TP_FN[dataset][appliance] = 0\n",
    "        for fold_num in range(5):\n",
    "            test_active = (cnn_ind_pred[dataset][fold_num][appliance] > active_threshold[appliance])*1\n",
    "            TP[dataset][appliance] += np.multiply(test_active, active[dataset][fold_num][appliance]).sum()\n",
    "            TP_FP[dataset][appliance] += test_active.sum()\n",
    "            TP_FN[dataset][appliance] += active[dataset][fold_num][appliance].sum()"
   ]
  },
  {
   "cell_type": "code",
   "execution_count": 238,
   "metadata": {},
   "outputs": [
    {
     "name": "stdout",
     "output_type": "stream",
     "text": [
      "0.974499615089\n",
      "0.994393746958\n",
      "0.474751929438\n",
      "0.000671772134892\n",
      "0.00279855247286\n",
      "0.959132764849\n",
      "0.995484784226\n",
      "0.094046306505\n",
      "0.000671772134892\n",
      "0.0086369119421\n"
     ]
    }
   ],
   "source": [
    "for dataset in [1, 3]:\n",
    "    for idx, appliance in enumerate(APPLIANCE_ORDER[1:-1]):\n",
    "        pr = TP[dataset][appliance]/TP_FP[dataset][appliance]\n",
    "        recall = TP[dataset][appliance]/TP_FN[dataset][appliance]\n",
    "        \n",
    "        print(recall)\n"
   ]
  },
  {
   "cell_type": "code",
   "execution_count": 239,
   "metadata": {},
   "outputs": [],
   "source": [
    "cnn_tree_params = {}\n",
    "cnn_tree_params[1] = np.load(\"../code/baseline/result/cnn-tree-new-param-1.npy\").item()\n",
    "cnn_tree_params[3] = np.load(\"../code/baseline/result/cnn-tree-new-param-3.npy\").item()"
   ]
  },
  {
   "cell_type": "code",
   "execution_count": 240,
   "metadata": {},
   "outputs": [],
   "source": [
    "# get prediction for cnn tree\n",
    "cnn_tree_pred = {}\n",
    "for dataset in [1, 3]:\n",
    "    cnn_tree_pred[dataset] = {}\n",
    "    for fold_num in range(5):\n",
    "        cnn_tree_pred[dataset][fold_num] = {}\n",
    "\n",
    "        lr = cnn_tree_params[dataset][fold_num]['lr']\n",
    "        iters = cnn_tree_params[dataset][fold_num]['iters']\n",
    "        order = cnn_tree_params[dataset][fold_num]['order']\n",
    "\n",
    "        o = \"\\', \\'\".join(str(x) for x in order)\n",
    "        directory = \"../code/baseline/cnn-tree/{}/{}/{}/20000/0.0/\".format(dataset, fold_num,lr)\n",
    "        filename = \"test-pred-[\\'{}\\'].npy\".format(o)\n",
    "\n",
    "        full_path = directory + filename\n",
    "        cnn_pred = np.asarray(np.load(full_path).item()[iters])\n",
    "\n",
    "        for idx, appliance in enumerate(order):\n",
    "            cnn_tree_pred[dataset][fold_num][appliance] = cnn_pred[idx].reshape(-1, 112,24)\n",
    "    "
   ]
  },
  {
   "cell_type": "code",
   "execution_count": 250,
   "metadata": {},
   "outputs": [
    {
     "name": "stdout",
     "output_type": "stream",
     "text": [
      "1 dw 15.5555902935\n",
      "1 mw 8.61542132821\n",
      "1 fridge 31.6193608317\n",
      "1 hvac 163.013847982\n",
      "1 dr 54.1200015616\n",
      "3 dw 15.5727870813\n",
      "3 mw 8.5610754486\n",
      "3 fridge 33.0850743272\n",
      "3 hvac 314.495194827\n",
      "3 dr 70.198766109\n"
     ]
    }
   ],
   "source": [
    "for dataset in [1,3]:\n",
    "    for idx, appliance in enumerate(order):\n",
    "        error = 0\n",
    "        for fold_num in range(5):\n",
    "        \n",
    "            abs_error = np.abs(cnn_ind_pred[dataset][fold_num][appliance] - test_gt[fold_num][appliance])\n",
    "            error += abs_error.mean()*num_homes[fold_num]\n",
    "        print(dataset, appliance, error/68)"
   ]
  },
  {
   "cell_type": "code",
   "execution_count": 242,
   "metadata": {
    "collapsed": true
   },
   "outputs": [],
   "source": [
    "TP = {}\n",
    "TP_FP = {}\n",
    "TP_FN = {}\n",
    "for dataset in [1, 3]:\n",
    "    TP[dataset] = {}\n",
    "    TP_FP[dataset] = {}\n",
    "    TP_FN[dataset] = {}\n",
    "    for idx, appliance in enumerate(APPLIANCE_ORDER[1:-1]):\n",
    "        TP[dataset][appliance] = 0\n",
    "        TP_FP[dataset][appliance] = 0\n",
    "        TP_FN[dataset][appliance] = 0\n",
    "        for fold_num in range(5):\n",
    "            test_active = (cnn_tree_pred[dataset][fold_num][appliance] > active_threshold[appliance])*1\n",
    "            TP[dataset][appliance] += np.multiply(test_active, active[dataset][fold_num][appliance]).sum()\n",
    "            TP_FP[dataset][appliance] += test_active.sum()\n",
    "            TP_FN[dataset][appliance] += active[dataset][fold_num][appliance].sum()"
   ]
  },
  {
   "cell_type": "code",
   "execution_count": 244,
   "metadata": {},
   "outputs": [
    {
     "name": "stdout",
     "output_type": "stream",
     "text": [
      "0.972190146266\n",
      "0.970346166543\n",
      "0.497574421169\n",
      "0.00174660755072\n",
      "0.0198311218335\n",
      "0.955246639427\n",
      "0.989162363131\n",
      "0.223594266814\n",
      "0.000403063280935\n",
      "0.024656212304\n"
     ]
    }
   ],
   "source": [
    "for dataset in [1, 3]:\n",
    "    for idx, appliance in enumerate(APPLIANCE_ORDER[1:-1]):\n",
    "        pr = TP[dataset][appliance]/TP_FP[dataset][appliance]\n",
    "        recall = TP[dataset][appliance]/TP_FN[dataset][appliance]\n",
    "        \n",
    "        print(recall)\n"
   ]
  },
  {
   "cell_type": "code",
   "execution_count": 202,
   "metadata": {
    "collapsed": true
   },
   "outputs": [],
   "source": [
    "num_folds=5\n",
    "def mean_predictions(dataset):\n",
    "    out = []\n",
    "    for cur_fold in range(5):\n",
    "        train, test = get_train_test(dataset, num_folds=num_folds, fold_num=cur_fold)\n",
    "        pred = np.zeros_like(test[:, 1:, :, :])\n",
    "#         print(pred.shape)\n",
    "        \n",
    "        for appliance in range(test.shape[1]-1):\n",
    "            for day in range(test.shape[2]):\n",
    "                pred[:, appliance, day, :] = train[:, appliance+1, day, :].mean(axis=0)\n",
    "#         print(pred[0, 1, 0, 20])\n",
    "        out.append(pred)\n",
    "#     return np.concatenate(out)\n",
    "    return out\n"
   ]
  },
  {
   "cell_type": "code",
   "execution_count": 203,
   "metadata": {},
   "outputs": [],
   "source": [
    "tensor = np.load('../2015-5appliances-true-agg.npy')\n",
    "# tensor = np.load('../2015-5appliances.numpy.npy')\n",
    "from sklearn.metrics import mean_absolute_error\n",
    "\n",
    "dataset = 1\n",
    "mean_pred = {}\n",
    "for dataset in [1, 3]:\n",
    "\n",
    "    gt = tensor[:, 1:, :, :]\n",
    "    mean_pred[dataset] = mean_predictions(dataset)\n",
    "# Clamping prediction to aggregate\n",
    "# pred = np.minimum(pred, tensor[:, 0:1, :,:])"
   ]
  },
  {
   "cell_type": "code",
   "execution_count": 204,
   "metadata": {},
   "outputs": [],
   "source": [
    "TP = {}\n",
    "TP_FP = {}\n",
    "TP_FN = {}\n",
    "for dataset in [1, 3]:\n",
    "    TP[dataset] = {}\n",
    "    TP_FP[dataset] = {}\n",
    "    TP_FN[dataset] = {}\n",
    "    for idx, appliance in enumerate(APPLIANCE_ORDER[1:-1]):\n",
    "        TP[dataset][appliance] = 0\n",
    "        TP_FP[dataset][appliance] = 0\n",
    "        TP_FN[dataset][appliance] = 0\n",
    "        for fold_num in range(5):\n",
    "            test_active = (mean_pred[dataset][fold_num][:, idx] > active_threshold[appliance])*1\n",
    "            TP[dataset][appliance] += np.multiply(test_active, active[dataset][fold_num][appliance]).sum()\n",
    "            TP_FP[dataset][appliance] += test_active.sum()\n",
    "            TP_FN[dataset][appliance] += active[dataset][fold_num][appliance].sum()"
   ]
  },
  {
   "cell_type": "code",
   "execution_count": 205,
   "metadata": {},
   "outputs": [
    {
     "name": "stdout",
     "output_type": "stream",
     "text": [
      "hvac Precision:  0.753081105573 Recall:  0.984218629715\n",
      "fridge Precision:  0.977815344888 Recall:  1.0\n",
      "dr Precision:  0.10296474359 Recall:  0.0283351708931\n",
      "dw Precision:  0.0756002595717 Recall:  0.031304581486\n",
      "mw Precision:  0.170584519218 Recall:  0.495102533172\n",
      "hvac Precision:  0.753081105573 Recall:  0.984218629715\n",
      "fridge Precision:  0.977815344888 Recall:  1.0\n",
      "dr Precision:  0.10296474359 Recall:  0.0283351708931\n",
      "dw Precision:  0.0756002595717 Recall:  0.031304581486\n",
      "mw Precision:  0.170584519218 Recall:  0.495102533172\n"
     ]
    }
   ],
   "source": [
    "for dataset in [1, 3]:\n",
    "    for idx, appliance in enumerate(APPLIANCE_ORDER[1:-1]):\n",
    "        pr = TP[dataset][appliance]/TP_FP[dataset][appliance]\n",
    "        recall = TP[dataset][appliance]/TP_FN[dataset][appliance]\n",
    "        \n",
    "        print(appliance, \"Precision: \", pr, \"Recall: \", recall)\n"
   ]
  },
  {
   "cell_type": "code",
   "execution_count": null,
   "metadata": {
    "collapsed": true
   },
   "outputs": [],
   "source": [
    "# error of active parts"
   ]
  },
  {
   "cell_type": "code",
   "execution_count": 206,
   "metadata": {},
   "outputs": [],
   "source": [
    "abs_error = np.abs(stf_pred[dataset][fold_num][:, idx]-test_gt[fold_num][appliance])"
   ]
  },
  {
   "cell_type": "code",
   "execution_count": 207,
   "metadata": {},
   "outputs": [
    {
     "data": {
      "text/plain": [
       "980.56664810992038"
      ]
     },
     "execution_count": 207,
     "metadata": {},
     "output_type": "execute_result"
    }
   ],
   "source": [
    "np.abs(stf_pred[dataset][fold_num][:, idx]-test_gt[fold_num][appliance]).max()"
   ]
  },
  {
   "cell_type": "code",
   "execution_count": 246,
   "metadata": {},
   "outputs": [
    {
     "name": "stdout",
     "output_type": "stream",
     "text": [
      "Dataset  1\n",
      "hvac\n",
      "active error 176.441944054\n",
      "inactive error 124.973207421\n",
      "fridge\n",
      "active error 30.7861995415\n",
      "inactive error 68.3419463388\n",
      "dr\n",
      "active error 769.562772877\n",
      "inactive error 16.7651197684\n",
      "dw\n",
      "active error 369.554248076\n",
      "inactive error 0.528802435118\n",
      "mw\n",
      "active error 56.1540663632\n",
      "inactive error 2.53591683695\n",
      "Dataset  3\n",
      "hvac\n",
      "active error 341.618561301\n",
      "inactive error 237.657031824\n",
      "fridge\n",
      "active error 32.173882115\n",
      "inactive error 73.2469665347\n",
      "dr\n",
      "active error 1220.60552826\n",
      "inactive error 10.1334326717\n",
      "dw\n",
      "active error 369.344266325\n",
      "inactive error 0.55564265981\n",
      "mw\n",
      "active error 55.9347822511\n",
      "inactive error 2.50266416949\n"
     ]
    }
   ],
   "source": [
    "for dataset in [1, 3]:\n",
    "    print(\"Dataset \", dataset)\n",
    "    for idx, appliance in enumerate(APPLIANCE_ORDER[1:-1]):\n",
    "        active_error = []\n",
    "        inactive_error = []\n",
    "        print(appliance)\n",
    "        for fold_num in range(5):\n",
    "            abs_error = np.abs(cnn_ind_pred[dataset][fold_num][appliance]-test_gt[fold_num][appliance])\n",
    "            active_error.append(abs_error[active[dataset][fold_num][appliance] == 1])\n",
    "            inactive_error.append(abs_error[active[dataset][fold_num][appliance] == 0])\n",
    "        print(\"active error\", np.hstack(active_error).mean())\n",
    "        print(\"inactive error\", np.hstack(inactive_error).mean())\n"
   ]
  },
  {
   "cell_type": "code",
   "execution_count": 173,
   "metadata": {},
   "outputs": [
    {
     "data": {
      "text/plain": [
       "[array([ 0.,  0.,  0., ...,  0.,  0.,  0.]),\n",
       " array([ 0.,  0.,  0., ...,  0.,  0.,  0.]),\n",
       " array([ 0.,  0.,  0., ...,  0.,  0.,  0.]),\n",
       " array([ 0.,  0.,  0., ...,  0.,  0.,  0.]),\n",
       " array([ 0.,  0.,  0., ...,  0.,  0.,  0.])]"
      ]
     },
     "execution_count": 173,
     "metadata": {},
     "output_type": "execute_result"
    }
   ],
   "source": [
    "active_error"
   ]
  }
 ],
 "metadata": {
  "kernelspec": {
   "display_name": "Python 3",
   "language": "python",
   "name": "python3"
  },
  "language_info": {
   "codemirror_mode": {
    "name": "ipython",
    "version": 3
   },
   "file_extension": ".py",
   "mimetype": "text/x-python",
   "name": "python",
   "nbconvert_exporter": "python",
   "pygments_lexer": "ipython3",
   "version": "3.6.3"
  }
 },
 "nbformat": 4,
 "nbformat_minor": 2
}
