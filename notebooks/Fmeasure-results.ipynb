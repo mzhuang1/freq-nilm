{
 "cells": [
  {
   "cell_type": "code",
   "execution_count": 80,
   "metadata": {
    "collapsed": true
   },
   "outputs": [],
   "source": [
    "import numpy as np\n",
    "import sys\n",
    "sys.path.append(\"../code/\")\n",
    "from dataloader import APPLIANCE_ORDER, get_train_test\n"
   ]
  },
  {
   "cell_type": "code",
   "execution_count": 81,
   "metadata": {
    "collapsed": true
   },
   "outputs": [],
   "source": [
    "predictions = {}"
   ]
  },
  {
   "cell_type": "code",
   "execution_count": 82,
   "metadata": {
    "collapsed": true
   },
   "outputs": [],
   "source": [
    "stf_pred = {}\n",
    "stf_pred[1] = np.load(\"../code/baseline/result/stf-pred-12.npy\").item()[1]\n",
    "stf_pred[3] = np.load(\"../code/baseline/result/stf-pred-34.npy\").item()[3]\n",
    "predictions['stf'] = stf_pred"
   ]
  },
  {
   "cell_type": "code",
   "execution_count": 83,
   "metadata": {
    "collapsed": true
   },
   "outputs": [],
   "source": [
    "mtf_pred = {}\n",
    "mtf_pred[1] = np.load(\"../code/baseline/result/mtf-pred-12.npy\").item()[1]\n",
    "mtf_pred[3] = np.load(\"../code/baseline/result/mtf-pred-34.npy\").item()[3]\n",
    "predictions['mtf'] = mtf_pred"
   ]
  },
  {
   "cell_type": "code",
   "execution_count": 84,
   "metadata": {
    "collapsed": true
   },
   "outputs": [],
   "source": [
    "active_threshold = {'hvac':230, 'fridge':20, 'dr':250, 'dw':55, 'mw':10}"
   ]
  },
  {
   "cell_type": "code",
   "execution_count": 85,
   "metadata": {
    "collapsed": true
   },
   "outputs": [],
   "source": [
    "num_homes = {0:14, 1:14, 2:14, 3:13, 4:13}"
   ]
  },
  {
   "cell_type": "code",
   "execution_count": 86,
   "metadata": {
    "collapsed": true
   },
   "outputs": [],
   "source": [
    "# calculate gt\n",
    "test_gt = {}\n",
    "valid_gt = {}\n",
    "for fold_num in range(5):\n",
    "    test_gt[fold_num] = {}\n",
    "    valid_gt[fold_num] = {}\n",
    "    train, test = get_train_test(1, 5, fold_num)\n",
    "    valid = train[int(0.8*len(train)):].copy()\n",
    "    for idx, appliance in enumerate(APPLIANCE_ORDER[1:-1]):\n",
    "        test_gt[fold_num][appliance] = test[:, idx+1]\n",
    "        valid_gt[fold_num][appliance] = valid[:, idx+1]"
   ]
  },
  {
   "cell_type": "code",
   "execution_count": 87,
   "metadata": {
    "collapsed": true
   },
   "outputs": [],
   "source": [
    "active = {}\n",
    "for dataset in [1, 3]:\n",
    "    active[dataset] = {}\n",
    "    for fold_num in range(5):\n",
    "        active[dataset][fold_num] = {}\n",
    "        for idx, appliance in enumerate(APPLIANCE_ORDER[1:-1]):\n",
    "            active[dataset][fold_num][appliance] = (test_gt[fold_num][appliance] > active_threshold[appliance])*1"
   ]
  },
  {
   "cell_type": "code",
   "execution_count": 88,
   "metadata": {
    "collapsed": true
   },
   "outputs": [],
   "source": [
    "TP = {}\n",
    "TP_FP = {}\n",
    "TP_FN = {}\n",
    "for dataset in [1, 3]:\n",
    "    TP[dataset] = {}\n",
    "    TP_FP[dataset] = {}\n",
    "    TP_FN[dataset] = {}\n",
    "    for idx, appliance in enumerate(APPLIANCE_ORDER[1:-1]):\n",
    "        TP[dataset][appliance] = 0\n",
    "        TP_FP[dataset][appliance] = 0\n",
    "        TP_FN[dataset][appliance] = 0\n",
    "        for fold_num in range(5):\n",
    "            test_active = (stf_pred[dataset][fold_num][:, idx] > active_threshold[appliance])*1\n",
    "            TP[dataset][appliance] += np.multiply(test_active, active[dataset][fold_num][appliance]).sum()\n",
    "            TP_FP[dataset][appliance] += test_active.sum()\n",
    "            TP_FN[dataset][appliance] += active[dataset][fold_num][appliance].sum()"
   ]
  },
  {
   "cell_type": "code",
   "execution_count": 89,
   "metadata": {},
   "outputs": [
    {
     "name": "stdout",
     "output_type": "stream",
     "text": [
      "hvac Precision:  0.811093983185 Recall:  0.977586308995\n",
      "fridge Precision:  0.978629785109 Recall:  0.920857835046\n",
      "dr Precision:  0.125 Recall:  0.05203969129\n",
      "dw Precision:  0.0887822435513 Recall:  0.0397689103856\n",
      "mw Precision:  0.174036595509 Recall:  0.484632086852\n",
      "hvac Precision:  0.796154888292 Recall:  0.956993545331\n",
      "fridge Precision:  0.977819653745 Recall:  0.96098003122\n",
      "dr Precision:  0.113482056256 Recall:  0.0386990077178\n",
      "dw Precision:  0.0626020685901 Recall:  0.0463522773075\n",
      "mw Precision:  0.15893247776 Recall:  0.262919179735\n"
     ]
    }
   ],
   "source": [
    "for dataset in [1, 3]:\n",
    "    for idx, appliance in enumerate(APPLIANCE_ORDER[1:-1]):\n",
    "        pr = TP[dataset][appliance]/TP_FP[dataset][appliance]\n",
    "        recall = TP[dataset][appliance]/TP_FN[dataset][appliance]\n",
    "        \n",
    "        print(appliance, \"Precision: \", pr, \"Recall: \", recall)\n"
   ]
  },
  {
   "cell_type": "code",
   "execution_count": 90,
   "metadata": {
    "collapsed": true
   },
   "outputs": [],
   "source": [
    "TP = {}\n",
    "TP_FP = {}\n",
    "TP_FN = {}\n",
    "for dataset in [1, 3]:\n",
    "    TP[dataset] = {}\n",
    "    TP_FP[dataset] = {}\n",
    "    TP_FN[dataset] = {}\n",
    "    for idx, appliance in enumerate(APPLIANCE_ORDER[1:-1]):\n",
    "        TP[dataset][appliance] = 0\n",
    "        TP_FP[dataset][appliance] = 0\n",
    "        TP_FN[dataset][appliance] = 0\n",
    "        for fold_num in range(5):\n",
    "            test_active = (mtf_pred[dataset][fold_num][:, idx] > active_threshold[appliance])*1\n",
    "            TP[dataset][appliance] += np.multiply(test_active, active[dataset][fold_num][appliance]).sum()\n",
    "            TP_FP[dataset][appliance] += test_active.sum()\n",
    "            TP_FN[dataset][appliance] += active[dataset][fold_num][appliance].sum()"
   ]
  },
  {
   "cell_type": "code",
   "execution_count": 91,
   "metadata": {},
   "outputs": [
    {
     "name": "stdout",
     "output_type": "stream",
     "text": [
      "hvac Precision:  0.816622527261 Recall:  0.972323384852\n",
      "fridge Precision:  0.978581370906 Recall:  0.96372161205\n",
      "dr Precision:  0.125177003682 Recall:  0.0487320837927\n",
      "dw Precision:  0.0813429472735 Recall:  0.0485019481392\n",
      "mw Precision:  0.20485015241 Recall:  0.366417370326\n",
      "hvac Precision:  0.795939687083 Recall:  0.975676555931\n",
      "fridge Precision:  0.978608407768 Recall:  0.985699019185\n",
      "dr Precision:  0.106988783434 Recall:  0.0410143329658\n",
      "dw Precision:  0.0734101579172 Recall:  0.0693268843208\n",
      "mw Precision:  0.212929915639 Recall:  0.379975874548\n"
     ]
    }
   ],
   "source": [
    "for dataset in [1, 3]:\n",
    "    for idx, appliance in enumerate(APPLIANCE_ORDER[1:-1]):\n",
    "        pr = TP[dataset][appliance]/TP_FP[dataset][appliance]\n",
    "        recall = TP[dataset][appliance]/TP_FN[dataset][appliance]\n",
    "        \n",
    "        print(appliance, \"Precision: \", pr, \"Recall: \", recall)\n"
   ]
  },
  {
   "cell_type": "code",
   "execution_count": 92,
   "metadata": {
    "collapsed": true
   },
   "outputs": [],
   "source": [
    "sc_pred = np.load(\"../code/baseline/result/sc-non-disc-pred.npy\").item()\n",
    "predictions['sc'] = sc_pred"
   ]
  },
  {
   "cell_type": "code",
   "execution_count": 93,
   "metadata": {
    "collapsed": true
   },
   "outputs": [],
   "source": [
    "TP = {}\n",
    "TP_FP = {}\n",
    "TP_FN = {}\n",
    "for dataset in [1, 3]:\n",
    "    TP[dataset] = {}\n",
    "    TP_FP[dataset] = {}\n",
    "    TP_FN[dataset] = {}\n",
    "    for idx, appliance in enumerate(APPLIANCE_ORDER[1:-1]):\n",
    "        TP[dataset][appliance] = 0\n",
    "        TP_FP[dataset][appliance] = 0\n",
    "        TP_FN[dataset][appliance] = 0\n",
    "        for fold_num in range(5):\n",
    "            test_active = (sc_pred[dataset][fold_num][:, idx] > active_threshold[appliance])*1\n",
    "            TP[dataset][appliance] += np.multiply(test_active, active[dataset][fold_num][appliance]).sum()\n",
    "            TP_FP[dataset][appliance] += test_active.sum()\n",
    "            TP_FN[dataset][appliance] += active[dataset][fold_num][appliance].sum()"
   ]
  },
  {
   "cell_type": "code",
   "execution_count": 94,
   "metadata": {},
   "outputs": [
    {
     "name": "stdout",
     "output_type": "stream",
     "text": [
      "hvac Precision:  1.0 Recall:  0.924735003257\n",
      "fridge Precision:  0.983653614 Recall:  0.615462515876\n",
      "dr Precision:  0.179126572909 Recall:  0.0266813671444\n",
      "dw Precision:  0.0703951506834 Recall:  0.16539029961\n",
      "mw Precision:  0.1330680745 Recall:  0.414716525935\n",
      "hvac Precision:  0.78580687565 Recall:  0.955786995914\n",
      "fridge Precision:  0.9775432205 Recall:  0.97883947205\n",
      "dr Precision:  0.127014140085 Recall:  0.170341786108\n",
      "dw Precision:  0.0681247196052 Recall:  0.408034394733\n",
      "mw Precision:  0.116767621932 Recall:  0.788757539204\n"
     ]
    }
   ],
   "source": [
    "for dataset in [1, 3]:\n",
    "    for idx, appliance in enumerate(APPLIANCE_ORDER[1:-1]):\n",
    "        pr = TP[dataset][appliance]/TP_FP[dataset][appliance]\n",
    "        recall = TP[dataset][appliance]/TP_FN[dataset][appliance]\n",
    "        \n",
    "        print(appliance, \"Precision: \", pr, \"Recall: \", recall)\n"
   ]
  },
  {
   "cell_type": "code",
   "execution_count": 95,
   "metadata": {
    "collapsed": true
   },
   "outputs": [],
   "source": [
    "dsc_pred = np.load(\"../code/baseline/result/DSC-pred.npy\").item()\n",
    "predictions['dsc'] = dsc_pred"
   ]
  },
  {
   "cell_type": "code",
   "execution_count": 96,
   "metadata": {},
   "outputs": [],
   "source": [
    "TP = {}\n",
    "TP_FP = {}\n",
    "TP_FN = {}\n",
    "for dataset in [1, 3]:\n",
    "    TP[dataset] = {}\n",
    "    TP_FP[dataset] = {}\n",
    "    TP_FN[dataset] = {}\n",
    "    for idx, appliance in enumerate(APPLIANCE_ORDER[1:-1]):\n",
    "        TP[dataset][appliance] = 0\n",
    "        TP_FP[dataset][appliance] = 0\n",
    "        TP_FN[dataset][appliance] = 0\n",
    "        for fold_num in range(5):\n",
    "            test_active = (dsc_pred[dataset][fold_num][:, idx] > active_threshold[appliance])*1\n",
    "            TP[dataset][appliance] += np.multiply(test_active, active[dataset][fold_num][appliance]).sum()\n",
    "            TP_FP[dataset][appliance] += test_active.sum()\n",
    "            TP_FN[dataset][appliance] += active[dataset][fold_num][appliance].sum()"
   ]
  },
  {
   "cell_type": "code",
   "execution_count": 97,
   "metadata": {},
   "outputs": [
    {
     "name": "stdout",
     "output_type": "stream",
     "text": [
      "hvac Precision:  0.760138337537 Recall:  0.979414638479\n",
      "fridge Precision:  0.982917031262 Recall:  0.553071969294\n",
      "dr Precision:  0.133450395083 Recall:  0.0167585446527\n",
      "dw Precision:  0.0742976549803 Recall:  0.0429934166331\n",
      "mw Precision:  0.159927536232 Recall:  0.212979493366\n",
      "hvac Precision:  0.753863216266 Recall:  0.981139337952\n",
      "fridge Precision:  0.981540236516 Recall:  0.456959978515\n",
      "dr Precision:  0.114399544678 Recall:  0.0443219404631\n",
      "dw Precision:  0.0607164541591 Recall:  0.174660755072\n",
      "mw Precision:  0.161823263176 Recall:  0.315705669481\n"
     ]
    }
   ],
   "source": [
    "for dataset in [1, 3]:\n",
    "    for idx, appliance in enumerate(APPLIANCE_ORDER[1:-1]):\n",
    "        pr = TP[dataset][appliance]/TP_FP[dataset][appliance]\n",
    "        recall = TP[dataset][appliance]/TP_FN[dataset][appliance]\n",
    "        \n",
    "        print(appliance, \"Precision: \", pr, \"Recall: \", recall)\n"
   ]
  },
  {
   "cell_type": "code",
   "execution_count": 98,
   "metadata": {
    "collapsed": true
   },
   "outputs": [],
   "source": [
    "cnn_ind_params = {}\n",
    "# cnn_ind_params[1] = np.load(\"../code/baseline/result/cnn-individual-new-param-1.npy\").item()\n",
    "# cnn_ind_params[3] = np.load(\"../code/baseline/result/cnn-individual-new-param-3.npy\").item()\n",
    "cnn_ind_params[1] = np.load(\"../code/baseline/result/cnn-individual-param-1.npy\").item()\n",
    "cnn_ind_params[3] = np.load(\"../code/baseline/result/cnn-individual-param-3.npy\").item()"
   ]
  },
  {
   "cell_type": "code",
   "execution_count": 99,
   "metadata": {
    "collapsed": true,
    "scrolled": false
   },
   "outputs": [],
   "source": [
    "gid = 0\n",
    "cnn_ind_pred = {}\n",
    "for dataset in [1, 3]:\n",
    "    cnn_ind_pred[dataset] = {}\n",
    "    for fold_num in range(5):\n",
    "        cnn_ind_pred[dataset][fold_num] = {}\n",
    "        iters = cnn_ind_params[dataset][fold_num]['iters']\n",
    "        lr = cnn_ind_params[dataset][fold_num]['lr']\n",
    "        for appliance in APPLIANCE_ORDER[1:-1]:\n",
    "            directory = \"../code/baseline/cnn-tree/{}/{}/{}/200000/0.0/\".format(dataset, fold_num, lr)\n",
    "            filename = \"test-pred-[\\'{}\\'].npy\".format(appliance)\n",
    "            try:\n",
    "                cnn_ind_pred[dataset][fold_num][appliance] = np.load(directory+filename).item()[iters][0].reshape(-1, 112, 24)\n",
    "            except:\n",
    "                print(\"CUDA_VISIBLE_DEVICES={} python cnn-tree-save-test.py {} {} 200000 0 {} {} &\".format(gid, dataset, lr, fold_num, appliance))\n",
    "                gid += 1\n",
    "                if gid == 4:\n",
    "                    gid = 0\n"
   ]
  },
  {
   "cell_type": "code",
   "execution_count": 100,
   "metadata": {},
   "outputs": [
    {
     "name": "stdout",
     "output_type": "stream",
     "text": [
      "dr 58.2060223639\n",
      "hvac 171.678719181\n",
      "mw 8.56300932797\n",
      "dw 15.4727047643\n",
      "fridge 31.5697526663\n",
      "dr 68.3298168953\n",
      "hvac 321.134156619\n",
      "mw 8.58014962559\n",
      "dw 15.6936825714\n",
      "fridge 31.9884790963\n"
     ]
    }
   ],
   "source": [
    "for dataset in [1,3]:\n",
    "    for idx, appliance in enumerate(order):\n",
    "        error = 0\n",
    "        for fold_num in range(5):\n",
    "        \n",
    "            abs_error = np.abs(cnn_ind_pred[dataset][fold_num][appliance] - test_gt[fold_num][appliance])\n",
    "            error += abs_error.mean()*num_homes[fold_num]\n",
    "        print(appliance, error/68)"
   ]
  },
  {
   "cell_type": "code",
   "execution_count": 101,
   "metadata": {
    "collapsed": true
   },
   "outputs": [],
   "source": [
    "predictions['ind cnn'] = cnn_ind_pred"
   ]
  },
  {
   "cell_type": "code",
   "execution_count": 102,
   "metadata": {
    "collapsed": true
   },
   "outputs": [],
   "source": [
    "TP = {}\n",
    "TP_FP = {}\n",
    "TP_FN = {}\n",
    "for dataset in [1, 3]:\n",
    "    TP[dataset] = {}\n",
    "    TP_FP[dataset] = {}\n",
    "    TP_FN[dataset] = {}\n",
    "    for idx, appliance in enumerate(APPLIANCE_ORDER[1:-1]):\n",
    "        TP[dataset][appliance] = 0\n",
    "        TP_FP[dataset][appliance] = 0\n",
    "        TP_FN[dataset][appliance] = 0\n",
    "        for fold_num in range(5):\n",
    "            test_active = (cnn_ind_pred[dataset][fold_num][appliance] > active_threshold[appliance])*1\n",
    "            TP[dataset][appliance] += np.multiply(test_active, active[dataset][fold_num][appliance]).sum()\n",
    "            TP_FP[dataset][appliance] += test_active.sum()\n",
    "            TP_FN[dataset][appliance] += active[dataset][fold_num][appliance].sum()"
   ]
  },
  {
   "cell_type": "code",
   "execution_count": 103,
   "metadata": {},
   "outputs": [
    {
     "name": "stdout",
     "output_type": "stream",
     "text": [
      "0.964825013324\n",
      "0.998086488483\n",
      "0.360749724366\n",
      "0.0\n",
      "0.00303980699638\n",
      "0.95124948185\n",
      "0.996167381902\n",
      "0.0471885336273\n",
      "0.0\n",
      "0.0143305186972\n"
     ]
    },
    {
     "name": "stderr",
     "output_type": "stream",
     "text": [
      "/zf14/yj9xs/anaconda3/lib/python3.6/site-packages/ipykernel_launcher.py:3: RuntimeWarning: invalid value encountered in long_scalars\n",
      "  This is separate from the ipykernel package so we can avoid doing imports until\n"
     ]
    }
   ],
   "source": [
    "for dataset in [1, 3]:\n",
    "    for idx, appliance in enumerate(APPLIANCE_ORDER[1:-1]):\n",
    "        pr = TP[dataset][appliance]/TP_FP[dataset][appliance]\n",
    "        recall = TP[dataset][appliance]/TP_FN[dataset][appliance]\n",
    "        \n",
    "        print(recall)\n"
   ]
  },
  {
   "cell_type": "code",
   "execution_count": 104,
   "metadata": {
    "collapsed": true
   },
   "outputs": [],
   "source": [
    "cnn_tree_params = {}\n",
    "cnn_tree_params[1] = np.load(\"../code/baseline/result/cnn-tree-new-param-1.npy\").item()\n",
    "cnn_tree_params[3] = np.load(\"../code/baseline/result/cnn-tree-final-param-3.npy\").item()"
   ]
  },
  {
   "cell_type": "code",
   "execution_count": 105,
   "metadata": {
    "collapsed": true
   },
   "outputs": [],
   "source": [
    "# get prediction for cnn tree\n",
    "cnn_tree_pred = {}\n",
    "for dataset in [1, 3]:\n",
    "    cnn_tree_pred[dataset] = {}\n",
    "    for fold_num in range(5):\n",
    "        cnn_tree_pred[dataset][fold_num] = {}\n",
    "\n",
    "        lr = cnn_tree_params[dataset][fold_num]['lr']\n",
    "        iters = cnn_tree_params[dataset][fold_num]['iters']\n",
    "        order = cnn_tree_params[dataset][fold_num]['order']\n",
    "\n",
    "        o = \"\\', \\'\".join(str(x) for x in order)\n",
    "        directory = \"../code/baseline/cnn-tree/{}/{}/{}/20000/0.0/\".format(dataset, fold_num,lr)\n",
    "        filename = \"test-pred-[\\'{}\\'].npy\".format(o)\n",
    "\n",
    "        full_path = directory + filename\n",
    "        cnn_pred = np.asarray(np.load(full_path).item()[iters])\n",
    "\n",
    "        for idx, appliance in enumerate(order):\n",
    "            cnn_tree_pred[dataset][fold_num][appliance] = cnn_pred[idx].reshape(-1, 112,24)\n",
    "    "
   ]
  },
  {
   "cell_type": "code",
   "execution_count": 106,
   "metadata": {
    "collapsed": true
   },
   "outputs": [],
   "source": [
    "predictions['tree cnn'] = cnn_tree_pred"
   ]
  },
  {
   "cell_type": "code",
   "execution_count": 107,
   "metadata": {},
   "outputs": [
    {
     "name": "stdout",
     "output_type": "stream",
     "text": [
      "87.5339624734\n",
      "163.315904141\n",
      "8.63536474212\n",
      "16.4218572378\n",
      "37.7565564686\n",
      "69.0058276011\n",
      "306.384807266\n",
      "9.00085921228\n",
      "15.4479628075\n",
      "33.7374402039\n"
     ]
    }
   ],
   "source": [
    "for dataset in [1,3]:\n",
    "    for idx, appliance in enumerate(order):\n",
    "        error = 0\n",
    "        for fold_num in range(5):\n",
    "        \n",
    "            abs_error = np.abs(cnn_tree_pred[dataset][fold_num][appliance] - test_gt[fold_num][appliance])\n",
    "            error += abs_error.mean()*num_homes[fold_num]\n",
    "        print(error/68)"
   ]
  },
  {
   "cell_type": "code",
   "execution_count": 108,
   "metadata": {
    "collapsed": true
   },
   "outputs": [],
   "source": [
    "TP = {}\n",
    "TP_FP = {}\n",
    "TP_FN = {}\n",
    "for dataset in [1, 3]:\n",
    "    TP[dataset] = {}\n",
    "    TP_FP[dataset] = {}\n",
    "    TP_FN[dataset] = {}\n",
    "    for idx, appliance in enumerate(APPLIANCE_ORDER[1:-1]):\n",
    "        TP[dataset][appliance] = 0\n",
    "        TP_FP[dataset][appliance] = 0\n",
    "        TP_FN[dataset][appliance] = 0\n",
    "        for fold_num in range(5):\n",
    "            test_active = (cnn_tree_pred[dataset][fold_num][appliance] > active_threshold[appliance])*1\n",
    "            TP[dataset][appliance] += np.multiply(test_active, active[dataset][fold_num][appliance]).sum()\n",
    "            TP_FP[dataset][appliance] += test_active.sum()\n",
    "            TP_FN[dataset][appliance] += active[dataset][fold_num][appliance].sum()"
   ]
  },
  {
   "cell_type": "code",
   "execution_count": 109,
   "metadata": {},
   "outputs": [
    {
     "name": "stdout",
     "output_type": "stream",
     "text": [
      "0.969777047433\n",
      "0.969730709622\n",
      "0.492613009923\n",
      "0.000537417707913\n",
      "0.0135102533172\n",
      "0.959036536981\n",
      "0.991607405625\n",
      "0.148732083793\n",
      "0.0\n",
      "0.0248974668275\n"
     ]
    },
    {
     "name": "stderr",
     "output_type": "stream",
     "text": [
      "/zf14/yj9xs/anaconda3/lib/python3.6/site-packages/ipykernel_launcher.py:3: RuntimeWarning: invalid value encountered in long_scalars\n",
      "  This is separate from the ipykernel package so we can avoid doing imports until\n"
     ]
    }
   ],
   "source": [
    "for dataset in [1, 3]:\n",
    "    for idx, appliance in enumerate(APPLIANCE_ORDER[1:-1]):\n",
    "        pr = TP[dataset][appliance]/TP_FP[dataset][appliance]\n",
    "        recall = TP[dataset][appliance]/TP_FN[dataset][appliance]\n",
    "        \n",
    "        print(recall)\n"
   ]
  },
  {
   "cell_type": "code",
   "execution_count": 110,
   "metadata": {
    "collapsed": true
   },
   "outputs": [],
   "source": [
    "num_folds=5\n",
    "def mean_predictions(dataset):\n",
    "    out = []\n",
    "    for cur_fold in range(5):\n",
    "        train, test = get_train_test(dataset, num_folds=num_folds, fold_num=cur_fold)\n",
    "        pred = np.zeros_like(test[:, 1:, :, :])\n",
    "#         print(pred.shape)\n",
    "        \n",
    "        for appliance in range(test.shape[1]-1):\n",
    "            for day in range(test.shape[2]):\n",
    "                pred[:, appliance, day, :] = train[:, appliance+1, day, :].mean(axis=0)\n",
    "#         print(pred[0, 1, 0, 20])\n",
    "        out.append(pred)\n",
    "#     return np.concatenate(out)\n",
    "    return out\n"
   ]
  },
  {
   "cell_type": "code",
   "execution_count": 111,
   "metadata": {
    "collapsed": true
   },
   "outputs": [],
   "source": [
    "tensor = np.load('../2015-5appliances-true-agg.npy')\n",
    "# tensor = np.load('../2015-5appliances.numpy.npy')\n",
    "from sklearn.metrics import mean_absolute_error\n",
    "\n",
    "dataset = 1\n",
    "mean_pred = {}\n",
    "for dataset in [1, 3]:\n",
    "\n",
    "    gt = tensor[:, 1:, :, :]\n",
    "    mean_pred[dataset] = mean_predictions(dataset)\n",
    "# Clamping prediction to aggregate\n",
    "predictions['mean'] = mean_pred"
   ]
  },
  {
   "cell_type": "code",
   "execution_count": 112,
   "metadata": {
    "collapsed": true
   },
   "outputs": [],
   "source": [
    "TP = {}\n",
    "TP_FP = {}\n",
    "TP_FN = {}\n",
    "for dataset in [1, 3]:\n",
    "    TP[dataset] = {}\n",
    "    TP_FP[dataset] = {}\n",
    "    TP_FN[dataset] = {}\n",
    "    for idx, appliance in enumerate(APPLIANCE_ORDER[1:-1]):\n",
    "        TP[dataset][appliance] = 0\n",
    "        TP_FP[dataset][appliance] = 0\n",
    "        TP_FN[dataset][appliance] = 0\n",
    "        for fold_num in range(5):\n",
    "            test_active = (mean_pred[dataset][fold_num][:, idx] > active_threshold[appliance])*1\n",
    "            TP[dataset][appliance] += np.multiply(test_active, active[dataset][fold_num][appliance]).sum()\n",
    "            TP_FP[dataset][appliance] += test_active.sum()\n",
    "            TP_FN[dataset][appliance] += active[dataset][fold_num][appliance].sum()"
   ]
  },
  {
   "cell_type": "code",
   "execution_count": 113,
   "metadata": {},
   "outputs": [
    {
     "name": "stdout",
     "output_type": "stream",
     "text": [
      "hvac Precision:  0.753081105573 Recall:  0.984218629715\n",
      "fridge Precision:  0.977815344888 Recall:  1.0\n",
      "dr Precision:  0.10296474359 Recall:  0.0283351708931\n",
      "dw Precision:  0.0756002595717 Recall:  0.031304581486\n",
      "mw Precision:  0.170584519218 Recall:  0.495102533172\n",
      "hvac Precision:  0.753081105573 Recall:  0.984218629715\n",
      "fridge Precision:  0.977815344888 Recall:  1.0\n",
      "dr Precision:  0.10296474359 Recall:  0.0283351708931\n",
      "dw Precision:  0.0756002595717 Recall:  0.031304581486\n",
      "mw Precision:  0.170584519218 Recall:  0.495102533172\n"
     ]
    }
   ],
   "source": [
    "for dataset in [1, 3]:\n",
    "    for idx, appliance in enumerate(APPLIANCE_ORDER[1:-1]):\n",
    "        pr = TP[dataset][appliance]/TP_FP[dataset][appliance]\n",
    "        recall = TP[dataset][appliance]/TP_FN[dataset][appliance]\n",
    "        \n",
    "        print(appliance, \"Precision: \", pr, \"Recall: \", recall)\n"
   ]
  },
  {
   "cell_type": "code",
   "execution_count": 114,
   "metadata": {
    "collapsed": true
   },
   "outputs": [],
   "source": [
    "# error of active parts"
   ]
  },
  {
   "cell_type": "code",
   "execution_count": 115,
   "metadata": {},
   "outputs": [
    {
     "name": "stdout",
     "output_type": "stream",
     "text": [
      "Dataset  1\n",
      "hvac\n",
      "active error 276.623251431\n",
      "inactive error 4.35813867811\n",
      "fridge\n",
      "active error 118.957349014\n",
      "inactive error 79.8034176483\n",
      "dr\n",
      "active error 1259.90720008\n",
      "inactive error 19.2902113243\n",
      "dw\n",
      "active error 341.543323579\n",
      "inactive error 17.7608014526\n",
      "mw\n",
      "active error 62.6150733512\n",
      "inactive error 21.8516790999\n",
      "Dataset  3\n",
      "hvac\n",
      "active error 512.570701381\n",
      "inactive error 499.921435962\n",
      "fridge\n",
      "active error 443.538620837\n",
      "inactive error 372.362016012\n",
      "dr\n",
      "active error 1179.77652982\n",
      "inactive error 55.7073357965\n",
      "dw\n",
      "active error 310.611729639\n",
      "inactive error 53.8440615338\n",
      "mw\n",
      "active error 131.185307906\n",
      "inactive error 96.0238578033\n"
     ]
    }
   ],
   "source": [
    "error = {}\n",
    "for dataset in [1, 3]:\n",
    "    error[dataset] = {}\n",
    "    for method in ['sc']:\n",
    "        error[dataset][method] = {}\n",
    "        error[dataset][method]['Active Error'] = {}\n",
    "        error[dataset][method]['Inactive Error'] = {} \n",
    "        print(\"Dataset \", dataset)\n",
    "        for idx, appliance in enumerate(APPLIANCE_ORDER[1:-1]):\n",
    "            active_error = []\n",
    "            inactive_error = []\n",
    "            print(appliance)\n",
    "            for fold_num in range(5):\n",
    "                abs_error = np.abs(predictions[method][dataset][fold_num][:, idx]-test_gt[fold_num][appliance])\n",
    "                active_error.append(abs_error[active[dataset][fold_num][appliance] == 1])\n",
    "                inactive_error.append(abs_error[active[dataset][fold_num][appliance] == 0])\n",
    "    #             print(appliance, fold_num, abs_error[active[dataset][fold_num][appliance] == 1].mean())\n",
    "            print(\"active error\", np.hstack(active_error).mean())\n",
    "            print(\"inactive error\", np.hstack(inactive_error).mean())\n"
   ]
  },
  {
   "cell_type": "code",
   "execution_count": 116,
   "metadata": {},
   "outputs": [
    {
     "name": "stdout",
     "output_type": "stream",
     "text": [
      "Dataset  1\n",
      "hvac\n",
      "active error 190.418369125\n",
      "inactive error 118.590903615\n",
      "fridge\n",
      "active error 30.6486913356\n",
      "inactive error 72.1666381348\n",
      "dr\n",
      "active error 905.810084417\n",
      "inactive error 13.9507013028\n",
      "dw\n",
      "active error 369.498791383\n",
      "inactive error 0.444752587056\n",
      "mw\n",
      "active error 56.1798562447\n",
      "inactive error 2.47350394814\n",
      "Dataset  3\n",
      "hvac\n",
      "active error 350.244203657\n",
      "inactive error 238.667898555\n",
      "fridge\n",
      "active error 31.0780380464\n",
      "inactive error 72.1172629239\n",
      "dr\n",
      "active error 1262.3390757\n",
      "inactive error 5.98789870036\n",
      "dw\n",
      "active error 369.335260598\n",
      "inactive error 0.682052289559\n",
      "mw\n",
      "active error 56.0041332298\n",
      "inactive error 2.51530867139\n"
     ]
    }
   ],
   "source": [
    "for dataset in [1, 3]:\n",
    "    for method in ['ind cnn']:\n",
    "#         error[dataset][method] = {}\n",
    "        print(\"Dataset \", dataset)\n",
    "        for idx, appliance in enumerate(APPLIANCE_ORDER[1:-1]):\n",
    "            active_error = []\n",
    "            inactive_error = []\n",
    "            print(appliance)\n",
    "            for fold_num in range(5):\n",
    "                abs_error = np.abs(predictions[method][dataset][fold_num][appliance]-test_gt[fold_num][appliance])\n",
    "                active_error.append(abs_error[active[dataset][fold_num][appliance] == 1])\n",
    "                inactive_error.append(abs_error[active[dataset][fold_num][appliance] == 0])\n",
    "    #             print(appliance, fold_num, abs_error[active[dataset][fold_num][appliance] == 1].mean())\n",
    "            print(\"active error\", np.hstack(active_error).mean())\n",
    "            print(\"inactive error\", np.hstack(inactive_error).mean())\n"
   ]
  },
  {
   "cell_type": "code",
   "execution_count": 139,
   "metadata": {},
   "outputs": [],
   "source": [
    "dataset = 1\n",
    "\n",
    "ind_cnn = np.ones((68, 5, 112, 24))\n",
    "for idx, appliance in enumerate(APPLIANCE_ORDER[1:-1]):\n",
    "    app = predictions['ind cnn'][dataset][0][appliance]\n",
    "    for fold_num in range(1, 5):\n",
    "        app = np.vstack((app, predictions['ind cnn'][dataset][fold_num][appliance]))\n",
    "#         print(predictions['ind cnn'][1][fold_num][appliance].shape)\n",
    "    ind_cnn[:, idx] = app"
   ]
  },
  {
   "cell_type": "code",
   "execution_count": 140,
   "metadata": {},
   "outputs": [],
   "source": [
    "tree_cnn = np.ones((68, 5, 112, 24))\n",
    "for idx, appliance in enumerate(APPLIANCE_ORDER[1:-1]):\n",
    "    app = predictions['tree cnn'][dataset][0][appliance]\n",
    "    for fold_num in range(1, 5):\n",
    "        app = np.vstack((app, predictions['tree cnn'][dataset][fold_num][appliance]))\n",
    "#         print(predictions['ind cnn'][1][fold_num][appliance].shape)\n",
    "    tree_cnn[:, idx] = app"
   ]
  },
  {
   "cell_type": "code",
   "execution_count": 146,
   "metadata": {
    "collapsed": true
   },
   "outputs": [],
   "source": [
    "cnn_tree_params = {}\n",
    "cnn_tree_params[3] = np.load(\"../code/baseline/result/cnn-tree-final-residual-param-3.npy\").item()"
   ]
  },
  {
   "cell_type": "code",
   "execution_count": 147,
   "metadata": {},
   "outputs": [],
   "source": [
    "# get prediction for cnn tree\n",
    "cnn_tree_pred = {}\n",
    "for dataset in [3]:\n",
    "    cnn_tree_pred[dataset] = {}\n",
    "    for fold_num in range(5):\n",
    "        cnn_tree_pred[dataset][fold_num] = {}\n",
    "\n",
    "        lr = cnn_tree_params[dataset][fold_num]['lr']\n",
    "        iters = cnn_tree_params[dataset][fold_num]['iters']\n",
    "        order = cnn_tree_params[dataset][fold_num]['order']\n",
    "\n",
    "        o = \"\\', \\'\".join(str(x) for x in order)\n",
    "        directory = \"../code/baseline/cnn-tree/{}/{}/{}/20000/0.0/\".format(dataset, fold_num,lr)\n",
    "        filename = \"test-pred-[\\'{}\\'].npy\".format(o)\n",
    "\n",
    "        full_path = directory + filename\n",
    "        cnn_pred = np.asarray(np.load(full_path).item()[iters])\n",
    "\n",
    "        for idx, appliance in enumerate(order):\n",
    "            cnn_tree_pred[dataset][fold_num][appliance] = cnn_pred[idx].reshape(-1, 112,24)\n",
    "    "
   ]
  },
  {
   "cell_type": "code",
   "execution_count": 149,
   "metadata": {},
   "outputs": [],
   "source": [
    "tree_cnn_r = np.ones((68, 5, 112, 24))\n",
    "for idx, appliance in enumerate(APPLIANCE_ORDER[1:-1]):\n",
    "    app = cnn_tree_pred[3][0][appliance]\n",
    "    for fold_num in range(1, 5):\n",
    "        app = np.vstack((app, cnn_tree_pred[3][fold_num][appliance]))\n",
    "#         print(predictions['ind cnn'][1][fold_num][appliance].shape)\n",
    "    tree_cnn_r[:, idx] = app"
   ]
  },
  {
   "cell_type": "code",
   "execution_count": 165,
   "metadata": {},
   "outputs": [
    {
     "data": {
      "text/plain": [
       "Ttest_indResult(statistic=array([-3.2802119]), pvalue=array([ 0.00103861]))"
      ]
     },
     "execution_count": 165,
     "metadata": {},
     "output_type": "execute_result"
    }
   ],
   "source": [
    "from scipy import stats\n",
    "\n",
    "stats.ttest_ind(tree_cnn_r[4].reshape(-1, 1), tree_cnn[4].reshape(-1, 1))"
   ]
  },
  {
   "cell_type": "code",
   "execution_count": 153,
   "metadata": {},
   "outputs": [],
   "source": [
    "tensor = np.load(\"../2015-5appliances.numpy.npy\")"
   ]
  },
  {
   "cell_type": "code",
   "execution_count": 160,
   "metadata": {},
   "outputs": [],
   "source": [
    "mask = np.zeros((68, 5, 112, 24))\n",
    "for idx, appliance in enumerate(APPLIANCE_ORDER[1:-1]):\n",
    "    k = (tensor[:, idx+1] > active_threshold[appliance])*1\n",
    "    mask[:, idx] = k"
   ]
  },
  {
   "cell_type": "code",
   "execution_count": 159,
   "metadata": {},
   "outputs": [],
   "source": [
    "mask = mask.reshape(-1, 1)"
   ]
  },
  {
   "cell_type": "code",
   "execution_count": null,
   "metadata": {
    "collapsed": true
   },
   "outputs": [],
   "source": [
    "[active[dataset][fold_num][appliance] == 1]"
   ]
  }
 ],
 "metadata": {
  "kernelspec": {
   "display_name": "Python 3",
   "language": "python",
   "name": "python3"
  },
  "language_info": {
   "codemirror_mode": {
    "name": "ipython",
    "version": 3
   },
   "file_extension": ".py",
   "mimetype": "text/x-python",
   "name": "python",
   "nbconvert_exporter": "python",
   "pygments_lexer": "ipython3",
   "version": "3.6.3"
  }
 },
 "nbformat": 4,
 "nbformat_minor": 2
}
