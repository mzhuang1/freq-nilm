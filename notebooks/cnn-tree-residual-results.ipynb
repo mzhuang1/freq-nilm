{
 "cells": [
  {
   "cell_type": "code",
   "execution_count": 1,
   "metadata": {
    "collapsed": true
   },
   "outputs": [],
   "source": [
    "import torch\n",
    "from torch.autograd import Variable\n",
    "import numpy as np\n",
    "import torch.nn as nn\n",
    "from torchvision import datasets,transforms\n",
    "import torch.nn.functional as F\n",
    "import sys\n",
    "sys.path.append(\"../code/\")\n",
    "from dataloader import APPLIANCE_ORDER, get_train_test\n",
    "from sklearn.metrics import mean_absolute_error\n",
    "import os\n",
    "import pandas as pd\n",
    "import sys\n",
    "import numpy as np\n",
    "import matplotlib.pyplot as plt\n",
    "sys.path.append('../code/')\n",
    "%matplotlib inline\n",
    "import itertools\n",
    "from pathlib import Path"
   ]
  },
  {
   "cell_type": "code",
   "execution_count": 2,
   "metadata": {
    "collapsed": true
   },
   "outputs": [],
   "source": [
    "def onoff_error(pred, gt, threshold):\n",
    "    abs_error = np.abs(pred-gt)\n",
    "    error = [x for x in abs_error.reshape(1, -1).tolist()[0] if x >= threshold]\n",
    "    \n",
    "    return np.mean(error)"
   ]
  },
  {
   "cell_type": "code",
   "execution_count": 3,
   "metadata": {
    "scrolled": true
   },
   "outputs": [
    {
     "name": "stdout",
     "output_type": "stream",
     "text": [
      "0 0.01 ('hvac', 'fridge', 'dr', 'dw', 'mw', 'residual')\n",
      "0 0.01 ('hvac', 'fridge', 'dr', 'dw', 'residual', 'mw')\n",
      "0 0.01 ('hvac', 'fridge', 'dr', 'mw', 'dw', 'residual')\n",
      "0 0.01 ('hvac', 'fridge', 'dr', 'mw', 'residual', 'dw')\n",
      "0 0.01 ('hvac', 'fridge', 'dr', 'residual', 'dw', 'mw')\n",
      "0 0.01 ('hvac', 'fridge', 'dr', 'residual', 'mw', 'dw')\n",
      "0 0.01 ('hvac', 'fridge', 'dw', 'dr', 'mw', 'residual')\n",
      "0 0.01 ('hvac', 'fridge', 'dw', 'dr', 'residual', 'mw')\n",
      "0 0.01 ('hvac', 'fridge', 'dw', 'mw', 'dr', 'residual')\n",
      "0 0.01 ('hvac', 'fridge', 'dw', 'mw', 'residual', 'dr')\n",
      "0 0.01 ('hvac', 'fridge', 'dw', 'residual', 'dr', 'mw')\n",
      "0 0.01 ('hvac', 'fridge', 'dw', 'residual', 'mw', 'dr')\n",
      "0 0.01 ('hvac', 'fridge', 'mw', 'dr', 'dw', 'residual')\n",
      "0 0.01 ('hvac', 'fridge', 'mw', 'dr', 'residual', 'dw')\n",
      "0 0.01 ('hvac', 'fridge', 'mw', 'dw', 'dr', 'residual')\n",
      "0 0.01 ('hvac', 'fridge', 'mw', 'dw', 'residual', 'dr')\n",
      "0 0.01 ('hvac', 'fridge', 'mw', 'residual', 'dr', 'dw')\n",
      "0 0.01 ('hvac', 'fridge', 'mw', 'residual', 'dw', 'dr')\n",
      "0 0.01 ('hvac', 'fridge', 'residual', 'dr', 'dw', 'mw')\n",
      "0 0.01 ('hvac', 'fridge', 'residual', 'dr', 'mw', 'dw')\n",
      "0 0.01 ('hvac', 'fridge', 'residual', 'dw', 'dr', 'mw')\n",
      "0 0.01 ('hvac', 'fridge', 'residual', 'dw', 'mw', 'dr')\n",
      "0 0.01 ('hvac', 'fridge', 'residual', 'mw', 'dr', 'dw')\n",
      "0 0.01 ('hvac', 'fridge', 'residual', 'mw', 'dw', 'dr')\n",
      "0 0.01 ('hvac', 'dr', 'fridge', 'dw', 'mw', 'residual')\n",
      "0 0.01 ('hvac', 'dr', 'fridge', 'dw', 'residual', 'mw')\n"
     ]
    },
    {
     "ename": "KeyboardInterrupt",
     "evalue": "",
     "output_type": "error",
     "traceback": [
      "\u001b[0;31m---------------------------------------------------------------------------\u001b[0m",
      "\u001b[0;31mKeyboardInterrupt\u001b[0m                         Traceback (most recent call last)",
      "\u001b[0;32m<ipython-input-3-798408b22ebb>\u001b[0m in \u001b[0;36m<module>\u001b[0;34m()\u001b[0m\n\u001b[1;32m     38\u001b[0m                     \u001b[0msrv\u001b[0m \u001b[0;34m+=\u001b[0m \u001b[0;36m1\u001b[0m\u001b[0;34m\u001b[0m\u001b[0m\n\u001b[1;32m     39\u001b[0m             \u001b[0;32melse\u001b[0m\u001b[0;34m:\u001b[0m\u001b[0;34m\u001b[0m\u001b[0m\n\u001b[0;32m---> 40\u001b[0;31m                 \u001b[0mk\u001b[0m \u001b[0;34m=\u001b[0m \u001b[0mnp\u001b[0m\u001b[0;34m.\u001b[0m\u001b[0mload\u001b[0m\u001b[0;34m(\u001b[0m\u001b[0mfull_path\u001b[0m\u001b[0;34m)\u001b[0m\u001b[0;34m.\u001b[0m\u001b[0mitem\u001b[0m\u001b[0;34m(\u001b[0m\u001b[0;34m)\u001b[0m\u001b[0;34m\u001b[0m\u001b[0m\n\u001b[0m\u001b[1;32m     41\u001b[0m                 \u001b[0;32mfor\u001b[0m \u001b[0mit\u001b[0m \u001b[0;32min\u001b[0m \u001b[0mrange\u001b[0m\u001b[0;34m(\u001b[0m\u001b[0;36m1000\u001b[0m\u001b[0;34m,\u001b[0m \u001b[0;36m20001\u001b[0m\u001b[0;34m,\u001b[0m \u001b[0;36m1000\u001b[0m\u001b[0;34m)\u001b[0m\u001b[0;34m:\u001b[0m\u001b[0;34m\u001b[0m\u001b[0m\n\u001b[1;32m     42\u001b[0m                     \u001b[0mcnn_tree_valid_pred\u001b[0m\u001b[0;34m[\u001b[0m\u001b[0mfold_num\u001b[0m\u001b[0;34m]\u001b[0m\u001b[0;34m[\u001b[0m\u001b[0mlr\u001b[0m\u001b[0;34m]\u001b[0m\u001b[0;34m[\u001b[0m\u001b[0morder\u001b[0m\u001b[0;34m]\u001b[0m\u001b[0;34m[\u001b[0m\u001b[0mit\u001b[0m\u001b[0;34m]\u001b[0m \u001b[0;34m=\u001b[0m \u001b[0;34m{\u001b[0m\u001b[0;34m}\u001b[0m\u001b[0;34m\u001b[0m\u001b[0m\n",
      "\u001b[0;32m~/anaconda3/lib/python3.6/site-packages/numpy/lib/npyio.py\u001b[0m in \u001b[0;36mload\u001b[0;34m(file, mmap_mode, allow_pickle, fix_imports, encoding)\u001b[0m\n\u001b[1;32m    417\u001b[0m             \u001b[0;32melse\u001b[0m\u001b[0;34m:\u001b[0m\u001b[0;34m\u001b[0m\u001b[0m\n\u001b[1;32m    418\u001b[0m                 return format.read_array(fid, allow_pickle=allow_pickle,\n\u001b[0;32m--> 419\u001b[0;31m                                          pickle_kwargs=pickle_kwargs)\n\u001b[0m\u001b[1;32m    420\u001b[0m         \u001b[0;32melse\u001b[0m\u001b[0;34m:\u001b[0m\u001b[0;34m\u001b[0m\u001b[0m\n\u001b[1;32m    421\u001b[0m             \u001b[0;31m# Try a pickle\u001b[0m\u001b[0;34m\u001b[0m\u001b[0;34m\u001b[0m\u001b[0m\n",
      "\u001b[0;32m~/anaconda3/lib/python3.6/site-packages/numpy/lib/format.py\u001b[0m in \u001b[0;36mread_array\u001b[0;34m(fp, allow_pickle, pickle_kwargs)\u001b[0m\n\u001b[1;32m    638\u001b[0m             \u001b[0mpickle_kwargs\u001b[0m \u001b[0;34m=\u001b[0m \u001b[0;34m{\u001b[0m\u001b[0;34m}\u001b[0m\u001b[0;34m\u001b[0m\u001b[0m\n\u001b[1;32m    639\u001b[0m         \u001b[0;32mtry\u001b[0m\u001b[0;34m:\u001b[0m\u001b[0;34m\u001b[0m\u001b[0m\n\u001b[0;32m--> 640\u001b[0;31m             \u001b[0marray\u001b[0m \u001b[0;34m=\u001b[0m \u001b[0mpickle\u001b[0m\u001b[0;34m.\u001b[0m\u001b[0mload\u001b[0m\u001b[0;34m(\u001b[0m\u001b[0mfp\u001b[0m\u001b[0;34m,\u001b[0m \u001b[0;34m**\u001b[0m\u001b[0mpickle_kwargs\u001b[0m\u001b[0;34m)\u001b[0m\u001b[0;34m\u001b[0m\u001b[0m\n\u001b[0m\u001b[1;32m    641\u001b[0m         \u001b[0;32mexcept\u001b[0m \u001b[0mUnicodeError\u001b[0m \u001b[0;32mas\u001b[0m \u001b[0merr\u001b[0m\u001b[0;34m:\u001b[0m\u001b[0;34m\u001b[0m\u001b[0m\n\u001b[1;32m    642\u001b[0m             \u001b[0;32mif\u001b[0m \u001b[0msys\u001b[0m\u001b[0;34m.\u001b[0m\u001b[0mversion_info\u001b[0m\u001b[0;34m[\u001b[0m\u001b[0;36m0\u001b[0m\u001b[0;34m]\u001b[0m \u001b[0;34m>=\u001b[0m \u001b[0;36m3\u001b[0m\u001b[0;34m:\u001b[0m\u001b[0;34m\u001b[0m\u001b[0m\n",
      "\u001b[0;31mKeyboardInterrupt\u001b[0m: "
     ]
    }
   ],
   "source": [
    "dataset = 5\n",
    "gid = 0\n",
    "srv = 1\n",
    "c = 0\n",
    "cmd = {}\n",
    "cnn_tree_valid_pred = {}\n",
    "num_iterations = 20000\n",
    "lr = 0.01\n",
    "p = 0\n",
    "for fold_num in range(5):\n",
    "    cnn_tree_valid_pred[fold_num] = {}\n",
    "    for lr in [0.01]:\n",
    "        cnn_tree_valid_pred[fold_num][lr] = {}\n",
    "        for order in list(itertools.permutations(['hvac', 'fridge', 'dr', 'dw', 'mw', 'residual'])):\n",
    "            print(fold_num, lr, order)\n",
    "#             if order[0] == 'hvac':\n",
    "#                 continue\n",
    "            \n",
    "            cnn_tree_valid_pred[fold_num][lr][order] = {}\n",
    "\n",
    "\n",
    "            o = \"\\', \\'\".join(str(x) for x in order)\n",
    "            directory = \"../code/baseline/cnn-tree/{}/{}/{}/20000/0.0/\".format(dataset, fold_num, lr)\n",
    "            filename = \"valid-pred-[\\'{}\\'].npy\".format(o)\n",
    "\n",
    "            full_path = directory + filename\n",
    "            my_file = Path(full_path)\n",
    "            if not my_file.exists():\n",
    "                o = \" \".join(str(x) for x in order)\n",
    "                line = (\"CUDA_VISIBLE_DEVICES={} python cnn-tree.py 3 {} {} 0 {} {} &\".format(gid, lr, num_iterations, fold_num, o))\n",
    "#                 print(line)\n",
    "\n",
    "                c += 1\n",
    "                if c%1 == 0:\n",
    "                    gid+=1\n",
    "                if gid == 4:\n",
    "                    gid = 0\n",
    "                    srv += 1\n",
    "            else:\n",
    "                k = np.load(full_path).item()\n",
    "                for it in range(1000, 20001, 1000):\n",
    "                    cnn_tree_valid_pred[fold_num][lr][order][it] = {}\n",
    "                    for idx, appliance in enumerate(order):\n",
    "                        cnn_tree_valid_pred[fold_num][lr][order][it][appliance] = k[it][idx]\n",
    "\n",
    "print(c)                               "
   ]
  },
  {
   "cell_type": "code",
   "execution_count": 10,
   "metadata": {},
   "outputs": [
    {
     "name": "stdout",
     "output_type": "stream",
     "text": [
      "dr 725.849570636\n",
      "dw 285.780713239\n",
      "mw 31.7082756317\n"
     ]
    }
   ],
   "source": [
    "tensor = np.load(\"../2015-5appliances.numpy.npy\")\n",
    "dr = tensor[:, 3]\n",
    "\n",
    "# calculate gt\n",
    "test_gt = {}\n",
    "valid_gt = {}\n",
    "for fold_num in range(5):\n",
    "    test_gt[fold_num] = {}\n",
    "    valid_gt[fold_num] = {}\n",
    "    train, test = get_train_test(1, 5, fold_num)\n",
    "    valid = train[int(0.8*len(train)):].copy()\n",
    "    for idx, appliance in enumerate(APPLIANCE_ORDER[1:-1]):\n",
    "        test_gt[fold_num][appliance] = test[:, idx+1]\n",
    "        valid_gt[fold_num][appliance] = valid[:, idx+1]\n",
    "        \n",
    "threshold = {}\n",
    "for appliance in ['dr', 'dw', 'mw']:\n",
    "    sample_list = []\n",
    "    for fold_num in range(5):\n",
    "        sample_list = np.append(sample_list, [x for x in test_gt[fold_num][appliance].reshape(1, -1).tolist()[0] if x > 5])\n",
    "    mean = np.mean(sample_list)\n",
    "    print(appliance, mean)\n",
    "    threshold[appliance] = 0.1*mean"
   ]
  },
  {
   "cell_type": "code",
   "execution_count": 23,
   "metadata": {
    "collapsed": true
   },
   "outputs": [],
   "source": [
    "cnn_tree_best_param = {}\n",
    "for fold_num in range(5):\n",
    "    cnn_tree_best_param[fold_num] = {}\n",
    "    min_error = np.inf\n",
    "    for lr in [0.01]:\n",
    "        for order in list(itertools.permutations(['hvac', 'fridge', 'dr', 'dw', 'mw', 'residual'])):\n",
    "\n",
    "            for it in range(1000, 20001, 1000):\n",
    "                error = 0\n",
    "                try:\n",
    "                    for idx, appliance in enumerate(order):\n",
    "                        if appliance == 'residual':\n",
    "                            continue\n",
    "                        if appliance in ['hvac', 'fridge']:\n",
    "                            error += mean_absolute_error(cnn_tree_valid_pred[fold_num][lr][order][it][appliance].reshape(-1, 24),\n",
    "                                                        valid_gt[fold_num][appliance].reshape(-1, 24))\n",
    "                        else:\n",
    "                            error += onoff_error(cnn_tree_valid_pred[fold_num][lr][order][it][appliance].reshape(-1, 24),\n",
    "                                                        valid_gt[fold_num][appliance].reshape(-1, 24), threshold[appliance])\n",
    "                    if error < min_error:\n",
    "                        min_error = error\n",
    "                        cnn_tree_best_param[fold_num]['lr'] = lr\n",
    "                        cnn_tree_best_param[fold_num]['order'] = order\n",
    "                        cnn_tree_best_param[fold_num]['iters'] = it\n",
    "                except:\n",
    "                    continue\n",
    "                \n",
    "                    "
   ]
  },
  {
   "cell_type": "code",
   "execution_count": 24,
   "metadata": {
    "collapsed": true
   },
   "outputs": [],
   "source": [
    "best_cnn_tree = cnn_tree_best_param"
   ]
  },
  {
   "cell_type": "code",
   "execution_count": 25,
   "metadata": {
    "collapsed": true
   },
   "outputs": [],
   "source": [
    "# get prediction for cnn tree\n",
    "cnn_tree_pred = {}\n",
    "for fold_num in range(5):\n",
    "    cnn_tree_pred[fold_num] = {}\n",
    "        \n",
    "    lr = best_cnn_tree[fold_num]['lr']\n",
    "    iters = best_cnn_tree[fold_num]['iters']\n",
    "    order = best_cnn_tree[fold_num]['order']\n",
    "\n",
    "    o = \"\\', \\'\".join(str(x) for x in order)\n",
    "    directory = \"../code/baseline/cnn-tree/{}/{}/{}/20000/0.0/\".format(dataset, fold_num,lr)\n",
    "    filename = \"test-pred-[\\'{}\\'].npy\".format(o)\n",
    "\n",
    "    full_path = directory + filename\n",
    "    cnn_pred = np.asarray(np.load(full_path).item()[iters])\n",
    "    \n",
    "    for idx, appliance in enumerate(order):\n",
    "        cnn_tree_pred[fold_num][appliance] = cnn_pred[idx].reshape(-1, 1, 112,24)\n",
    "    "
   ]
  },
  {
   "cell_type": "code",
   "execution_count": 26,
   "metadata": {
    "collapsed": true
   },
   "outputs": [],
   "source": [
    "def calculate_error(pred, gt, threshold):\n",
    "    error = {}\n",
    "    overall = {}\n",
    "    num_homes = {}\n",
    "    \n",
    "    # calculte number of homes in each fold\n",
    "    for fold_num in range(5):\n",
    "        num_homes[fold_num] = gt[fold_num]['hvac'].reshape(-1, 1, 112,24).shape[0]\n",
    "    homes = pd.Series(num_homes).sum()\n",
    "    \n",
    "    # for Constantly On appliances: hvac and fridge\n",
    "    for appliance in ['hvac', 'fridge']:\n",
    "        overall[appliance] = 0\n",
    "        error[appliance] = {}\n",
    "        for fold_num in range(5):\n",
    "            error[appliance][fold_num] = mean_absolute_error(pred[fold_num][appliance].reshape(-1, 24), \n",
    "                                                             gt[fold_num][appliance].reshape(-1, 24))\n",
    "            overall[appliance] += error[appliance][fold_num]*num_homes[fold_num]\n",
    "        overall[appliance] /= homes\n",
    "        \n",
    "    # for ON/OFF appliances: dryer, dishwasher and microwave\n",
    "    for appliance in ['dr', 'dw', 'mw']:\n",
    "        error[appliance] = {}\n",
    "        overall[appliance] = 0                                                                \n",
    "        for fold_num in range(5):\n",
    "            error[appliance][fold_num] = onoff_error(pred[fold_num][appliance].reshape(-1, 24), \n",
    "                                                     gt[fold_num][appliance].reshape(-1, 24), threshold[appliance])\n",
    "            overall[appliance] += error[appliance][fold_num]*num_homes[fold_num]\n",
    "        overall[appliance] /= homes\n",
    "    \n",
    "    \n",
    "    return error, overall"
   ]
  },
  {
   "cell_type": "code",
   "execution_count": 30,
   "metadata": {},
   "outputs": [
    {
     "data": {
      "text/plain": [
       "dr        695.579196\n",
       "dw        218.650229\n",
       "fridge     36.066408\n",
       "hvac      397.938498\n",
       "mw         23.917026\n",
       "dtype: float64"
      ]
     },
     "execution_count": 30,
     "metadata": {},
     "output_type": "execute_result"
    }
   ],
   "source": [
    "pd.Series(calculate_error(cnn_tree_pred, test_gt, threshold)[1])"
   ]
  },
  {
   "cell_type": "code",
   "execution_count": 6,
   "metadata": {
    "scrolled": true
   },
   "outputs": [
    {
     "name": "stdout",
     "output_type": "stream",
     "text": [
      "0\n"
     ]
    }
   ],
   "source": [
    "dataset = 5\n",
    "gid = 0\n",
    "srv = 1\n",
    "c = 0\n",
    "cmd = {}\n",
    "valid_error= {}\n",
    "num_iterations = 20000\n",
    "lr = 0.01\n",
    "p = 0\n",
    "for fold_num in range(5):\n",
    "    valid_error[fold_num] = {}\n",
    "    for lr in [0.01]:\n",
    "        valid_error[fold_num][lr] = {}\n",
    "        for order in list(itertools.permutations(['hvac', 'fridge', 'dr', 'dw', 'mw', 'residual'])):\n",
    "#             print(fold_num, lr, order)\n",
    "#             if order[0] == 'hvac':\n",
    "#                 continue\n",
    "            \n",
    "#             valid_error[fold_num][lr][order] = {}\n",
    "\n",
    "\n",
    "            o = \"\\', \\'\".join(str(x) for x in order)\n",
    "            directory = \"../code/baseline/cnn-tree/{}/{}/{}/20000/0.0/\".format(dataset, fold_num, lr)\n",
    "            filename = \"valid-error-[\\'{}\\'].npy\".format(o)\n",
    "\n",
    "            full_path = directory + filename\n",
    "            my_file = Path(full_path)\n",
    "            if not my_file.exists():\n",
    "                o = \" \".join(str(x) for x in order)\n",
    "                line = (\"CUDA_VISIBLE_DEVICES={} python cnn-tree.py 3 {} {} 0 {} {} &\".format(gid, lr, num_iterations, fold_num, o))\n",
    "#                 print(line)\n",
    "\n",
    "                c += 1\n",
    "                if c%1 == 0:\n",
    "                    gid+=1\n",
    "                if gid == 4:\n",
    "                    gid = 0\n",
    "                    srv += 1\n",
    "            else:\n",
    "                valid_error[fold_num][lr][order] = np.load(full_path).item()\n",
    "\n",
    "print(c)                               "
   ]
  },
  {
   "cell_type": "code",
   "execution_count": 15,
   "metadata": {
    "collapsed": true
   },
   "outputs": [],
   "source": [
    "results = {}\n",
    "iters = {}\n",
    "best_param = {}\n",
    "for fold_num in range(5):\n",
    "    results[fold_num] = {}\n",
    "    best_param[fold_num] = {}\n",
    "for fold_num in range(5):\n",
    "    \n",
    "    best_error = np.inf\n",
    "    for lr in [0.01]:\n",
    "        for order in valid_error[fold_num][lr]:\n",
    "            for iters in valid_error[fold_num][lr][order]:\n",
    "                cur_error = pd.Series(valid_error[fold_num][lr][order][iters]).drop(['residual']).mean()\n",
    "                if best_error > cur_error:\n",
    "                    best_error = cur_error\n",
    "                    best_param[fold_num]['iters'] = iters\n",
    "                    best_param[fold_num]['order'] = order\n",
    "                    best_param[fold_num]['lr'] = lr"
   ]
  },
  {
   "cell_type": "code",
   "execution_count": 16,
   "metadata": {
    "collapsed": true
   },
   "outputs": [],
   "source": [
    "best_error = {}\n",
    "for fold_num in range(5):\n",
    "    order = best_param[fold_num]['order']\n",
    "    iters = best_param[fold_num]['iters']\n",
    "    lr = best_param[fold_num]['lr']\n",
    "    \n",
    "    o = \"\\', \\'\".join(str(x) for x in order)\n",
    "    directory = \"../code/baseline/cnn-tree/{}/{}/{}/20000/0.0/\".format(dataset, fold_num, lr)\n",
    "    filename = \"valid-error-[\\'{}\\'].npy\".format(o)\n",
    "    full_path = directory + filename\n",
    "    \n",
    "    best_error[fold_num] = np.load(full_path).item()[iters]"
   ]
  },
  {
   "cell_type": "code",
   "execution_count": 17,
   "metadata": {},
   "outputs": [
    {
     "data": {
      "text/plain": [
       "{'dr': 62.402404557995432,\n",
       " 'dw': 9.0537611668229214,\n",
       " 'fridge': 30.827749422713065,\n",
       " 'hvac': 319.75299064023017,\n",
       " 'mw': 15.164341752110095,\n",
       " 'residual': 368.93570354779337}"
      ]
     },
     "execution_count": 17,
     "metadata": {},
     "output_type": "execute_result"
    }
   ],
   "source": [
    "best_error[0]"
   ]
  },
  {
   "cell_type": "code",
   "execution_count": 19,
   "metadata": {},
   "outputs": [
    {
     "name": "stdout",
     "output_type": "stream",
     "text": [
      "('dr', 'residual', 'dw', 'mw', 'hvac', 'fridge')\n",
      "('hvac', 'dw', 'mw', 'fridge', 'residual', 'dr')\n",
      "('hvac', 'fridge', 'mw', 'dw', 'dr', 'residual')\n",
      "('residual', 'dr', 'dw', 'hvac', 'mw', 'fridge')\n",
      "('residual', 'dr', 'mw', 'dw', 'hvac', 'fridge')\n"
     ]
    }
   ],
   "source": [
    "for fold_num in range(5):\n",
    "\n",
    "    print(best_param[fold_num]['order'])"
   ]
  }
 ],
 "metadata": {
  "kernelspec": {
   "display_name": "Python 3",
   "language": "python",
   "name": "python3"
  },
  "language_info": {
   "codemirror_mode": {
    "name": "ipython",
    "version": 3
   },
   "file_extension": ".py",
   "mimetype": "text/x-python",
   "name": "python",
   "nbconvert_exporter": "python",
   "pygments_lexer": "ipython3",
   "version": "3.6.3"
  }
 },
 "nbformat": 4,
 "nbformat_minor": 2
}
