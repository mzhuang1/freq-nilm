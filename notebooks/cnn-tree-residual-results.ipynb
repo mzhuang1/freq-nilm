{
 "cells": [
  {
   "cell_type": "code",
   "execution_count": 1,
   "metadata": {
    "collapsed": true
   },
   "outputs": [],
   "source": [
    "import torch\n",
    "from torch.autograd import Variable\n",
    "import numpy as np\n",
    "import torch.nn as nn\n",
    "from torchvision import datasets,transforms\n",
    "import torch.nn.functional as F\n",
    "import sys\n",
    "sys.path.append(\"../code/\")\n",
    "from dataloader import APPLIANCE_ORDER, get_train_test\n",
    "from sklearn.metrics import mean_absolute_error\n",
    "import os\n",
    "import pandas as pd\n",
    "import sys\n",
    "import numpy as np\n",
    "import matplotlib.pyplot as plt\n",
    "sys.path.append('../code/')\n",
    "%matplotlib inline\n",
    "import itertools\n",
    "from pathlib import Path"
   ]
  },
  {
   "cell_type": "code",
   "execution_count": 2,
   "metadata": {
    "collapsed": true
   },
   "outputs": [],
   "source": [
    "def onoff_error(pred, gt, threshold):\n",
    "    abs_error = np.abs(pred-gt)\n",
    "    error = [x for x in abs_error.reshape(1, -1).tolist()[0] if x >= threshold]\n",
    "    \n",
    "    return np.mean(error)"
   ]
  },
  {
   "cell_type": "code",
   "execution_count": 8,
   "metadata": {
    "scrolled": false
   },
   "outputs": [
    {
     "name": "stdout",
     "output_type": "stream",
     "text": [
      "0\n"
     ]
    }
   ],
   "source": [
    "dataset = 5\n",
    "gid = 0\n",
    "srv = 1\n",
    "c = 0\n",
    "cmd = {}\n",
    "cnn_tree_valid_error = {}\n",
    "num_iterations = 20000\n",
    "lr = 0.01\n",
    "p = 0\n",
    "for fold_num in range(5):\n",
    "    cnn_tree_valid_error[fold_num] = {}\n",
    "    for lr in [0.01]:\n",
    "        cnn_tree_valid_error[fold_num][lr] = {}\n",
    "        for order in list(itertools.permutations(['hvac', 'fridge', 'dr', 'dw', 'mw', 'residual'])):\n",
    "#             print(fold_num, lr, order)\n",
    "#             if order[0] == 'hvac':\n",
    "#                 continue\n",
    "            \n",
    "            cnn_tree_valid_error[fold_num][lr][order] = {}\n",
    "\n",
    "\n",
    "            o = \"\\', \\'\".join(str(x) for x in order)\n",
    "            directory = \"../code/baseline/cnn-tree/{}/{}/{}/20000/0.0/\".format(dataset, fold_num, lr)\n",
    "            filename = \"valid-error-[\\'{}\\'].npy\".format(o)\n",
    "\n",
    "            full_path = directory + filename\n",
    "            my_file = Path(full_path)\n",
    "            if not my_file.exists():\n",
    "                print(full_path)\n",
    "                o = \" \".join(str(x) for x in order)\n",
    "                line = (\"CUDA_VISIBLE_DEVICES={} python cnn-tree.py 3 {} {} 0 {} {} &\".format(gid, lr, num_iterations, fold_num, o))\n",
    "#                 print(line)\n",
    "\n",
    "                c += 1\n",
    "                if c%1 == 0:\n",
    "                    gid+=1\n",
    "                if gid == 4:\n",
    "                    gid = 0\n",
    "                    srv += 1\n",
    "            else:\n",
    "                cnn_tree_valid_error[fold_num][lr][order] = np.load(full_path).item()\n",
    "#                 for it in range(1000, 20001, 1000):\n",
    "#                     cnn_tree_valid_pred[fold_num][lr][order][it] = {}\n",
    "#                     for idx, appliance in enumerate(order):\n",
    "#                         cnn_tree_valid_pred[fold_num][lr][order][it][appliance] = k[it][idx]\n",
    "\n",
    "print(c)                               "
   ]
  },
  {
   "cell_type": "code",
   "execution_count": 10,
   "metadata": {},
   "outputs": [
    {
     "name": "stdout",
     "output_type": "stream",
     "text": [
      "dr 725.849570636\n",
      "dw 285.780713239\n",
      "mw 31.7082756317\n"
     ]
    }
   ],
   "source": [
    "tensor = np.load(\"../2015-5appliances.numpy.npy\")\n",
    "dr = tensor[:, 3]\n",
    "\n",
    "# calculate gt\n",
    "test_gt = {}\n",
    "valid_gt = {}\n",
    "for fold_num in range(5):\n",
    "    test_gt[fold_num] = {}\n",
    "    valid_gt[fold_num] = {}\n",
    "    train, test = get_train_test(1, 5, fold_num)\n",
    "    valid = train[int(0.8*len(train)):].copy()\n",
    "    for idx, appliance in enumerate(APPLIANCE_ORDER[1:-1]):\n",
    "        test_gt[fold_num][appliance] = test[:, idx+1]\n",
    "        valid_gt[fold_num][appliance] = valid[:, idx+1]\n",
    "        \n",
    "threshold = {}\n",
    "for appliance in ['dr', 'dw', 'mw']:\n",
    "    sample_list = []\n",
    "    for fold_num in range(5):\n",
    "        sample_list = np.append(sample_list, [x for x in test_gt[fold_num][appliance].reshape(1, -1).tolist()[0] if x > 5])\n",
    "    mean = np.mean(sample_list)\n",
    "    print(appliance, mean)\n",
    "    threshold[appliance] = 0.1*mean"
   ]
  },
  {
   "cell_type": "code",
   "execution_count": 23,
   "metadata": {
    "collapsed": true
   },
   "outputs": [],
   "source": [
    "cnn_tree_best_param = {}\n",
    "for fold_num in range(5):\n",
    "    cnn_tree_best_param[fold_num] = {}\n",
    "    min_error = np.inf\n",
    "    for lr in [0.01]:\n",
    "        for order in list(itertools.permutations(['hvac', 'fridge', 'dr', 'dw', 'mw', 'residual'])):\n",
    "\n",
    "            for it in range(1000, 20001, 1000):\n",
    "                error = 0\n",
    "                try:\n",
    "                    for idx, appliance in enumerate(order):\n",
    "                        if appliance == 'residual':\n",
    "                            continue\n",
    "                        if appliance in ['hvac', 'fridge']:\n",
    "                            error += mean_absolute_error(cnn_tree_valid_pred[fold_num][lr][order][it][appliance].reshape(-1, 24),\n",
    "                                                        valid_gt[fold_num][appliance].reshape(-1, 24))\n",
    "                        else:\n",
    "                            error += onoff_error(cnn_tree_valid_pred[fold_num][lr][order][it][appliance].reshape(-1, 24),\n",
    "                                                        valid_gt[fold_num][appliance].reshape(-1, 24), threshold[appliance])\n",
    "                    if error < min_error:\n",
    "                        min_error = error\n",
    "                        cnn_tree_best_param[fold_num]['lr'] = lr\n",
    "                        cnn_tree_best_param[fold_num]['order'] = order\n",
    "                        cnn_tree_best_param[fold_num]['iters'] = it\n",
    "                except:\n",
    "                    continue\n",
    "                \n",
    "                    "
   ]
  },
  {
   "cell_type": "code",
   "execution_count": 24,
   "metadata": {
    "collapsed": true
   },
   "outputs": [],
   "source": [
    "best_cnn_tree = cnn_tree_best_param"
   ]
  },
  {
   "cell_type": "code",
   "execution_count": 25,
   "metadata": {
    "collapsed": true
   },
   "outputs": [],
   "source": [
    "# get prediction for cnn tree\n",
    "cnn_tree_pred = {}\n",
    "for fold_num in range(5):\n",
    "    cnn_tree_pred[fold_num] = {}\n",
    "        \n",
    "    lr = best_cnn_tree[fold_num]['lr']\n",
    "    iters = best_cnn_tree[fold_num]['iters']\n",
    "    order = best_cnn_tree[fold_num]['order']\n",
    "\n",
    "    o = \"\\', \\'\".join(str(x) for x in order)\n",
    "    directory = \"../code/baseline/cnn-tree/{}/{}/{}/20000/0.0/\".format(dataset, fold_num,lr)\n",
    "    filename = \"test-pred-[\\'{}\\'].npy\".format(o)\n",
    "\n",
    "    full_path = directory + filename\n",
    "    cnn_pred = np.asarray(np.load(full_path).item()[iters])\n",
    "    \n",
    "    for idx, appliance in enumerate(order):\n",
    "        cnn_tree_pred[fold_num][appliance] = cnn_pred[idx].reshape(-1, 1, 112,24)\n",
    "    "
   ]
  },
  {
   "cell_type": "code",
   "execution_count": 26,
   "metadata": {
    "collapsed": true
   },
   "outputs": [],
   "source": [
    "def calculate_error(pred, gt, threshold):\n",
    "    error = {}\n",
    "    overall = {}\n",
    "    num_homes = {}\n",
    "    \n",
    "    # calculte number of homes in each fold\n",
    "    for fold_num in range(5):\n",
    "        num_homes[fold_num] = gt[fold_num]['hvac'].reshape(-1, 1, 112,24).shape[0]\n",
    "    homes = pd.Series(num_homes).sum()\n",
    "    \n",
    "    # for Constantly On appliances: hvac and fridge\n",
    "    for appliance in ['hvac', 'fridge']:\n",
    "        overall[appliance] = 0\n",
    "        error[appliance] = {}\n",
    "        for fold_num in range(5):\n",
    "            error[appliance][fold_num] = mean_absolute_error(pred[fold_num][appliance].reshape(-1, 24), \n",
    "                                                             gt[fold_num][appliance].reshape(-1, 24))\n",
    "            overall[appliance] += error[appliance][fold_num]*num_homes[fold_num]\n",
    "        overall[appliance] /= homes\n",
    "        \n",
    "    # for ON/OFF appliances: dryer, dishwasher and microwave\n",
    "    for appliance in ['dr', 'dw', 'mw']:\n",
    "        error[appliance] = {}\n",
    "        overall[appliance] = 0                                                                \n",
    "        for fold_num in range(5):\n",
    "            error[appliance][fold_num] = onoff_error(pred[fold_num][appliance].reshape(-1, 24), \n",
    "                                                     gt[fold_num][appliance].reshape(-1, 24), threshold[appliance])\n",
    "            overall[appliance] += error[appliance][fold_num]*num_homes[fold_num]\n",
    "        overall[appliance] /= homes\n",
    "    \n",
    "    \n",
    "    return error, overall"
   ]
  },
  {
   "cell_type": "code",
   "execution_count": 30,
   "metadata": {},
   "outputs": [
    {
     "data": {
      "text/plain": [
       "dr        695.579196\n",
       "dw        218.650229\n",
       "fridge     36.066408\n",
       "hvac      397.938498\n",
       "mw         23.917026\n",
       "dtype: float64"
      ]
     },
     "execution_count": 30,
     "metadata": {},
     "output_type": "execute_result"
    }
   ],
   "source": [
    "pd.Series(calculate_error(cnn_tree_pred, test_gt, threshold)[1])"
   ]
  },
  {
   "cell_type": "code",
   "execution_count": 6,
   "metadata": {
    "scrolled": true
   },
   "outputs": [
    {
     "name": "stdout",
     "output_type": "stream",
     "text": [
      "0\n"
     ]
    }
   ],
   "source": [
    "dataset = 5\n",
    "gid = 0\n",
    "srv = 1\n",
    "c = 0\n",
    "cmd = {}\n",
    "valid_error= {}\n",
    "num_iterations = 20000\n",
    "lr = 0.01\n",
    "p = 0\n",
    "for fold_num in range(5):\n",
    "    valid_error[fold_num] = {}\n",
    "    for lr in [0.01]:\n",
    "        valid_error[fold_num][lr] = {}\n",
    "        for order in list(itertools.permutations(['hvac', 'fridge', 'dr', 'dw', 'mw', 'residual'])):\n",
    "#             print(fold_num, lr, order)\n",
    "#             if order[0] == 'hvac':\n",
    "#                 continue\n",
    "            \n",
    "#             valid_error[fold_num][lr][order] = {}\n",
    "\n",
    "\n",
    "            o = \"\\', \\'\".join(str(x) for x in order)\n",
    "            directory = \"../code/baseline/cnn-tree/{}/{}/{}/20000/0.0/\".format(dataset, fold_num, lr)\n",
    "            filename = \"valid-error-[\\'{}\\'].npy\".format(o)\n",
    "\n",
    "            full_path = directory + filename\n",
    "            my_file = Path(full_path)\n",
    "            if not my_file.exists():\n",
    "                o = \" \".join(str(x) for x in order)\n",
    "                line = (\"CUDA_VISIBLE_DEVICES={} python cnn-tree.py 3 {} {} 0 {} {} &\".format(gid, lr, num_iterations, fold_num, o))\n",
    "#                 print(line)\n",
    "\n",
    "                c += 1\n",
    "                if c%1 == 0:\n",
    "                    gid+=1\n",
    "                if gid == 4:\n",
    "                    gid = 0\n",
    "                    srv += 1\n",
    "            else:\n",
    "                valid_error[fold_num][lr][order] = np.load(full_path).item()\n",
    "\n",
    "print(c)                               "
   ]
  },
  {
   "cell_type": "code",
   "execution_count": 9,
   "metadata": {
    "collapsed": true
   },
   "outputs": [],
   "source": [
    "results = {}\n",
    "iters = {}\n",
    "best_param = {}\n",
    "for fold_num in range(5):\n",
    "    results[fold_num] = {}\n",
    "    best_param[fold_num] = {}\n",
    "for fold_num in range(5):\n",
    "    \n",
    "    best_error = np.inf\n",
    "    for lr in [0.01]:\n",
    "        for order in cnn_tree_valid_error[fold_num][lr]:\n",
    "            for iters in cnn_tree_valid_error[fold_num][lr][order]:\n",
    "                cur_error = pd.Series(cnn_tree_valid_error[fold_num][lr][order][iters]).drop(['residual']).mean()\n",
    "                if best_error > cur_error:\n",
    "                    best_error = cur_error\n",
    "                    best_param[fold_num]['iters'] = iters\n",
    "                    best_param[fold_num]['order'] = order\n",
    "                    best_param[fold_num]['lr'] = lr"
   ]
  },
  {
   "cell_type": "code",
   "execution_count": 11,
   "metadata": {
    "collapsed": true
   },
   "outputs": [],
   "source": [
    "best_error = {}\n",
    "for fold_num in range(5):\n",
    "    order = best_param[fold_num]['order']\n",
    "    iters = best_param[fold_num]['iters']\n",
    "    lr = best_param[fold_num]['lr']\n",
    "    \n",
    "    o = \"\\', \\'\".join(str(x) for x in order)\n",
    "    directory = \"../code/baseline/cnn-tree/{}/{}/{}/20000/0.0/\".format(dataset, fold_num, lr)\n",
    "    filename = \"valid-error-[\\'{}\\'].npy\".format(o)\n",
    "    full_path = directory + filename\n",
    "    \n",
    "    best_error[fold_num] = np.load(full_path).item()[iters]"
   ]
  },
  {
   "cell_type": "code",
   "execution_count": 29,
   "metadata": {},
   "outputs": [
    {
     "data": {
      "text/plain": [
       "0     87.440250\n",
       "1     85.729133\n",
       "2     85.933812\n",
       "3     87.506490\n",
       "4    113.841432\n",
       "dtype: float64"
      ]
     },
     "execution_count": 29,
     "metadata": {},
     "output_type": "execute_result"
    }
   ],
   "source": [
    "pd.DataFrame(best_error).drop('residual').mean()"
   ]
  },
  {
   "cell_type": "code",
   "execution_count": 22,
   "metadata": {},
   "outputs": [
    {
     "data": {
      "text/plain": [
       "{'iters': 19000,\n",
       " 'lr': 0.01,\n",
       " 'order': ('hvac', 'dw', 'mw', 'fridge', 'residual', 'dr')}"
      ]
     },
     "execution_count": 22,
     "metadata": {},
     "output_type": "execute_result"
    }
   ],
   "source": [
    "best_param[1]"
   ]
  },
  {
   "cell_type": "code",
   "execution_count": 30,
   "metadata": {},
   "outputs": [
    {
     "data": {
      "text/plain": [
       "{'dr': 62.402404557995432,\n",
       " 'dw': 9.0537611668229214,\n",
       " 'fridge': 30.827749422713065,\n",
       " 'hvac': 319.75299064023017,\n",
       " 'mw': 15.164341752110095,\n",
       " 'residual': 368.93570354779337}"
      ]
     },
     "execution_count": 30,
     "metadata": {},
     "output_type": "execute_result"
    }
   ],
   "source": [
    "best_error[0]"
   ]
  },
  {
   "cell_type": "code",
   "execution_count": 19,
   "metadata": {},
   "outputs": [
    {
     "name": "stdout",
     "output_type": "stream",
     "text": [
      "('dr', 'residual', 'dw', 'mw', 'hvac', 'fridge')\n",
      "('hvac', 'dw', 'mw', 'fridge', 'residual', 'dr')\n",
      "('hvac', 'fridge', 'mw', 'dw', 'dr', 'residual')\n",
      "('residual', 'dr', 'dw', 'hvac', 'mw', 'fridge')\n",
      "('residual', 'dr', 'mw', 'dw', 'hvac', 'fridge')\n"
     ]
    }
   ],
   "source": [
    "for fold_num in range(5):\n",
    "\n",
    "    print(best_param[fold_num]['order'])"
   ]
  }
 ],
 "metadata": {
  "kernelspec": {
   "display_name": "Python 3",
   "language": "python",
   "name": "python3"
  },
  "language_info": {
   "codemirror_mode": {
    "name": "ipython",
    "version": 3
   },
   "file_extension": ".py",
   "mimetype": "text/x-python",
   "name": "python",
   "nbconvert_exporter": "python",
   "pygments_lexer": "ipython3",
   "version": "3.6.3"
  }
 },
 "nbformat": 4,
 "nbformat_minor": 2
}
