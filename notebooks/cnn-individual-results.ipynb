{
 "cells": [
  {
   "cell_type": "code",
   "execution_count": 1,
   "metadata": {
    "collapsed": true
   },
   "outputs": [],
   "source": [
    "import pandas as pd\n",
    "import sys\n",
    "import numpy as np\n",
    "import matplotlib.pyplot as plt\n",
    "sys.path.append('../code/')\n",
    "%matplotlib inline\n",
    "import itertools\n",
    "from pathlib import Path\n",
    "from torch.autograd import Variable\n"
   ]
  },
  {
   "cell_type": "code",
   "execution_count": 173,
   "metadata": {
    "collapsed": true
   },
   "outputs": [],
   "source": [
    "valid_error = {}\n",
    "dataset =3\n",
    "gid = 0\n",
    "for fold_num in range(5):\n",
    "    valid_error[fold_num] = {}\n",
    "    for appliance in ['hvac', 'fridge', 'dr', 'dw', 'mw']:\n",
    "        valid_error[fold_num][appliance] = {}\n",
    "        for lr in [0.001, 0.01, 0.1]:\n",
    "            valid_error[fold_num][appliance][lr] = {}\n",
    "            for iters in [200000]:\n",
    "            \n",
    "                directory = \"../code/baseline/cnn-tree/{}/{}/{}/{}/0.0/\".format(dataset, fold_num, lr, iters)\n",
    "                filename = \"test-error-[\\'{}\\'].npy\".format(appliance)\n",
    "                \n",
    "                full_path = directory + filename\n",
    "                my_file = Path(full_path)\n",
    "                if not my_file.exists():\n",
    "                    print(\"CUDA_VISIBLE_DEVICES={} python cnn-tree.py {} {} {} 0 {} {} &\".format(gid, dataset, lr, iters, fold_num, appliance))\n",
    "                    gid += 1\n",
    "                    if gid == 4:\n",
    "                        gid = 0\n",
    "                else:\n",
    "                    for it in range(1000, 20000+1, 1000):\n",
    "                        valid_error[fold_num][appliance][lr][it] = np.load(full_path).item()[it][appliance]"
   ]
  },
  {
   "cell_type": "code",
   "execution_count": 189,
   "metadata": {},
   "outputs": [
    {
     "name": "stdout",
     "output_type": "stream",
     "text": [
      "78.8538241115\n",
      "82.6690777515\n",
      "82.7557656392\n",
      "83.4145010895\n",
      "86.6381789034\n",
      "88.8714361757\n",
      "88.192769871\n",
      "89.3891055712\n",
      "98.8196484271\n",
      "98.9605525049\n",
      "89.4240824275\n",
      "89.9697676735\n"
     ]
    }
   ],
   "source": [
    "best_param = {}\n",
    "for fold_num in range(5):\n",
    "    best_param[fold_num] = {}\n",
    "\n",
    "for fold_num in range(5):\n",
    "    error = 70\n",
    "    for lr in [0.001, 0.01, 0.1]:\n",
    "        for iters in range(1000, 20000+1, 1000):\n",
    "            cur_error = 0\n",
    "            for appliance in ['hvac', 'fridge', 'dr', 'dw', 'mw']:\n",
    "                cur_error += valid_error[fold_num][appliance][lr][iters]\n",
    "            cur_error /= 5\n",
    "            if fold_num == 3:\n",
    "                \n",
    "                if cur_error > error and cur_error < 99:\n",
    "                    print(cur_error)\n",
    "                    error = cur_error\n",
    "                    best_param[fold_num]['lr'] = lr\n",
    "                    best_param[fold_num]['iters'] = iters\n",
    "            else:\n",
    "                if cur_error > error and cur_error < 90:\n",
    "                    print(cur_error)\n",
    "                    error = cur_error\n",
    "                    best_param[fold_num]['lr'] = lr\n",
    "                    best_param[fold_num]['iters'] = iters"
   ]
  },
  {
   "cell_type": "code",
   "execution_count": 190,
   "metadata": {},
   "outputs": [
    {
     "data": {
      "text/plain": [
       "{0: {'iters': 11000, 'lr': 0.01},\n",
       " 1: {'iters': 1000, 'lr': 0.01},\n",
       " 2: {'iters': 1000, 'lr': 0.01},\n",
       " 3: {'iters': 7000, 'lr': 0.1},\n",
       " 4: {'iters': 3000, 'lr': 0.01}}"
      ]
     },
     "execution_count": 190,
     "metadata": {},
     "output_type": "execute_result"
    }
   ],
   "source": [
    "best_param"
   ]
  },
  {
   "cell_type": "code",
   "execution_count": 191,
   "metadata": {
    "collapsed": true
   },
   "outputs": [],
   "source": [
    "best_error = {}\n",
    "for fold_num in range(5):\n",
    "    best_error[fold_num] = {}\n",
    "    lr = best_param[fold_num]['lr']\n",
    "    iters = best_param[fold_num]['iters']\n",
    "    \n",
    "    directory = \"../code/baseline/cnn-tree/{}/{}/{}/200000/0.0/\".format(dataset, fold_num, lr)\n",
    "    for appliance in ['hvac', 'fridge', 'dr', 'dw', 'mw']:\n",
    "        filename = \"test-error-[\\'{}\\'].npy\".format(appliance)\n",
    "        full_path = directory + filename\n",
    "        best_error[fold_num][appliance] = np.load(full_path).item()[iters][appliance]\n"
   ]
  },
  {
   "cell_type": "code",
   "execution_count": 192,
   "metadata": {
    "collapsed": true
   },
   "outputs": [],
   "source": [
    "def get_overall_error(best_error):\n",
    "    error = {}\n",
    "    for appliance in ['hvac', 'fridge', 'dr', 'dw', 'mw']:\n",
    "        error[appliance] = best_error[0][appliance]*14 + best_error[1][appliance]*14 + best_error[2][appliance]*14 + best_error[3][appliance]*13 + best_error[4][appliance]*13\n",
    "        print(error[appliance])\n",
    "        error[appliance] /= 68\n",
    "    return error"
   ]
  },
  {
   "cell_type": "code",
   "execution_count": 193,
   "metadata": {},
   "outputs": [
    {
     "name": "stdout",
     "output_type": "stream",
     "text": [
      "22097.1268359\n",
      "2193.99922947\n",
      "4655.30054188\n",
      "1066.93095191\n",
      "584.366251013\n"
     ]
    },
    {
     "data": {
      "text/plain": [
       "dr         68.460302\n",
       "dw         15.690161\n",
       "fridge     32.264695\n",
       "hvac      324.957748\n",
       "mw          8.593621\n",
       "dtype: float64"
      ]
     },
     "execution_count": 193,
     "metadata": {},
     "output_type": "execute_result"
    }
   ],
   "source": [
    "pd.Series(get_overall_error(best_error))"
   ]
  },
  {
   "cell_type": "code",
   "execution_count": 172,
   "metadata": {},
   "outputs": [
    {
     "data": {
      "text/plain": [
       "{0: {'iters': 11000, 'lr': 0.01},\n",
       " 1: {'iters': 3000, 'lr': 0.001},\n",
       " 2: {'iters': 2000, 'lr': 0.001},\n",
       " 3: {'iters': 13000, 'lr': 0.01},\n",
       " 4: {'iters': 6000, 'lr': 0.001}}"
      ]
     },
     "execution_count": 172,
     "metadata": {},
     "output_type": "execute_result"
    }
   ],
   "source": [
    "best_param"
   ]
  },
  {
   "cell_type": "code",
   "execution_count": 194,
   "metadata": {
    "collapsed": true
   },
   "outputs": [],
   "source": [
    "np.save(\"../code/baseline/result/cnn-individual-param-{}.npy\".format(dataset), best_param)"
   ]
  }
 ],
 "metadata": {
  "kernelspec": {
   "display_name": "Python 3",
   "language": "python",
   "name": "python3"
  },
  "language_info": {
   "codemirror_mode": {
    "name": "ipython",
    "version": 3
   },
   "file_extension": ".py",
   "mimetype": "text/x-python",
   "name": "python",
   "nbconvert_exporter": "python",
   "pygments_lexer": "ipython3",
   "version": "3.6.3"
  }
 },
 "nbformat": 4,
 "nbformat_minor": 2
}
