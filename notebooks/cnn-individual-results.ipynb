{
 "cells": [
  {
   "cell_type": "code",
   "execution_count": 1,
   "metadata": {
    "collapsed": true
   },
   "outputs": [],
   "source": [
    "import pandas as pd\n",
    "import sys\n",
    "import numpy as np\n",
    "import matplotlib.pyplot as plt\n",
    "sys.path.append('../code/')\n",
    "%matplotlib inline\n",
    "import itertools\n",
    "from pathlib import Path\n",
    "from torch.autograd import Variable\n"
   ]
  },
  {
   "cell_type": "code",
   "execution_count": 36,
   "metadata": {
    "collapsed": true
   },
   "outputs": [],
   "source": [
    "valid_error = {}\n",
    "dataset =3\n",
    "gid = 0\n",
    "for fold_num in range(5):\n",
    "    valid_error[fold_num] = {}\n",
    "    for appliance in ['hvac', 'fridge', 'dr', 'dw', 'mw']:\n",
    "        valid_error[fold_num][appliance] = {}\n",
    "        for lr in [0.001, 0.01, 0.1]:\n",
    "            valid_error[fold_num][appliance][lr] = {}\n",
    "            for iters in [200000]:\n",
    "            \n",
    "                directory = \"../code/baseline/cnn-tree/{}/{}/{}/{}/0.0/\".format(dataset, fold_num, lr, iters)\n",
    "                filename = \"valid-error-[\\'{}\\'].npy\".format(appliance)\n",
    "                \n",
    "                full_path = directory + filename\n",
    "                my_file = Path(full_path)\n",
    "                if not my_file.exists():\n",
    "                    print(\"CUDA_VISIBLE_DEVICES={} python cnn-tree.py {} {} {} 0 {} {} &\".format(gid, dataset, lr, iters, fold_num, appliance))\n",
    "                    gid += 1\n",
    "                    if gid == 4:\n",
    "                        gid = 0\n",
    "                else:\n",
    "                    for it in range(1000, 200000+1, 1000):\n",
    "                        valid_error[fold_num][appliance][lr][it] = np.load(full_path).item()[it][appliance]"
   ]
  },
  {
   "cell_type": "code",
   "execution_count": 37,
   "metadata": {
    "collapsed": true
   },
   "outputs": [],
   "source": [
    "best_param = {}\n",
    "for fold_num in range(5):\n",
    "    best_param[fold_num] = {}\n",
    "\n",
    "for fold_num in range(5):\n",
    "    error = np.inf\n",
    "    for lr in [0.001, 0.01, 0.1]:\n",
    "        for iters in range(1000, 200000+1, 1000):\n",
    "            cur_error = 0\n",
    "            for appliance in ['hvac', 'fridge', 'dr', 'dw', 'mw']:\n",
    "                cur_error += valid_error[fold_num][appliance][lr][iters]\n",
    "            if cur_error < error:\n",
    "                error = cur_error\n",
    "                best_param[fold_num]['lr'] = lr\n",
    "                best_param[fold_num]['iters'] = iters"
   ]
  },
  {
   "cell_type": "code",
   "execution_count": 38,
   "metadata": {},
   "outputs": [],
   "source": [
    "best_error = {}\n",
    "for fold_num in range(5):\n",
    "    best_error[fold_num] = {}\n",
    "    lr = best_param[fold_num]['lr']\n",
    "    iters = best_param[fold_num]['iters']\n",
    "    \n",
    "    directory = \"../code/baseline/cnn-tree/{}/{}/{}/200000/0.0/\".format(dataset, fold_num, lr)\n",
    "    for appliance in ['hvac', 'fridge', 'dr', 'dw', 'mw']:\n",
    "        filename = \"test-error-[\\'{}\\'].npy\".format(appliance)\n",
    "        full_path = directory + filename\n",
    "        best_error[fold_num][appliance] = np.load(full_path).item()[iters][appliance]\n"
   ]
  },
  {
   "cell_type": "code",
   "execution_count": 39,
   "metadata": {},
   "outputs": [],
   "source": [
    "def get_overall_error(best_error):\n",
    "    error = {}\n",
    "    for appliance in ['hvac', 'fridge', 'dr', 'dw', 'mw']:\n",
    "        error[appliance] = best_error[0][appliance]*14 + best_error[1][appliance]*14 + best_error[2][appliance]*14 + best_error[3][appliance]*13 + best_error[4][appliance]*13\n",
    "        print(error[appliance])\n",
    "        error[appliance] /= 68\n",
    "    return error"
   ]
  },
  {
   "cell_type": "code",
   "execution_count": 40,
   "metadata": {},
   "outputs": [
    {
     "name": "stdout",
     "output_type": "stream",
     "text": [
      "21150.2033418\n",
      "2242.25787028\n",
      "4681.70005103\n",
      "1065.1152991\n",
      "582.391969536\n"
     ]
    },
    {
     "data": {
      "text/plain": [
       "{'dr': 68.848530162278607,\n",
       " 'dw': 15.663460280944445,\n",
       " 'fridge': 32.974380445304796,\n",
       " 'hvac': 311.03240208594184,\n",
       " 'mw': 8.5645877872962792}"
      ]
     },
     "execution_count": 40,
     "metadata": {},
     "output_type": "execute_result"
    }
   ],
   "source": [
    "get_overall_error(best_error)"
   ]
  },
  {
   "cell_type": "code",
   "execution_count": 41,
   "metadata": {
    "collapsed": true
   },
   "outputs": [],
   "source": [
    "np.save(\"../code/baseline/result/cnn-individual-param-{}.npy\".format(dataset), best_param)"
   ]
  }
 ],
 "metadata": {
  "kernelspec": {
   "display_name": "Python 3",
   "language": "python",
   "name": "python3"
  },
  "language_info": {
   "codemirror_mode": {
    "name": "ipython",
    "version": 3
   },
   "file_extension": ".py",
   "mimetype": "text/x-python",
   "name": "python",
   "nbconvert_exporter": "python",
   "pygments_lexer": "ipython3",
   "version": "3.6.3"
  }
 },
 "nbformat": 4,
 "nbformat_minor": 2
}
