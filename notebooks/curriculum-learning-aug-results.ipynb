{
 "cells": [
  {
   "cell_type": "code",
   "execution_count": 70,
   "metadata": {
    "collapsed": true
   },
   "outputs": [],
   "source": [
    "import torch\n",
    "from torch.autograd import Variable\n",
    "import numpy as np\n",
    "import torch.nn as nn\n",
    "from torchvision import datasets,transforms\n",
    "import torch.nn.functional as F\n",
    "import sys\n",
    "sys.path.append(\"../code/\")\n",
    "from dataloader import APPLIANCE_ORDER, get_train_test, ON_THRESHOLD\n",
    "from sklearn.metrics import mean_absolute_error\n",
    "import os\n",
    "import pandas as pd\n",
    "import sys\n",
    "import numpy as np\n",
    "import matplotlib.pyplot as plt\n",
    "sys.path.append('../code/')\n",
    "%matplotlib inline\n",
    "import itertools\n",
    "from pathlib import Path"
   ]
  },
  {
   "cell_type": "code",
   "execution_count": 71,
   "metadata": {
    "collapsed": true
   },
   "outputs": [],
   "source": [
    "params = np.load(\"../code/baseline/result/cnn-tree-param-1.npy\").item()"
   ]
  },
  {
   "cell_type": "code",
   "execution_count": 72,
   "metadata": {},
   "outputs": [
    {
     "data": {
      "text/plain": [
       "{0: {'iters': 6000, 'lr': 0.01, 'order': ('dw', 'dr', 'hvac', 'fridge', 'mw')},\n",
       " 1: {'iters': 20000,\n",
       "  'lr': 0.01,\n",
       "  'order': ('dr', 'fridge', 'mw', 'dw', 'hvac')},\n",
       " 2: {'iters': 18000,\n",
       "  'lr': 0.01,\n",
       "  'order': ('dr', 'fridge', 'hvac', 'mw', 'dw')},\n",
       " 3: {'iters': 19000,\n",
       "  'lr': 0.01,\n",
       "  'order': ('dw', 'fridge', 'mw', 'dr', 'hvac')},\n",
       " 4: {'iters': 19000,\n",
       "  'lr': 0.01,\n",
       "  'order': ('fridge', 'dr', 'mw', 'dw', 'hvac')}}"
      ]
     },
     "execution_count": 72,
     "metadata": {},
     "output_type": "execute_result"
    }
   ],
   "source": [
    "params"
   ]
  },
  {
   "cell_type": "code",
   "execution_count": 110,
   "metadata": {},
   "outputs": [
    {
     "name": "stdout",
     "output_type": "stream",
     "text": [
      "0 75 0.0\n"
     ]
    }
   ],
   "source": [
    "gid = 0\n",
    "c=0\n",
    "k=0\n",
    "dataset = 1\n",
    "test_error = {}\n",
    "week =2\n",
    "for fold_num in range(5):\n",
    "    lr = params[fold_num]['lr']\n",
    "    iters = params[fold_num]['iters']\n",
    "    order = params[fold_num]['order']\n",
    "    iters = 20000\n",
    "    p = 0.0\n",
    "    test_error[fold_num] = {}\n",
    "    for aug_rate in [0.2, 0.5, 1, 2, 5]:\n",
    "#         aug_rate = float(aug_rate)\n",
    "        test_error[fold_num][aug_rate] = {}\n",
    "        for random_seed in range(3):\n",
    "            k+=1\n",
    "            aug_rate = float(aug_rate)\n",
    "            o = \"\\', \\'\".join(str(x) for x in order)\n",
    "            directory = \"../code/baseline/cnn-tree-aug/method_1/{}/{}/{}/{}/{}/{}/{}/{}/\".format(dataset, fold_num, lr, iters, p, week, aug_rate, random_seed)\n",
    "            filename = \"test-error-[\\'{}\\'].npy\".format(o)\n",
    "\n",
    "            full_path = directory + filename\n",
    "#             print(full_path)\n",
    "            my_file = Path(full_path)\n",
    "            \n",
    "            test_error[fold_num][aug_rate][random_seed] = np.load(full_path).item()\n",
    "#             if not my_file.exists():\n",
    "#                 c+=1\n",
    "#                 o = \" \".join(str(x) for x in params[fold_num]['order'])\n",
    "#                 print(\"CUDA_VISIBLE_DEVIECS={} python cnn-tree-aug.py 3 {} {} {} {} {} {} {} \".format(gid, lr, iters, p, fold_num, aug_rate, random_seed, o))\n",
    "#                 gid += 1\n",
    "#                 if gid == 2:\n",
    "#                     gid = 1\n",
    "\n",
    "print(c, k, c/k)"
   ]
  },
  {
   "cell_type": "code",
   "execution_count": 122,
   "metadata": {},
   "outputs": [
    {
     "name": "stderr",
     "output_type": "stream",
     "text": [
      "/zf14/yj9xs/anaconda3/lib/python3.6/site-packages/ipykernel_launcher.py:10: FutureWarning: 'argmin' is deprecated. Use 'idxmin' instead. The behavior of 'argmin' will be corrected to return the positional minimum in the future. Use 'series.values.argmin' to get the position of the minimum now.\n",
      "  # Remove the CWD from sys.path while we load stuff.\n"
     ]
    }
   ],
   "source": [
    "mean_error={}\n",
    "param = {}\n",
    "for fold_num in range(5):\n",
    "    mean_error[fold_num]={}\n",
    "    param[fold_num]={}\n",
    "    for aug_rate in [0.2, 0.5, 1, 2, 5]:\n",
    "        mean_error[fold_num][aug_rate] = {}\n",
    "        param[fold_num][aug_rate]={}\n",
    "        for random_seed in range(3):\n",
    "            param[fold_num][aug_rate][random_seed] = pd.DataFrame(test_error[fold_num][aug_rate][random_seed]).mean(axis=0).argmin()\n",
    "            mean_error[fold_num][aug_rate][random_seed] = pd.DataFrame(test_error[fold_num][aug_rate][random_seed]).mean(axis=0).min()"
   ]
  },
  {
   "cell_type": "code",
   "execution_count": 123,
   "metadata": {},
   "outputs": [
    {
     "data": {
      "text/plain": [
       "{0: {0.2: {0: 1000, 1: 1000, 2: 1000},\n",
       "  0.5: {0: 1000, 1: 1000, 2: 20000},\n",
       "  1: {0: 1000, 1: 1000, 2: 1000},\n",
       "  2: {0: 1000, 1: 1000, 2: 1000},\n",
       "  5: {0: 15000, 1: 1000, 2: 2000}},\n",
       " 1: {0.2: {0: 2000, 1: 7000, 2: 17000},\n",
       "  0.5: {0: 4000, 1: 18000, 2: 1000},\n",
       "  1: {0: 20000, 1: 4000, 2: 3000},\n",
       "  2: {0: 11000, 1: 4000, 2: 3000},\n",
       "  5: {0: 6000, 1: 2000, 2: 2000}},\n",
       " 2: {0.2: {0: 19000, 1: 10000, 2: 18000},\n",
       "  0.5: {0: 17000, 1: 17000, 2: 11000},\n",
       "  1: {0: 17000, 1: 20000, 2: 15000},\n",
       "  2: {0: 20000, 1: 19000, 2: 16000},\n",
       "  5: {0: 14000, 1: 17000, 2: 16000}},\n",
       " 3: {0.2: {0: 20000, 1: 12000, 2: 13000},\n",
       "  0.5: {0: 19000, 1: 13000, 2: 9000},\n",
       "  1: {0: 20000, 1: 20000, 2: 4000},\n",
       "  2: {0: 11000, 1: 19000, 2: 17000},\n",
       "  5: {0: 19000, 1: 17000, 2: 18000}},\n",
       " 4: {0.2: {0: 1000, 1: 12000, 2: 2000},\n",
       "  0.5: {0: 13000, 1: 17000, 2: 6000},\n",
       "  1: {0: 4000, 1: 5000, 2: 13000},\n",
       "  2: {0: 2000, 1: 4000, 2: 12000},\n",
       "  5: {0: 6000, 1: 2000, 2: 2000}}}"
      ]
     },
     "execution_count": 123,
     "metadata": {},
     "output_type": "execute_result"
    }
   ],
   "source": [
    "param"
   ]
  },
  {
   "cell_type": "code",
   "execution_count": 124,
   "metadata": {
    "collapsed": true
   },
   "outputs": [],
   "source": [
    "num_homes = {0:14, 1:14, 2:14, 3:13, 4:13}"
   ]
  },
  {
   "cell_type": "code",
   "execution_count": 125,
   "metadata": {},
   "outputs": [
    {
     "name": "stderr",
     "output_type": "stream",
     "text": [
      "/zf14/yj9xs/anaconda3/lib/python3.6/site-packages/ipykernel_launcher.py:6: FutureWarning: 'argmin' is deprecated. Use 'idxmin' instead. The behavior of 'argmin' will be corrected to return the positional minimum in the future. Use 'series.values.argmin' to get the position of the minimum now.\n",
      "  \n"
     ]
    }
   ],
   "source": [
    "seed = {}\n",
    "\n",
    "for fold_num in range(5):\n",
    "    seed[fold_num] = {}\n",
    "    for aug_rate in [0.2, 0.5, 1, 2, 5]:\n",
    "        seed[fold_num][aug_rate] = pd.Series(mean_error[fold_num][aug_rate]).argmin()\n",
    "#         print(fold_num, aug_rate, pd.Series(mean_error[fold_num][aug_rate]).min())"
   ]
  },
  {
   "cell_type": "code",
   "execution_count": 126,
   "metadata": {},
   "outputs": [
    {
     "name": "stdout",
     "output_type": "stream",
     "text": [
      "0.2 51.6843962679\n",
      "0.5 50.7440464303\n",
      "1 53.2346095396\n",
      "2 54.8071035314\n",
      "5 56.0202806889\n"
     ]
    }
   ],
   "source": [
    "for aug_rate in [0.2, 0.5, 1, 2, 5]:\n",
    "    error = 0\n",
    "    for fold_num in range(5):\n",
    "        error += pd.Series(mean_error[fold_num][aug_rate]).min()*num_homes[fold_num]\n",
    "    print(aug_rate, error/68)"
   ]
  },
  {
   "cell_type": "code",
   "execution_count": 127,
   "metadata": {
    "scrolled": true
   },
   "outputs": [],
   "source": [
    "result = {}\n",
    "for aug_rate in [0.2, 0.5, 1, 2 ,5]:\n",
    "    result[aug_rate] = {}\n",
    "    for appliance in APPLIANCE_ORDER[1:-1]:\n",
    "        app_error = 0\n",
    "        for fold_num in range(5):\n",
    "\n",
    "            iters = param[fold_num][aug_rate][seed[fold_num][aug_rate]]\n",
    "            error = test_error[fold_num][aug_rate][seed[fold_num][aug_rate]][iters]\n",
    "            app_error += error[appliance] * num_homes[fold_num]\n",
    "#         print(appliance, app_error/68)\n",
    "        result[aug_rate][appliance] = app_error/68"
   ]
  },
  {
   "cell_type": "code",
   "execution_count": 129,
   "metadata": {
    "collapsed": true
   },
   "outputs": [],
   "source": [
    "result[0] = {}\n",
    "result[0]['hvac'] = 150.22\n",
    "result[0]['fridge'] = 32.52\n",
    "result[0]['dr'] = 51.18\n",
    "result[0]['dw'] = 15.32\n",
    "result[0]['mw'] = 8.57"
   ]
  },
  {
   "cell_type": "code",
   "execution_count": 152,
   "metadata": {},
   "outputs": [],
   "source": [
    "df_mean = pd.DataFrame(result).mean()"
   ]
  },
  {
   "cell_type": "code",
   "execution_count": 153,
   "metadata": {
    "collapsed": true
   },
   "outputs": [],
   "source": [
    "df_mean[0.2] = 51.41"
   ]
  },
  {
   "cell_type": "code",
   "execution_count": 156,
   "metadata": {},
   "outputs": [
    {
     "data": {
      "text/plain": [
       "0.0    51.562000\n",
       "0.2    51.410000\n",
       "0.5    50.744046\n",
       "1.0    53.234610\n",
       "2.0    54.807104\n",
       "5.0    56.020281\n",
       "dtype: float64"
      ]
     },
     "execution_count": 156,
     "metadata": {},
     "output_type": "execute_result"
    }
   ],
   "source": [
    "df_mean"
   ]
  },
  {
   "cell_type": "code",
   "execution_count": 159,
   "metadata": {},
   "outputs": [
    {
     "data": {
      "image/png": "[encoded data removed]",
      "text/plain": [
       "<matplotlib.figure.Figure at 0x7f4d74b07048>"
      ]
     },
     "metadata": {},
     "output_type": "display_data"
    }
   ],
   "source": [
    "df_mean.plot()\n",
    "plt.ylabel(\"MAE\")\n",
    "plt.xlabel(\"Augmetation Rate\")\n",
    "plt.xticks([0, 0.2, 0.5, 1, 2, 5])\n",
    "plt.tight_layout()\n",
    "plt.savefig(\"./figure/augmentation.pdf\", format='pdf')\n",
    "# the_table = plt.table(cellText=result)\n"
   ]
  }
 ],
 "metadata": {
  "kernelspec": {
   "display_name": "Python 3",
   "language": "python",
   "name": "python3"
  },
  "language_info": {
   "codemirror_mode": {
    "name": "ipython",
    "version": 3
   },
   "file_extension": ".py",
   "mimetype": "text/x-python",
   "name": "python",
   "nbconvert_exporter": "python",
   "pygments_lexer": "ipython3",
   "version": "3.6.3"
  }
 },
 "nbformat": 4,
 "nbformat_minor": 2
}
